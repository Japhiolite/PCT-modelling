{
 "cells": [
  {
   "cell_type": "markdown",
   "metadata": {},
   "source": [
    "# Gempy Methods and Features\n",
    "In this notebook, we present some of the main features of GemPy (and the corresponding methods used), which will be useful for the [PS Geothermie Aargau](https://geg.ethz.ch/project-geothermal_aargau/) study. \n",
    "\n",
    "That means, we will look at *input data*, *model generation*, *visualization*, *changing models*, *export*. The majority of these features can already be tested in the [GemPy tutorials](https://www.gempy.org/tutorials). Here, we showcase the features and necessary methods in a rather short form.  "
   ]
  },
  {
   "cell_type": "markdown",
   "metadata": {},
   "source": [
    "# Input data\n",
    "Input data in GemPy is based on the `csv` format, i.e. comma-separated-values. While the type of data may seem natural to geologists, it won't hurt to explain it a bit more.\n",
    "\n",
    "In geology, rock units with different properties are stacked on top of each other with the younger rocks lying on top of older rocks. Presuming of course, nothing else (i.e. tectonics) happened to them afterwards. The interface between different rock units can be mapped, e.g. in classical field work at the earth's surface, or on seismic sections and in boreholes in the subsurface.  \n",
    "To specify a point in space, you need its coordinates, i.e. `x`, `y`, and `z`. But since these interfaces are, e.g. outcrops, roughly a 2D line, but in reality a surface in 3D, we need more information than just coordinates. To define a plane in 3D, we need its orientation, which usually is defined by *azimuth* and *inclination*, i.e. *angle deviation from north* and *angle deviation from the horizontal plan*. Geologists in the field measure these angles with a compass for instance. \n",
    "\n",
    "In summary, GemPy input data comprises two types interface points:  \n",
    "\n",
    "| x  | y  | z  | Formation  |  \n",
    "|--:|--:|--:|---|  \n",
    "|  200 | 250  | 520  | sandstone  |  \n",
    "|  400 | 250  | 550  | sandstone  |  \n",
    "|  200 | 550  | 700  | limestone  |  \n",
    "\n",
    " and orientation points:  \n",
    " \n",
    "| x  |  y |  z |  azimuth | dip  | polarity  |  Formation |\n",
    "|--:|--:|--:|--:|--:|--:|---|\n",
    "| 300  | 250  | 545  | 90  | 10  |  1 | sandstone  |\n",
    "|  300 |  550 |  680 |  90 | 15  |  1 | limestone  |"
   ]
  },
  {
   "cell_type": "code",
   "execution_count": null,
   "metadata": {},
   "outputs": [],
   "source": []
  }
 ],
 "metadata": {
  "hide_input": false,
  "kernelspec": {
   "display_name": "Python 3",
   "language": "python",
   "name": "python3"
  },
  "language_info": {
   "codemirror_mode": {
    "name": "ipython",
    "version": 3
   },
   "file_extension": ".py",
   "mimetype": "text/x-python",
   "name": "python",
   "nbconvert_exporter": "python",
   "pygments_lexer": "ipython3",
   "version": "3.6.8"
  },
  "toc": {
   "base_numbering": 1,
   "nav_menu": {},
   "number_sections": true,
   "sideBar": true,
   "skip_h1_title": false,
   "title_cell": "Table of Contents",
   "title_sidebar": "Contents",
   "toc_cell": false,
   "toc_position": {},
   "toc_section_display": true,
   "toc_window_display": false
  },
  "varInspector": {
   "cols": {
    "lenName": 16,
    "lenType": 16,
    "lenVar": 40
   },
   "kernels_config": {
    "python": {
     "delete_cmd_postfix": "",
     "delete_cmd_prefix": "del ",
     "library": "var_list.py",
     "varRefreshCmd": "print(var_dic_list())"
    },
    "r": {
     "delete_cmd_postfix": ") ",
     "delete_cmd_prefix": "rm(",
     "library": "var_list.r",
     "varRefreshCmd": "cat(var_dic_list()) "
    }
   },
   "types_to_exclude": [
    "module",
    "function",
    "builtin_function_or_method",
    "instance",
    "_Feature"
   ],
   "window_display": false
  }
 },
 "nbformat": 4,
 "nbformat_minor": 2
}
