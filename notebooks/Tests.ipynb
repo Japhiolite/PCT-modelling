{
 "cells": [
  {
   "cell_type": "code",
   "execution_count": 1,
   "metadata": {},
   "outputs": [],
   "source": [
    "import gempy as gp\n",
    "%matplotlib inline"
   ]
  },
  {
   "cell_type": "code",
   "execution_count": 2,
   "metadata": {
    "scrolled": false
   },
   "outputs": [],
   "source": [
    "geo_model = gp.create_model('Test_model')"
   ]
  },
  {
   "cell_type": "code",
   "execution_count": 3,
   "metadata": {},
   "outputs": [
    {
     "name": "stdout",
     "output_type": "stream",
     "text": [
      "Active grids: ['regular']\n"
     ]
    }
   ],
   "source": [
    "gp.init_data(geo_model, [0, 10., 0, 2., 0, 5.], [100, 3, 100],\n",
    "            path_o = '../data/toy_fold_unconformity_orientations.csv',\n",
    "             path_i = '../data/toy_fold_unconformity_interfaces.csv', default_values=True);"
   ]
  },
  {
   "cell_type": "code",
   "execution_count": 4,
   "metadata": {},
   "outputs": [
    {
     "data": {
      "text/html": [
       "<style  type=\"text/css\" >\n",
       "    #T_a7356206_1aa5_11ea_8f2d_f01898ee72bcrow0_col4 {\n",
       "            background-color:  #015482;\n",
       "        }    #T_a7356206_1aa5_11ea_8f2d_f01898ee72bcrow1_col4 {\n",
       "            background-color:  #9f0052;\n",
       "        }    #T_a7356206_1aa5_11ea_8f2d_f01898ee72bcrow2_col4 {\n",
       "            background-color:  #ffbe00;\n",
       "        }    #T_a7356206_1aa5_11ea_8f2d_f01898ee72bcrow3_col4 {\n",
       "            background-color:  #728f02;\n",
       "        }    #T_a7356206_1aa5_11ea_8f2d_f01898ee72bcrow4_col4 {\n",
       "            background-color:  #443988;\n",
       "        }</style><table id=\"T_a7356206_1aa5_11ea_8f2d_f01898ee72bc\" ><thead>    <tr>        <th class=\"blank level0\" ></th>        <th class=\"col_heading level0 col0\" >surface</th>        <th class=\"col_heading level0 col1\" >series</th>        <th class=\"col_heading level0 col2\" >order_surfaces</th>        <th class=\"col_heading level0 col3\" >isBasement</th>        <th class=\"col_heading level0 col4\" >color</th>        <th class=\"col_heading level0 col5\" >id</th>    </tr></thead><tbody>\n",
       "                <tr>\n",
       "                        <th id=\"T_a7356206_1aa5_11ea_8f2d_f01898ee72bclevel0_row0\" class=\"row_heading level0 row0\" >0</th>\n",
       "                        <td id=\"T_a7356206_1aa5_11ea_8f2d_f01898ee72bcrow0_col0\" class=\"data row0 col0\" >Basefold</td>\n",
       "                        <td id=\"T_a7356206_1aa5_11ea_8f2d_f01898ee72bcrow0_col1\" class=\"data row0 col1\" >Default series</td>\n",
       "                        <td id=\"T_a7356206_1aa5_11ea_8f2d_f01898ee72bcrow0_col2\" class=\"data row0 col2\" >1</td>\n",
       "                        <td id=\"T_a7356206_1aa5_11ea_8f2d_f01898ee72bcrow0_col3\" class=\"data row0 col3\" >False</td>\n",
       "                        <td id=\"T_a7356206_1aa5_11ea_8f2d_f01898ee72bcrow0_col4\" class=\"data row0 col4\" >#015482</td>\n",
       "                        <td id=\"T_a7356206_1aa5_11ea_8f2d_f01898ee72bcrow0_col5\" class=\"data row0 col5\" >1</td>\n",
       "            </tr>\n",
       "            <tr>\n",
       "                        <th id=\"T_a7356206_1aa5_11ea_8f2d_f01898ee72bclevel0_row1\" class=\"row_heading level0 row1\" >1</th>\n",
       "                        <td id=\"T_a7356206_1aa5_11ea_8f2d_f01898ee72bcrow1_col0\" class=\"data row1 col0\" >Topfold</td>\n",
       "                        <td id=\"T_a7356206_1aa5_11ea_8f2d_f01898ee72bcrow1_col1\" class=\"data row1 col1\" >Default series</td>\n",
       "                        <td id=\"T_a7356206_1aa5_11ea_8f2d_f01898ee72bcrow1_col2\" class=\"data row1 col2\" >2</td>\n",
       "                        <td id=\"T_a7356206_1aa5_11ea_8f2d_f01898ee72bcrow1_col3\" class=\"data row1 col3\" >False</td>\n",
       "                        <td id=\"T_a7356206_1aa5_11ea_8f2d_f01898ee72bcrow1_col4\" class=\"data row1 col4\" >#9f0052</td>\n",
       "                        <td id=\"T_a7356206_1aa5_11ea_8f2d_f01898ee72bcrow1_col5\" class=\"data row1 col5\" >2</td>\n",
       "            </tr>\n",
       "            <tr>\n",
       "                        <th id=\"T_a7356206_1aa5_11ea_8f2d_f01898ee72bclevel0_row2\" class=\"row_heading level0 row2\" >2</th>\n",
       "                        <td id=\"T_a7356206_1aa5_11ea_8f2d_f01898ee72bcrow2_col0\" class=\"data row2 col0\" >Inclined</td>\n",
       "                        <td id=\"T_a7356206_1aa5_11ea_8f2d_f01898ee72bcrow2_col1\" class=\"data row2 col1\" >Default series</td>\n",
       "                        <td id=\"T_a7356206_1aa5_11ea_8f2d_f01898ee72bcrow2_col2\" class=\"data row2 col2\" >3</td>\n",
       "                        <td id=\"T_a7356206_1aa5_11ea_8f2d_f01898ee72bcrow2_col3\" class=\"data row2 col3\" >False</td>\n",
       "                        <td id=\"T_a7356206_1aa5_11ea_8f2d_f01898ee72bcrow2_col4\" class=\"data row2 col4\" >#ffbe00</td>\n",
       "                        <td id=\"T_a7356206_1aa5_11ea_8f2d_f01898ee72bcrow2_col5\" class=\"data row2 col5\" >3</td>\n",
       "            </tr>\n",
       "            <tr>\n",
       "                        <th id=\"T_a7356206_1aa5_11ea_8f2d_f01898ee72bclevel0_row3\" class=\"row_heading level0 row3\" >3</th>\n",
       "                        <td id=\"T_a7356206_1aa5_11ea_8f2d_f01898ee72bcrow3_col0\" class=\"data row3 col0\" >Flat</td>\n",
       "                        <td id=\"T_a7356206_1aa5_11ea_8f2d_f01898ee72bcrow3_col1\" class=\"data row3 col1\" >Default series</td>\n",
       "                        <td id=\"T_a7356206_1aa5_11ea_8f2d_f01898ee72bcrow3_col2\" class=\"data row3 col2\" >4</td>\n",
       "                        <td id=\"T_a7356206_1aa5_11ea_8f2d_f01898ee72bcrow3_col3\" class=\"data row3 col3\" >False</td>\n",
       "                        <td id=\"T_a7356206_1aa5_11ea_8f2d_f01898ee72bcrow3_col4\" class=\"data row3 col4\" >#728f02</td>\n",
       "                        <td id=\"T_a7356206_1aa5_11ea_8f2d_f01898ee72bcrow3_col5\" class=\"data row3 col5\" >4</td>\n",
       "            </tr>\n",
       "            <tr>\n",
       "                        <th id=\"T_a7356206_1aa5_11ea_8f2d_f01898ee72bclevel0_row4\" class=\"row_heading level0 row4\" >4</th>\n",
       "                        <td id=\"T_a7356206_1aa5_11ea_8f2d_f01898ee72bcrow4_col0\" class=\"data row4 col0\" >basement</td>\n",
       "                        <td id=\"T_a7356206_1aa5_11ea_8f2d_f01898ee72bcrow4_col1\" class=\"data row4 col1\" >Basement</td>\n",
       "                        <td id=\"T_a7356206_1aa5_11ea_8f2d_f01898ee72bcrow4_col2\" class=\"data row4 col2\" >1</td>\n",
       "                        <td id=\"T_a7356206_1aa5_11ea_8f2d_f01898ee72bcrow4_col3\" class=\"data row4 col3\" >True</td>\n",
       "                        <td id=\"T_a7356206_1aa5_11ea_8f2d_f01898ee72bcrow4_col4\" class=\"data row4 col4\" >#443988</td>\n",
       "                        <td id=\"T_a7356206_1aa5_11ea_8f2d_f01898ee72bcrow4_col5\" class=\"data row4 col5\" >5</td>\n",
       "            </tr>\n",
       "    </tbody></table>"
      ],
      "text/plain": [
       "    surface          series  order_surfaces  isBasement    color vertices edges  id\n",
       "0  Basefold  Default series               1       False  #015482      NaN   NaN   1\n",
       "1   Topfold  Default series               2       False  #9f0052      NaN   NaN   2\n",
       "2  Inclined  Default series               3       False  #ffbe00      NaN   NaN   3\n",
       "3      Flat  Default series               4       False  #728f02      NaN   NaN   4\n",
       "4  basement        Basement               1        True  #443988      NaN   NaN   5"
      ]
     },
     "execution_count": 4,
     "metadata": {},
     "output_type": "execute_result"
    }
   ],
   "source": [
    "geo_model.surfaces"
   ]
  },
  {
   "cell_type": "code",
   "execution_count": 6,
   "metadata": {},
   "outputs": [
    {
     "data": {
      "text/html": [
       "<style  type=\"text/css\" >\n",
       "    #T_dd8749a8_1aa5_11ea_b112_f01898ee72bcrow0_col4 {\n",
       "            background-color:  #728f02;\n",
       "        }    #T_dd8749a8_1aa5_11ea_b112_f01898ee72bcrow1_col4 {\n",
       "            background-color:  #ffbe00;\n",
       "        }    #T_dd8749a8_1aa5_11ea_b112_f01898ee72bcrow2_col4 {\n",
       "            background-color:  #015482;\n",
       "        }    #T_dd8749a8_1aa5_11ea_b112_f01898ee72bcrow3_col4 {\n",
       "            background-color:  #9f0052;\n",
       "        }    #T_dd8749a8_1aa5_11ea_b112_f01898ee72bcrow4_col4 {\n",
       "            background-color:  #443988;\n",
       "        }</style><table id=\"T_dd8749a8_1aa5_11ea_b112_f01898ee72bc\" ><thead>    <tr>        <th class=\"blank level0\" ></th>        <th class=\"col_heading level0 col0\" >surface</th>        <th class=\"col_heading level0 col1\" >series</th>        <th class=\"col_heading level0 col2\" >order_surfaces</th>        <th class=\"col_heading level0 col3\" >isBasement</th>        <th class=\"col_heading level0 col4\" >color</th>        <th class=\"col_heading level0 col5\" >id</th>    </tr></thead><tbody>\n",
       "                <tr>\n",
       "                        <th id=\"T_dd8749a8_1aa5_11ea_b112_f01898ee72bclevel0_row0\" class=\"row_heading level0 row0\" >3</th>\n",
       "                        <td id=\"T_dd8749a8_1aa5_11ea_b112_f01898ee72bcrow0_col0\" class=\"data row0 col0\" >Flat</td>\n",
       "                        <td id=\"T_dd8749a8_1aa5_11ea_b112_f01898ee72bcrow0_col1\" class=\"data row0 col1\" >Flat_Series</td>\n",
       "                        <td id=\"T_dd8749a8_1aa5_11ea_b112_f01898ee72bcrow0_col2\" class=\"data row0 col2\" >1</td>\n",
       "                        <td id=\"T_dd8749a8_1aa5_11ea_b112_f01898ee72bcrow0_col3\" class=\"data row0 col3\" >False</td>\n",
       "                        <td id=\"T_dd8749a8_1aa5_11ea_b112_f01898ee72bcrow0_col4\" class=\"data row0 col4\" >#728f02</td>\n",
       "                        <td id=\"T_dd8749a8_1aa5_11ea_b112_f01898ee72bcrow0_col5\" class=\"data row0 col5\" >1</td>\n",
       "            </tr>\n",
       "            <tr>\n",
       "                        <th id=\"T_dd8749a8_1aa5_11ea_b112_f01898ee72bclevel0_row1\" class=\"row_heading level0 row1\" >2</th>\n",
       "                        <td id=\"T_dd8749a8_1aa5_11ea_b112_f01898ee72bcrow1_col0\" class=\"data row1 col0\" >Inclined</td>\n",
       "                        <td id=\"T_dd8749a8_1aa5_11ea_b112_f01898ee72bcrow1_col1\" class=\"data row1 col1\" >Inclined_Series</td>\n",
       "                        <td id=\"T_dd8749a8_1aa5_11ea_b112_f01898ee72bcrow1_col2\" class=\"data row1 col2\" >1</td>\n",
       "                        <td id=\"T_dd8749a8_1aa5_11ea_b112_f01898ee72bcrow1_col3\" class=\"data row1 col3\" >False</td>\n",
       "                        <td id=\"T_dd8749a8_1aa5_11ea_b112_f01898ee72bcrow1_col4\" class=\"data row1 col4\" >#ffbe00</td>\n",
       "                        <td id=\"T_dd8749a8_1aa5_11ea_b112_f01898ee72bcrow1_col5\" class=\"data row1 col5\" >2</td>\n",
       "            </tr>\n",
       "            <tr>\n",
       "                        <th id=\"T_dd8749a8_1aa5_11ea_b112_f01898ee72bclevel0_row2\" class=\"row_heading level0 row2\" >0</th>\n",
       "                        <td id=\"T_dd8749a8_1aa5_11ea_b112_f01898ee72bcrow2_col0\" class=\"data row2 col0\" >Basefold</td>\n",
       "                        <td id=\"T_dd8749a8_1aa5_11ea_b112_f01898ee72bcrow2_col1\" class=\"data row2 col1\" >Fold_Series</td>\n",
       "                        <td id=\"T_dd8749a8_1aa5_11ea_b112_f01898ee72bcrow2_col2\" class=\"data row2 col2\" >1</td>\n",
       "                        <td id=\"T_dd8749a8_1aa5_11ea_b112_f01898ee72bcrow2_col3\" class=\"data row2 col3\" >False</td>\n",
       "                        <td id=\"T_dd8749a8_1aa5_11ea_b112_f01898ee72bcrow2_col4\" class=\"data row2 col4\" >#015482</td>\n",
       "                        <td id=\"T_dd8749a8_1aa5_11ea_b112_f01898ee72bcrow2_col5\" class=\"data row2 col5\" >3</td>\n",
       "            </tr>\n",
       "            <tr>\n",
       "                        <th id=\"T_dd8749a8_1aa5_11ea_b112_f01898ee72bclevel0_row3\" class=\"row_heading level0 row3\" >1</th>\n",
       "                        <td id=\"T_dd8749a8_1aa5_11ea_b112_f01898ee72bcrow3_col0\" class=\"data row3 col0\" >Topfold</td>\n",
       "                        <td id=\"T_dd8749a8_1aa5_11ea_b112_f01898ee72bcrow3_col1\" class=\"data row3 col1\" >Fold_Series</td>\n",
       "                        <td id=\"T_dd8749a8_1aa5_11ea_b112_f01898ee72bcrow3_col2\" class=\"data row3 col2\" >2</td>\n",
       "                        <td id=\"T_dd8749a8_1aa5_11ea_b112_f01898ee72bcrow3_col3\" class=\"data row3 col3\" >False</td>\n",
       "                        <td id=\"T_dd8749a8_1aa5_11ea_b112_f01898ee72bcrow3_col4\" class=\"data row3 col4\" >#9f0052</td>\n",
       "                        <td id=\"T_dd8749a8_1aa5_11ea_b112_f01898ee72bcrow3_col5\" class=\"data row3 col5\" >4</td>\n",
       "            </tr>\n",
       "            <tr>\n",
       "                        <th id=\"T_dd8749a8_1aa5_11ea_b112_f01898ee72bclevel0_row4\" class=\"row_heading level0 row4\" >4</th>\n",
       "                        <td id=\"T_dd8749a8_1aa5_11ea_b112_f01898ee72bcrow4_col0\" class=\"data row4 col0\" >basement</td>\n",
       "                        <td id=\"T_dd8749a8_1aa5_11ea_b112_f01898ee72bcrow4_col1\" class=\"data row4 col1\" >Basement</td>\n",
       "                        <td id=\"T_dd8749a8_1aa5_11ea_b112_f01898ee72bcrow4_col2\" class=\"data row4 col2\" >1</td>\n",
       "                        <td id=\"T_dd8749a8_1aa5_11ea_b112_f01898ee72bcrow4_col3\" class=\"data row4 col3\" >True</td>\n",
       "                        <td id=\"T_dd8749a8_1aa5_11ea_b112_f01898ee72bcrow4_col4\" class=\"data row4 col4\" >#443988</td>\n",
       "                        <td id=\"T_dd8749a8_1aa5_11ea_b112_f01898ee72bcrow4_col5\" class=\"data row4 col5\" >5</td>\n",
       "            </tr>\n",
       "    </tbody></table>"
      ],
      "text/plain": [
       "    surface           series  order_surfaces  isBasement    color vertices edges  id\n",
       "3      Flat      Flat_Series               1       False  #728f02      NaN   NaN   1\n",
       "2  Inclined  Inclined_Series               1       False  #ffbe00      NaN   NaN   2\n",
       "0  Basefold      Fold_Series               1       False  #015482      NaN   NaN   3\n",
       "1   Topfold      Fold_Series               2       False  #9f0052      NaN   NaN   4\n",
       "4  basement         Basement               1        True  #443988      NaN   NaN   5"
      ]
     },
     "execution_count": 6,
     "metadata": {},
     "output_type": "execute_result"
    }
   ],
   "source": [
    "gp.map_series_to_surfaces(geo_model,\n",
    "                         {\"Flat_Series\":'Flat',\n",
    "                          \"Inclined_Series\":'Inclined',\n",
    "                          \"Fold_Series\": ('Basefold', 'Topfold')})"
   ]
  },
  {
   "cell_type": "code",
   "execution_count": 7,
   "metadata": {},
   "outputs": [
    {
     "data": {
      "text/plain": [
       "<gempy.plot.visualization_2d.PlotData2D at 0x7f90287d5940>"
      ]
     },
     "execution_count": 7,
     "metadata": {},
     "output_type": "execute_result"
    },
    {
     "data": {
      "image/png": "[encoded data removed]",
      "text/plain": [
       "<Figure size 720x360 with 1 Axes>"
      ]
     },
     "metadata": {},
     "output_type": "display_data"
    }
   ],
   "source": [
    "gp.plot.plot_data(geo_model, direction='y')"
   ]
  },
  {
   "cell_type": "code",
   "execution_count": 8,
   "metadata": {},
   "outputs": [
    {
     "data": {
      "text/html": [
       "<table border=\"1\" class=\"dataframe\">\n",
       "  <thead>\n",
       "    <tr style=\"text-align: right;\">\n",
       "      <th></th>\n",
       "      <th>order_series</th>\n",
       "      <th>BottomRelation</th>\n",
       "    </tr>\n",
       "  </thead>\n",
       "  <tbody>\n",
       "    <tr>\n",
       "      <th>Flat_Series</th>\n",
       "      <td>1</td>\n",
       "      <td>Erosion</td>\n",
       "    </tr>\n",
       "    <tr>\n",
       "      <th>Inclined_Series</th>\n",
       "      <td>2</td>\n",
       "      <td>Erosion</td>\n",
       "    </tr>\n",
       "    <tr>\n",
       "      <th>Fold_Series</th>\n",
       "      <td>3</td>\n",
       "      <td>Erosion</td>\n",
       "    </tr>\n",
       "    <tr>\n",
       "      <th>Basement</th>\n",
       "      <td>4</td>\n",
       "      <td>Erosion</td>\n",
       "    </tr>\n",
       "  </tbody>\n",
       "</table>"
      ],
      "text/plain": [
       "                 order_series BottomRelation\n",
       "Flat_Series                 1        Erosion\n",
       "Inclined_Series             2        Erosion\n",
       "Fold_Series                 3        Erosion\n",
       "Basement                    4        Erosion"
      ]
     },
     "execution_count": 8,
     "metadata": {},
     "output_type": "execute_result"
    }
   ],
   "source": [
    "geo_model.series"
   ]
  },
  {
   "cell_type": "code",
   "execution_count": 9,
   "metadata": {},
   "outputs": [
    {
     "name": "stdout",
     "output_type": "stream",
     "text": [
      "Compiling theano function...\n",
      "Compilation Done!\n"
     ]
    },
    {
     "data": {
      "text/plain": [
       "<gempy.core.interpolator.InterpolatorModel at 0x7f8ff1daa0f0>"
      ]
     },
     "execution_count": 9,
     "metadata": {},
     "output_type": "execute_result"
    }
   ],
   "source": [
    "# Create the theano model\n",
    "gp.set_interpolation_data(geo_model,\n",
    "                         compile_theano=True,\n",
    "                         theano_optimizer='fast_compile',\n",
    "                         verbose=[])"
   ]
  },
  {
   "cell_type": "code",
   "execution_count": 10,
   "metadata": {},
   "outputs": [],
   "source": [
    "# Compute the model\n",
    "sol = gp.compute_model(geo_model, compute_mesh=False)"
   ]
  },
  {
   "cell_type": "code",
   "execution_count": 11,
   "metadata": {
    "scrolled": true
   },
   "outputs": [
    {
     "data": {
      "text/plain": [
       "<gempy.plot.visualization_2d.PlotData2D at 0x7f9049b91320>"
      ]
     },
     "execution_count": 11,
     "metadata": {},
     "output_type": "execute_result"
    },
    {
     "data": {
      "image/png": "[encoded data removed]",
      "text/plain": [
       "<Figure size 748.8x514.8 with 1 Axes>"
      ]
     },
     "metadata": {},
     "output_type": "display_data"
    }
   ],
   "source": [
    "gp.plot.plot_section(geo_model, cell_number=2, direction='y')"
   ]
  },
  {
   "cell_type": "markdown",
   "metadata": {},
   "source": [
    "## Inclined as ONLAP"
   ]
  },
  {
   "cell_type": "code",
   "execution_count": 12,
   "metadata": {},
   "outputs": [
    {
     "data": {
      "text/html": [
       "<table border=\"1\" class=\"dataframe\">\n",
       "  <thead>\n",
       "    <tr style=\"text-align: right;\">\n",
       "      <th></th>\n",
       "      <th>order_series</th>\n",
       "      <th>BottomRelation</th>\n",
       "    </tr>\n",
       "  </thead>\n",
       "  <tbody>\n",
       "    <tr>\n",
       "      <th>Flat_Series</th>\n",
       "      <td>1</td>\n",
       "      <td>Erosion</td>\n",
       "    </tr>\n",
       "    <tr>\n",
       "      <th>Inclined_Series</th>\n",
       "      <td>2</td>\n",
       "      <td>Onlap</td>\n",
       "    </tr>\n",
       "    <tr>\n",
       "      <th>Fold_Series</th>\n",
       "      <td>3</td>\n",
       "      <td>Erosion</td>\n",
       "    </tr>\n",
       "    <tr>\n",
       "      <th>Basement</th>\n",
       "      <td>4</td>\n",
       "      <td>Erosion</td>\n",
       "    </tr>\n",
       "  </tbody>\n",
       "</table>"
      ],
      "text/plain": [
       "                 order_series BottomRelation\n",
       "Flat_Series                 1        Erosion\n",
       "Inclined_Series             2          Onlap\n",
       "Fold_Series                 3        Erosion\n",
       "Basement                    4        Erosion"
      ]
     },
     "execution_count": 12,
     "metadata": {},
     "output_type": "execute_result"
    }
   ],
   "source": [
    "# so let's set the Pregraben_Series to Onlap\n",
    "geo_model.series.set_bottom_relation('Inclined_Series', bottom_relation='Onlap')"
   ]
  },
  {
   "cell_type": "code",
   "execution_count": 15,
   "metadata": {},
   "outputs": [
    {
     "name": "stdout",
     "output_type": "stream",
     "text": [
      "Compiling theano function...\n",
      "Compilation Done!\n"
     ]
    }
   ],
   "source": [
    "# Create the theano model\n",
    "gp.set_interpolation_data(geo_model,\n",
    "                         compile_theano=True,\n",
    "                         theano_optimizer='fast_compile',\n",
    "                         verbose=[])\n",
    "# Compute the model\n",
    "sol = gp.compute_model(geo_model, compute_mesh=False)"
   ]
  },
  {
   "cell_type": "code",
   "execution_count": 16,
   "metadata": {
    "scrolled": false
   },
   "outputs": [
    {
     "data": {
      "text/plain": [
       "<gempy.plot.visualization_2d.PlotData2D at 0x7f904a2c0748>"
      ]
     },
     "execution_count": 16,
     "metadata": {},
     "output_type": "execute_result"
    },
    {
     "data": {
      "image/png": "[encoded data removed]",
      "text/plain": [
       "<Figure size 748.8x514.8 with 1 Axes>"
      ]
     },
     "metadata": {},
     "output_type": "display_data"
    }
   ],
   "source": [
    "gp.plot.plot_section(geo_model, cell_number=2, direction='y')"
   ]
  },
  {
   "cell_type": "markdown",
   "metadata": {},
   "source": [
    "## Inclined and Flat as ONLAP"
   ]
  },
  {
   "cell_type": "code",
   "execution_count": 17,
   "metadata": {},
   "outputs": [
    {
     "data": {
      "text/html": [
       "<table border=\"1\" class=\"dataframe\">\n",
       "  <thead>\n",
       "    <tr style=\"text-align: right;\">\n",
       "      <th></th>\n",
       "      <th>order_series</th>\n",
       "      <th>BottomRelation</th>\n",
       "    </tr>\n",
       "  </thead>\n",
       "  <tbody>\n",
       "    <tr>\n",
       "      <th>Flat_Series</th>\n",
       "      <td>1</td>\n",
       "      <td>Onlap</td>\n",
       "    </tr>\n",
       "    <tr>\n",
       "      <th>Inclined_Series</th>\n",
       "      <td>2</td>\n",
       "      <td>Onlap</td>\n",
       "    </tr>\n",
       "    <tr>\n",
       "      <th>Fold_Series</th>\n",
       "      <td>3</td>\n",
       "      <td>Erosion</td>\n",
       "    </tr>\n",
       "    <tr>\n",
       "      <th>Basement</th>\n",
       "      <td>4</td>\n",
       "      <td>Erosion</td>\n",
       "    </tr>\n",
       "  </tbody>\n",
       "</table>"
      ],
      "text/plain": [
       "                 order_series BottomRelation\n",
       "Flat_Series                 1          Onlap\n",
       "Inclined_Series             2          Onlap\n",
       "Fold_Series                 3        Erosion\n",
       "Basement                    4        Erosion"
      ]
     },
     "execution_count": 17,
     "metadata": {},
     "output_type": "execute_result"
    }
   ],
   "source": [
    "# so let's set the Pregraben_Series to Onlap\n",
    "geo_model.series.set_bottom_relation(['Flat_Series','Inclined_Series'], bottom_relation='Onlap')"
   ]
  },
  {
   "cell_type": "code",
   "execution_count": 18,
   "metadata": {},
   "outputs": [
    {
     "name": "stdout",
     "output_type": "stream",
     "text": [
      "Compiling theano function...\n",
      "Compilation Done!\n"
     ]
    }
   ],
   "source": [
    "# Create the theano model\n",
    "gp.set_interpolation_data(geo_model,\n",
    "                         compile_theano=True,\n",
    "                         theano_optimizer='fast_compile',\n",
    "                         verbose=[])\n",
    "# Compute the model\n",
    "sol = gp.compute_model(geo_model, compute_mesh=False)"
   ]
  },
  {
   "cell_type": "code",
   "execution_count": 19,
   "metadata": {
    "scrolled": false
   },
   "outputs": [
    {
     "data": {
      "text/plain": [
       "<gempy.plot.visualization_2d.PlotData2D at 0x7f8fc8ef6ba8>"
      ]
     },
     "execution_count": 19,
     "metadata": {},
     "output_type": "execute_result"
    },
    {
     "data": {
      "image/png": "[encoded data removed]",
      "text/plain": [
       "<Figure size 748.8x514.8 with 1 Axes>"
      ]
     },
     "metadata": {},
     "output_type": "display_data"
    }
   ],
   "source": [
    "gp.plot.plot_section(geo_model, cell_number=2, direction='y')"
   ]
  }
 ],
 "metadata": {
  "hide_input": false,
  "kernelspec": {
   "display_name": "Python 3",
   "language": "python",
   "name": "python3"
  },
  "language_info": {
   "codemirror_mode": {
    "name": "ipython",
    "version": 3
   },
   "file_extension": ".py",
   "mimetype": "text/x-python",
   "name": "python",
   "nbconvert_exporter": "python",
   "pygments_lexer": "ipython3",
   "version": "3.6.8"
  },
  "toc": {
   "base_numbering": 1,
   "nav_menu": {},
   "number_sections": true,
   "sideBar": true,
   "skip_h1_title": false,
   "title_cell": "Table of Contents",
   "title_sidebar": "Contents",
   "toc_cell": false,
   "toc_position": {},
   "toc_section_display": true,
   "toc_window_display": false
  },
  "varInspector": {
   "cols": {
    "lenName": 16,
    "lenType": 16,
    "lenVar": 40
   },
   "kernels_config": {
    "python": {
     "delete_cmd_postfix": "",
     "delete_cmd_prefix": "del ",
     "library": "var_list.py",
     "varRefreshCmd": "print(var_dic_list())"
    },
    "r": {
     "delete_cmd_postfix": ") ",
     "delete_cmd_prefix": "rm(",
     "library": "var_list.r",
     "varRefreshCmd": "cat(var_dic_list()) "
    }
   },
   "types_to_exclude": [
    "module",
    "function",
    "builtin_function_or_method",
    "instance",
    "_Feature"
   ],
   "window_display": false
  }
 },
 "nbformat": 4,
 "nbformat_minor": 2
}
