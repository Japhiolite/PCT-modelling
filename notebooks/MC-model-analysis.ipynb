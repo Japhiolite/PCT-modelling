{
 "cells": [
  {
   "cell_type": "code",
   "execution_count": 1,
   "metadata": {},
   "outputs": [],
   "source": [
    "import h5py\n",
    "import numpy as np\n",
    "import os,sys\n",
    "from scipy import stats\n",
    "import matplotlib.pyplot as plt\n",
    "%matplotlib inline"
   ]
  },
  {
   "cell_type": "markdown",
   "metadata": {},
   "source": [
    "# Rejection algorithm based on random walk\n",
    "We created a tiny ensemble of 100 different SHEMAT-Suite and will use a rejection algorithm based on the Metropolis acceptance probability to get a posterior ensemble of models.  \n",
    "The Metropolis acceptance probability is defined as:  \n",
    "\n",
    "$$ \\alpha(x_{t-1},z) = \\begin{cases} min\\big(\\frac{p(z)}{p(x_{t-1})},1\\big), & \\text{if } p(x_{t-1}) > 0\\\\\n",
    "1, & \\text{if } p(x_{t-1}) = 0 \\end{cases} $$  \n",
    "\n",
    "A different approach would be to assess the missfit (as RMS error) of each realisation.  \n",
    "\n",
    "$$ \\alpha(x_{t-1},z) = \\begin{cases} exp\\big(-\\frac{S(z) - S(x_{t-1}) }{u_T}\\big), & \\text{if } S(z) > S(x_{t-1})\\\\\n",
    "1, & \\text{otherwise }  \\end{cases} $$  \n",
    "\n",
    "We will use the second approach for now...also because we wrote it in the abstract.  \n",
    "As discretization error, we take a value from Elison(2015), $u_{T-discr} = 0.7$ K  \n",
    "\n",
    "Using Gauss error propagation, we assess a potential error for the realisations.  \n",
    "\n",
    "$$ u_T = \\sqrt{\\big(\\frac{\\partial T}{\\partial x_1}u_1 \\big)^2 + ... + \\big(\\frac{\\partial T}{\\partial x_n}u_n \\big)^2} $$"
   ]
  },
  {
   "cell_type": "markdown",
   "metadata": {},
   "source": [
    "Literature sources for log-errors:\n",
    "_The lower part of the disturbed log profile (below the cross-over point) was rotated to match these corrected tempera-tures. In the upper part of the profile, the same correction as for method A was applied. The quality of this correction method strongly depends on the correct calculation of the lowermost profile temperatures. According to Förster (2001), most of the corrected tem-peratures have errors of ± 3 to 5 K._ https://doi.org/10.1186/s40517-020-00181-w  \n",
    "\n",
    "\n",
    " _The effective accuracy of commercial temperature logs is ±0.5ºC (Blackwell and Spafford, 1987)._  http://www.sprensky.com/publishd/temper2.html  \n",
    " \n",
    " _More normal accuracies are +- 0.25 °C over 0-200 °C_ Keith Geothermal Energy lecture  \n",
    " \n",
    " For errors as a function of e.g. logging speed, measurement response time etc, look https://doi.org/10.1016/j.petrol.2020.107727"
   ]
  },
  {
   "cell_type": "code",
   "execution_count": 10,
   "metadata": {},
   "outputs": [],
   "source": [
    "def fahrenheit_to_celsius(temp_fahrenheit, difference=False):\n",
    "    if not difference:\n",
    "        return (temp_fahrenheit - 32) * 5 / 9\n",
    "    else:\n",
    "        return temp_fahrenheit * 5 / 9"
   ]
  },
  {
   "cell_type": "code",
   "execution_count": 14,
   "metadata": {},
   "outputs": [
    {
     "name": "stdout",
     "output_type": "stream",
     "text": [
      "1.4237296698599444\n"
     ]
    }
   ],
   "source": [
    "# define uT\n",
    "T_error = 0.25 # temperature error tool accuracy\n",
    "s_error = fahrenheit_to_celsius(1.25, difference=True) # sensor response time of 2 sec and 1 year after drilling\n",
    "l_error = fahrenheit_to_celsius(1.25, difference=True) # logging speed of 20/ft after 1 year\n",
    "d_error = 1.0 # estimated temperature error by discretization\n",
    "#u_T = np.sqrt(T_error[0]**2 + T_error[1]**2 + T_error[2]**2 + T_error[3]**2 + d_error**2)\n",
    "#u_T = np.sum(T_error**2)/4\n",
    "u_T = np.sqrt(T_error**2 + s_error**2 + l_error**2 + d_error**2)\n",
    "print(u_T)"
   ]
  }
 ],
 "metadata": {
  "hide_input": false,
  "kernelspec": {
   "display_name": "Python [conda env:env_datasci]",
   "language": "python",
   "name": "conda-env-env_datasci-py"
  },
  "language_info": {
   "codemirror_mode": {
    "name": "ipython",
    "version": 3
   },
   "file_extension": ".py",
   "mimetype": "text/x-python",
   "name": "python",
   "nbconvert_exporter": "python",
   "pygments_lexer": "ipython3",
   "version": "3.7.8"
  },
  "latex_envs": {
   "LaTeX_envs_menu_present": true,
   "autoclose": false,
   "autocomplete": true,
   "bibliofile": "biblio.bib",
   "cite_by": "apalike",
   "current_citInitial": 1,
   "eqLabelWithNumbers": true,
   "eqNumInitial": 1,
   "hotkeys": {
    "equation": "Ctrl-E",
    "itemize": "Ctrl-I"
   },
   "labels_anchors": false,
   "latex_user_defs": false,
   "report_style_numbering": false,
   "user_envs_cfg": false
  }
 },
 "nbformat": 4,
 "nbformat_minor": 4
}
