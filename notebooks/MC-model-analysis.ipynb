{
 "cells": [
  {
   "cell_type": "code",
   "execution_count": 20,
   "metadata": {},
   "outputs": [],
   "source": [
    "import h5py\n",
    "import numpy as np\n",
    "import os,sys\n",
    "import glob\n",
    "from scipy import stats\n",
    "import random\n",
    "import matplotlib.pyplot as plt\n",
    "%matplotlib inline\n",
    "\n",
    "sys.path.append('../models/20210219_MC_ensemble/')"
   ]
  },
  {
   "cell_type": "markdown",
   "metadata": {},
   "source": [
    "# Rejection algorithm based on random walk\n",
    "We created a tiny ensemble of 100 different SHEMAT-Suite and will use a rejection algorithm based on the Metropolis acceptance probability to get a posterior ensemble of models.  \n",
    "The Metropolis acceptance probability is defined as:  \n",
    "\n",
    "$$ \\alpha(x_{t-1},z) = \\begin{cases} min\\big(\\frac{p(z)}{p(x_{t-1})},1\\big), & \\text{if } p(x_{t-1}) > 0\\\\\n",
    "1, & \\text{if } p(x_{t-1}) = 0 \\end{cases} $$  \n",
    "\n",
    "A different approach would be to assess the missfit (as RMS error) of each realisation.  \n",
    "\n",
    "$$ \\alpha(x_{t-1},z) = \\begin{cases} exp\\big(-\\frac{S(z) - S(x_{t-1}) }{u_T}\\big), & \\text{if } S(z) > S(x_{t-1})\\\\\n",
    "1, & \\text{otherwise }  \\end{cases} $$  \n",
    "\n",
    "We will use the second approach for now...also because we wrote it in the abstract.  \n",
    "As discretization error, we take a value from Elison(2015), $u_{T-discr} = 0.7$ K  \n",
    "\n",
    "Using Gauss error propagation, we assess a potential error for the realisations.  \n",
    "\n",
    "$$ u_T = \\sqrt{\\big(\\frac{\\partial T}{\\partial x_1}u_1 \\big)^2 + ... + \\big(\\frac{\\partial T}{\\partial x_n}u_n \\big)^2} $$"
   ]
  },
  {
   "cell_type": "markdown",
   "metadata": {},
   "source": [
    "Literature sources for log-errors:\n",
    "_The lower part of the disturbed log profile (below the cross-over point) was rotated to match these corrected tempera-tures. In the upper part of the profile, the same correction as for method A was applied. The quality of this correction method strongly depends on the correct calculation of the lowermost profile temperatures. According to Förster (2001), most of the corrected tem-peratures have errors of ± 3 to 5 K._ https://doi.org/10.1186/s40517-020-00181-w  \n",
    "\n",
    "\n",
    " _The effective accuracy of commercial temperature logs is ±0.5ºC (Blackwell and Spafford, 1987)._  http://www.sprensky.com/publishd/temper2.html  \n",
    " \n",
    " _More normal accuracies are +- 0.25 °C over 0-200 °C_ Keith Geothermal Energy lecture  \n",
    " \n",
    " For errors as a function of e.g. logging speed, measurement response time etc, look https://doi.org/10.1016/j.petrol.2020.107727"
   ]
  },
  {
   "cell_type": "code",
   "execution_count": 40,
   "metadata": {},
   "outputs": [],
   "source": [
    "f = h5py.File('../models/20210219_MC_ensemble/PCT_base_model_final.h5','r')"
   ]
  },
  {
   "cell_type": "code",
   "execution_count": 43,
   "metadata": {},
   "outputs": [],
   "source": [
    "z,y,x = f['uindex'].shape"
   ]
  },
  {
   "cell_type": "code",
   "execution_count": 48,
   "metadata": {},
   "outputs": [
    {
     "data": {
      "text/plain": [
       "50.5"
      ]
     },
     "execution_count": 48,
     "metadata": {},
     "output_type": "execute_result"
    }
   ],
   "source": [
    "101/2"
   ]
  },
  {
   "cell_type": "code",
   "execution_count": 49,
   "metadata": {},
   "outputs": [],
   "source": [
    "def fahrenheit_to_celsius(temp_fahrenheit, difference=False):\n",
    "    if not difference:\n",
    "        return (temp_fahrenheit - 32) * 5 / 9\n",
    "    else:\n",
    "        return temp_fahrenheit * 5 / 9\n",
    "    \n",
    "    \n",
    "def extTui(datafile, dimension=3, direction='x'):\n",
    "    f = h5py.File(datafile,'r')\n",
    "    z, y, x = f['temp'].shape\n",
    "    if dimension==3:\n",
    "        temp = f['temp'][:,:,:]\n",
    "        uindex = f['uindex'][:,:,:]\n",
    "    elif dimension==2:\n",
    "        if direction=='x':\n",
    "            temp = f['temp'][:,:,x//2]\n",
    "            uindex = f['uindex'][:,:,x//2]\n",
    "        elif direction=='y':\n",
    "            temp = f['temp'][:,y//2,:]\n",
    "            uindex = f['uindex'][:,y//2,:]\n",
    "        elif direction=='z':\n",
    "            temp = f['temp'][z//2,:,:]\n",
    "            uindex = f['uindex'][z//2,:,:]\n",
    "    return temp,uindex\n",
    "    "
   ]
  },
  {
   "cell_type": "code",
   "execution_count": 3,
   "metadata": {},
   "outputs": [
    {
     "name": "stdout",
     "output_type": "stream",
     "text": [
      "1.4237296698599444\n"
     ]
    }
   ],
   "source": [
    "# define uT\n",
    "T_error = 0.25 # temperature error tool accuracy\n",
    "s_error = fahrenheit_to_celsius(1.25, difference=True) # sensor response time of 2 sec and 1 year after drilling\n",
    "l_error = fahrenheit_to_celsius(1.25, difference=True) # logging speed of 20/ft after 1 year\n",
    "d_error = 1.0 # estimated temperature error by discretization\n",
    "#u_T = np.sqrt(T_error[0]**2 + T_error[1]**2 + T_error[2]**2 + T_error[3]**2 + d_error**2)\n",
    "#u_T = np.sum(T_error**2)/4\n",
    "u_T = np.sqrt(T_error**2 + s_error**2 + l_error**2 + d_error**2)\n",
    "print(u_T)"
   ]
  },
  {
   "cell_type": "code",
   "execution_count": 4,
   "metadata": {},
   "outputs": [],
   "source": [
    "# load Simulation outputs. Those outputs get written by SHEMAT-Suite if runmode = 1\n",
    "outp_path = '../models/20210219_MC_ensemble/'\n",
    "diffs = np.loadtxt(outp_path+'PCT_MC_0var_TCt_final.dat',skiprows=3,usecols=(8,),dtype=float)\n",
    "for i in range(1,100):\n",
    "    n = np.loadtxt(outp_path+f'PCT_MC_{i}var_TCt_final.dat',skiprows=3,usecols=(8,),dtype=float)\n",
    "    diffs=np.vstack([diffs,n])"
   ]
  },
  {
   "cell_type": "code",
   "execution_count": 5,
   "metadata": {},
   "outputs": [],
   "source": [
    "# calculate RMSE of each realisation.\n",
    "n = diffs.shape[1] # as we have 4 data points for temperature\n",
    "\n",
    "diffs_sq = diffs**2\n",
    "ssr = diffs_sq.sum(axis=1)\n",
    "rmse = np.sqrt((diffs_sq.sum(axis=1)/n))"
   ]
  },
  {
   "cell_type": "code",
   "execution_count": 6,
   "metadata": {},
   "outputs": [
    {
     "name": "stdout",
     "output_type": "stream",
     "text": [
      "(100, 98)\n"
     ]
    }
   ],
   "source": [
    "# this is a matrix with all vectors. First 96 columns are differences of the wells, then the column is the SSR, \n",
    "# final column is RMSE\n",
    "tot_diffs = np.column_stack((diffs,ssr,rmse))\n",
    "print(tot_diffs.shape)\n",
    "# add index to the realizations\n",
    "ind = np.array(range(100))\n",
    "tot_diffs = np.column_stack((tot_diffs,ind))"
   ]
  },
  {
   "cell_type": "code",
   "execution_count": 7,
   "metadata": {},
   "outputs": [
    {
     "data": {
      "text/plain": [
       "array([-1.5201195, -1.461665 , -1.403697 , -1.3462403, -1.2893066,\n",
       "       -1.2328994, -1.177    , -1.1215621, -1.0665283, -1.0118893,\n",
       "       -0.957759 , -0.9043045, -0.8516312, -0.799683 , -0.7481756,\n",
       "       -0.6966115, -0.6445547, -0.5926642, -0.5419091, -0.4931279,\n",
       "       -0.4469584, -0.4038413, -0.3639712, -0.3270807, -0.2918596,\n",
       "       -0.2546062, -0.2212619, -0.1942998, -0.1707273, -0.1490087,\n",
       "       -0.1283688, -0.1085283, -0.0957589, -0.0855443, -0.0741754,\n",
       "       -0.0614251, -0.0469003, -0.03273  , -0.0189854, -1.1048345,\n",
       "       -1.0635816, -1.0211166, -0.977543 , -0.9329919, -0.8876188,\n",
       "       -0.8415941, -0.7950881, -0.7482432, -0.7011275, -0.6536518,\n",
       "       -0.5966005, -0.5482866, -0.5098773, -0.4639739, -0.4102419,\n",
       "       -0.3501038, -0.2919517, -0.2353215, -0.1797906, -0.1273862,\n",
       "       -0.077933 , -3.460852 , -3.133596 , -2.793566 , -2.453768 ,\n",
       "       -2.070575 , -1.814628 , -1.662045 , -1.458957 , -1.241025 ,\n",
       "       -1.042408 , -0.86238  , -0.691421 , -0.527159 , -0.368137 ,\n",
       "       -0.213537 , -0.062645 ,  0.021962 ,  0.04135  ,  0.059499 ,\n",
       "        0.076336 ,  0.091814 ,  0.1059437,  0.1187639,  0.1303114,\n",
       "        0.1406065,  0.1496642,  0.1506619,  0.143953 ,  0.134227 ,\n",
       "        0.1216149,  0.1057818,  0.0868657,  0.0677845,  0.0486537,\n",
       "        0.0295759])"
      ]
     },
     "execution_count": 7,
     "metadata": {},
     "output_type": "execute_result"
    }
   ],
   "source": [
    "diffs[0,:] - diffs[72,:]"
   ]
  },
  {
   "cell_type": "markdown",
   "metadata": {},
   "source": [
    "## Rejection sampling\n",
    "we now start with a random sample and go randomly through the pool, accepting and rejecting realizations.\n",
    "The algorithm starts with one refrence sample `Ref`. Then, iteratively, samples (= realizations) get accepted, rejected based on their RMSE values. That is why we use the 6th column of `tot_diffs`. Alternatively, one could also just use the `rmse` array."
   ]
  },
  {
   "cell_type": "code",
   "execution_count": 78,
   "metadata": {},
   "outputs": [
    {
     "name": "stdout",
     "output_type": "stream",
     "text": [
      "23\n",
      "[1, 4, 8, 12, 13, 14, 19, 23, 24, 29, 30, 44, 50, 64, 71, 76, 84, 85, 88, 93, 96, 97, 99]\n"
     ]
    }
   ],
   "source": [
    "# Chronological implemntation - start von 1 bis N \n",
    "# Can be used here, if samples generated are already in a random order and not correlated.\n",
    "# That is usually the case with GemPy exports to SHEMAT-Suite.\n",
    "col = 97\n",
    "Ref = tot_diffs[0,col]\n",
    "accept = []\n",
    "P = []\n",
    "k=0\n",
    "for i in range(1,100):\n",
    "    if tot_diffs[i,col] < Ref:\n",
    "        Ref = tot_diffs[i,col]\n",
    "        accept.append(i)\n",
    "        \n",
    "    elif random.random() < np.exp(-(tot_diffs[i,col] - Ref)/(u_T)):\n",
    "        P.append(np.exp(-(tot_diffs[i,col] - Ref)/(u_T)))\n",
    "        Ref = tot_diffs[i,col]\n",
    "        accept.append(i)\n",
    "        k += 1\n",
    "print(len(accept))\n",
    "print(accept)"
   ]
  },
  {
   "cell_type": "markdown",
   "metadata": {},
   "source": [
    "And we see, temperature data is not sensitive to changes in the PCT-depth.  \n",
    "\n",
    "But what if we also treat the thermal conductivity as an uncertain parameter?"
   ]
  },
  {
   "cell_type": "markdown",
   "metadata": {},
   "source": [
    "*Then the rejection is way more rigorous.*"
   ]
  },
  {
   "cell_type": "code",
   "execution_count": 79,
   "metadata": {},
   "outputs": [],
   "source": [
    "fids = glob.glob('/home/bl2/ownCloud/SHEMAT_GeoMol/20210219_MC_outputs/*.h5')"
   ]
  },
  {
   "cell_type": "code",
   "execution_count": 80,
   "metadata": {},
   "outputs": [],
   "source": [
    "outpath = '/home/bl2/ownCloud/SHEMAT_GeoMol/20210219_MC_outputs/'\n",
    "poTemp = []\n",
    "poUi = []\n",
    "dicfil = {}\n",
    "for fn in fids:\n",
    "    for i in accept:\n",
    "        if fn == outpath+\"PCT_MC_{}var_TCt_final.h5\".format(i):\n",
    "            dT,dui = extTui(fn, dimension=2, direction='y')\n",
    "            poTemp.append(dT)\n",
    "            poUi.append(dui)            \n",
    "            dicfil[fn.split('/')[-1]] = dui\n",
    "            "
   ]
  },
  {
   "cell_type": "code",
   "execution_count": 81,
   "metadata": {},
   "outputs": [
    {
     "name": "stdout",
     "output_type": "stream",
     "text": [
      "(23, 60, 100) (23, 60, 100) (23,)\n"
     ]
    }
   ],
   "source": [
    "poTempa = np.asarray(poTemp)\n",
    "poUia = np.asarray(poUi)\n",
    "accepta = np.asarray(accept)\n",
    "print(poUia.shape,poTempa.shape,accepta.shape)\n",
    "np.savetxt('accepted_realisations',accepta,fmt='%i',delimiter=' ',newline='\\n')\n",
    "#np.savetxt('posterior_Temps',poTempa,fmt='%.5f',delimiter=' ',newline='\\n',header=\" posterior 61 realizations for Temperature\")\n",
    "#np.savetxt('posterior_Uindex',poUia,fmt='%i',delimiter=' ',newline='\\n')"
   ]
  },
  {
   "cell_type": "code",
   "execution_count": 82,
   "metadata": {},
   "outputs": [],
   "source": [
    "# calculate mean temperature field and mean posterior uindex\n",
    "mTemp = np.mean(poTempa,axis=0)\n",
    "mUi = np.mean(poUia,axis=0)\n",
    "# import y and z for visualising\n",
    "plfn = h5py.File('../models/20210219_MC_ensemble/PCT_base_model_final.h5','r')\n",
    "x = plfn['x'][0,0,:]\n",
    "y = plfn['y'][0,:,0]\n",
    "z = plfn['z'][:,0,0]\n",
    "refT = plfn['temp'][:,25,:]"
   ]
  },
  {
   "cell_type": "code",
   "execution_count": 83,
   "metadata": {},
   "outputs": [
    {
     "data": {
      "text/plain": [
       "(60, 100)"
      ]
     },
     "execution_count": 83,
     "metadata": {},
     "output_type": "execute_result"
    }
   ],
   "source": [
    "poUi[0].shape"
   ]
  },
  {
   "cell_type": "code",
   "execution_count": 84,
   "metadata": {},
   "outputs": [
    {
     "data": {
      "text/plain": [
       "Text(0, 0.5, 'depth[m]')"
      ]
     },
     "execution_count": 84,
     "metadata": {},
     "output_type": "execute_result"
    },
    {
     "data": {
      "image/png": "[encoded data removed]",
      "text/plain": [
       "<Figure size 1440x576 with 1 Axes>"
      ]
     },
     "metadata": {
      "needs_background": "light"
     },
     "output_type": "display_data"
    }
   ],
   "source": [
    "fig = plt.figure(figsize=(20,8))\n",
    "cs = plt.contourf(x,z-6500.,mUi,cmap='viridis')\n",
    "plt.tick_params(axis='both',labelsize=14)\n",
    "plt.xlabel('x [m]',fontsize=16)\n",
    "plt.ylabel('depth[m]',fontsize=16)"
   ]
  },
  {
   "cell_type": "code",
   "execution_count": 85,
   "metadata": {},
   "outputs": [
    {
     "data": {
      "image/png": "[encoded data removed]",
      "text/plain": [
       "<Figure size 1440x576 with 2 Axes>"
      ]
     },
     "metadata": {
      "needs_background": "light"
     },
     "output_type": "display_data"
    }
   ],
   "source": [
    "fig = plt.figure(figsize=(20,8))\n",
    "cs = plt.pcolor(x,z-6500.,mTemp,cmap='viridis', shading='auto')\n",
    "plt.tick_params(axis='both',labelsize=14)\n",
    "plt.xlabel('x [m]',fontsize=16)\n",
    "plt.ylabel('depth[m]',fontsize=16)\n",
    "cbar = plt.colorbar(cs,orientation='vertical')\n",
    "cbar.set_label('Temperature $^\\circ$C]',fontsize=16)\n",
    "cbar.ax.tick_params(labelsize=14)"
   ]
  },
  {
   "cell_type": "code",
   "execution_count": 87,
   "metadata": {},
   "outputs": [
    {
     "data": {
      "image/png": "[encoded data removed]",
      "text/plain": [
       "<Figure size 1440x576 with 2 Axes>"
      ]
     },
     "metadata": {
      "needs_background": "light"
     },
     "output_type": "display_data"
    }
   ],
   "source": [
    "#plot ssr of mean posterior and reference model\n",
    "fig = plt.figure(figsize=(20,8))\n",
    "cs = plt.pcolor(x,z-6500.,(refT-mTemp)**2,cmap='RdBu', shading='auto')\n",
    "plt.tick_params(axis='both',labelsize=14)\n",
    "plt.xlabel('x [m]',fontsize=16)\n",
    "plt.ylabel('depth[m]',fontsize=16)\n",
    "cbar = plt.colorbar(cs,orientation='vertical')\n",
    "cbar.set_label('Temperature $^\\circ$C]',fontsize=16)\n",
    "cbar.ax.tick_params(labelsize=14)"
   ]
  },
  {
   "cell_type": "code",
   "execution_count": null,
   "metadata": {},
   "outputs": [],
   "source": []
  }
 ],
 "metadata": {
  "hide_input": false,
  "kernelspec": {
   "display_name": "Python [conda env:env_datasci]",
   "language": "python",
   "name": "conda-env-env_datasci-py"
  },
  "language_info": {
   "codemirror_mode": {
    "name": "ipython",
    "version": 3
   },
   "file_extension": ".py",
   "mimetype": "text/x-python",
   "name": "python",
   "nbconvert_exporter": "python",
   "pygments_lexer": "ipython3",
   "version": "3.7.8"
  },
  "latex_envs": {
   "LaTeX_envs_menu_present": true,
   "autoclose": false,
   "autocomplete": true,
   "bibliofile": "biblio.bib",
   "cite_by": "apalike",
   "current_citInitial": 1,
   "eqLabelWithNumbers": true,
   "eqNumInitial": 1,
   "hotkeys": {
    "equation": "Ctrl-E",
    "itemize": "Ctrl-I"
   },
   "labels_anchors": false,
   "latex_user_defs": false,
   "report_style_numbering": false,
   "user_envs_cfg": false
  }
 },
 "nbformat": 4,
 "nbformat_minor": 4
}
