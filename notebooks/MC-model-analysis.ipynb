{
 "cells": [
  {
   "cell_type": "code",
   "execution_count": 1,
   "metadata": {},
   "outputs": [],
   "source": [
    "import h5py\n",
    "import numpy as np\n",
    "import pandas as pd\n",
    "import os,sys\n",
    "import glob\n",
    "from scipy import stats\n",
    "import random\n",
    "import matplotlib.pyplot as plt\n",
    "%matplotlib inline\n",
    "\n",
    "plt.style.use(['seaborn-talk'])\n",
    "\n",
    "sys.path.append('../models/20210319_MC_no_middle_filling/')"
   ]
  },
  {
   "cell_type": "markdown",
   "metadata": {},
   "source": [
    "# Rejection algorithm based on random walk\n",
    "We created a tiny ensemble of 100 different SHEMAT-Suite and will use a rejection algorithm based on the Metropolis acceptance probability to get a posterior ensemble of models.  \n",
    "The Metropolis acceptance probability is defined as:  \n",
    "\n",
    "$$ \\alpha(x_{t-1},z) = \\begin{cases} min\\big(\\frac{p(z)}{p(x_{t-1})},1\\big), & \\text{if } p(x_{t-1}) > 0\\\\\n",
    "1, & \\text{if } p(x_{t-1}) = 0 \\end{cases} $$  \n",
    "\n",
    "A different approach would be to assess the missfit (as RMS error) of each realisation.  \n",
    "\n",
    "$$ \\alpha(x_{t-1},z) = \\begin{cases} exp\\big(-\\frac{S(z) - S(x_{t-1}) }{u_T}\\big), & \\text{if } S(z) > S(x_{t-1})\\\\\n",
    "1, & \\text{otherwise }  \\end{cases} $$  \n",
    "\n",
    "We will use the second approach for now...also because we wrote it in the abstract.  \n",
    "As discretization error, we take a value from Elison(2015), $u_{T-discr} = 0.7$ K  \n",
    "\n",
    "Using Gauss error propagation, we assess a potential error for the realisations.  \n",
    "\n",
    "$$ u_T = \\sqrt{\\big(\\frac{\\partial T}{\\partial x_1}u_1 \\big)^2 + ... + \\big(\\frac{\\partial T}{\\partial x_n}u_n \\big)^2} $$"
   ]
  },
  {
   "cell_type": "markdown",
   "metadata": {},
   "source": [
    "Literature sources for log-errors:\n",
    "_The lower part of the disturbed log profile (below the cross-over point) was rotated to match these corrected tempera-tures. In the upper part of the profile, the same correction as for method A was applied. The quality of this correction method strongly depends on the correct calculation of the lowermost profile temperatures. According to Förster (2001), most of the corrected tem-peratures have errors of ± 3 to 5 K._ https://doi.org/10.1186/s40517-020-00181-w  \n",
    "\n",
    "\n",
    " _The effective accuracy of commercial temperature logs is ±0.5ºC (Blackwell and Spafford, 1987)._  http://www.sprensky.com/publishd/temper2.html  \n",
    " \n",
    " _More normal accuracies are +- 0.25 °C over 0-200 °C_ Keith Geothermal Energy lecture  \n",
    " \n",
    " For errors as a function of e.g. logging speed, measurement response time etc, look https://doi.org/10.1016/j.petrol.2020.107727"
   ]
  },
  {
   "cell_type": "markdown",
   "metadata": {},
   "source": [
    "# Gravity rejection"
   ]
  },
  {
   "cell_type": "code",
   "execution_count": 2,
   "metadata": {},
   "outputs": [],
   "source": [
    "delx = 28000 / 100\n",
    "dely = 14000 / 50"
   ]
  },
  {
   "cell_type": "code",
   "execution_count": 3,
   "metadata": {},
   "outputs": [],
   "source": [
    "# import DTM\n",
    "dtm = np.load('../models/20210319_MC_no_middle_filling/Graben_base_model/Graben_base_model_topography.npy')"
   ]
  },
  {
   "cell_type": "code",
   "execution_count": 4,
   "metadata": {},
   "outputs": [],
   "source": [
    "# import data\n",
    "g_data = pd.read_csv('../models/20210322_forw_grav_seed58.csv')\n",
    "bhole = np.array([[31, 14],\n",
    "                 [78, 22],\n",
    "                 [53, 34],\n",
    "                 [49, 44]])"
   ]
  },
  {
   "cell_type": "code",
   "execution_count": 6,
   "metadata": {},
   "outputs": [
    {
     "data": {
      "text/html": [
       "<div>\n",
       "<style scoped>\n",
       "    .dataframe tbody tr th:only-of-type {\n",
       "        vertical-align: middle;\n",
       "    }\n",
       "\n",
       "    .dataframe tbody tr th {\n",
       "        vertical-align: top;\n",
       "    }\n",
       "\n",
       "    .dataframe thead th {\n",
       "        text-align: right;\n",
       "    }\n",
       "</style>\n",
       "<table border=\"1\" class=\"dataframe\">\n",
       "  <thead>\n",
       "    <tr style=\"text-align: right;\">\n",
       "      <th></th>\n",
       "      <th>21777.78</th>\n",
       "      <th>7142.86</th>\n",
       "      <th>405.17</th>\n",
       "      <th>-533.39621</th>\n",
       "    </tr>\n",
       "  </thead>\n",
       "  <tbody>\n",
       "    <tr>\n",
       "      <th>0</th>\n",
       "      <td>22343.43</td>\n",
       "      <td>9142.86</td>\n",
       "      <td>455.98</td>\n",
       "      <td>-532.78489</td>\n",
       "    </tr>\n",
       "    <tr>\n",
       "      <th>1</th>\n",
       "      <td>16686.87</td>\n",
       "      <td>4285.71</td>\n",
       "      <td>389.34</td>\n",
       "      <td>-527.09193</td>\n",
       "    </tr>\n",
       "    <tr>\n",
       "      <th>2</th>\n",
       "      <td>21494.95</td>\n",
       "      <td>8000.00</td>\n",
       "      <td>424.80</td>\n",
       "      <td>-532.70171</td>\n",
       "    </tr>\n",
       "    <tr>\n",
       "      <th>3</th>\n",
       "      <td>21494.95</td>\n",
       "      <td>11428.57</td>\n",
       "      <td>469.85</td>\n",
       "      <td>-532.79943</td>\n",
       "    </tr>\n",
       "    <tr>\n",
       "      <th>4</th>\n",
       "      <td>3393.94</td>\n",
       "      <td>8000.00</td>\n",
       "      <td>866.40</td>\n",
       "      <td>-538.37679</td>\n",
       "    </tr>\n",
       "    <tr>\n",
       "      <th>5</th>\n",
       "      <td>11313.13</td>\n",
       "      <td>1142.86</td>\n",
       "      <td>733.35</td>\n",
       "      <td>-523.95504</td>\n",
       "    </tr>\n",
       "    <tr>\n",
       "      <th>6</th>\n",
       "      <td>18666.67</td>\n",
       "      <td>6857.14</td>\n",
       "      <td>358.80</td>\n",
       "      <td>-530.12466</td>\n",
       "    </tr>\n",
       "    <tr>\n",
       "      <th>7</th>\n",
       "      <td>16969.70</td>\n",
       "      <td>2857.14</td>\n",
       "      <td>491.41</td>\n",
       "      <td>-527.28753</td>\n",
       "    </tr>\n",
       "    <tr>\n",
       "      <th>8</th>\n",
       "      <td>13010.10</td>\n",
       "      <td>2000.00</td>\n",
       "      <td>743.86</td>\n",
       "      <td>-522.51532</td>\n",
       "    </tr>\n",
       "    <tr>\n",
       "      <th>9</th>\n",
       "      <td>20080.81</td>\n",
       "      <td>1428.57</td>\n",
       "      <td>493.59</td>\n",
       "      <td>-532.21198</td>\n",
       "    </tr>\n",
       "    <tr>\n",
       "      <th>10</th>\n",
       "      <td>7070.71</td>\n",
       "      <td>12000.00</td>\n",
       "      <td>885.90</td>\n",
       "      <td>-534.96612</td>\n",
       "    </tr>\n",
       "    <tr>\n",
       "      <th>11</th>\n",
       "      <td>8767.68</td>\n",
       "      <td>10857.14</td>\n",
       "      <td>790.40</td>\n",
       "      <td>-530.05444</td>\n",
       "    </tr>\n",
       "    <tr>\n",
       "      <th>12</th>\n",
       "      <td>6222.22</td>\n",
       "      <td>10571.43</td>\n",
       "      <td>960.84</td>\n",
       "      <td>-535.05613</td>\n",
       "    </tr>\n",
       "    <tr>\n",
       "      <th>13</th>\n",
       "      <td>24888.89</td>\n",
       "      <td>285.71</td>\n",
       "      <td>593.24</td>\n",
       "      <td>-530.94359</td>\n",
       "    </tr>\n",
       "  </tbody>\n",
       "</table>\n",
       "</div>"
      ],
      "text/plain": [
       "    21777.78   7142.86   405.17   -533.39621\n",
       "0   22343.43   9142.86   455.98   -532.78489\n",
       "1   16686.87   4285.71   389.34   -527.09193\n",
       "2   21494.95   8000.00   424.80   -532.70171\n",
       "3   21494.95  11428.57   469.85   -532.79943\n",
       "4    3393.94   8000.00   866.40   -538.37679\n",
       "5   11313.13   1142.86   733.35   -523.95504\n",
       "6   18666.67   6857.14   358.80   -530.12466\n",
       "7   16969.70   2857.14   491.41   -527.28753\n",
       "8   13010.10   2000.00   743.86   -522.51532\n",
       "9   20080.81   1428.57   493.59   -532.21198\n",
       "10   7070.71  12000.00   885.90   -534.96612\n",
       "11   8767.68  10857.14   790.40   -530.05444\n",
       "12   6222.22  10571.43   960.84   -535.05613\n",
       "13  24888.89    285.71   593.24   -530.94359"
      ]
     },
     "execution_count": 6,
     "metadata": {},
     "output_type": "execute_result"
    }
   ],
   "source": [
    "g_data"
   ]
  },
  {
   "cell_type": "code",
   "execution_count": 5,
   "metadata": {},
   "outputs": [
    {
     "ename": "KeyError",
     "evalue": "'X'",
     "output_type": "error",
     "traceback": [
      "\u001b[1;31m---------------------------------------------------------------------------\u001b[0m",
      "\u001b[1;31mKeyError\u001b[0m                                  Traceback (most recent call last)",
      "\u001b[1;32m~\\miniconda3\\envs\\env_datasci\\lib\\site-packages\\pandas\\core\\indexes\\base.py\u001b[0m in \u001b[0;36mget_loc\u001b[1;34m(self, key, method, tolerance)\u001b[0m\n\u001b[0;32m   3079\u001b[0m             \u001b[1;32mtry\u001b[0m\u001b[1;33m:\u001b[0m\u001b[1;33m\u001b[0m\u001b[1;33m\u001b[0m\u001b[0m\n\u001b[1;32m-> 3080\u001b[1;33m                 \u001b[1;32mreturn\u001b[0m \u001b[0mself\u001b[0m\u001b[1;33m.\u001b[0m\u001b[0m_engine\u001b[0m\u001b[1;33m.\u001b[0m\u001b[0mget_loc\u001b[0m\u001b[1;33m(\u001b[0m\u001b[0mcasted_key\u001b[0m\u001b[1;33m)\u001b[0m\u001b[1;33m\u001b[0m\u001b[1;33m\u001b[0m\u001b[0m\n\u001b[0m\u001b[0;32m   3081\u001b[0m             \u001b[1;32mexcept\u001b[0m \u001b[0mKeyError\u001b[0m \u001b[1;32mas\u001b[0m \u001b[0merr\u001b[0m\u001b[1;33m:\u001b[0m\u001b[1;33m\u001b[0m\u001b[1;33m\u001b[0m\u001b[0m\n",
      "\u001b[1;32mpandas\\_libs\\index.pyx\u001b[0m in \u001b[0;36mpandas._libs.index.IndexEngine.get_loc\u001b[1;34m()\u001b[0m\n",
      "\u001b[1;32mpandas\\_libs\\index.pyx\u001b[0m in \u001b[0;36mpandas._libs.index.IndexEngine.get_loc\u001b[1;34m()\u001b[0m\n",
      "\u001b[1;32mpandas\\_libs\\hashtable_class_helper.pxi\u001b[0m in \u001b[0;36mpandas._libs.hashtable.PyObjectHashTable.get_item\u001b[1;34m()\u001b[0m\n",
      "\u001b[1;32mpandas\\_libs\\hashtable_class_helper.pxi\u001b[0m in \u001b[0;36mpandas._libs.hashtable.PyObjectHashTable.get_item\u001b[1;34m()\u001b[0m\n",
      "\u001b[1;31mKeyError\u001b[0m: 'X'",
      "\nThe above exception was the direct cause of the following exception:\n",
      "\u001b[1;31mKeyError\u001b[0m                                  Traceback (most recent call last)",
      "\u001b[1;32m<ipython-input-5-c09512df347b>\u001b[0m in \u001b[0;36m<module>\u001b[1;34m\u001b[0m\n\u001b[0;32m      2\u001b[0m \u001b[0mcs\u001b[0m \u001b[1;33m=\u001b[0m \u001b[0mplt\u001b[0m\u001b[1;33m.\u001b[0m\u001b[0mcontourf\u001b[0m\u001b[1;33m(\u001b[0m\u001b[0mdtm\u001b[0m\u001b[1;33m[\u001b[0m\u001b[1;33m:\u001b[0m\u001b[1;33m,\u001b[0m\u001b[1;33m:\u001b[0m\u001b[1;33m,\u001b[0m\u001b[1;36m0\u001b[0m\u001b[1;33m]\u001b[0m\u001b[1;33m,\u001b[0m \u001b[0mdtm\u001b[0m\u001b[1;33m[\u001b[0m\u001b[1;33m:\u001b[0m\u001b[1;33m,\u001b[0m\u001b[1;33m:\u001b[0m\u001b[1;33m,\u001b[0m\u001b[1;36m1\u001b[0m\u001b[1;33m]\u001b[0m\u001b[1;33m,\u001b[0m \u001b[0mdtm\u001b[0m\u001b[1;33m[\u001b[0m\u001b[1;33m:\u001b[0m\u001b[1;33m,\u001b[0m\u001b[1;33m:\u001b[0m\u001b[1;33m,\u001b[0m\u001b[1;36m2\u001b[0m\u001b[1;33m]\u001b[0m\u001b[1;33m,\u001b[0m\u001b[1;36m20\u001b[0m\u001b[1;33m,\u001b[0m \u001b[0mcmap\u001b[0m\u001b[1;33m=\u001b[0m\u001b[1;34m'gist_earth'\u001b[0m\u001b[1;33m)\u001b[0m\u001b[1;33m\u001b[0m\u001b[1;33m\u001b[0m\u001b[0m\n\u001b[0;32m      3\u001b[0m \u001b[0mplt\u001b[0m\u001b[1;33m.\u001b[0m\u001b[0mcontour\u001b[0m\u001b[1;33m(\u001b[0m\u001b[0mdtm\u001b[0m\u001b[1;33m[\u001b[0m\u001b[1;33m:\u001b[0m\u001b[1;33m,\u001b[0m\u001b[1;33m:\u001b[0m\u001b[1;33m,\u001b[0m\u001b[1;36m0\u001b[0m\u001b[1;33m]\u001b[0m\u001b[1;33m,\u001b[0m \u001b[0mdtm\u001b[0m\u001b[1;33m[\u001b[0m\u001b[1;33m:\u001b[0m\u001b[1;33m,\u001b[0m\u001b[1;33m:\u001b[0m\u001b[1;33m,\u001b[0m\u001b[1;36m1\u001b[0m\u001b[1;33m]\u001b[0m\u001b[1;33m,\u001b[0m \u001b[0mdtm\u001b[0m\u001b[1;33m[\u001b[0m\u001b[1;33m:\u001b[0m\u001b[1;33m,\u001b[0m\u001b[1;33m:\u001b[0m\u001b[1;33m,\u001b[0m\u001b[1;36m2\u001b[0m\u001b[1;33m]\u001b[0m\u001b[1;33m,\u001b[0m\u001b[1;36m10\u001b[0m\u001b[1;33m,\u001b[0m \u001b[0mcolors\u001b[0m\u001b[1;33m=\u001b[0m\u001b[1;34m'gray'\u001b[0m\u001b[1;33m,\u001b[0m \u001b[0mzorder\u001b[0m\u001b[1;33m=\u001b[0m\u001b[1;36m1\u001b[0m\u001b[1;33m)\u001b[0m\u001b[1;33m\u001b[0m\u001b[1;33m\u001b[0m\u001b[0m\n\u001b[1;32m----> 4\u001b[1;33m plt.scatter(g_data['X'], g_data['Y'], marker='s', s=150, c='brown', edgecolor='k', \n\u001b[0m\u001b[0;32m      5\u001b[0m             label='gravity stations', zorder=2)\n\u001b[0;32m      6\u001b[0m plt.scatter(bhole[:,0]*delx, bhole[:,1]*dely, marker='^', s=200, c='k', label='boreholes',\n",
      "\u001b[1;32m~\\miniconda3\\envs\\env_datasci\\lib\\site-packages\\pandas\\core\\frame.py\u001b[0m in \u001b[0;36m__getitem__\u001b[1;34m(self, key)\u001b[0m\n\u001b[0;32m   3022\u001b[0m             \u001b[1;32mif\u001b[0m \u001b[0mself\u001b[0m\u001b[1;33m.\u001b[0m\u001b[0mcolumns\u001b[0m\u001b[1;33m.\u001b[0m\u001b[0mnlevels\u001b[0m \u001b[1;33m>\u001b[0m \u001b[1;36m1\u001b[0m\u001b[1;33m:\u001b[0m\u001b[1;33m\u001b[0m\u001b[1;33m\u001b[0m\u001b[0m\n\u001b[0;32m   3023\u001b[0m                 \u001b[1;32mreturn\u001b[0m \u001b[0mself\u001b[0m\u001b[1;33m.\u001b[0m\u001b[0m_getitem_multilevel\u001b[0m\u001b[1;33m(\u001b[0m\u001b[0mkey\u001b[0m\u001b[1;33m)\u001b[0m\u001b[1;33m\u001b[0m\u001b[1;33m\u001b[0m\u001b[0m\n\u001b[1;32m-> 3024\u001b[1;33m             \u001b[0mindexer\u001b[0m \u001b[1;33m=\u001b[0m \u001b[0mself\u001b[0m\u001b[1;33m.\u001b[0m\u001b[0mcolumns\u001b[0m\u001b[1;33m.\u001b[0m\u001b[0mget_loc\u001b[0m\u001b[1;33m(\u001b[0m\u001b[0mkey\u001b[0m\u001b[1;33m)\u001b[0m\u001b[1;33m\u001b[0m\u001b[1;33m\u001b[0m\u001b[0m\n\u001b[0m\u001b[0;32m   3025\u001b[0m             \u001b[1;32mif\u001b[0m \u001b[0mis_integer\u001b[0m\u001b[1;33m(\u001b[0m\u001b[0mindexer\u001b[0m\u001b[1;33m)\u001b[0m\u001b[1;33m:\u001b[0m\u001b[1;33m\u001b[0m\u001b[1;33m\u001b[0m\u001b[0m\n\u001b[0;32m   3026\u001b[0m                 \u001b[0mindexer\u001b[0m \u001b[1;33m=\u001b[0m \u001b[1;33m[\u001b[0m\u001b[0mindexer\u001b[0m\u001b[1;33m]\u001b[0m\u001b[1;33m\u001b[0m\u001b[1;33m\u001b[0m\u001b[0m\n",
      "\u001b[1;32m~\\miniconda3\\envs\\env_datasci\\lib\\site-packages\\pandas\\core\\indexes\\base.py\u001b[0m in \u001b[0;36mget_loc\u001b[1;34m(self, key, method, tolerance)\u001b[0m\n\u001b[0;32m   3080\u001b[0m                 \u001b[1;32mreturn\u001b[0m \u001b[0mself\u001b[0m\u001b[1;33m.\u001b[0m\u001b[0m_engine\u001b[0m\u001b[1;33m.\u001b[0m\u001b[0mget_loc\u001b[0m\u001b[1;33m(\u001b[0m\u001b[0mcasted_key\u001b[0m\u001b[1;33m)\u001b[0m\u001b[1;33m\u001b[0m\u001b[1;33m\u001b[0m\u001b[0m\n\u001b[0;32m   3081\u001b[0m             \u001b[1;32mexcept\u001b[0m \u001b[0mKeyError\u001b[0m \u001b[1;32mas\u001b[0m \u001b[0merr\u001b[0m\u001b[1;33m:\u001b[0m\u001b[1;33m\u001b[0m\u001b[1;33m\u001b[0m\u001b[0m\n\u001b[1;32m-> 3082\u001b[1;33m                 \u001b[1;32mraise\u001b[0m \u001b[0mKeyError\u001b[0m\u001b[1;33m(\u001b[0m\u001b[0mkey\u001b[0m\u001b[1;33m)\u001b[0m \u001b[1;32mfrom\u001b[0m \u001b[0merr\u001b[0m\u001b[1;33m\u001b[0m\u001b[1;33m\u001b[0m\u001b[0m\n\u001b[0m\u001b[0;32m   3083\u001b[0m \u001b[1;33m\u001b[0m\u001b[0m\n\u001b[0;32m   3084\u001b[0m         \u001b[1;32mif\u001b[0m \u001b[0mtolerance\u001b[0m \u001b[1;32mis\u001b[0m \u001b[1;32mnot\u001b[0m \u001b[1;32mNone\u001b[0m\u001b[1;33m:\u001b[0m\u001b[1;33m\u001b[0m\u001b[1;33m\u001b[0m\u001b[0m\n",
      "\u001b[1;31mKeyError\u001b[0m: 'X'"
     ]
    },
    {
     "data": {
      "image/png": "[encoded data removed]",
      "text/plain": [
       "<Figure size 1080x504 with 1 Axes>"
      ]
     },
     "metadata": {
      "needs_background": "light"
     },
     "output_type": "display_data"
    }
   ],
   "source": [
    "fig = plt.figure(figsize=[15,7])\n",
    "cs = plt.contourf(dtm[:,:,0], dtm[:,:,1], dtm[:,:,2],20, cmap='gist_earth')\n",
    "plt.contour(dtm[:,:,0], dtm[:,:,1], dtm[:,:,2],10, colors='gray', zorder=1)\n",
    "plt.scatter(g_data['X'], g_data['Y'], marker='s', s=150, c='brown', edgecolor='k', \n",
    "            label='gravity stations', zorder=2)\n",
    "plt.scatter(bhole[:,0]*delx, bhole[:,1]*dely, marker='^', s=200, c='k', label='boreholes',\n",
    "           zorder=3)\n",
    "plt.colorbar(cs, label='elevation [m]')\n",
    "plt.legend()\n",
    "plt.xlabel('X [m]')\n",
    "plt.ylabel('Y [m]')\n",
    "fig.savefig('../imgs/Model_topography_and_grav_stations.png', dpi=300, bbox_inches='tight')"
   ]
  },
  {
   "cell_type": "code",
   "execution_count": 85,
   "metadata": {},
   "outputs": [],
   "source": [
    "g_coordinates = pd.read_csv('../models/20210319_MC_no_middle_filling/grav_stations_coordinates.csv', sep=';')\n",
    "g_simu = pd.read_csv('../models/20210319_MC_no_middle_filling/MC_grav_simulations_run01and02_1000_reals_rseed0_250+50mstd.csv',\n",
    "                    sep=';')"
   ]
  },
  {
   "cell_type": "code",
   "execution_count": 5,
   "metadata": {},
   "outputs": [
    {
     "name": "stdout",
     "output_type": "stream",
     "text": [
      "0.32409402260706643\n"
     ]
    }
   ],
   "source": [
    "np.random.seed(27)\n",
    "noise = np.random.normal(0, 1., size=15)\n",
    "g_data_noise = g_data.copy()\n",
    "g_data_noise['grav'] = g_data_noise['grav'] + noise\n",
    "print(np.mean(noise))"
   ]
  },
  {
   "cell_type": "code",
   "execution_count": 6,
   "metadata": {},
   "outputs": [
    {
     "data": {
      "text/html": [
       "<div>\n",
       "<style scoped>\n",
       "    .dataframe tbody tr th:only-of-type {\n",
       "        vertical-align: middle;\n",
       "    }\n",
       "\n",
       "    .dataframe tbody tr th {\n",
       "        vertical-align: top;\n",
       "    }\n",
       "\n",
       "    .dataframe thead th {\n",
       "        text-align: right;\n",
       "    }\n",
       "</style>\n",
       "<table border=\"1\" class=\"dataframe\">\n",
       "  <thead>\n",
       "    <tr style=\"text-align: right;\">\n",
       "      <th></th>\n",
       "      <th>X</th>\n",
       "      <th>Y</th>\n",
       "      <th>Z</th>\n",
       "      <th>grav</th>\n",
       "    </tr>\n",
       "  </thead>\n",
       "  <tbody>\n",
       "    <tr>\n",
       "      <th>0</th>\n",
       "      <td>26868.69</td>\n",
       "      <td>2000.00</td>\n",
       "      <td>726.13</td>\n",
       "      <td>-526.639145</td>\n",
       "    </tr>\n",
       "    <tr>\n",
       "      <th>1</th>\n",
       "      <td>9050.51</td>\n",
       "      <td>4285.71</td>\n",
       "      <td>692.74</td>\n",
       "      <td>-529.385583</td>\n",
       "    </tr>\n",
       "    <tr>\n",
       "      <th>2</th>\n",
       "      <td>9333.33</td>\n",
       "      <td>10000.00</td>\n",
       "      <td>784.86</td>\n",
       "      <td>-527.177544</td>\n",
       "    </tr>\n",
       "    <tr>\n",
       "      <th>3</th>\n",
       "      <td>9050.51</td>\n",
       "      <td>13428.57</td>\n",
       "      <td>781.50</td>\n",
       "      <td>-528.864071</td>\n",
       "    </tr>\n",
       "    <tr>\n",
       "      <th>4</th>\n",
       "      <td>1696.97</td>\n",
       "      <td>10571.43</td>\n",
       "      <td>864.15</td>\n",
       "      <td>-539.017914</td>\n",
       "    </tr>\n",
       "    <tr>\n",
       "      <th>5</th>\n",
       "      <td>8767.68</td>\n",
       "      <td>7428.57</td>\n",
       "      <td>860.96</td>\n",
       "      <td>-529.687099</td>\n",
       "    </tr>\n",
       "    <tr>\n",
       "      <th>6</th>\n",
       "      <td>20646.46</td>\n",
       "      <td>8857.14</td>\n",
       "      <td>393.74</td>\n",
       "      <td>-532.011796</td>\n",
       "    </tr>\n",
       "    <tr>\n",
       "      <th>7</th>\n",
       "      <td>18666.67</td>\n",
       "      <td>6000.00</td>\n",
       "      <td>357.77</td>\n",
       "      <td>-530.128058</td>\n",
       "    </tr>\n",
       "    <tr>\n",
       "      <th>8</th>\n",
       "      <td>16121.21</td>\n",
       "      <td>12857.14</td>\n",
       "      <td>575.53</td>\n",
       "      <td>-524.902103</td>\n",
       "    </tr>\n",
       "    <tr>\n",
       "      <th>9</th>\n",
       "      <td>13292.93</td>\n",
       "      <td>2285.71</td>\n",
       "      <td>745.00</td>\n",
       "      <td>-520.901676</td>\n",
       "    </tr>\n",
       "    <tr>\n",
       "      <th>10</th>\n",
       "      <td>11878.79</td>\n",
       "      <td>9142.86</td>\n",
       "      <td>546.32</td>\n",
       "      <td>-522.213211</td>\n",
       "    </tr>\n",
       "    <tr>\n",
       "      <th>11</th>\n",
       "      <td>20646.46</td>\n",
       "      <td>10285.71</td>\n",
       "      <td>408.42</td>\n",
       "      <td>-531.444627</td>\n",
       "    </tr>\n",
       "    <tr>\n",
       "      <th>12</th>\n",
       "      <td>19232.32</td>\n",
       "      <td>9142.86</td>\n",
       "      <td>402.86</td>\n",
       "      <td>-531.278619</td>\n",
       "    </tr>\n",
       "    <tr>\n",
       "      <th>13</th>\n",
       "      <td>13010.10</td>\n",
       "      <td>7142.86</td>\n",
       "      <td>567.88</td>\n",
       "      <td>-522.654624</td>\n",
       "    </tr>\n",
       "    <tr>\n",
       "      <th>14</th>\n",
       "      <td>26868.69</td>\n",
       "      <td>285.71</td>\n",
       "      <td>717.35</td>\n",
       "      <td>-526.816877</td>\n",
       "    </tr>\n",
       "  </tbody>\n",
       "</table>\n",
       "</div>"
      ],
      "text/plain": [
       "           X         Y       Z        grav\n",
       "0   26868.69   2000.00  726.13 -526.639145\n",
       "1    9050.51   4285.71  692.74 -529.385583\n",
       "2    9333.33  10000.00  784.86 -527.177544\n",
       "3    9050.51  13428.57  781.50 -528.864071\n",
       "4    1696.97  10571.43  864.15 -539.017914\n",
       "5    8767.68   7428.57  860.96 -529.687099\n",
       "6   20646.46   8857.14  393.74 -532.011796\n",
       "7   18666.67   6000.00  357.77 -530.128058\n",
       "8   16121.21  12857.14  575.53 -524.902103\n",
       "9   13292.93   2285.71  745.00 -520.901676\n",
       "10  11878.79   9142.86  546.32 -522.213211\n",
       "11  20646.46  10285.71  408.42 -531.444627\n",
       "12  19232.32   9142.86  402.86 -531.278619\n",
       "13  13010.10   7142.86  567.88 -522.654624\n",
       "14  26868.69    285.71  717.35 -526.816877"
      ]
     },
     "execution_count": 6,
     "metadata": {},
     "output_type": "execute_result"
    }
   ],
   "source": [
    "g_data_noise"
   ]
  },
  {
   "cell_type": "code",
   "execution_count": 7,
   "metadata": {},
   "outputs": [],
   "source": [
    "#g_simu_st = g_simu.drop([\"X\", \"Y\", \"Z\"], axis=1)\n",
    "g_simu_stdev = g_simu.std(axis=1)\n",
    "g_simu_mean = g_simu.mean(axis=1)"
   ]
  },
  {
   "cell_type": "code",
   "execution_count": 8,
   "metadata": {},
   "outputs": [
    {
     "data": {
      "text/plain": [
       "<matplotlib.colorbar.Colorbar at 0x1fdeb60d248>"
      ]
     },
     "execution_count": 8,
     "metadata": {},
     "output_type": "execute_result"
    },
    {
     "data": {
      "image/png": "[encoded data removed]",
      "text/plain": [
       "<Figure size 432x288 with 2 Axes>"
      ]
     },
     "metadata": {
      "needs_background": "light"
     },
     "output_type": "display_data"
    }
   ],
   "source": [
    "cs = plt.scatter(g_data['X'], g_data['Y'], c=g_simu_stdev)\n",
    "plt.xlabel('x (m)')\n",
    "plt.ylabel('y (m)')\n",
    "plt.colorbar(cs, label='stdv')"
   ]
  },
  {
   "cell_type": "code",
   "execution_count": 9,
   "metadata": {},
   "outputs": [],
   "source": [
    "# uncertainty\n",
    "u_g = np.mean(noise)\n",
    "\n",
    "# calculate diffs\n",
    "n = g_simu.shape[0]\n",
    "g_sim_diffssq = g_simu.sub(g_data_noise['grav'], axis=0)**2\n",
    "\n",
    "rmse = np.sqrt((g_sim_diffssq.sum(axis=0)/n))"
   ]
  },
  {
   "cell_type": "code",
   "execution_count": 10,
   "metadata": {},
   "outputs": [
    {
     "name": "stdout",
     "output_type": "stream",
     "text": [
      "716 realizations were accepted.\n",
      "Accepted realizations: [1, 6, 7, 8, 10, 11, 12, 16, 17, 18, 19, 21, 22, 23, 24, 25, 26, 27, 28, 29, 31, 32, 34, 35, 36, 37, 38, 40, 41, 42, 43, 44, 45, 47, 48, 49, 51, 52, 53, 54, 55, 56, 57, 58, 60, 61, 62, 64, 65, 66, 68, 70, 71, 72, 74, 76, 77, 80, 82, 83, 85, 87, 92, 94, 95, 98, 100, 101, 102, 103, 104, 105, 106, 107, 108, 111, 113, 114, 115, 116, 117, 119, 121, 122, 123, 124, 126, 127, 128, 129, 130, 132, 133, 134, 135, 136, 139, 140, 143, 144, 145, 147, 148, 149, 152, 153, 154, 155, 156, 157, 159, 160, 162, 163, 164, 165, 166, 167, 168, 169, 170, 171, 174, 175, 176, 177, 178, 179, 180, 181, 182, 187, 188, 189, 190, 192, 193, 194, 196, 198, 199, 200, 204, 205, 206, 207, 210, 211, 212, 213, 214, 216, 217, 218, 221, 222, 223, 226, 227, 228, 229, 230, 231, 232, 233, 234, 235, 237, 238, 239, 240, 241, 242, 243, 244, 246, 248, 249, 250, 251, 252, 253, 254, 255, 256, 257, 258, 259, 260, 264, 265, 266, 269, 270, 272, 273, 275, 276, 277, 278, 280, 281, 282, 283, 284, 285, 288, 289, 290, 291, 293, 294, 295, 296, 297, 298, 299, 300, 301, 302, 306, 307, 309, 310, 311, 312, 313, 314, 315, 316, 317, 318, 320, 321, 322, 323, 324, 326, 327, 328, 329, 330, 331, 332, 333, 334, 335, 336, 337, 338, 339, 340, 341, 342, 343, 344, 345, 346, 347, 349, 350, 351, 353, 355, 356, 359, 361, 362, 363, 364, 365, 367, 369, 370, 371, 374, 375, 376, 377, 379, 380, 381, 384, 385, 387, 389, 390, 392, 394, 395, 396, 399, 400, 401, 402, 403, 404, 405, 406, 407, 408, 409, 410, 411, 413, 414, 415, 417, 418, 421, 422, 423, 424, 425, 426, 428, 429, 430, 432, 433, 434, 435, 437, 439, 440, 441, 442, 445, 447, 449, 450, 453, 455, 458, 460, 462, 463, 464, 465, 466, 467, 468, 469, 470, 471, 472, 473, 474, 476, 477, 478, 479, 482, 483, 485, 486, 487, 491, 497, 500, 501, 502, 503, 504, 506, 507, 508, 509, 510, 511, 512, 513, 515, 516, 519, 520, 521, 522, 523, 526, 528, 531, 532, 533, 534, 536, 540, 541, 543, 544, 545, 547, 548, 549, 550, 552, 553, 554, 555, 556, 557, 558, 561, 562, 565, 566, 567, 569, 570, 571, 573, 574, 575, 576, 578, 580, 581, 582, 583, 585, 586, 587, 588, 589, 590, 591, 592, 593, 594, 596, 597, 598, 599, 600, 601, 603, 604, 605, 606, 607, 608, 610, 611, 613, 616, 618, 619, 620, 621, 622, 623, 626, 627, 629, 630, 631, 632, 634, 635, 636, 637, 638, 640, 641, 642, 643, 644, 645, 646, 647, 648, 650, 651, 654, 656, 658, 659, 660, 661, 662, 663, 665, 666, 667, 668, 669, 670, 675, 676, 677, 679, 680, 681, 682, 683, 684, 685, 687, 688, 689, 690, 691, 692, 693, 698, 699, 700, 701, 704, 705, 706, 707, 708, 710, 711, 712, 713, 714, 716, 718, 719, 721, 722, 723, 727, 728, 729, 731, 732, 733, 734, 735, 736, 739, 741, 742, 743, 745, 746, 747, 748, 753, 754, 755, 756, 758, 761, 762, 763, 764, 765, 766, 769, 770, 771, 774, 775, 776, 779, 780, 781, 783, 784, 785, 786, 789, 790, 791, 792, 793, 794, 795, 796, 797, 798, 802, 803, 807, 809, 810, 811, 812, 813, 814, 816, 817, 818, 819, 820, 821, 822, 824, 826, 827, 828, 832, 833, 834, 836, 837, 838, 839, 840, 841, 842, 843, 844, 846, 849, 852, 853, 854, 855, 856, 859, 860, 861, 862, 864, 867, 868, 869, 870, 873, 875, 876, 877, 878, 879, 880, 881, 883, 884, 885, 886, 887, 890, 891, 892, 893, 895, 896, 897, 898, 899, 900, 901, 902, 903, 904, 905, 906, 907, 909, 910, 912, 913, 914, 915, 916, 917, 918, 919, 920, 922, 923, 924, 925, 926, 929, 930, 931, 933, 934, 935, 937, 938, 939, 940, 943, 944, 946, 948, 950, 951, 952, 954, 955, 957, 958, 959, 960, 961, 962, 966, 968, 969, 971, 972, 973, 974, 975, 976, 977, 979, 982, 986, 989, 990, 991, 992, 993, 994, 995, 996, 998]\n"
     ]
    }
   ],
   "source": [
    "Ref = rmse[0]\n",
    "accept = []\n",
    "P = []\n",
    "k = 0\n",
    "for i in range(1,len(rmse)):\n",
    "    if rmse[i] < Ref:\n",
    "        Ref = rmse[i]\n",
    "        accept.append(i)\n",
    "        \n",
    "    elif random.random() < np.exp(-(rmse[i] - Ref)/(u_g)):\n",
    "        P.append(np.exp(-(rmse[i] - Ref)/(u_g)))\n",
    "        Ref = rmse[i]\n",
    "        accept.append(i)\n",
    "        k +=1\n",
    "print(f\"{len(accept)} realizations were accepted.\")\n",
    "print(f\"Accepted realizations: {accept}\")"
   ]
  },
  {
   "cell_type": "code",
   "execution_count": 11,
   "metadata": {},
   "outputs": [
    {
     "data": {
      "text/plain": [
       "0     1.137437e-13\n",
       "1     5.770345e-01\n",
       "2     6.586363e-01\n",
       "3     6.387890e-01\n",
       "4     2.261284e-01\n",
       "5     5.508696e-01\n",
       "6     3.086279e-01\n",
       "7     7.680910e-01\n",
       "8     1.128918e+00\n",
       "9     1.012097e+00\n",
       "10    1.012580e+00\n",
       "11    3.090857e-01\n",
       "12    6.964663e-01\n",
       "13    8.775207e-01\n",
       "14    1.137437e-13\n",
       "dtype: float64"
      ]
     },
     "execution_count": 11,
     "metadata": {},
     "output_type": "execute_result"
    }
   ],
   "source": [
    "g_simu_stdev"
   ]
  },
  {
   "cell_type": "markdown",
   "metadata": {},
   "source": [
    "we see that station 0 and 14 are not sensitive to changing the PCT depth, so they are not worth anything"
   ]
  },
  {
   "cell_type": "code",
   "execution_count": 12,
   "metadata": {},
   "outputs": [],
   "source": [
    "simu_drop = g_simu.drop(labels=[0,14], axis=0)\n",
    "simu_drop_std = simu_drop.std(axis=1)\n",
    "station_drop = g_coordinates.drop(labels=[0,14], axis=0)\n",
    "g_data_drop = g_data.drop(labels=[0,14], axis=0)\n",
    "g_data_noise_drop = g_data_noise.drop(labels=[0,14], axis=0)"
   ]
  },
  {
   "cell_type": "code",
   "execution_count": 13,
   "metadata": {},
   "outputs": [
    {
     "data": {
      "text/plain": [
       "<matplotlib.colorbar.Colorbar at 0x1fdeba22b88>"
      ]
     },
     "execution_count": 13,
     "metadata": {},
     "output_type": "execute_result"
    },
    {
     "data": {
      "image/png": "[encoded data removed]",
      "text/plain": [
       "<Figure size 432x288 with 2 Axes>"
      ]
     },
     "metadata": {
      "needs_background": "light"
     },
     "output_type": "display_data"
    }
   ],
   "source": [
    "cs = plt.scatter(station_drop['X'], station_drop['Y'], c=simu_drop_std)\n",
    "plt.xlabel('x (m)')\n",
    "plt.ylabel('y (m)')\n",
    "plt.colorbar(cs, label='stdv')"
   ]
  },
  {
   "cell_type": "code",
   "execution_count": 14,
   "metadata": {},
   "outputs": [
    {
     "data": {
      "text/plain": [
       "4.801443613595371"
      ]
     },
     "execution_count": 14,
     "metadata": {},
     "output_type": "execute_result"
    }
   ],
   "source": [
    "g_data_drop['grav'].std(axis=0)"
   ]
  },
  {
   "cell_type": "code",
   "execution_count": 15,
   "metadata": {},
   "outputs": [],
   "source": [
    "# uncertainty\n",
    "u_g = np.mean(noise)\n",
    "\n",
    "# calculate diffs\n",
    "n = simu_drop.shape[0]\n",
    "g_sim_diffssq = g_simu.sub(g_data_drop['grav'], axis=0)**2\n",
    "\n",
    "rmse = np.sqrt((g_sim_diffssq.sum(axis=0)/n))"
   ]
  },
  {
   "cell_type": "code",
   "execution_count": 16,
   "metadata": {},
   "outputs": [
    {
     "name": "stdout",
     "output_type": "stream",
     "text": [
      "557 realizations were accepted.\n",
      "Accepted realizations: [1, 2, 4, 6, 11, 12, 13, 16, 17, 18, 19, 20, 23, 24, 25, 26, 27, 29, 30, 31, 34, 35, 36, 38, 40, 41, 42, 43, 47, 53, 55, 57, 58, 60, 62, 63, 64, 65, 66, 68, 76, 80, 82, 83, 87, 90, 91, 92, 93, 94, 95, 96, 97, 98, 101, 102, 106, 107, 108, 109, 110, 112, 113, 117, 119, 121, 122, 123, 124, 126, 127, 129, 130, 132, 134, 135, 138, 140, 141, 143, 144, 145, 147, 148, 149, 153, 155, 156, 157, 160, 163, 164, 167, 168, 169, 170, 171, 172, 174, 175, 178, 180, 182, 184, 186, 187, 188, 190, 192, 194, 195, 198, 199, 200, 204, 205, 210, 212, 213, 214, 216, 218, 220, 221, 222, 223, 227, 228, 229, 230, 231, 232, 233, 234, 235, 236, 242, 244, 251, 252, 253, 254, 255, 256, 257, 258, 260, 261, 262, 264, 265, 266, 270, 272, 275, 277, 280, 282, 283, 284, 286, 288, 289, 290, 291, 293, 294, 296, 298, 302, 315, 316, 317, 318, 322, 323, 325, 326, 328, 329, 330, 331, 332, 333, 335, 336, 337, 338, 339, 344, 345, 346, 349, 351, 353, 356, 358, 359, 361, 364, 366, 368, 369, 371, 374, 376, 377, 378, 379, 380, 383, 384, 385, 387, 388, 389, 390, 391, 392, 394, 396, 399, 401, 404, 405, 406, 408, 409, 410, 411, 412, 413, 415, 418, 421, 422, 423, 424, 425, 428, 430, 432, 433, 434, 437, 440, 441, 447, 451, 452, 453, 455, 459, 460, 463, 464, 466, 468, 469, 473, 474, 475, 476, 477, 478, 479, 482, 483, 485, 487, 488, 489, 491, 497, 498, 499, 501, 502, 504, 507, 508, 510, 511, 518, 519, 520, 522, 523, 526, 528, 531, 533, 534, 537, 540, 541, 544, 545, 546, 547, 557, 558, 561, 562, 567, 569, 570, 571, 573, 574, 575, 576, 578, 579, 580, 581, 582, 585, 588, 589, 591, 592, 593, 596, 597, 598, 600, 601, 603, 604, 607, 608, 610, 613, 616, 620, 626, 629, 630, 631, 632, 634, 635, 636, 638, 641, 642, 643, 644, 645, 646, 647, 648, 650, 651, 653, 659, 660, 661, 662, 663, 667, 669, 675, 676, 679, 680, 682, 683, 684, 685, 687, 688, 689, 690, 691, 692, 693, 694, 696, 698, 699, 700, 701, 704, 705, 706, 708, 709, 710, 711, 713, 714, 716, 719, 720, 721, 723, 728, 729, 730, 731, 732, 733, 734, 737, 739, 741, 747, 748, 749, 750, 753, 754, 758, 761, 765, 766, 768, 770, 771, 772, 774, 775, 776, 778, 779, 781, 783, 784, 785, 786, 789, 791, 792, 793, 794, 796, 797, 798, 800, 802, 804, 807, 808, 809, 811, 812, 813, 814, 817, 819, 821, 822, 824, 825, 826, 827, 828, 830, 832, 836, 837, 838, 839, 841, 842, 843, 844, 845, 846, 849, 859, 860, 861, 862, 863, 864, 865, 868, 870, 871, 872, 873, 876, 878, 879, 880, 881, 883, 884, 885, 886, 887, 888, 889, 891, 903, 904, 905, 906, 910, 911, 912, 913, 914, 915, 916, 917, 918, 920, 922, 923, 925, 926, 930, 931, 934, 938, 943, 944, 946, 948, 949, 950, 951, 952, 953, 954, 955, 957, 959, 960, 966, 967, 968, 969, 973, 974, 975, 976, 977, 978, 979, 980, 981, 982, 986, 987, 989, 991, 992, 993, 994, 995, 996, 998]\n"
     ]
    }
   ],
   "source": [
    "random.seed(42)\n",
    "Ref = rmse[0]\n",
    "accept = []\n",
    "P = []\n",
    "k = 0\n",
    "for i in range(1,len(rmse)):\n",
    "    if rmse[i] < Ref:\n",
    "        Ref = rmse[i]\n",
    "        accept.append(i)\n",
    "        \n",
    "    elif random.random() < np.exp(-(rmse[i] - Ref)/(u_g)):\n",
    "        P.append(np.exp(-(rmse[i] - Ref)/(u_g)))\n",
    "        Ref = rmse[i]\n",
    "        accept.append(i)\n",
    "        k +=1\n",
    "print(f\"{len(accept)} realizations were accepted.\")\n",
    "print(f\"Accepted realizations: {accept}\")"
   ]
  },
  {
   "cell_type": "code",
   "execution_count": 17,
   "metadata": {},
   "outputs": [],
   "source": [
    "first_half = np.loadtxt('../../../data_var/lith_block_samples_run01_500real_rseed0')\n",
    "second_half = np.loadtxt('../../../data_var/lith_block_samples_run02_500real_rseed1000')"
   ]
  },
  {
   "cell_type": "code",
   "execution_count": 18,
   "metadata": {},
   "outputs": [],
   "source": [
    "full_ens = np.append(first_half, second_half, axis=0)"
   ]
  },
  {
   "cell_type": "code",
   "execution_count": 19,
   "metadata": {},
   "outputs": [
    {
     "data": {
      "text/plain": [
       "(1000, 300000)"
      ]
     },
     "execution_count": 19,
     "metadata": {},
     "output_type": "execute_result"
    }
   ],
   "source": [
    "full_ens.shape"
   ]
  },
  {
   "cell_type": "code",
   "execution_count": 20,
   "metadata": {},
   "outputs": [],
   "source": [
    "accepted_reals = full_ens[accept, :]"
   ]
  },
  {
   "cell_type": "code",
   "execution_count": 21,
   "metadata": {},
   "outputs": [
    {
     "data": {
      "text/plain": [
       "(557, 300000)"
      ]
     },
     "execution_count": 21,
     "metadata": {},
     "output_type": "execute_result"
    }
   ],
   "source": [
    "accepted_reals.shape"
   ]
  },
  {
   "cell_type": "code",
   "execution_count": 22,
   "metadata": {},
   "outputs": [],
   "source": [
    "np.save('../../../data_var/lith_blocks_samples_run01and02.npy', full_ens)\n",
    "np.save('../../../data_var/lith_blocks_accepted_23042021.npy', accepted_reals)\n",
    "np.save('../../../data_var/accepted_realizations_23042021.npy', accept)"
   ]
  },
  {
   "cell_type": "code",
   "execution_count": 80,
   "metadata": {},
   "outputs": [],
   "source": [
    "np.append?"
   ]
  },
  {
   "cell_type": "code",
   "execution_count": 40,
   "metadata": {},
   "outputs": [],
   "source": [
    "f = h5py.File('../models/20210219_MC_ensemble/PCT_base_model_final.h5','r')"
   ]
  },
  {
   "cell_type": "code",
   "execution_count": 43,
   "metadata": {},
   "outputs": [],
   "source": [
    "z,y,x = f['uindex'].shape"
   ]
  },
  {
   "cell_type": "markdown",
   "metadata": {},
   "source": [
    "## Temperature rejection"
   ]
  },
  {
   "cell_type": "code",
   "execution_count": 23,
   "metadata": {},
   "outputs": [],
   "source": [
    "def fahrenheit_to_celsius(temp_fahrenheit, difference=False):\n",
    "    if not difference:\n",
    "        return (temp_fahrenheit - 32) * 5 / 9\n",
    "    else:\n",
    "        return temp_fahrenheit * 5 / 9\n",
    "    \n",
    "    \n",
    "def extTui(datafile, dimension=3, direction='x'):\n",
    "    f = h5py.File(datafile,'r')\n",
    "    z, y, x = f['temp'].shape\n",
    "    if dimension==3:\n",
    "        temp = f['temp'][:,:,:]\n",
    "        uindex = f['uindex'][:,:,:]\n",
    "    elif dimension==2:\n",
    "        if direction=='x':\n",
    "            temp = f['temp'][:,:,x//2]\n",
    "            uindex = f['uindex'][:,:,x//2]\n",
    "        elif direction=='y':\n",
    "            temp = f['temp'][:,y//2,:]\n",
    "            uindex = f['uindex'][:,y//2,:]\n",
    "        elif direction=='z':\n",
    "            temp = f['temp'][z//2,:,:]\n",
    "            uindex = f['uindex'][z//2,:,:]\n",
    "    return temp,uindex\n",
    "    "
   ]
  },
  {
   "cell_type": "code",
   "execution_count": 24,
   "metadata": {},
   "outputs": [
    {
     "name": "stdout",
     "output_type": "stream",
     "text": [
      "1.4237296698599444\n"
     ]
    }
   ],
   "source": [
    "# define uT\n",
    "T_error = 0.25 # temperature error tool accuracy\n",
    "s_error = fahrenheit_to_celsius(1.25, difference=True) # sensor response time of 2 sec and 1 year after drilling\n",
    "l_error = fahrenheit_to_celsius(1.25, difference=True) # logging speed of 20/ft after 1 year\n",
    "d_error = 1.0 # estimated temperature error by discretization\n",
    "#u_T = np.sqrt(T_error[0]**2 + T_error[1]**2 + T_error[2]**2 + T_error[3]**2 + d_error**2)\n",
    "#u_T = np.sum(T_error**2)/4\n",
    "u_T = np.sqrt(T_error**2 + s_error**2 + l_error**2 + d_error**2)\n",
    "print(u_T)"
   ]
  },
  {
   "cell_type": "code",
   "execution_count": 25,
   "metadata": {},
   "outputs": [],
   "source": [
    "# load Simulation outputs. Those outputs get written by SHEMAT-Suite if runmode = 1\n",
    "outp_path = '../models/20210319_MC_no_middle_filling/SHEMAT_MC/'\n",
    "accepted = np.loadtxt('../models/20210319_MC_no_middle_filling/accepted_realizations_01042021').astype(int)\n",
    "diffs = np.loadtxt(outp_path+'PCT_MC_1dat_cor_final.dat',skiprows=3,usecols=(8,),dtype=float)\n",
    "for i in accepted[1:]:\n",
    "    n = np.loadtxt(outp_path+f'PCT_MC_{i}dat_cor_final.dat',skiprows=3,usecols=(8,),dtype=float)\n",
    "    diffs=np.vstack([diffs,n])"
   ]
  },
  {
   "cell_type": "code",
   "execution_count": 26,
   "metadata": {},
   "outputs": [],
   "source": [
    "# calculate RMSE of each realisation.\n",
    "n = diffs.shape[1] # as we have 4 data points for temperature\n",
    "\n",
    "diffs_sq = diffs**2\n",
    "ssr = diffs_sq.sum(axis=1)\n",
    "rmse = np.sqrt((diffs_sq.sum(axis=1)/n))"
   ]
  },
  {
   "cell_type": "code",
   "execution_count": 27,
   "metadata": {},
   "outputs": [
    {
     "name": "stdout",
     "output_type": "stream",
     "text": [
      "(626, 130)\n"
     ]
    }
   ],
   "source": [
    "# this is a matrix with all vectors. First 96 columns are differences of the wells, then the column is the SSR, \n",
    "# final column is RMSE\n",
    "tot_diffs = np.column_stack((diffs,ssr,rmse))\n",
    "print(tot_diffs.shape)\n",
    "# add index to the realizations\n",
    "ind = np.array(range(tot_diffs.shape[0]))\n",
    "tot_diffs = np.column_stack((tot_diffs,accepted))"
   ]
  },
  {
   "cell_type": "markdown",
   "metadata": {},
   "source": [
    "## Rejection sampling\n",
    "we now start with a random sample and go randomly through the pool, accepting and rejecting realizations.\n",
    "The algorithm starts with one refrence sample `Ref`. Then, iteratively, samples (= realizations) get accepted, rejected based on their RMSE values. That is why we use the 6th column of `tot_diffs`. Alternatively, one could also just use the `rmse` array."
   ]
  },
  {
   "cell_type": "code",
   "execution_count": 47,
   "metadata": {},
   "outputs": [
    {
     "name": "stdout",
     "output_type": "stream",
     "text": [
      "507\n",
      "[1, 2, 3, 4, 5, 6, 7, 8, 9, 10, 11, 12, 15, 16, 17, 18, 19, 20, 21, 22, 23, 24, 25, 26, 27, 28, 29, 30, 31, 32, 35, 37, 38, 39, 40, 41, 43, 44, 45, 46, 48, 49, 50, 53, 54, 55, 57, 58, 59, 62, 63, 64, 65, 66, 67, 68, 69, 70, 71, 72, 73, 74, 75, 76, 77, 78, 79, 81, 82, 83, 84, 85, 86, 87, 88, 89, 90, 91, 92, 93, 94, 95, 96, 97, 98, 99, 100, 102, 103, 104, 106, 108, 112, 113, 114, 115, 116, 117, 118, 119, 120, 123, 124, 125, 127, 128, 130, 131, 132, 133, 134, 135, 136, 137, 138, 139, 141, 142, 143, 144, 146, 147, 148, 149, 150, 151, 152, 153, 154, 155, 156, 157, 159, 160, 161, 164, 166, 167, 168, 169, 170, 171, 174, 175, 176, 177, 178, 179, 180, 181, 182, 183, 184, 185, 187, 188, 189, 190, 191, 192, 194, 196, 197, 198, 199, 200, 201, 202, 203, 204, 205, 206, 207, 208, 209, 210, 211, 212, 215, 217, 218, 219, 220, 221, 224, 226, 227, 228, 229, 232, 233, 234, 235, 236, 237, 238, 239, 240, 241, 242, 243, 244, 245, 246, 247, 248, 249, 252, 253, 254, 255, 256, 257, 258, 259, 260, 261, 262, 263, 264, 265, 266, 267, 268, 269, 270, 271, 272, 273, 274, 276, 279, 280, 281, 282, 283, 285, 286, 287, 289, 290, 291, 292, 293, 296, 297, 298, 299, 300, 301, 302, 303, 307, 308, 309, 310, 311, 312, 313, 314, 315, 316, 317, 318, 319, 320, 321, 322, 323, 324, 325, 326, 328, 329, 331, 332, 333, 334, 335, 341, 342, 343, 344, 345, 346, 348, 349, 350, 352, 353, 354, 355, 356, 357, 358, 359, 362, 364, 365, 366, 368, 369, 370, 371, 372, 374, 375, 378, 379, 380, 382, 383, 384, 385, 386, 387, 388, 389, 390, 392, 393, 394, 395, 396, 397, 398, 399, 400, 401, 402, 404, 405, 406, 407, 409, 410, 412, 413, 414, 415, 417, 418, 419, 420, 421, 422, 423, 424, 425, 426, 427, 430, 431, 432, 433, 434, 436, 439, 440, 441, 442, 443, 444, 445, 446, 447, 449, 450, 451, 452, 453, 454, 455, 457, 460, 461, 462, 463, 464, 465, 466, 467, 468, 469, 470, 471, 472, 473, 474, 475, 476, 477, 478, 479, 480, 481, 482, 483, 485, 486, 487, 488, 490, 491, 492, 493, 495, 496, 497, 498, 499, 500, 501, 502, 503, 504, 505, 506, 507, 508, 510, 512, 513, 515, 517, 518, 519, 520, 521, 522, 523, 527, 528, 529, 530, 531, 532, 535, 536, 537, 538, 540, 541, 543, 547, 549, 550, 551, 552, 553, 554, 555, 556, 559, 560, 562, 564, 565, 567, 568, 569, 572, 573, 574, 575, 576, 577, 578, 580, 581, 582, 583, 584, 585, 586, 587, 588, 589, 590, 591, 592, 593, 594, 596, 597, 599, 601, 602, 604, 605, 606, 607, 608, 609, 610, 611, 612, 613, 614, 615, 616, 619, 620, 621, 622, 624, 625]\n"
     ]
    }
   ],
   "source": [
    "# Chronological implemntation - start von 1 bis N \n",
    "# Can be used here, if samples generated are already in a random order and not correlated.\n",
    "# That is usually the case with GemPy exports to SHEMAT-Suite.\n",
    "random.seed(42)\n",
    "col = 129\n",
    "Ref = tot_diffs[0,col]\n",
    "accept = []\n",
    "P = []\n",
    "k=0\n",
    "for i in range(1,tot_diffs.shape[0]):\n",
    "    if tot_diffs[i,col] < Ref:\n",
    "        Ref = tot_diffs[i,col]\n",
    "        accept.append(i)\n",
    "        \n",
    "    elif random.random() < np.exp(-(tot_diffs[i,col] - Ref)/(u_T)):\n",
    "        P.append(np.exp(-(tot_diffs[i,col] - Ref)/(u_T)))\n",
    "        Ref = tot_diffs[i,col]\n",
    "        accept.append(i)\n",
    "        k += 1\n",
    "print(len(accept))\n",
    "print(accept)"
   ]
  },
  {
   "cell_type": "code",
   "execution_count": 48,
   "metadata": {},
   "outputs": [],
   "source": [
    "np.savetxt('../models/20210319_MC_no_middle_filling/accepted_after_temp_rejection', accept)"
   ]
  },
  {
   "cell_type": "markdown",
   "metadata": {},
   "source": [
    "## Rejection sampling\n",
    "we now start with a random sample and go randomly through the pool, accepting and rejecting realizations.\n",
    "The algorithm starts with one refrence sample `Ref`. Then, iteratively, samples (= realizations) get accepted, rejected based on their RMSE values. That is why we use the 6th column of `tot_diffs`. Alternatively, one could also just use the `rmse` array."
   ]
  },
  {
   "cell_type": "code",
   "execution_count": 49,
   "metadata": {},
   "outputs": [
    {
     "data": {
      "text/plain": [
       "(128,)"
      ]
     },
     "execution_count": 49,
     "metadata": {},
     "output_type": "execute_result"
    }
   ],
   "source": [
    "# have a look at sensitive data points\n",
    "st = np.std(diffs, axis=0)\n",
    "st.shape"
   ]
  },
  {
   "cell_type": "code",
   "execution_count": 50,
   "metadata": {},
   "outputs": [
    {
     "data": {
      "text/plain": [
       "(array([34., 27., 15.,  7., 11.,  5.,  1.,  1., 17., 10.]),\n",
       " array([0.0125289 , 0.19392582, 0.37532274, 0.55671966, 0.73811658,\n",
       "        0.9195135 , 1.10091042, 1.28230734, 1.46370426, 1.64510118,\n",
       "        1.8264981 ]),\n",
       " <BarContainer object of 10 artists>)"
      ]
     },
     "execution_count": 50,
     "metadata": {},
     "output_type": "execute_result"
    },
    {
     "data": {
      "image/png": "[encoded data removed]",
      "text/plain": [
       "<Figure size 432x288 with 1 Axes>"
      ]
     },
     "metadata": {
      "needs_background": "light"
     },
     "output_type": "display_data"
    }
   ],
   "source": [
    "plt.hist(st)"
   ]
  },
  {
   "cell_type": "markdown",
   "metadata": {},
   "source": [
    "We see, that there are many points not sensitive"
   ]
  },
  {
   "cell_type": "code",
   "execution_count": 51,
   "metadata": {},
   "outputs": [],
   "source": [
    "indices = np.where(st < 0.5)"
   ]
  },
  {
   "cell_type": "code",
   "execution_count": 52,
   "metadata": {},
   "outputs": [],
   "source": [
    "diffs_red = np.delete(diffs, obj=indices, axis=1)"
   ]
  },
  {
   "cell_type": "markdown",
   "metadata": {},
   "source": [
    "Now let's see how the removal of relatively robust datapoints helps:"
   ]
  },
  {
   "cell_type": "code",
   "execution_count": 53,
   "metadata": {},
   "outputs": [],
   "source": [
    "# calculate RMSE of each realisation.\n",
    "n = diffs_red.shape[1] # as we have 4 data points for temperature\n",
    "\n",
    "diffs_sq = diffs_red**2\n",
    "ssr = diffs_sq.sum(axis=1)\n",
    "rmse = np.sqrt((diffs_sq.sum(axis=1)/n))"
   ]
  },
  {
   "cell_type": "code",
   "execution_count": 54,
   "metadata": {},
   "outputs": [
    {
     "name": "stdout",
     "output_type": "stream",
     "text": [
      "(626, 55)\n"
     ]
    }
   ],
   "source": [
    "# this is a matrix with all vectors. First 96 columns are differences of the wells, then the column is the SSR, \n",
    "# final column is RMSE\n",
    "tot_diffs = np.column_stack((diffs_red,ssr,rmse))\n",
    "print(tot_diffs.shape)\n",
    "# add index to the realizations\n",
    "ind = np.array(range(tot_diffs.shape[0]))\n",
    "tot_diffs = np.column_stack((tot_diffs,accepted))"
   ]
  },
  {
   "cell_type": "code",
   "execution_count": 55,
   "metadata": {},
   "outputs": [
    {
     "name": "stdout",
     "output_type": "stream",
     "text": [
      "351\n",
      "[1, 2, 4, 5, 6, 7, 8, 9, 13, 14, 15, 16, 17, 18, 19, 20, 22, 23, 24, 25, 28, 29, 30, 33, 34, 35, 38, 39, 40, 41, 43, 44, 45, 46, 48, 49, 50, 59, 63, 64, 65, 66, 67, 68, 69, 70, 71, 72, 74, 84, 88, 90, 91, 92, 93, 94, 95, 96, 97, 98, 99, 100, 101, 102, 106, 108, 117, 118, 119, 120, 123, 124, 125, 126, 127, 128, 129, 130, 131, 135, 136, 137, 138, 139, 142, 145, 146, 152, 153, 154, 155, 156, 157, 161, 169, 171, 174, 175, 176, 177, 178, 179, 180, 183, 184, 185, 187, 188, 191, 192, 193, 194, 195, 196, 197, 199, 200, 201, 202, 203, 204, 205, 206, 210, 211, 218, 219, 220, 221, 223, 224, 226, 227, 228, 229, 230, 232, 233, 234, 237, 238, 239, 240, 241, 242, 243, 244, 245, 247, 248, 249, 250, 252, 253, 254, 255, 256, 257, 258, 259, 260, 265, 266, 267, 268, 269, 270, 271, 272, 274, 275, 276, 279, 280, 281, 282, 283, 288, 289, 290, 293, 297, 298, 299, 300, 302, 303, 320, 322, 327, 328, 329, 330, 331, 332, 333, 334, 335, 337, 339, 340, 341, 342, 344, 345, 346, 357, 359, 360, 361, 362, 365, 366, 367, 368, 369, 370, 372, 374, 375, 378, 380, 384, 385, 386, 387, 389, 390, 392, 394, 395, 396, 397, 398, 399, 400, 401, 402, 404, 405, 407, 409, 410, 415, 417, 419, 420, 421, 424, 425, 427, 428, 429, 430, 432, 434, 436, 438, 439, 440, 441, 442, 443, 445, 449, 450, 451, 452, 453, 454, 455, 456, 457, 463, 469, 471, 476, 478, 479, 480, 483, 485, 486, 488, 490, 492, 493, 495, 496, 502, 503, 507, 508, 510, 511, 512, 513, 515, 517, 518, 519, 520, 521, 522, 523, 532, 538, 540, 541, 543, 545, 546, 547, 554, 556, 559, 560, 562, 565, 566, 567, 568, 569, 581, 582, 584, 585, 591, 592, 593, 594, 597, 598, 600, 601, 602, 604, 605, 606, 607, 608, 609, 610, 613, 614, 616, 620, 621, 622, 624, 625]\n"
     ]
    }
   ],
   "source": [
    "# Chronological implemntation - start von 1 bis N \n",
    "# Can be used here, if samples generated are already in a random order and not correlated.\n",
    "# That is usually the case with GemPy exports to SHEMAT-Suite.\n",
    "random.seed(42)\n",
    "col = 54\n",
    "Ref = tot_diffs[0,col]\n",
    "accept = []\n",
    "P = []\n",
    "k=0\n",
    "for i in range(1,tot_diffs.shape[0]):\n",
    "    if tot_diffs[i,col] < Ref:\n",
    "        Ref = tot_diffs[i,col]\n",
    "        accept.append(i)\n",
    "        \n",
    "    elif random.random() < np.exp(-(tot_diffs[i,col] - Ref)/(u_T)):\n",
    "        P.append(np.exp(-(tot_diffs[i,col] - Ref)/(u_T)))\n",
    "        Ref = tot_diffs[i,col]\n",
    "        accept.append(i)\n",
    "        k += 1\n",
    "print(len(accept))\n",
    "print(accept)"
   ]
  },
  {
   "cell_type": "code",
   "execution_count": 56,
   "metadata": {},
   "outputs": [],
   "source": [
    "np.savetxt('../models/20210319_MC_no_middle_filling/accepted_after_temp_rejection_reduced_datapoints', accept)"
   ]
  },
  {
   "cell_type": "markdown",
   "metadata": {},
   "source": [
    "And we see, temperature data is not sensitive to changes in the PCT-depth.  \n",
    "\n",
    "But what if we also treat the thermal conductivity as an uncertain parameter?"
   ]
  },
  {
   "cell_type": "markdown",
   "metadata": {},
   "source": [
    "*Then the rejection is way more rigorous.*"
   ]
  },
  {
   "cell_type": "code",
   "execution_count": 79,
   "metadata": {},
   "outputs": [],
   "source": [
    "fids = glob.glob('/home/bl2/ownCloud/SHEMAT_GeoMol/20210219_MC_outputs/*.h5')"
   ]
  },
  {
   "cell_type": "code",
   "execution_count": 80,
   "metadata": {},
   "outputs": [],
   "source": [
    "outpath = '/home/bl2/ownCloud/SHEMAT_GeoMol/20210219_MC_outputs/'\n",
    "poTemp = []\n",
    "poUi = []\n",
    "dicfil = {}\n",
    "for fn in fids:\n",
    "    for i in accept:\n",
    "        if fn == outpath+\"PCT_MC_{}var_TCt_final.h5\".format(i):\n",
    "            dT,dui = extTui(fn, dimension=2, direction='y')\n",
    "            poTemp.append(dT)\n",
    "            poUi.append(dui)            \n",
    "            dicfil[fn.split('/')[-1]] = dui\n",
    "            "
   ]
  },
  {
   "cell_type": "code",
   "execution_count": 81,
   "metadata": {},
   "outputs": [
    {
     "name": "stdout",
     "output_type": "stream",
     "text": [
      "(23, 60, 100) (23, 60, 100) (23,)\n"
     ]
    }
   ],
   "source": [
    "poTempa = np.asarray(poTemp)\n",
    "poUia = np.asarray(poUi)\n",
    "accepta = np.asarray(accept)\n",
    "print(poUia.shape,poTempa.shape,accepta.shape)\n",
    "np.savetxt('accepted_realisations',accepta,fmt='%i',delimiter=' ',newline='\\n')\n",
    "#np.savetxt('posterior_Temps',poTempa,fmt='%.5f',delimiter=' ',newline='\\n',header=\" posterior 61 realizations for Temperature\")\n",
    "#np.savetxt('posterior_Uindex',poUia,fmt='%i',delimiter=' ',newline='\\n')"
   ]
  },
  {
   "cell_type": "code",
   "execution_count": 82,
   "metadata": {},
   "outputs": [],
   "source": [
    "# calculate mean temperature field and mean posterior uindex\n",
    "mTemp = np.mean(poTempa,axis=0)\n",
    "mUi = np.mean(poUia,axis=0)\n",
    "# import y and z for visualising\n",
    "plfn = h5py.File('../models/20210219_MC_ensemble/PCT_base_model_final.h5','r')\n",
    "x = plfn['x'][0,0,:]\n",
    "y = plfn['y'][0,:,0]\n",
    "z = plfn['z'][:,0,0]\n",
    "refT = plfn['temp'][:,25,:]"
   ]
  },
  {
   "cell_type": "code",
   "execution_count": 83,
   "metadata": {},
   "outputs": [
    {
     "data": {
      "text/plain": [
       "(60, 100)"
      ]
     },
     "execution_count": 83,
     "metadata": {},
     "output_type": "execute_result"
    }
   ],
   "source": [
    "poUi[0].shape"
   ]
  },
  {
   "cell_type": "code",
   "execution_count": 84,
   "metadata": {},
   "outputs": [
    {
     "data": {
      "text/plain": [
       "Text(0, 0.5, 'depth[m]')"
      ]
     },
     "execution_count": 84,
     "metadata": {},
     "output_type": "execute_result"
    },
    {
     "data": {
      "image/png": "[encoded data removed]",
      "text/plain": [
       "<Figure size 1440x576 with 1 Axes>"
      ]
     },
     "metadata": {
      "needs_background": "light"
     },
     "output_type": "display_data"
    }
   ],
   "source": [
    "fig = plt.figure(figsize=(20,8))\n",
    "cs = plt.contourf(x,z-6500.,mUi,cmap='viridis')\n",
    "plt.tick_params(axis='both',labelsize=14)\n",
    "plt.xlabel('x [m]',fontsize=16)\n",
    "plt.ylabel('depth[m]',fontsize=16)"
   ]
  },
  {
   "cell_type": "code",
   "execution_count": 85,
   "metadata": {},
   "outputs": [
    {
     "data": {
      "image/png": "[encoded data removed]",
      "text/plain": [
       "<Figure size 1440x576 with 2 Axes>"
      ]
     },
     "metadata": {
      "needs_background": "light"
     },
     "output_type": "display_data"
    }
   ],
   "source": [
    "fig = plt.figure(figsize=(20,8))\n",
    "cs = plt.pcolor(x,z-6500.,mTemp,cmap='viridis', shading='auto')\n",
    "plt.tick_params(axis='both',labelsize=14)\n",
    "plt.xlabel('x [m]',fontsize=16)\n",
    "plt.ylabel('depth[m]',fontsize=16)\n",
    "cbar = plt.colorbar(cs,orientation='vertical')\n",
    "cbar.set_label('Temperature $^\\circ$C]',fontsize=16)\n",
    "cbar.ax.tick_params(labelsize=14)"
   ]
  },
  {
   "cell_type": "code",
   "execution_count": 1,
   "metadata": {},
   "outputs": [
    {
     "ename": "NameError",
     "evalue": "name 'plt' is not defined",
     "output_type": "error",
     "traceback": [
      "\u001b[1;31m---------------------------------------------------------------------------\u001b[0m",
      "\u001b[1;31mNameError\u001b[0m                                 Traceback (most recent call last)",
      "\u001b[1;32m<ipython-input-1-9f5a08d7ed7b>\u001b[0m in \u001b[0;36m<module>\u001b[1;34m\u001b[0m\n\u001b[0;32m      1\u001b[0m \u001b[1;31m#plot ssr of mean posterior and reference model\u001b[0m\u001b[1;33m\u001b[0m\u001b[1;33m\u001b[0m\u001b[1;33m\u001b[0m\u001b[0m\n\u001b[1;32m----> 2\u001b[1;33m \u001b[0mfig\u001b[0m \u001b[1;33m=\u001b[0m \u001b[0mplt\u001b[0m\u001b[1;33m.\u001b[0m\u001b[0mfigure\u001b[0m\u001b[1;33m(\u001b[0m\u001b[0mfigsize\u001b[0m\u001b[1;33m=\u001b[0m\u001b[1;33m(\u001b[0m\u001b[1;36m20\u001b[0m\u001b[1;33m,\u001b[0m\u001b[1;36m8\u001b[0m\u001b[1;33m)\u001b[0m\u001b[1;33m)\u001b[0m\u001b[1;33m\u001b[0m\u001b[1;33m\u001b[0m\u001b[0m\n\u001b[0m\u001b[0;32m      3\u001b[0m \u001b[0mcs\u001b[0m \u001b[1;33m=\u001b[0m \u001b[0mplt\u001b[0m\u001b[1;33m.\u001b[0m\u001b[0mpcolor\u001b[0m\u001b[1;33m(\u001b[0m\u001b[0mx\u001b[0m\u001b[1;33m,\u001b[0m\u001b[0mz\u001b[0m\u001b[1;33m-\u001b[0m\u001b[1;36m6500.\u001b[0m\u001b[1;33m,\u001b[0m\u001b[1;33m(\u001b[0m\u001b[0mrefT\u001b[0m\u001b[1;33m-\u001b[0m\u001b[0mmTemp\u001b[0m\u001b[1;33m)\u001b[0m\u001b[1;33m**\u001b[0m\u001b[1;36m2\u001b[0m\u001b[1;33m,\u001b[0m\u001b[0mcmap\u001b[0m\u001b[1;33m=\u001b[0m\u001b[1;34m'RdBu'\u001b[0m\u001b[1;33m,\u001b[0m \u001b[0mshading\u001b[0m\u001b[1;33m=\u001b[0m\u001b[1;34m'auto'\u001b[0m\u001b[1;33m)\u001b[0m\u001b[1;33m\u001b[0m\u001b[1;33m\u001b[0m\u001b[0m\n\u001b[0;32m      4\u001b[0m \u001b[0mplt\u001b[0m\u001b[1;33m.\u001b[0m\u001b[0mtick_params\u001b[0m\u001b[1;33m(\u001b[0m\u001b[0maxis\u001b[0m\u001b[1;33m=\u001b[0m\u001b[1;34m'both'\u001b[0m\u001b[1;33m,\u001b[0m\u001b[0mlabelsize\u001b[0m\u001b[1;33m=\u001b[0m\u001b[1;36m14\u001b[0m\u001b[1;33m)\u001b[0m\u001b[1;33m\u001b[0m\u001b[1;33m\u001b[0m\u001b[0m\n\u001b[0;32m      5\u001b[0m \u001b[0mplt\u001b[0m\u001b[1;33m.\u001b[0m\u001b[0mxlabel\u001b[0m\u001b[1;33m(\u001b[0m\u001b[1;34m'x [m]'\u001b[0m\u001b[1;33m,\u001b[0m\u001b[0mfontsize\u001b[0m\u001b[1;33m=\u001b[0m\u001b[1;36m16\u001b[0m\u001b[1;33m)\u001b[0m\u001b[1;33m\u001b[0m\u001b[1;33m\u001b[0m\u001b[0m\n",
      "\u001b[1;31mNameError\u001b[0m: name 'plt' is not defined"
     ]
    }
   ],
   "source": [
    "#plot ssr of mean posterior and reference model\n",
    "fig = plt.figure(figsize=(20,8))\n",
    "cs = plt.pcolor(x,z-6500.,(refT-mTemp)**2,cmap='RdBu', shading='auto')\n",
    "plt.tick_params(axis='both',labelsize=14)\n",
    "plt.xlabel('x [m]',fontsize=16)\n",
    "plt.ylabel('depth[m]',fontsize=16)\n",
    "cbar = plt.colorbar(cs,orientation='vertical')\n",
    "cbar.set_label('Temperature $^\\circ$C]',fontsize=16)\n",
    "cbar.ax.tick_params(labelsize=14)"
   ]
  },
  {
   "cell_type": "code",
   "execution_count": null,
   "metadata": {},
   "outputs": [],
   "source": []
  }
 ],
 "metadata": {
  "hide_input": false,
  "kernelspec": {
   "display_name": "Python [conda env:env_datasci]",
   "language": "python",
   "name": "conda-env-env_datasci-py"
  },
  "language_info": {
   "codemirror_mode": {
    "name": "ipython",
    "version": 3
   },
   "file_extension": ".py",
   "mimetype": "text/x-python",
   "name": "python",
   "nbconvert_exporter": "python",
   "pygments_lexer": "ipython3",
   "version": "3.8.10"
  },
  "latex_envs": {
   "LaTeX_envs_menu_present": true,
   "autoclose": false,
   "autocomplete": true,
   "bibliofile": "biblio.bib",
   "cite_by": "apalike",
   "current_citInitial": 1,
   "eqLabelWithNumbers": true,
   "eqNumInitial": 1,
   "hotkeys": {
    "equation": "Ctrl-E",
    "itemize": "Ctrl-I"
   },
   "labels_anchors": false,
   "latex_user_defs": false,
   "report_style_numbering": false,
   "user_envs_cfg": false
  },
  "varInspector": {
   "cols": {
    "lenName": 16,
    "lenType": 16,
    "lenVar": 40
   },
   "kernels_config": {
    "python": {
     "delete_cmd_postfix": "",
     "delete_cmd_prefix": "del ",
     "library": "var_list.py",
     "varRefreshCmd": "print(var_dic_list())"
    },
    "r": {
     "delete_cmd_postfix": ") ",
     "delete_cmd_prefix": "rm(",
     "library": "var_list.r",
     "varRefreshCmd": "cat(var_dic_list()) "
    }
   },
   "types_to_exclude": [
    "module",
    "function",
    "builtin_function_or_method",
    "instance",
    "_Feature"
   ],
   "window_display": false
  }
 },
 "nbformat": 4,
 "nbformat_minor": 4
}
