{
 "cells": [
  {
   "cell_type": "code",
   "execution_count": 1,
   "metadata": {},
   "outputs": [],
   "source": [
    "import h5py\n",
    "import numpy as np\n",
    "import pandas as pd\n",
    "import os,sys\n",
    "import glob\n",
    "from scipy import stats\n",
    "import random\n",
    "import matplotlib.pyplot as plt\n",
    "%matplotlib inline\n",
    "\n",
    "sys.path.append('../models/20210219_MC_ensemble/')"
   ]
  },
  {
   "cell_type": "markdown",
   "metadata": {},
   "source": [
    "# Rejection algorithm based on random walk\n",
    "We created a tiny ensemble of 100 different SHEMAT-Suite and will use a rejection algorithm based on the Metropolis acceptance probability to get a posterior ensemble of models.  \n",
    "The Metropolis acceptance probability is defined as:  \n",
    "\n",
    "$$ \\alpha(x_{t-1},z) = \\begin{cases} min\\big(\\frac{p(z)}{p(x_{t-1})},1\\big), & \\text{if } p(x_{t-1}) > 0\\\\\n",
    "1, & \\text{if } p(x_{t-1}) = 0 \\end{cases} $$  \n",
    "\n",
    "A different approach would be to assess the missfit (as RMS error) of each realisation.  \n",
    "\n",
    "$$ \\alpha(x_{t-1},z) = \\begin{cases} exp\\big(-\\frac{S(z) - S(x_{t-1}) }{u_T}\\big), & \\text{if } S(z) > S(x_{t-1})\\\\\n",
    "1, & \\text{otherwise }  \\end{cases} $$  \n",
    "\n",
    "We will use the second approach for now...also because we wrote it in the abstract.  \n",
    "As discretization error, we take a value from Elison(2015), $u_{T-discr} = 0.7$ K  \n",
    "\n",
    "Using Gauss error propagation, we assess a potential error for the realisations.  \n",
    "\n",
    "$$ u_T = \\sqrt{\\big(\\frac{\\partial T}{\\partial x_1}u_1 \\big)^2 + ... + \\big(\\frac{\\partial T}{\\partial x_n}u_n \\big)^2} $$"
   ]
  },
  {
   "cell_type": "markdown",
   "metadata": {},
   "source": [
    "Literature sources for log-errors:\n",
    "_The lower part of the disturbed log profile (below the cross-over point) was rotated to match these corrected tempera-tures. In the upper part of the profile, the same correction as for method A was applied. The quality of this correction method strongly depends on the correct calculation of the lowermost profile temperatures. According to Förster (2001), most of the corrected tem-peratures have errors of ± 3 to 5 K._ https://doi.org/10.1186/s40517-020-00181-w  \n",
    "\n",
    "\n",
    " _The effective accuracy of commercial temperature logs is ±0.5ºC (Blackwell and Spafford, 1987)._  http://www.sprensky.com/publishd/temper2.html  \n",
    " \n",
    " _More normal accuracies are +- 0.25 °C over 0-200 °C_ Keith Geothermal Energy lecture  \n",
    " \n",
    " For errors as a function of e.g. logging speed, measurement response time etc, look https://doi.org/10.1016/j.petrol.2020.107727"
   ]
  },
  {
   "cell_type": "markdown",
   "metadata": {},
   "source": [
    "# Gravity rejection"
   ]
  },
  {
   "cell_type": "code",
   "execution_count": 2,
   "metadata": {},
   "outputs": [],
   "source": [
    "# import data\n",
    "g_data = pd.read_csv('../models/20210322_forw_grav_seed58.csv')"
   ]
  },
  {
   "cell_type": "code",
   "execution_count": 6,
   "metadata": {},
   "outputs": [],
   "source": [
    "g_coordinates = pd.read_csv('../models/20210319_MC_no_middle_filling/grav_stations_coordinates.csv', sep=';')\n",
    "g_simu = pd.read_csv('../models/20210319_MC_no_middle_filling/MC_grav_simulations_run01and02_1000_reals_rseed0_250+50mstd.csv',\n",
    "                    sep=';')"
   ]
  },
  {
   "cell_type": "code",
   "execution_count": 68,
   "metadata": {},
   "outputs": [],
   "source": [
    "noise = np.random.normal(0, 0.5, size=15)\n",
    "g_data_noise = g_data.copy()\n",
    "g_data_noise['grav'] = g_data_noise['grav'] + noise"
   ]
  },
  {
   "cell_type": "code",
   "execution_count": 69,
   "metadata": {},
   "outputs": [
    {
     "data": {
      "text/plain": [
       "0.15627524513939553"
      ]
     },
     "execution_count": 69,
     "metadata": {},
     "output_type": "execute_result"
    }
   ],
   "source": [
    "np.mean(noise)"
   ]
  },
  {
   "cell_type": "code",
   "execution_count": 9,
   "metadata": {},
   "outputs": [
    {
     "data": {
      "text/html": [
       "<div>\n",
       "<style scoped>\n",
       "    .dataframe tbody tr th:only-of-type {\n",
       "        vertical-align: middle;\n",
       "    }\n",
       "\n",
       "    .dataframe tbody tr th {\n",
       "        vertical-align: top;\n",
       "    }\n",
       "\n",
       "    .dataframe thead th {\n",
       "        text-align: right;\n",
       "    }\n",
       "</style>\n",
       "<table border=\"1\" class=\"dataframe\">\n",
       "  <thead>\n",
       "    <tr style=\"text-align: right;\">\n",
       "      <th></th>\n",
       "      <th>X</th>\n",
       "      <th>Y</th>\n",
       "      <th>Z</th>\n",
       "      <th>grav</th>\n",
       "    </tr>\n",
       "  </thead>\n",
       "  <tbody>\n",
       "    <tr>\n",
       "      <th>0</th>\n",
       "      <td>26868.69</td>\n",
       "      <td>2000.00</td>\n",
       "      <td>726.13</td>\n",
       "      <td>-527.933605</td>\n",
       "    </tr>\n",
       "    <tr>\n",
       "      <th>1</th>\n",
       "      <td>9050.51</td>\n",
       "      <td>4285.71</td>\n",
       "      <td>692.74</td>\n",
       "      <td>-528.938197</td>\n",
       "    </tr>\n",
       "    <tr>\n",
       "      <th>2</th>\n",
       "      <td>9333.33</td>\n",
       "      <td>10000.00</td>\n",
       "      <td>784.86</td>\n",
       "      <td>-527.320711</td>\n",
       "    </tr>\n",
       "    <tr>\n",
       "      <th>3</th>\n",
       "      <td>9050.51</td>\n",
       "      <td>13428.57</td>\n",
       "      <td>781.50</td>\n",
       "      <td>-528.459453</td>\n",
       "    </tr>\n",
       "    <tr>\n",
       "      <th>4</th>\n",
       "      <td>1696.97</td>\n",
       "      <td>10571.43</td>\n",
       "      <td>864.15</td>\n",
       "      <td>-539.531585</td>\n",
       "    </tr>\n",
       "    <tr>\n",
       "      <th>5</th>\n",
       "      <td>8767.68</td>\n",
       "      <td>7428.57</td>\n",
       "      <td>860.96</td>\n",
       "      <td>-530.695555</td>\n",
       "    </tr>\n",
       "    <tr>\n",
       "      <th>6</th>\n",
       "      <td>20646.46</td>\n",
       "      <td>8857.14</td>\n",
       "      <td>393.74</td>\n",
       "      <td>-532.309182</td>\n",
       "    </tr>\n",
       "    <tr>\n",
       "      <th>7</th>\n",
       "      <td>18666.67</td>\n",
       "      <td>6000.00</td>\n",
       "      <td>357.77</td>\n",
       "      <td>-530.008439</td>\n",
       "    </tr>\n",
       "    <tr>\n",
       "      <th>8</th>\n",
       "      <td>16121.21</td>\n",
       "      <td>12857.14</td>\n",
       "      <td>575.53</td>\n",
       "      <td>-523.880043</td>\n",
       "    </tr>\n",
       "    <tr>\n",
       "      <th>9</th>\n",
       "      <td>13292.93</td>\n",
       "      <td>2285.71</td>\n",
       "      <td>745.00</td>\n",
       "      <td>-523.932504</td>\n",
       "    </tr>\n",
       "    <tr>\n",
       "      <th>10</th>\n",
       "      <td>11878.79</td>\n",
       "      <td>9142.86</td>\n",
       "      <td>546.32</td>\n",
       "      <td>-521.757834</td>\n",
       "    </tr>\n",
       "    <tr>\n",
       "      <th>11</th>\n",
       "      <td>20646.46</td>\n",
       "      <td>10285.71</td>\n",
       "      <td>408.42</td>\n",
       "      <td>-530.585954</td>\n",
       "    </tr>\n",
       "    <tr>\n",
       "      <th>12</th>\n",
       "      <td>19232.32</td>\n",
       "      <td>9142.86</td>\n",
       "      <td>402.86</td>\n",
       "      <td>-531.723052</td>\n",
       "    </tr>\n",
       "    <tr>\n",
       "      <th>13</th>\n",
       "      <td>13010.10</td>\n",
       "      <td>7142.86</td>\n",
       "      <td>567.88</td>\n",
       "      <td>-521.515350</td>\n",
       "    </tr>\n",
       "    <tr>\n",
       "      <th>14</th>\n",
       "      <td>26868.69</td>\n",
       "      <td>285.71</td>\n",
       "      <td>717.35</td>\n",
       "      <td>-526.490693</td>\n",
       "    </tr>\n",
       "  </tbody>\n",
       "</table>\n",
       "</div>"
      ],
      "text/plain": [
       "           X         Y       Z        grav\n",
       "0   26868.69   2000.00  726.13 -527.933605\n",
       "1    9050.51   4285.71  692.74 -528.938197\n",
       "2    9333.33  10000.00  784.86 -527.320711\n",
       "3    9050.51  13428.57  781.50 -528.459453\n",
       "4    1696.97  10571.43  864.15 -539.531585\n",
       "5    8767.68   7428.57  860.96 -530.695555\n",
       "6   20646.46   8857.14  393.74 -532.309182\n",
       "7   18666.67   6000.00  357.77 -530.008439\n",
       "8   16121.21  12857.14  575.53 -523.880043\n",
       "9   13292.93   2285.71  745.00 -523.932504\n",
       "10  11878.79   9142.86  546.32 -521.757834\n",
       "11  20646.46  10285.71  408.42 -530.585954\n",
       "12  19232.32   9142.86  402.86 -531.723052\n",
       "13  13010.10   7142.86  567.88 -521.515350\n",
       "14  26868.69    285.71  717.35 -526.490693"
      ]
     },
     "execution_count": 9,
     "metadata": {},
     "output_type": "execute_result"
    }
   ],
   "source": [
    "g_data_noise"
   ]
  },
  {
   "cell_type": "code",
   "execution_count": 37,
   "metadata": {},
   "outputs": [
    {
     "data": {
      "text/plain": [
       "4.629422821862318"
      ]
     },
     "execution_count": 37,
     "metadata": {},
     "output_type": "execute_result"
    }
   ],
   "source": [
    "g_data_noise['grav'].std(axis=0)"
   ]
  },
  {
   "cell_type": "code",
   "execution_count": 11,
   "metadata": {},
   "outputs": [],
   "source": [
    "#g_simu_st = g_simu.drop([\"X\", \"Y\", \"Z\"], axis=1)\n",
    "g_simu_stdev = g_simu.std(axis=1)\n",
    "g_simu_mean = g_simu.mean(axis=1)"
   ]
  },
  {
   "cell_type": "code",
   "execution_count": 12,
   "metadata": {},
   "outputs": [
    {
     "data": {
      "text/plain": [
       "<matplotlib.colorbar.Colorbar at 0x1f0e2c53f08>"
      ]
     },
     "execution_count": 12,
     "metadata": {},
     "output_type": "execute_result"
    },
    {
     "data": {
      "image/png": "[encoded data removed]",
      "text/plain": [
       "<Figure size 432x288 with 2 Axes>"
      ]
     },
     "metadata": {
      "needs_background": "light"
     },
     "output_type": "display_data"
    }
   ],
   "source": [
    "cs = plt.scatter(g_data['X'], g_data['Y'], c=g_simu_stdev)\n",
    "plt.xlabel('x (m)')\n",
    "plt.ylabel('y (m)')\n",
    "plt.colorbar(cs, label='stdv')"
   ]
  },
  {
   "cell_type": "code",
   "execution_count": 74,
   "metadata": {},
   "outputs": [],
   "source": [
    "# uncertainty\n",
    "u_g = np.mean(noise)\n",
    "\n",
    "# calculate diffs\n",
    "n = g_simu.shape[0]\n",
    "g_sim_diffssq = g_simu.sub(g_data_noise['grav'], axis=0)**2\n",
    "\n",
    "rmse = np.sqrt((g_sim_diffssq.sum(axis=0)/n))"
   ]
  },
  {
   "cell_type": "code",
   "execution_count": 75,
   "metadata": {},
   "outputs": [
    {
     "name": "stdout",
     "output_type": "stream",
     "text": [
      "533 realizations were accepted.\n",
      "Accepted realizations: [1, 2, 4, 6, 8, 11, 12, 13, 16, 17, 18, 19, 20, 21, 23, 26, 27, 31, 32, 34, 36, 38, 40, 42, 43, 45, 47, 55, 58, 60, 64, 66, 68, 74, 76, 77, 79, 82, 83, 85, 87, 94, 95, 98, 99, 100, 101, 102, 103, 105, 108, 109, 110, 111, 112, 113, 116, 117, 119, 121, 122, 123, 124, 126, 127, 129, 132, 133, 134, 135, 136, 140, 141, 142, 143, 144, 145, 147, 148, 149, 152, 153, 154, 155, 156, 157, 160, 167, 168, 169, 170, 171, 174, 175, 180, 181, 187, 188, 189, 190, 192, 194, 195, 196, 198, 199, 200, 204, 205, 210, 213, 216, 217, 218, 220, 221, 222, 223, 226, 227, 228, 229, 230, 232, 233, 234, 235, 236, 238, 239, 241, 242, 244, 246, 248, 249, 250, 251, 252, 254, 255, 256, 257, 258, 259, 268, 269, 270, 272, 277, 278, 279, 280, 282, 283, 284, 285, 286, 287, 288, 289, 291, 294, 296, 298, 299, 302, 315, 316, 317, 318, 323, 324, 326, 327, 328, 329, 330, 331, 332, 333, 335, 337, 338, 339, 342, 344, 345, 346, 349, 353, 355, 356, 358, 359, 361, 364, 365, 366, 367, 368, 369, 371, 374, 377, 379, 380, 381, 383, 384, 389, 390, 391, 392, 394, 396, 401, 404, 405, 406, 408, 411, 415, 418, 421, 422, 423, 424, 425, 426, 428, 432, 433, 437, 439, 440, 441, 442, 443, 444, 445, 447, 449, 450, 451, 452, 453, 455, 457, 458, 460, 462, 463, 464, 466, 467, 468, 469, 473, 474, 475, 476, 482, 487, 488, 489, 491, 492, 494, 497, 498, 501, 502, 503, 504, 507, 508, 509, 511, 512, 515, 516, 519, 520, 522, 526, 528, 530, 531, 533, 534, 540, 541, 543, 544, 545, 546, 547, 549, 550, 552, 557, 558, 561, 562, 566, 570, 571, 573, 574, 575, 576, 577, 579, 580, 581, 582, 585, 589, 591, 593, 594, 596, 597, 598, 601, 603, 604, 606, 607, 608, 610, 613, 616, 620, 621, 622, 623, 625, 626, 631, 635, 636, 644, 645, 646, 647, 648, 650, 651, 653, 659, 660, 661, 662, 663, 666, 667, 668, 669, 679, 680, 682, 683, 684, 685, 687, 689, 690, 693, 694, 696, 700, 701, 704, 705, 706, 708, 710, 711, 712, 714, 721, 722, 723, 728, 729, 731, 732, 733, 734, 735, 736, 737, 738, 739, 741, 742, 743, 745, 748, 753, 754, 758, 761, 762, 763, 764, 765, 770, 772, 774, 775, 776, 779, 780, 783, 785, 786, 789, 790, 791, 792, 793, 794, 795, 796, 797, 798, 803, 804, 807, 808, 811, 812, 814, 822, 824, 826, 828, 829, 832, 833, 834, 836, 837, 838, 839, 840, 843, 844, 845, 846, 849, 852, 854, 856, 857, 859, 860, 862, 864, 868, 870, 872, 873, 875, 876, 878, 881, 883, 884, 886, 887, 891, 893, 895, 897, 902, 903, 904, 906, 907, 909, 910, 913, 914, 915, 916, 918, 920, 930, 931, 933, 934, 938, 940, 942, 943, 944, 946, 948, 949, 950, 951, 954, 955, 959, 960, 961, 962, 965, 966, 968, 969, 971, 973, 974, 975, 976, 977, 979, 980, 981, 985, 986, 989, 990, 991, 993, 994, 995, 996]\n"
     ]
    }
   ],
   "source": [
    "Ref = rmse[0]\n",
    "accept = []\n",
    "P = []\n",
    "k = 0\n",
    "for i in range(1,len(rmse)):\n",
    "    if rmse[i] < Ref:\n",
    "        Ref = rmse[i]\n",
    "        accept.append(i)\n",
    "        \n",
    "    elif random.random() < np.exp(-(rmse[i] - Ref)/(u_g)):\n",
    "        P.append(np.exp(-(rmse[i] - Ref)/(u_g)))\n",
    "        Ref = rmse[i]\n",
    "        accept.append(i)\n",
    "        k +=1\n",
    "print(f\"{len(accept)} realizations were accepted.\")\n",
    "print(f\"Accepted realizations: {accept}\")"
   ]
  },
  {
   "cell_type": "code",
   "execution_count": 29,
   "metadata": {},
   "outputs": [
    {
     "data": {
      "text/plain": [
       "0     1.137437e-13\n",
       "1     5.770345e-01\n",
       "2     6.586363e-01\n",
       "3     6.387890e-01\n",
       "4     2.261284e-01\n",
       "5     5.508696e-01\n",
       "6     3.086279e-01\n",
       "7     7.680910e-01\n",
       "8     1.128918e+00\n",
       "9     1.012097e+00\n",
       "10    1.012580e+00\n",
       "11    3.090857e-01\n",
       "12    6.964663e-01\n",
       "13    8.775207e-01\n",
       "14    1.137437e-13\n",
       "dtype: float64"
      ]
     },
     "execution_count": 29,
     "metadata": {},
     "output_type": "execute_result"
    }
   ],
   "source": [
    "g_simu_stdev"
   ]
  },
  {
   "cell_type": "markdown",
   "metadata": {},
   "source": [
    "we see that station 0 and 14 are not sensitive to changing the PCT depth, so they are not worth anything"
   ]
  },
  {
   "cell_type": "code",
   "execution_count": 38,
   "metadata": {},
   "outputs": [],
   "source": [
    "simu_drop = g_simu.drop(labels=[0,14], axis=0)\n",
    "simu_drop_std = simu_drop.std(axis=1)\n",
    "station_drop = g_coordinates.drop(labels=[0,14], axis=0)\n",
    "g_data_drop = g_data.drop(labels=[0,14], axis=0)"
   ]
  },
  {
   "cell_type": "code",
   "execution_count": 34,
   "metadata": {},
   "outputs": [
    {
     "data": {
      "text/plain": [
       "<matplotlib.colorbar.Colorbar at 0x1f0e5570d08>"
      ]
     },
     "execution_count": 34,
     "metadata": {},
     "output_type": "execute_result"
    },
    {
     "data": {
      "image/png": "[encoded data removed]",
      "text/plain": [
       "<Figure size 432x288 with 2 Axes>"
      ]
     },
     "metadata": {
      "needs_background": "light"
     },
     "output_type": "display_data"
    }
   ],
   "source": [
    "cs = plt.scatter(station_drop['X'], station_drop['Y'], c=simu_drop_std)\n",
    "plt.xlabel('x (m)')\n",
    "plt.ylabel('y (m)')\n",
    "plt.colorbar(cs, label='stdv')"
   ]
  },
  {
   "cell_type": "code",
   "execution_count": 65,
   "metadata": {},
   "outputs": [
    {
     "data": {
      "text/plain": [
       "4.801443613595371"
      ]
     },
     "execution_count": 65,
     "metadata": {},
     "output_type": "execute_result"
    }
   ],
   "source": [
    "g_data_drop['grav'].std(axis=0)"
   ]
  },
  {
   "cell_type": "code",
   "execution_count": 72,
   "metadata": {},
   "outputs": [],
   "source": [
    "# uncertainty\n",
    "u_g = np.mean(noise)\n",
    "\n",
    "# calculate diffs\n",
    "n = simu_drop.shape[0]\n",
    "g_sim_diffssq = g_simu.sub(g_data_drop['grav'], axis=0)**2\n",
    "\n",
    "rmse = np.sqrt((g_sim_diffssq.sum(axis=0)/n))"
   ]
  },
  {
   "cell_type": "code",
   "execution_count": 73,
   "metadata": {},
   "outputs": [
    {
     "name": "stdout",
     "output_type": "stream",
     "text": [
      "383 realizations were accepted.\n",
      "Accepted realizations: [1, 2, 6, 8, 11, 13, 16, 17, 18, 19, 20, 21, 23, 27, 28, 31, 34, 36, 38, 40, 42, 43, 49, 53, 55, 57, 58, 60, 64, 66, 68, 76, 77, 79, 80, 82, 83, 94, 95, 98, 99, 101, 102, 103, 105, 106, 108, 109, 110, 113, 115, 117, 119, 121, 122, 126, 127, 128, 132, 135, 141, 143, 144, 145, 149, 153, 155, 156, 157, 163, 164, 167, 168, 169, 170, 171, 174, 175, 180, 188, 189, 190, 192, 199, 200, 204, 205, 210, 214, 216, 218, 221, 222, 225, 226, 227, 228, 232, 233, 236, 242, 244, 246, 248, 251, 252, 253, 254, 255, 256, 258, 259, 260, 262, 264, 265, 266, 270, 272, 276, 277, 280, 282, 283, 284, 290, 291, 294, 296, 315, 316, 317, 318, 323, 326, 327, 328, 329, 331, 333, 334, 335, 338, 339, 361, 365, 366, 368, 369, 371, 374, 376, 377, 379, 380, 381, 383, 384, 389, 390, 391, 392, 394, 401, 404, 405, 408, 411, 413, 414, 415, 418, 432, 433, 441, 445, 446, 447, 450, 451, 452, 453, 467, 468, 469, 473, 474, 475, 476, 485, 487, 488, 489, 491, 497, 498, 508, 509, 511, 520, 521, 522, 526, 531, 534, 536, 537, 538, 540, 541, 546, 547, 566, 567, 570, 571, 573, 574, 575, 576, 577, 578, 579, 580, 581, 588, 589, 591, 596, 597, 598, 601, 603, 604, 607, 608, 610, 613, 616, 618, 619, 620, 621, 625, 626, 629, 631, 634, 635, 644, 647, 648, 650, 651, 653, 659, 660, 661, 662, 667, 668, 669, 685, 687, 694, 696, 699, 700, 701, 704, 706, 708, 709, 710, 711, 712, 714, 719, 720, 721, 723, 728, 731, 732, 736, 737, 739, 741, 745, 748, 753, 754, 755, 758, 761, 762, 765, 774, 778, 779, 783, 784, 785, 788, 789, 791, 792, 793, 794, 796, 804, 811, 814, 822, 823, 824, 825, 826, 827, 828, 830, 832, 834, 836, 837, 839, 840, 843, 844, 845, 846, 849, 856, 862, 864, 868, 870, 872, 873, 876, 878, 884, 886, 887, 891, 903, 904, 906, 913, 916, 918, 922, 923, 925, 926, 931, 933, 934, 944, 946, 948, 950, 954, 955, 957, 959, 960, 961, 962, 965, 968, 969, 974, 975, 976, 979, 980, 989, 990, 991, 994, 995, 996]\n"
     ]
    }
   ],
   "source": [
    "Ref = rmse[0]\n",
    "accept = []\n",
    "P = []\n",
    "k = 0\n",
    "for i in range(1,len(rmse)):\n",
    "    if rmse[i] < Ref:\n",
    "        Ref = rmse[i]\n",
    "        accept.append(i)\n",
    "        \n",
    "    elif random.random() < np.exp(-(rmse[i] - Ref)/(u_g)):\n",
    "        P.append(np.exp(-(rmse[i] - Ref)/(u_g)))\n",
    "        Ref = rmse[i]\n",
    "        accept.append(i)\n",
    "        k +=1\n",
    "print(f\"{len(accept)} realizations were accepted.\")\n",
    "print(f\"Accepted realizations: {accept}\")"
   ]
  },
  {
   "cell_type": "code",
   "execution_count": 78,
   "metadata": {},
   "outputs": [],
   "source": [
    "first_half = np.loadtxt('../../../data_var/lith_block_samples_run01_500real_rseed0')\n",
    "second_half = np.loadtxt('../../../data_var/lith_block_samples_run02_500real_rseed1000')"
   ]
  },
  {
   "cell_type": "code",
   "execution_count": 86,
   "metadata": {},
   "outputs": [],
   "source": [
    "full_ens = np.append(first_half, second_half, axis=0)"
   ]
  },
  {
   "cell_type": "code",
   "execution_count": 87,
   "metadata": {},
   "outputs": [
    {
     "data": {
      "text/plain": [
       "(1000, 300000)"
      ]
     },
     "execution_count": 87,
     "metadata": {},
     "output_type": "execute_result"
    }
   ],
   "source": [
    "full_ens.shape"
   ]
  },
  {
   "cell_type": "code",
   "execution_count": 88,
   "metadata": {},
   "outputs": [],
   "source": [
    "accepted_reals = full_ens[accept, :]"
   ]
  },
  {
   "cell_type": "code",
   "execution_count": 89,
   "metadata": {},
   "outputs": [
    {
     "data": {
      "text/plain": [
       "(533, 300000)"
      ]
     },
     "execution_count": 89,
     "metadata": {},
     "output_type": "execute_result"
    }
   ],
   "source": [
    "accepted_reals.shape"
   ]
  },
  {
   "cell_type": "code",
   "execution_count": 80,
   "metadata": {},
   "outputs": [],
   "source": [
    "np.append?"
   ]
  },
  {
   "cell_type": "code",
   "execution_count": 40,
   "metadata": {},
   "outputs": [],
   "source": [
    "f = h5py.File('../models/20210219_MC_ensemble/PCT_base_model_final.h5','r')"
   ]
  },
  {
   "cell_type": "code",
   "execution_count": 43,
   "metadata": {},
   "outputs": [],
   "source": [
    "z,y,x = f['uindex'].shape"
   ]
  },
  {
   "cell_type": "code",
   "execution_count": 48,
   "metadata": {},
   "outputs": [
    {
     "data": {
      "text/plain": [
       "50.5"
      ]
     },
     "execution_count": 48,
     "metadata": {},
     "output_type": "execute_result"
    }
   ],
   "source": [
    "101/2"
   ]
  },
  {
   "cell_type": "code",
   "execution_count": 49,
   "metadata": {},
   "outputs": [],
   "source": [
    "def fahrenheit_to_celsius(temp_fahrenheit, difference=False):\n",
    "    if not difference:\n",
    "        return (temp_fahrenheit - 32) * 5 / 9\n",
    "    else:\n",
    "        return temp_fahrenheit * 5 / 9\n",
    "    \n",
    "    \n",
    "def extTui(datafile, dimension=3, direction='x'):\n",
    "    f = h5py.File(datafile,'r')\n",
    "    z, y, x = f['temp'].shape\n",
    "    if dimension==3:\n",
    "        temp = f['temp'][:,:,:]\n",
    "        uindex = f['uindex'][:,:,:]\n",
    "    elif dimension==2:\n",
    "        if direction=='x':\n",
    "            temp = f['temp'][:,:,x//2]\n",
    "            uindex = f['uindex'][:,:,x//2]\n",
    "        elif direction=='y':\n",
    "            temp = f['temp'][:,y//2,:]\n",
    "            uindex = f['uindex'][:,y//2,:]\n",
    "        elif direction=='z':\n",
    "            temp = f['temp'][z//2,:,:]\n",
    "            uindex = f['uindex'][z//2,:,:]\n",
    "    return temp,uindex\n",
    "    "
   ]
  },
  {
   "cell_type": "code",
   "execution_count": 3,
   "metadata": {},
   "outputs": [
    {
     "name": "stdout",
     "output_type": "stream",
     "text": [
      "1.4237296698599444\n"
     ]
    }
   ],
   "source": [
    "# define uT\n",
    "T_error = 0.25 # temperature error tool accuracy\n",
    "s_error = fahrenheit_to_celsius(1.25, difference=True) # sensor response time of 2 sec and 1 year after drilling\n",
    "l_error = fahrenheit_to_celsius(1.25, difference=True) # logging speed of 20/ft after 1 year\n",
    "d_error = 1.0 # estimated temperature error by discretization\n",
    "#u_T = np.sqrt(T_error[0]**2 + T_error[1]**2 + T_error[2]**2 + T_error[3]**2 + d_error**2)\n",
    "#u_T = np.sum(T_error**2)/4\n",
    "u_T = np.sqrt(T_error**2 + s_error**2 + l_error**2 + d_error**2)\n",
    "print(u_T)"
   ]
  },
  {
   "cell_type": "code",
   "execution_count": 4,
   "metadata": {},
   "outputs": [],
   "source": [
    "# load Simulation outputs. Those outputs get written by SHEMAT-Suite if runmode = 1\n",
    "outp_path = '../models/20210219_MC_ensemble/'\n",
    "diffs = np.loadtxt(outp_path+'PCT_MC_0var_TCt_final.dat',skiprows=3,usecols=(8,),dtype=float)\n",
    "for i in range(1,100):\n",
    "    n = np.loadtxt(outp_path+f'PCT_MC_{i}var_TCt_final.dat',skiprows=3,usecols=(8,),dtype=float)\n",
    "    diffs=np.vstack([diffs,n])"
   ]
  },
  {
   "cell_type": "code",
   "execution_count": 5,
   "metadata": {},
   "outputs": [],
   "source": [
    "# calculate RMSE of each realisation.\n",
    "n = diffs.shape[1] # as we have 4 data points for temperature\n",
    "\n",
    "diffs_sq = diffs**2\n",
    "ssr = diffs_sq.sum(axis=1)\n",
    "rmse = np.sqrt((diffs_sq.sum(axis=1)/n))"
   ]
  },
  {
   "cell_type": "code",
   "execution_count": 6,
   "metadata": {},
   "outputs": [
    {
     "name": "stdout",
     "output_type": "stream",
     "text": [
      "(100, 98)\n"
     ]
    }
   ],
   "source": [
    "# this is a matrix with all vectors. First 96 columns are differences of the wells, then the column is the SSR, \n",
    "# final column is RMSE\n",
    "tot_diffs = np.column_stack((diffs,ssr,rmse))\n",
    "print(tot_diffs.shape)\n",
    "# add index to the realizations\n",
    "ind = np.array(range(100))\n",
    "tot_diffs = np.column_stack((tot_diffs,ind))"
   ]
  },
  {
   "cell_type": "code",
   "execution_count": 7,
   "metadata": {},
   "outputs": [
    {
     "data": {
      "text/plain": [
       "array([-1.5201195, -1.461665 , -1.403697 , -1.3462403, -1.2893066,\n",
       "       -1.2328994, -1.177    , -1.1215621, -1.0665283, -1.0118893,\n",
       "       -0.957759 , -0.9043045, -0.8516312, -0.799683 , -0.7481756,\n",
       "       -0.6966115, -0.6445547, -0.5926642, -0.5419091, -0.4931279,\n",
       "       -0.4469584, -0.4038413, -0.3639712, -0.3270807, -0.2918596,\n",
       "       -0.2546062, -0.2212619, -0.1942998, -0.1707273, -0.1490087,\n",
       "       -0.1283688, -0.1085283, -0.0957589, -0.0855443, -0.0741754,\n",
       "       -0.0614251, -0.0469003, -0.03273  , -0.0189854, -1.1048345,\n",
       "       -1.0635816, -1.0211166, -0.977543 , -0.9329919, -0.8876188,\n",
       "       -0.8415941, -0.7950881, -0.7482432, -0.7011275, -0.6536518,\n",
       "       -0.5966005, -0.5482866, -0.5098773, -0.4639739, -0.4102419,\n",
       "       -0.3501038, -0.2919517, -0.2353215, -0.1797906, -0.1273862,\n",
       "       -0.077933 , -3.460852 , -3.133596 , -2.793566 , -2.453768 ,\n",
       "       -2.070575 , -1.814628 , -1.662045 , -1.458957 , -1.241025 ,\n",
       "       -1.042408 , -0.86238  , -0.691421 , -0.527159 , -0.368137 ,\n",
       "       -0.213537 , -0.062645 ,  0.021962 ,  0.04135  ,  0.059499 ,\n",
       "        0.076336 ,  0.091814 ,  0.1059437,  0.1187639,  0.1303114,\n",
       "        0.1406065,  0.1496642,  0.1506619,  0.143953 ,  0.134227 ,\n",
       "        0.1216149,  0.1057818,  0.0868657,  0.0677845,  0.0486537,\n",
       "        0.0295759])"
      ]
     },
     "execution_count": 7,
     "metadata": {},
     "output_type": "execute_result"
    }
   ],
   "source": [
    "diffs[0,:] - diffs[72,:]"
   ]
  },
  {
   "cell_type": "markdown",
   "metadata": {},
   "source": [
    "## Rejection sampling\n",
    "we now start with a random sample and go randomly through the pool, accepting and rejecting realizations.\n",
    "The algorithm starts with one refrence sample `Ref`. Then, iteratively, samples (= realizations) get accepted, rejected based on their RMSE values. That is why we use the 6th column of `tot_diffs`. Alternatively, one could also just use the `rmse` array."
   ]
  },
  {
   "cell_type": "code",
   "execution_count": 78,
   "metadata": {},
   "outputs": [
    {
     "name": "stdout",
     "output_type": "stream",
     "text": [
      "23\n",
      "[1, 4, 8, 12, 13, 14, 19, 23, 24, 29, 30, 44, 50, 64, 71, 76, 84, 85, 88, 93, 96, 97, 99]\n"
     ]
    }
   ],
   "source": [
    "# Chronological implemntation - start von 1 bis N \n",
    "# Can be used here, if samples generated are already in a random order and not correlated.\n",
    "# That is usually the case with GemPy exports to SHEMAT-Suite.\n",
    "col = 97\n",
    "Ref = tot_diffs[0,col]\n",
    "accept = []\n",
    "P = []\n",
    "k=0\n",
    "for i in range(1,100):\n",
    "    if tot_diffs[i,col] < Ref:\n",
    "        Ref = tot_diffs[i,col]\n",
    "        accept.append(i)\n",
    "        \n",
    "    elif random.random() < np.exp(-(tot_diffs[i,col] - Ref)/(u_T)):\n",
    "        P.append(np.exp(-(tot_diffs[i,col] - Ref)/(u_T)))\n",
    "        Ref = tot_diffs[i,col]\n",
    "        accept.append(i)\n",
    "        k += 1\n",
    "print(len(accept))\n",
    "print(accept)"
   ]
  },
  {
   "cell_type": "markdown",
   "metadata": {},
   "source": [
    "And we see, temperature data is not sensitive to changes in the PCT-depth.  \n",
    "\n",
    "But what if we also treat the thermal conductivity as an uncertain parameter?"
   ]
  },
  {
   "cell_type": "markdown",
   "metadata": {},
   "source": [
    "*Then the rejection is way more rigorous.*"
   ]
  },
  {
   "cell_type": "code",
   "execution_count": 79,
   "metadata": {},
   "outputs": [],
   "source": [
    "fids = glob.glob('/home/bl2/ownCloud/SHEMAT_GeoMol/20210219_MC_outputs/*.h5')"
   ]
  },
  {
   "cell_type": "code",
   "execution_count": 80,
   "metadata": {},
   "outputs": [],
   "source": [
    "outpath = '/home/bl2/ownCloud/SHEMAT_GeoMol/20210219_MC_outputs/'\n",
    "poTemp = []\n",
    "poUi = []\n",
    "dicfil = {}\n",
    "for fn in fids:\n",
    "    for i in accept:\n",
    "        if fn == outpath+\"PCT_MC_{}var_TCt_final.h5\".format(i):\n",
    "            dT,dui = extTui(fn, dimension=2, direction='y')\n",
    "            poTemp.append(dT)\n",
    "            poUi.append(dui)            \n",
    "            dicfil[fn.split('/')[-1]] = dui\n",
    "            "
   ]
  },
  {
   "cell_type": "code",
   "execution_count": 81,
   "metadata": {},
   "outputs": [
    {
     "name": "stdout",
     "output_type": "stream",
     "text": [
      "(23, 60, 100) (23, 60, 100) (23,)\n"
     ]
    }
   ],
   "source": [
    "poTempa = np.asarray(poTemp)\n",
    "poUia = np.asarray(poUi)\n",
    "accepta = np.asarray(accept)\n",
    "print(poUia.shape,poTempa.shape,accepta.shape)\n",
    "np.savetxt('accepted_realisations',accepta,fmt='%i',delimiter=' ',newline='\\n')\n",
    "#np.savetxt('posterior_Temps',poTempa,fmt='%.5f',delimiter=' ',newline='\\n',header=\" posterior 61 realizations for Temperature\")\n",
    "#np.savetxt('posterior_Uindex',poUia,fmt='%i',delimiter=' ',newline='\\n')"
   ]
  },
  {
   "cell_type": "code",
   "execution_count": 82,
   "metadata": {},
   "outputs": [],
   "source": [
    "# calculate mean temperature field and mean posterior uindex\n",
    "mTemp = np.mean(poTempa,axis=0)\n",
    "mUi = np.mean(poUia,axis=0)\n",
    "# import y and z for visualising\n",
    "plfn = h5py.File('../models/20210219_MC_ensemble/PCT_base_model_final.h5','r')\n",
    "x = plfn['x'][0,0,:]\n",
    "y = plfn['y'][0,:,0]\n",
    "z = plfn['z'][:,0,0]\n",
    "refT = plfn['temp'][:,25,:]"
   ]
  },
  {
   "cell_type": "code",
   "execution_count": 83,
   "metadata": {},
   "outputs": [
    {
     "data": {
      "text/plain": [
       "(60, 100)"
      ]
     },
     "execution_count": 83,
     "metadata": {},
     "output_type": "execute_result"
    }
   ],
   "source": [
    "poUi[0].shape"
   ]
  },
  {
   "cell_type": "code",
   "execution_count": 84,
   "metadata": {},
   "outputs": [
    {
     "data": {
      "text/plain": [
       "Text(0, 0.5, 'depth[m]')"
      ]
     },
     "execution_count": 84,
     "metadata": {},
     "output_type": "execute_result"
    },
    {
     "data": {
      "image/png": "[encoded data removed]",
      "text/plain": [
       "<Figure size 1440x576 with 1 Axes>"
      ]
     },
     "metadata": {
      "needs_background": "light"
     },
     "output_type": "display_data"
    }
   ],
   "source": [
    "fig = plt.figure(figsize=(20,8))\n",
    "cs = plt.contourf(x,z-6500.,mUi,cmap='viridis')\n",
    "plt.tick_params(axis='both',labelsize=14)\n",
    "plt.xlabel('x [m]',fontsize=16)\n",
    "plt.ylabel('depth[m]',fontsize=16)"
   ]
  },
  {
   "cell_type": "code",
   "execution_count": 85,
   "metadata": {},
   "outputs": [
    {
     "data": {
      "image/png": "[encoded data removed]",
      "text/plain": [
       "<Figure size 1440x576 with 2 Axes>"
      ]
     },
     "metadata": {
      "needs_background": "light"
     },
     "output_type": "display_data"
    }
   ],
   "source": [
    "fig = plt.figure(figsize=(20,8))\n",
    "cs = plt.pcolor(x,z-6500.,mTemp,cmap='viridis', shading='auto')\n",
    "plt.tick_params(axis='both',labelsize=14)\n",
    "plt.xlabel('x [m]',fontsize=16)\n",
    "plt.ylabel('depth[m]',fontsize=16)\n",
    "cbar = plt.colorbar(cs,orientation='vertical')\n",
    "cbar.set_label('Temperature $^\\circ$C]',fontsize=16)\n",
    "cbar.ax.tick_params(labelsize=14)"
   ]
  },
  {
   "cell_type": "code",
   "execution_count": 87,
   "metadata": {},
   "outputs": [
    {
     "data": {
      "image/png": "[encoded data removed]",
      "text/plain": [
       "<Figure size 1440x576 with 2 Axes>"
      ]
     },
     "metadata": {
      "needs_background": "light"
     },
     "output_type": "display_data"
    }
   ],
   "source": [
    "#plot ssr of mean posterior and reference model\n",
    "fig = plt.figure(figsize=(20,8))\n",
    "cs = plt.pcolor(x,z-6500.,(refT-mTemp)**2,cmap='RdBu', shading='auto')\n",
    "plt.tick_params(axis='both',labelsize=14)\n",
    "plt.xlabel('x [m]',fontsize=16)\n",
    "plt.ylabel('depth[m]',fontsize=16)\n",
    "cbar = plt.colorbar(cs,orientation='vertical')\n",
    "cbar.set_label('Temperature $^\\circ$C]',fontsize=16)\n",
    "cbar.ax.tick_params(labelsize=14)"
   ]
  },
  {
   "cell_type": "code",
   "execution_count": null,
   "metadata": {},
   "outputs": [],
   "source": []
  }
 ],
 "metadata": {
  "hide_input": false,
  "kernelspec": {
   "display_name": "Python [conda env:env_datasci]",
   "language": "python",
   "name": "conda-env-env_datasci-py"
  },
  "language_info": {
   "codemirror_mode": {
    "name": "ipython",
    "version": 3
   },
   "file_extension": ".py",
   "mimetype": "text/x-python",
   "name": "python",
   "nbconvert_exporter": "python",
   "pygments_lexer": "ipython3",
   "version": "3.7.8"
  },
  "latex_envs": {
   "LaTeX_envs_menu_present": true,
   "autoclose": false,
   "autocomplete": true,
   "bibliofile": "biblio.bib",
   "cite_by": "apalike",
   "current_citInitial": 1,
   "eqLabelWithNumbers": true,
   "eqNumInitial": 1,
   "hotkeys": {
    "equation": "Ctrl-E",
    "itemize": "Ctrl-I"
   },
   "labels_anchors": false,
   "latex_user_defs": false,
   "report_style_numbering": false,
   "user_envs_cfg": false
  },
  "varInspector": {
   "cols": {
    "lenName": 16,
    "lenType": 16,
    "lenVar": 40
   },
   "kernels_config": {
    "python": {
     "delete_cmd_postfix": "",
     "delete_cmd_prefix": "del ",
     "library": "var_list.py",
     "varRefreshCmd": "print(var_dic_list())"
    },
    "r": {
     "delete_cmd_postfix": ") ",
     "delete_cmd_prefix": "rm(",
     "library": "var_list.r",
     "varRefreshCmd": "cat(var_dic_list()) "
    }
   },
   "types_to_exclude": [
    "module",
    "function",
    "builtin_function_or_method",
    "instance",
    "_Feature"
   ],
   "window_display": false
  }
 },
 "nbformat": 4,
 "nbformat_minor": 4
}
