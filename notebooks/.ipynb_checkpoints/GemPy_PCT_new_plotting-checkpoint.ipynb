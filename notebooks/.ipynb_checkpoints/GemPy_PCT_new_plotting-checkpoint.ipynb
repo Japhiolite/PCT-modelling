{
 "cells": [
  {
   "cell_type": "markdown",
   "metadata": {},
   "source": [
    "# Create a 3D model of a Permo-Carboniferous Trough (PCT)\n",
    "\n",
    "Based on two seismic sections from the NAGRA report [NAGRA NAB 14-17](https://www.nagra.ch/data/documents/database/dokumente/$default/Default%20Folder/Publikationen/NABs%202004%20-%202015/d_nab14-017.pdf), we extracted interface and orientation points for lithological units and faults.  \n",
    "\n",
    "The lithological units comprise the permo-carboniferous filling (divided in three stages based on the report results), Mesozoic, Tertiary, and Quaternary strata, as well as the Palaeozoic crystalline basement rocks."
   ]
  },
  {
   "cell_type": "code",
   "execution_count": 1,
   "metadata": {
    "execution_event_id": "f1376539-5ee2-4e8d-934f-3cd1de49b436",
    "last_executed_text": "# import some libraries\nimport sys, os\nsys.path.append(r'/Users/nijan/Documents/git/gempy/')\nimport seaborn as sns\nimport gempy as gp\n%matplotlib inline\n\nimport numpy as np\n#import pandas as pd",
    "persistent_id": "fec1bccb-59c6-4fb3-aa4c-143a6244bfb6"
   },
   "outputs": [],
   "source": [
    "# These two lines are necessary only if GemPy is not installed via pip\n",
    "import sys, os\n",
    "sys.path.append(r'../../gempy/')\n",
    "#sys.path.append(r'/Users/nijan/Documents/git/gempy/')\n",
    "\n",
    "# Importing GemPy\n",
    "import gempy as gp\n",
    "\n",
    "# Importing auxilary libraries\n",
    "import numpy as np\n",
    "import matplotlib.pyplot as plt\n",
    "import matplotlib.image as mpimg\n",
    "\n",
    "# For embedding matplotlib figures\n",
    "%matplotlib qt5\n",
    "#%matplotlib inline"
   ]
  },
  {
   "cell_type": "code",
   "execution_count": 2,
   "metadata": {},
   "outputs": [],
   "source": [
    "# Import improved plotting features\n",
    "from gempy.plot import visualization_2d as vv\n",
    "from gempy.plot import vista"
   ]
  },
  {
   "cell_type": "markdown",
   "metadata": {},
   "source": [
    "# Initialize the model\n",
    "We start with modelling the trough by generating a gempy model object. This will use interface points and orientations, which we previously stored in a `.csv` file."
   ]
  },
  {
   "cell_type": "code",
   "execution_count": 3,
   "metadata": {
    "execution_event_id": "32e97e41-e5d0-40fb-aa7c-f57164108f31",
    "last_executed_text": "# Import data\n# Create a model instance\ngeo_model = gp.create_model('Permo_Carb_Trough')\n\n# Initialize the model, set dimension and load interface and orientation data\ngp.init_data(geo_model, [0, 30000., 0, 15000., -7000, 1000.], [50, 50, 60],\n                         path_o = '../data/both_lines82and6_foliations_90_270.csv',\n                         path_i = '../data/both_lines82and6_interfaces.csv', default_values=False);",
    "persistent_id": "b5f9eda2-0419-4d49-af92-c997c1d04c8b"
   },
   "outputs": [
    {
     "name": "stdout",
     "output_type": "stream",
     "text": [
      "Active grids: ['regular']\n",
      "Active grids: ['regular' 'topography']\n"
     ]
    }
   ],
   "source": [
    "# Import data\n",
    "# Create a model instance\n",
    "geo_model = gp.create_model('PCT_model')\n",
    "\n",
    "# Initialize the model, set dimension and load interface and orientation data\n",
    "gp.init_data(geo_model, [0, 28000., 0, 20000., -6500, 1000.], [100, 50, 80],\n",
    "            path_i = '../data/leu2008/line82_interfaces_reduced_999_3D.csv',\n",
    "            path_o = '../data/leu2008/line82_foliations_reduced_3D.csv');\n",
<<<<<<< HEAD
    "geo_model.set_topography(source='random', d_z=np.array([300,1000]), fd=1.8);"
=======
    "geo_model.set_topography(source='random', d_z=np.array([0,1000]), fd=1.2);"
>>>>>>> 152f82ae45eb205ade2a6191ed0b548682544a52
   ]
  },
  {
   "cell_type": "code",
   "execution_count": 4,
   "metadata": {
    "scrolled": true
   },
   "outputs": [
    {
     "name": "stdout",
     "output_type": "stream",
     "text": [
      "Setting kriging parameters to their default values.\n",
      "Compiling theano function...\n",
      "Level of Optimization:  fast_compile\n",
      "Device:  cpu\n",
      "Precision:  float64\n",
      "Number of faults:  0\n",
      "Compilation Done!\n",
      "Kriging values: \n",
      "                       values\n",
      "range                35217.2\n",
      "$C_o$            2.95298e+07\n",
      "drift equations       [3, 3]\n"
     ]
    }
   ],
   "source": [
    "# Set the interpolator function\n",
    "# Create the theano model\n",
    "gp.set_interpolator(geo_model,\n",
    "                         compile_theano=True,\n",
    "                         theano_optimizer='fast_compile',\n",
    "                         verbose=[]);"
   ]
  },
  {
   "cell_type": "markdown",
   "metadata": {},
   "source": [
    "## Setting up a Figure for a Cross section"
   ]
  },
  {
   "cell_type": "code",
   "execution_count": 5,
   "metadata": {},
   "outputs": [],
   "source": [
    "%matplotlib qt5\n",
    "import pyvista as pv\n",
    "pv.set_plot_theme(\"document\")\n",
    "\n",
    "p2d = vv.Plot2D(geo_model)\n",
    "p2d.create_figure((13,6));"
   ]
  },
  {
   "cell_type": "markdown",
   "metadata": {},
   "source": [
    "### Add a model section\n",
    "after creating the Figure object, we can add a cross section from our model"
   ]
  },
  {
   "cell_type": "code",
   "execution_count": 6,
   "metadata": {},
   "outputs": [],
   "source": [
    "# A section along the x axis\n",
    "ax = p2d.add_section(cell_number=5, direction='y')"
   ]
  },
  {
   "cell_type": "markdown",
   "metadata": {},
   "source": [
    "### load a cross section image\n",
    "with the figure above active, we can add a figure of a cross section to it"
   ]
  },
  {
   "cell_type": "code",
   "execution_count": 7,
   "metadata": {},
   "outputs": [],
   "source": [
    "# read image\n",
    "img = mpimg.imread('../imgs/line82_nf-10.png')\n",
    "# Plotting it in place\n",
    "ax.imshow(img, origin='upper', alpha=.7, extent = (500, 28500, -6500, 1000));"
   ]
  },
  {
   "cell_type": "code",
   "execution_count": 8,
   "metadata": {},
   "outputs": [],
   "source": [
    "p2d.plot_data(ax)"
   ]
  },
  {
   "cell_type": "markdown",
   "metadata": {},
   "source": [
    "# Adding information to the model\n",
    "## Surfaces"
   ]
  },
  {
   "cell_type": "code",
   "execution_count": 9,
   "metadata": {},
   "outputs": [
    {
     "data": {
      "text/html": [
       "<style  type=\"text/css\" >\n",
<<<<<<< HEAD
       "    #T_d8f3665a_d33f_11ea_bd14_184f329eea2drow0_col3 {\n",
       "            background-color:  #015482;\n",
       "        }    #T_d8f3665a_d33f_11ea_bd14_184f329eea2drow1_col3 {\n",
       "            background-color:  #9f0052;\n",
       "        }    #T_d8f3665a_d33f_11ea_bd14_184f329eea2drow2_col3 {\n",
       "            background-color:  #ffbe00;\n",
       "        }    #T_d8f3665a_d33f_11ea_bd14_184f329eea2drow3_col3 {\n",
       "            background-color:  #728f02;\n",
       "        }    #T_d8f3665a_d33f_11ea_bd14_184f329eea2drow4_col3 {\n",
       "            background-color:  #443988;\n",
       "        }    #T_d8f3665a_d33f_11ea_bd14_184f329eea2drow5_col3 {\n",
       "            background-color:  #ff3f20;\n",
       "        }    #T_d8f3665a_d33f_11ea_bd14_184f329eea2drow6_col3 {\n",
       "            background-color:  #5DA629;\n",
       "        }    #T_d8f3665a_d33f_11ea_bd14_184f329eea2drow7_col3 {\n",
       "            background-color:  #4878d0;\n",
       "        }    #T_d8f3665a_d33f_11ea_bd14_184f329eea2drow8_col3 {\n",
       "            background-color:  #ee854a;\n",
       "        }    #T_d8f3665a_d33f_11ea_bd14_184f329eea2drow9_col3 {\n",
       "            background-color:  #6acc64;\n",
       "        }    #T_d8f3665a_d33f_11ea_bd14_184f329eea2drow10_col3 {\n",
       "            background-color:  #d65f5f;\n",
       "        }    #T_d8f3665a_d33f_11ea_bd14_184f329eea2drow11_col3 {\n",
       "            background-color:  #956cb4;\n",
       "        }    #T_d8f3665a_d33f_11ea_bd14_184f329eea2drow12_col3 {\n",
       "            background-color:  #8c613c;\n",
       "        }</style><table id=\"T_d8f3665a_d33f_11ea_bd14_184f329eea2d\" ><thead>    <tr>        <th class=\"blank level0\" ></th>        <th class=\"col_heading level0 col0\" >surface</th>        <th class=\"col_heading level0 col1\" >series</th>        <th class=\"col_heading level0 col2\" >order_surfaces</th>        <th class=\"col_heading level0 col3\" >color</th>        <th class=\"col_heading level0 col4\" >id</th>    </tr></thead><tbody>\n",
       "                <tr>\n",
       "                        <th id=\"T_d8f3665a_d33f_11ea_bd14_184f329eea2dlevel0_row0\" class=\"row_heading level0 row0\" >0</th>\n",
       "                        <td id=\"T_d8f3665a_d33f_11ea_bd14_184f329eea2drow0_col0\" class=\"data row0 col0\" >Fault2</td>\n",
       "                        <td id=\"T_d8f3665a_d33f_11ea_bd14_184f329eea2drow0_col1\" class=\"data row0 col1\" >Default series</td>\n",
       "                        <td id=\"T_d8f3665a_d33f_11ea_bd14_184f329eea2drow0_col2\" class=\"data row0 col2\" >1</td>\n",
       "                        <td id=\"T_d8f3665a_d33f_11ea_bd14_184f329eea2drow0_col3\" class=\"data row0 col3\" >#015482</td>\n",
       "                        <td id=\"T_d8f3665a_d33f_11ea_bd14_184f329eea2drow0_col4\" class=\"data row0 col4\" >1</td>\n",
       "            </tr>\n",
       "            <tr>\n",
       "                        <th id=\"T_d8f3665a_d33f_11ea_bd14_184f329eea2dlevel0_row1\" class=\"row_heading level0 row1\" >1</th>\n",
       "                        <td id=\"T_d8f3665a_d33f_11ea_bd14_184f329eea2drow1_col0\" class=\"data row1 col0\" >Fault5</td>\n",
       "                        <td id=\"T_d8f3665a_d33f_11ea_bd14_184f329eea2drow1_col1\" class=\"data row1 col1\" >Default series</td>\n",
       "                        <td id=\"T_d8f3665a_d33f_11ea_bd14_184f329eea2drow1_col2\" class=\"data row1 col2\" >2</td>\n",
       "                        <td id=\"T_d8f3665a_d33f_11ea_bd14_184f329eea2drow1_col3\" class=\"data row1 col3\" >#9f0052</td>\n",
       "                        <td id=\"T_d8f3665a_d33f_11ea_bd14_184f329eea2drow1_col4\" class=\"data row1 col4\" >2</td>\n",
       "            </tr>\n",
       "            <tr>\n",
       "                        <th id=\"T_d8f3665a_d33f_11ea_bd14_184f329eea2dlevel0_row2\" class=\"row_heading level0 row2\" >2</th>\n",
       "                        <td id=\"T_d8f3665a_d33f_11ea_bd14_184f329eea2drow2_col0\" class=\"data row2 col0\" >Fault6</td>\n",
       "                        <td id=\"T_d8f3665a_d33f_11ea_bd14_184f329eea2drow2_col1\" class=\"data row2 col1\" >Default series</td>\n",
       "                        <td id=\"T_d8f3665a_d33f_11ea_bd14_184f329eea2drow2_col2\" class=\"data row2 col2\" >3</td>\n",
       "                        <td id=\"T_d8f3665a_d33f_11ea_bd14_184f329eea2drow2_col3\" class=\"data row2 col3\" >#ffbe00</td>\n",
       "                        <td id=\"T_d8f3665a_d33f_11ea_bd14_184f329eea2drow2_col4\" class=\"data row2 col4\" >3</td>\n",
       "            </tr>\n",
       "            <tr>\n",
       "                        <th id=\"T_d8f3665a_d33f_11ea_bd14_184f329eea2dlevel0_row3\" class=\"row_heading level0 row3\" >3</th>\n",
       "                        <td id=\"T_d8f3665a_d33f_11ea_bd14_184f329eea2drow3_col0\" class=\"data row3 col0\" >Lower-filling</td>\n",
       "                        <td id=\"T_d8f3665a_d33f_11ea_bd14_184f329eea2drow3_col1\" class=\"data row3 col1\" >Default series</td>\n",
       "                        <td id=\"T_d8f3665a_d33f_11ea_bd14_184f329eea2drow3_col2\" class=\"data row3 col2\" >4</td>\n",
       "                        <td id=\"T_d8f3665a_d33f_11ea_bd14_184f329eea2drow3_col3\" class=\"data row3 col3\" >#728f02</td>\n",
       "                        <td id=\"T_d8f3665a_d33f_11ea_bd14_184f329eea2drow3_col4\" class=\"data row3 col4\" >4</td>\n",
       "            </tr>\n",
       "            <tr>\n",
       "                        <th id=\"T_d8f3665a_d33f_11ea_bd14_184f329eea2dlevel0_row4\" class=\"row_heading level0 row4\" >4</th>\n",
       "                        <td id=\"T_d8f3665a_d33f_11ea_bd14_184f329eea2drow4_col0\" class=\"data row4 col0\" >Middle-filling</td>\n",
       "                        <td id=\"T_d8f3665a_d33f_11ea_bd14_184f329eea2drow4_col1\" class=\"data row4 col1\" >Default series</td>\n",
       "                        <td id=\"T_d8f3665a_d33f_11ea_bd14_184f329eea2drow4_col2\" class=\"data row4 col2\" >5</td>\n",
       "                        <td id=\"T_d8f3665a_d33f_11ea_bd14_184f329eea2drow4_col3\" class=\"data row4 col3\" >#443988</td>\n",
       "                        <td id=\"T_d8f3665a_d33f_11ea_bd14_184f329eea2drow4_col4\" class=\"data row4 col4\" >5</td>\n",
       "            </tr>\n",
       "            <tr>\n",
       "                        <th id=\"T_d8f3665a_d33f_11ea_bd14_184f329eea2dlevel0_row5\" class=\"row_heading level0 row5\" >5</th>\n",
       "                        <td id=\"T_d8f3665a_d33f_11ea_bd14_184f329eea2drow5_col0\" class=\"data row5 col0\" >Upper-filling</td>\n",
       "                        <td id=\"T_d8f3665a_d33f_11ea_bd14_184f329eea2drow5_col1\" class=\"data row5 col1\" >Default series</td>\n",
       "                        <td id=\"T_d8f3665a_d33f_11ea_bd14_184f329eea2drow5_col2\" class=\"data row5 col2\" >6</td>\n",
       "                        <td id=\"T_d8f3665a_d33f_11ea_bd14_184f329eea2drow5_col3\" class=\"data row5 col3\" >#ff3f20</td>\n",
       "                        <td id=\"T_d8f3665a_d33f_11ea_bd14_184f329eea2drow5_col4\" class=\"data row5 col4\" >6</td>\n",
       "            </tr>\n",
       "            <tr>\n",
       "                        <th id=\"T_d8f3665a_d33f_11ea_bd14_184f329eea2dlevel0_row6\" class=\"row_heading level0 row6\" >6</th>\n",
       "                        <td id=\"T_d8f3665a_d33f_11ea_bd14_184f329eea2drow6_col0\" class=\"data row6 col0\" >Mesozoic</td>\n",
       "                        <td id=\"T_d8f3665a_d33f_11ea_bd14_184f329eea2drow6_col1\" class=\"data row6 col1\" >Default series</td>\n",
       "                        <td id=\"T_d8f3665a_d33f_11ea_bd14_184f329eea2drow6_col2\" class=\"data row6 col2\" >7</td>\n",
       "                        <td id=\"T_d8f3665a_d33f_11ea_bd14_184f329eea2drow6_col3\" class=\"data row6 col3\" >#5DA629</td>\n",
       "                        <td id=\"T_d8f3665a_d33f_11ea_bd14_184f329eea2drow6_col4\" class=\"data row6 col4\" >7</td>\n",
       "            </tr>\n",
       "            <tr>\n",
       "                        <th id=\"T_d8f3665a_d33f_11ea_bd14_184f329eea2dlevel0_row7\" class=\"row_heading level0 row7\" >7</th>\n",
       "                        <td id=\"T_d8f3665a_d33f_11ea_bd14_184f329eea2drow7_col0\" class=\"data row7 col0\" >Tertiary</td>\n",
       "                        <td id=\"T_d8f3665a_d33f_11ea_bd14_184f329eea2drow7_col1\" class=\"data row7 col1\" >Default series</td>\n",
       "                        <td id=\"T_d8f3665a_d33f_11ea_bd14_184f329eea2drow7_col2\" class=\"data row7 col2\" >8</td>\n",
       "                        <td id=\"T_d8f3665a_d33f_11ea_bd14_184f329eea2drow7_col3\" class=\"data row7 col3\" >#4878d0</td>\n",
       "                        <td id=\"T_d8f3665a_d33f_11ea_bd14_184f329eea2drow7_col4\" class=\"data row7 col4\" >8</td>\n",
       "            </tr>\n",
       "            <tr>\n",
       "                        <th id=\"T_d8f3665a_d33f_11ea_bd14_184f329eea2dlevel0_row8\" class=\"row_heading level0 row8\" >8</th>\n",
       "                        <td id=\"T_d8f3665a_d33f_11ea_bd14_184f329eea2drow8_col0\" class=\"data row8 col0\" >Orange</td>\n",
       "                        <td id=\"T_d8f3665a_d33f_11ea_bd14_184f329eea2drow8_col1\" class=\"data row8 col1\" >Default series</td>\n",
       "                        <td id=\"T_d8f3665a_d33f_11ea_bd14_184f329eea2drow8_col2\" class=\"data row8 col2\" >9</td>\n",
       "                        <td id=\"T_d8f3665a_d33f_11ea_bd14_184f329eea2drow8_col3\" class=\"data row8 col3\" >#ee854a</td>\n",
       "                        <td id=\"T_d8f3665a_d33f_11ea_bd14_184f329eea2drow8_col4\" class=\"data row8 col4\" >9</td>\n",
       "            </tr>\n",
       "            <tr>\n",
       "                        <th id=\"T_d8f3665a_d33f_11ea_bd14_184f329eea2dlevel0_row9\" class=\"row_heading level0 row9\" >9</th>\n",
       "                        <td id=\"T_d8f3665a_d33f_11ea_bd14_184f329eea2drow9_col0\" class=\"data row9 col0\" >Pink</td>\n",
       "                        <td id=\"T_d8f3665a_d33f_11ea_bd14_184f329eea2drow9_col1\" class=\"data row9 col1\" >Default series</td>\n",
       "                        <td id=\"T_d8f3665a_d33f_11ea_bd14_184f329eea2drow9_col2\" class=\"data row9 col2\" >10</td>\n",
       "                        <td id=\"T_d8f3665a_d33f_11ea_bd14_184f329eea2drow9_col3\" class=\"data row9 col3\" >#6acc64</td>\n",
       "                        <td id=\"T_d8f3665a_d33f_11ea_bd14_184f329eea2drow9_col4\" class=\"data row9 col4\" >10</td>\n",
       "            </tr>\n",
       "            <tr>\n",
       "                        <th id=\"T_d8f3665a_d33f_11ea_bd14_184f329eea2dlevel0_row10\" class=\"row_heading level0 row10\" >10</th>\n",
       "                        <td id=\"T_d8f3665a_d33f_11ea_bd14_184f329eea2drow10_col0\" class=\"data row10 col0\" >Thrust1_south</td>\n",
       "                        <td id=\"T_d8f3665a_d33f_11ea_bd14_184f329eea2drow10_col1\" class=\"data row10 col1\" >Default series</td>\n",
       "                        <td id=\"T_d8f3665a_d33f_11ea_bd14_184f329eea2drow10_col2\" class=\"data row10 col2\" >11</td>\n",
       "                        <td id=\"T_d8f3665a_d33f_11ea_bd14_184f329eea2drow10_col3\" class=\"data row10 col3\" >#d65f5f</td>\n",
       "                        <td id=\"T_d8f3665a_d33f_11ea_bd14_184f329eea2drow10_col4\" class=\"data row10 col4\" >11</td>\n",
       "            </tr>\n",
       "            <tr>\n",
       "                        <th id=\"T_d8f3665a_d33f_11ea_bd14_184f329eea2dlevel0_row11\" class=\"row_heading level0 row11\" >11</th>\n",
       "                        <td id=\"T_d8f3665a_d33f_11ea_bd14_184f329eea2drow11_col0\" class=\"data row11 col0\" >Thrust2_south</td>\n",
       "                        <td id=\"T_d8f3665a_d33f_11ea_bd14_184f329eea2drow11_col1\" class=\"data row11 col1\" >Default series</td>\n",
       "                        <td id=\"T_d8f3665a_d33f_11ea_bd14_184f329eea2drow11_col2\" class=\"data row11 col2\" >12</td>\n",
       "                        <td id=\"T_d8f3665a_d33f_11ea_bd14_184f329eea2drow11_col3\" class=\"data row11 col3\" >#956cb4</td>\n",
       "                        <td id=\"T_d8f3665a_d33f_11ea_bd14_184f329eea2drow11_col4\" class=\"data row11 col4\" >12</td>\n",
       "            </tr>\n",
       "            <tr>\n",
       "                        <th id=\"T_d8f3665a_d33f_11ea_bd14_184f329eea2dlevel0_row12\" class=\"row_heading level0 row12\" >12</th>\n",
       "                        <td id=\"T_d8f3665a_d33f_11ea_bd14_184f329eea2drow12_col0\" class=\"data row12 col0\" >basement</td>\n",
       "                        <td id=\"T_d8f3665a_d33f_11ea_bd14_184f329eea2drow12_col1\" class=\"data row12 col1\" >Basement</td>\n",
       "                        <td id=\"T_d8f3665a_d33f_11ea_bd14_184f329eea2drow12_col2\" class=\"data row12 col2\" >1</td>\n",
       "                        <td id=\"T_d8f3665a_d33f_11ea_bd14_184f329eea2drow12_col3\" class=\"data row12 col3\" >#8c613c</td>\n",
       "                        <td id=\"T_d8f3665a_d33f_11ea_bd14_184f329eea2drow12_col4\" class=\"data row12 col4\" >13</td>\n",
=======
       "    #T_7211f290_d720_11ea_8d63_d05099154a5crow0_col3 {\n",
       "            background-color:  #015482;\n",
       "        }    #T_7211f290_d720_11ea_8d63_d05099154a5crow1_col3 {\n",
       "            background-color:  #9f0052;\n",
       "        }    #T_7211f290_d720_11ea_8d63_d05099154a5crow2_col3 {\n",
       "            background-color:  #ffbe00;\n",
       "        }    #T_7211f290_d720_11ea_8d63_d05099154a5crow3_col3 {\n",
       "            background-color:  #728f02;\n",
       "        }    #T_7211f290_d720_11ea_8d63_d05099154a5crow4_col3 {\n",
       "            background-color:  #443988;\n",
       "        }    #T_7211f290_d720_11ea_8d63_d05099154a5crow5_col3 {\n",
       "            background-color:  #ff3f20;\n",
       "        }    #T_7211f290_d720_11ea_8d63_d05099154a5crow6_col3 {\n",
       "            background-color:  #5DA629;\n",
       "        }    #T_7211f290_d720_11ea_8d63_d05099154a5crow7_col3 {\n",
       "            background-color:  #4878d0;\n",
       "        }    #T_7211f290_d720_11ea_8d63_d05099154a5crow8_col3 {\n",
       "            background-color:  #ee854a;\n",
       "        }    #T_7211f290_d720_11ea_8d63_d05099154a5crow9_col3 {\n",
       "            background-color:  #6acc64;\n",
       "        }    #T_7211f290_d720_11ea_8d63_d05099154a5crow10_col3 {\n",
       "            background-color:  #d65f5f;\n",
       "        }    #T_7211f290_d720_11ea_8d63_d05099154a5crow11_col3 {\n",
       "            background-color:  #956cb4;\n",
       "        }    #T_7211f290_d720_11ea_8d63_d05099154a5crow12_col3 {\n",
       "            background-color:  #8c613c;\n",
       "        }</style><table id=\"T_7211f290_d720_11ea_8d63_d05099154a5c\" ><thead>    <tr>        <th class=\"blank level0\" ></th>        <th class=\"col_heading level0 col0\" >surface</th>        <th class=\"col_heading level0 col1\" >series</th>        <th class=\"col_heading level0 col2\" >order_surfaces</th>        <th class=\"col_heading level0 col3\" >color</th>        <th class=\"col_heading level0 col4\" >id</th>    </tr></thead><tbody>\n",
       "                <tr>\n",
       "                        <th id=\"T_7211f290_d720_11ea_8d63_d05099154a5clevel0_row0\" class=\"row_heading level0 row0\" >0</th>\n",
       "                        <td id=\"T_7211f290_d720_11ea_8d63_d05099154a5crow0_col0\" class=\"data row0 col0\" >Fault2</td>\n",
       "                        <td id=\"T_7211f290_d720_11ea_8d63_d05099154a5crow0_col1\" class=\"data row0 col1\" >Default series</td>\n",
       "                        <td id=\"T_7211f290_d720_11ea_8d63_d05099154a5crow0_col2\" class=\"data row0 col2\" >1</td>\n",
       "                        <td id=\"T_7211f290_d720_11ea_8d63_d05099154a5crow0_col3\" class=\"data row0 col3\" >#015482</td>\n",
       "                        <td id=\"T_7211f290_d720_11ea_8d63_d05099154a5crow0_col4\" class=\"data row0 col4\" >1</td>\n",
       "            </tr>\n",
       "            <tr>\n",
       "                        <th id=\"T_7211f290_d720_11ea_8d63_d05099154a5clevel0_row1\" class=\"row_heading level0 row1\" >1</th>\n",
       "                        <td id=\"T_7211f290_d720_11ea_8d63_d05099154a5crow1_col0\" class=\"data row1 col0\" >Fault5</td>\n",
       "                        <td id=\"T_7211f290_d720_11ea_8d63_d05099154a5crow1_col1\" class=\"data row1 col1\" >Default series</td>\n",
       "                        <td id=\"T_7211f290_d720_11ea_8d63_d05099154a5crow1_col2\" class=\"data row1 col2\" >2</td>\n",
       "                        <td id=\"T_7211f290_d720_11ea_8d63_d05099154a5crow1_col3\" class=\"data row1 col3\" >#9f0052</td>\n",
       "                        <td id=\"T_7211f290_d720_11ea_8d63_d05099154a5crow1_col4\" class=\"data row1 col4\" >2</td>\n",
       "            </tr>\n",
       "            <tr>\n",
       "                        <th id=\"T_7211f290_d720_11ea_8d63_d05099154a5clevel0_row2\" class=\"row_heading level0 row2\" >2</th>\n",
       "                        <td id=\"T_7211f290_d720_11ea_8d63_d05099154a5crow2_col0\" class=\"data row2 col0\" >Fault6</td>\n",
       "                        <td id=\"T_7211f290_d720_11ea_8d63_d05099154a5crow2_col1\" class=\"data row2 col1\" >Default series</td>\n",
       "                        <td id=\"T_7211f290_d720_11ea_8d63_d05099154a5crow2_col2\" class=\"data row2 col2\" >3</td>\n",
       "                        <td id=\"T_7211f290_d720_11ea_8d63_d05099154a5crow2_col3\" class=\"data row2 col3\" >#ffbe00</td>\n",
       "                        <td id=\"T_7211f290_d720_11ea_8d63_d05099154a5crow2_col4\" class=\"data row2 col4\" >3</td>\n",
       "            </tr>\n",
       "            <tr>\n",
       "                        <th id=\"T_7211f290_d720_11ea_8d63_d05099154a5clevel0_row3\" class=\"row_heading level0 row3\" >3</th>\n",
       "                        <td id=\"T_7211f290_d720_11ea_8d63_d05099154a5crow3_col0\" class=\"data row3 col0\" >Lower-filling</td>\n",
       "                        <td id=\"T_7211f290_d720_11ea_8d63_d05099154a5crow3_col1\" class=\"data row3 col1\" >Default series</td>\n",
       "                        <td id=\"T_7211f290_d720_11ea_8d63_d05099154a5crow3_col2\" class=\"data row3 col2\" >4</td>\n",
       "                        <td id=\"T_7211f290_d720_11ea_8d63_d05099154a5crow3_col3\" class=\"data row3 col3\" >#728f02</td>\n",
       "                        <td id=\"T_7211f290_d720_11ea_8d63_d05099154a5crow3_col4\" class=\"data row3 col4\" >4</td>\n",
       "            </tr>\n",
       "            <tr>\n",
       "                        <th id=\"T_7211f290_d720_11ea_8d63_d05099154a5clevel0_row4\" class=\"row_heading level0 row4\" >4</th>\n",
       "                        <td id=\"T_7211f290_d720_11ea_8d63_d05099154a5crow4_col0\" class=\"data row4 col0\" >Middle-filling</td>\n",
       "                        <td id=\"T_7211f290_d720_11ea_8d63_d05099154a5crow4_col1\" class=\"data row4 col1\" >Default series</td>\n",
       "                        <td id=\"T_7211f290_d720_11ea_8d63_d05099154a5crow4_col2\" class=\"data row4 col2\" >5</td>\n",
       "                        <td id=\"T_7211f290_d720_11ea_8d63_d05099154a5crow4_col3\" class=\"data row4 col3\" >#443988</td>\n",
       "                        <td id=\"T_7211f290_d720_11ea_8d63_d05099154a5crow4_col4\" class=\"data row4 col4\" >5</td>\n",
       "            </tr>\n",
       "            <tr>\n",
       "                        <th id=\"T_7211f290_d720_11ea_8d63_d05099154a5clevel0_row5\" class=\"row_heading level0 row5\" >5</th>\n",
       "                        <td id=\"T_7211f290_d720_11ea_8d63_d05099154a5crow5_col0\" class=\"data row5 col0\" >Upper-filling</td>\n",
       "                        <td id=\"T_7211f290_d720_11ea_8d63_d05099154a5crow5_col1\" class=\"data row5 col1\" >Default series</td>\n",
       "                        <td id=\"T_7211f290_d720_11ea_8d63_d05099154a5crow5_col2\" class=\"data row5 col2\" >6</td>\n",
       "                        <td id=\"T_7211f290_d720_11ea_8d63_d05099154a5crow5_col3\" class=\"data row5 col3\" >#ff3f20</td>\n",
       "                        <td id=\"T_7211f290_d720_11ea_8d63_d05099154a5crow5_col4\" class=\"data row5 col4\" >6</td>\n",
       "            </tr>\n",
       "            <tr>\n",
       "                        <th id=\"T_7211f290_d720_11ea_8d63_d05099154a5clevel0_row6\" class=\"row_heading level0 row6\" >6</th>\n",
       "                        <td id=\"T_7211f290_d720_11ea_8d63_d05099154a5crow6_col0\" class=\"data row6 col0\" >Mesozoic</td>\n",
       "                        <td id=\"T_7211f290_d720_11ea_8d63_d05099154a5crow6_col1\" class=\"data row6 col1\" >Default series</td>\n",
       "                        <td id=\"T_7211f290_d720_11ea_8d63_d05099154a5crow6_col2\" class=\"data row6 col2\" >7</td>\n",
       "                        <td id=\"T_7211f290_d720_11ea_8d63_d05099154a5crow6_col3\" class=\"data row6 col3\" >#5DA629</td>\n",
       "                        <td id=\"T_7211f290_d720_11ea_8d63_d05099154a5crow6_col4\" class=\"data row6 col4\" >7</td>\n",
       "            </tr>\n",
       "            <tr>\n",
       "                        <th id=\"T_7211f290_d720_11ea_8d63_d05099154a5clevel0_row7\" class=\"row_heading level0 row7\" >7</th>\n",
       "                        <td id=\"T_7211f290_d720_11ea_8d63_d05099154a5crow7_col0\" class=\"data row7 col0\" >Tertiary</td>\n",
       "                        <td id=\"T_7211f290_d720_11ea_8d63_d05099154a5crow7_col1\" class=\"data row7 col1\" >Default series</td>\n",
       "                        <td id=\"T_7211f290_d720_11ea_8d63_d05099154a5crow7_col2\" class=\"data row7 col2\" >8</td>\n",
       "                        <td id=\"T_7211f290_d720_11ea_8d63_d05099154a5crow7_col3\" class=\"data row7 col3\" >#4878d0</td>\n",
       "                        <td id=\"T_7211f290_d720_11ea_8d63_d05099154a5crow7_col4\" class=\"data row7 col4\" >8</td>\n",
       "            </tr>\n",
       "            <tr>\n",
       "                        <th id=\"T_7211f290_d720_11ea_8d63_d05099154a5clevel0_row8\" class=\"row_heading level0 row8\" >8</th>\n",
       "                        <td id=\"T_7211f290_d720_11ea_8d63_d05099154a5crow8_col0\" class=\"data row8 col0\" >Orange</td>\n",
       "                        <td id=\"T_7211f290_d720_11ea_8d63_d05099154a5crow8_col1\" class=\"data row8 col1\" >Default series</td>\n",
       "                        <td id=\"T_7211f290_d720_11ea_8d63_d05099154a5crow8_col2\" class=\"data row8 col2\" >9</td>\n",
       "                        <td id=\"T_7211f290_d720_11ea_8d63_d05099154a5crow8_col3\" class=\"data row8 col3\" >#ee854a</td>\n",
       "                        <td id=\"T_7211f290_d720_11ea_8d63_d05099154a5crow8_col4\" class=\"data row8 col4\" >9</td>\n",
       "            </tr>\n",
       "            <tr>\n",
       "                        <th id=\"T_7211f290_d720_11ea_8d63_d05099154a5clevel0_row9\" class=\"row_heading level0 row9\" >9</th>\n",
       "                        <td id=\"T_7211f290_d720_11ea_8d63_d05099154a5crow9_col0\" class=\"data row9 col0\" >Pink</td>\n",
       "                        <td id=\"T_7211f290_d720_11ea_8d63_d05099154a5crow9_col1\" class=\"data row9 col1\" >Default series</td>\n",
       "                        <td id=\"T_7211f290_d720_11ea_8d63_d05099154a5crow9_col2\" class=\"data row9 col2\" >10</td>\n",
       "                        <td id=\"T_7211f290_d720_11ea_8d63_d05099154a5crow9_col3\" class=\"data row9 col3\" >#6acc64</td>\n",
       "                        <td id=\"T_7211f290_d720_11ea_8d63_d05099154a5crow9_col4\" class=\"data row9 col4\" >10</td>\n",
       "            </tr>\n",
       "            <tr>\n",
       "                        <th id=\"T_7211f290_d720_11ea_8d63_d05099154a5clevel0_row10\" class=\"row_heading level0 row10\" >10</th>\n",
       "                        <td id=\"T_7211f290_d720_11ea_8d63_d05099154a5crow10_col0\" class=\"data row10 col0\" >Thrust1_south</td>\n",
       "                        <td id=\"T_7211f290_d720_11ea_8d63_d05099154a5crow10_col1\" class=\"data row10 col1\" >Default series</td>\n",
       "                        <td id=\"T_7211f290_d720_11ea_8d63_d05099154a5crow10_col2\" class=\"data row10 col2\" >11</td>\n",
       "                        <td id=\"T_7211f290_d720_11ea_8d63_d05099154a5crow10_col3\" class=\"data row10 col3\" >#d65f5f</td>\n",
       "                        <td id=\"T_7211f290_d720_11ea_8d63_d05099154a5crow10_col4\" class=\"data row10 col4\" >11</td>\n",
       "            </tr>\n",
       "            <tr>\n",
       "                        <th id=\"T_7211f290_d720_11ea_8d63_d05099154a5clevel0_row11\" class=\"row_heading level0 row11\" >11</th>\n",
       "                        <td id=\"T_7211f290_d720_11ea_8d63_d05099154a5crow11_col0\" class=\"data row11 col0\" >Thrust2_south</td>\n",
       "                        <td id=\"T_7211f290_d720_11ea_8d63_d05099154a5crow11_col1\" class=\"data row11 col1\" >Default series</td>\n",
       "                        <td id=\"T_7211f290_d720_11ea_8d63_d05099154a5crow11_col2\" class=\"data row11 col2\" >12</td>\n",
       "                        <td id=\"T_7211f290_d720_11ea_8d63_d05099154a5crow11_col3\" class=\"data row11 col3\" >#956cb4</td>\n",
       "                        <td id=\"T_7211f290_d720_11ea_8d63_d05099154a5crow11_col4\" class=\"data row11 col4\" >12</td>\n",
       "            </tr>\n",
       "            <tr>\n",
       "                        <th id=\"T_7211f290_d720_11ea_8d63_d05099154a5clevel0_row12\" class=\"row_heading level0 row12\" >12</th>\n",
       "                        <td id=\"T_7211f290_d720_11ea_8d63_d05099154a5crow12_col0\" class=\"data row12 col0\" >basement</td>\n",
       "                        <td id=\"T_7211f290_d720_11ea_8d63_d05099154a5crow12_col1\" class=\"data row12 col1\" >Basement</td>\n",
       "                        <td id=\"T_7211f290_d720_11ea_8d63_d05099154a5crow12_col2\" class=\"data row12 col2\" >1</td>\n",
       "                        <td id=\"T_7211f290_d720_11ea_8d63_d05099154a5crow12_col3\" class=\"data row12 col3\" >#8c613c</td>\n",
       "                        <td id=\"T_7211f290_d720_11ea_8d63_d05099154a5crow12_col4\" class=\"data row12 col4\" >13</td>\n",
>>>>>>> 152f82ae45eb205ade2a6191ed0b548682544a52
       "            </tr>\n",
       "    </tbody></table>"
      ],
      "text/plain": [
       "           surface          series  order_surfaces    color  id\n",
       "0           Fault2  Default series               1  #015482   1\n",
       "1           Fault5  Default series               2  #9f0052   2\n",
       "2           Fault6  Default series               3  #ffbe00   3\n",
       "3    Lower-filling  Default series               4  #728f02   4\n",
       "4   Middle-filling  Default series               5  #443988   5\n",
       "5    Upper-filling  Default series               6  #ff3f20   6\n",
       "6         Mesozoic  Default series               7  #5DA629   7\n",
       "7         Tertiary  Default series               8  #4878d0   8\n",
       "8           Orange  Default series               9  #ee854a   9\n",
       "9             Pink  Default series              10  #6acc64  10\n",
       "10   Thrust1_south  Default series              11  #d65f5f  11\n",
       "11   Thrust2_south  Default series              12  #956cb4  12\n",
       "12        basement        Basement               1  #8c613c  13"
      ]
     },
     "execution_count": 9,
     "metadata": {},
     "output_type": "execute_result"
    }
   ],
   "source": [
    "geo_model.surfaces"
   ]
  },
  {
   "cell_type": "markdown",
   "metadata": {},
   "source": [
    "## Characteristics  \n",
    "Main features of the model is the asymetric graben system, with the major fault (denoted with **A**), and the graben fill, which is not present beyond the graben shoulders. This, as well as the stop of major faults beneath the mesozoic units (blue units) are important considerations for the modelling process.  \n",
    "These could be caught, for instance, in likelihood functions if we model the PCT as a Bayesian inference problem."
   ]
  },
  {
   "cell_type": "code",
   "execution_count": 12,
   "metadata": {
    "execution_event_id": "d9d7cdf2-64e3-4bd7-bddb-4214d861c93a",
    "last_executed_text": "# Assign formations to series\ngp.map_series_to_surfaces(geo_model,\n                         {\"Fault7_series\": 'Fault7',\n                          \"Fault6_series\": 'Fault6',\n                          \"Fault2_series\": 'Fault2',\n                          \"Fault5_series\": 'Fault5',\n                          \"Fault1_series\": 'Fault1',\n                         \"Fault3_series\": 'Fault3',\n                         \"Fault4_series\": 'Fault4',\n                         \"Post_tectonic_series\": ('Mesozoic', 'Tertiary', 'Quaternary'),\n                         \"Syn_tectonic_series2\": 'Upper-filling',\n                         \"Syn_tectonic_series1\": 'Middle-filling',\n                         \"Pre_tectonic_series\": 'Lower-filling'},\n                         remove_unused_series=True)\ngeo_model.surfaces",
    "persistent_id": "635ddca3-8aad-4571-a25f-dd09873d6439"
   },
   "outputs": [
    {
     "data": {
      "text/html": [
       "<style  type=\"text/css\" >\n",
<<<<<<< HEAD
       "    #T_dba200dc_d33f_11ea_bd14_184f329eea2drow0_col3 {\n",
       "            background-color:  #d65f5f;\n",
       "        }    #T_dba200dc_d33f_11ea_bd14_184f329eea2drow1_col3 {\n",
       "            background-color:  #956cb4;\n",
       "        }    #T_dba200dc_d33f_11ea_bd14_184f329eea2drow2_col3 {\n",
       "            background-color:  #015482;\n",
       "        }    #T_dba200dc_d33f_11ea_bd14_184f329eea2drow3_col3 {\n",
       "            background-color:  #9f0052;\n",
       "        }    #T_dba200dc_d33f_11ea_bd14_184f329eea2drow4_col3 {\n",
       "            background-color:  #ffbe00;\n",
       "        }    #T_dba200dc_d33f_11ea_bd14_184f329eea2drow5_col3 {\n",
       "            background-color:  #4878d0;\n",
       "        }    #T_dba200dc_d33f_11ea_bd14_184f329eea2drow6_col3 {\n",
       "            background-color:  #ee854a;\n",
       "        }    #T_dba200dc_d33f_11ea_bd14_184f329eea2drow7_col3 {\n",
       "            background-color:  #6acc64;\n",
       "        }    #T_dba200dc_d33f_11ea_bd14_184f329eea2drow8_col3 {\n",
       "            background-color:  #5DA629;\n",
       "        }    #T_dba200dc_d33f_11ea_bd14_184f329eea2drow9_col3 {\n",
       "            background-color:  #ff3f20;\n",
       "        }    #T_dba200dc_d33f_11ea_bd14_184f329eea2drow10_col3 {\n",
       "            background-color:  #443988;\n",
       "        }    #T_dba200dc_d33f_11ea_bd14_184f329eea2drow11_col3 {\n",
       "            background-color:  #728f02;\n",
       "        }    #T_dba200dc_d33f_11ea_bd14_184f329eea2drow12_col3 {\n",
       "            background-color:  #8c613c;\n",
       "        }</style><table id=\"T_dba200dc_d33f_11ea_bd14_184f329eea2d\" ><thead>    <tr>        <th class=\"blank level0\" ></th>        <th class=\"col_heading level0 col0\" >surface</th>        <th class=\"col_heading level0 col1\" >series</th>        <th class=\"col_heading level0 col2\" >order_surfaces</th>        <th class=\"col_heading level0 col3\" >color</th>        <th class=\"col_heading level0 col4\" >id</th>    </tr></thead><tbody>\n",
       "                <tr>\n",
       "                        <th id=\"T_dba200dc_d33f_11ea_bd14_184f329eea2dlevel0_row0\" class=\"row_heading level0 row0\" >10</th>\n",
       "                        <td id=\"T_dba200dc_d33f_11ea_bd14_184f329eea2drow0_col0\" class=\"data row0 col0\" >Thrust1_south</td>\n",
       "                        <td id=\"T_dba200dc_d33f_11ea_bd14_184f329eea2drow0_col1\" class=\"data row0 col1\" >Thrust1_series</td>\n",
       "                        <td id=\"T_dba200dc_d33f_11ea_bd14_184f329eea2drow0_col2\" class=\"data row0 col2\" >1</td>\n",
       "                        <td id=\"T_dba200dc_d33f_11ea_bd14_184f329eea2drow0_col3\" class=\"data row0 col3\" >#d65f5f</td>\n",
       "                        <td id=\"T_dba200dc_d33f_11ea_bd14_184f329eea2drow0_col4\" class=\"data row0 col4\" >1</td>\n",
       "            </tr>\n",
       "            <tr>\n",
       "                        <th id=\"T_dba200dc_d33f_11ea_bd14_184f329eea2dlevel0_row1\" class=\"row_heading level0 row1\" >11</th>\n",
       "                        <td id=\"T_dba200dc_d33f_11ea_bd14_184f329eea2drow1_col0\" class=\"data row1 col0\" >Thrust2_south</td>\n",
       "                        <td id=\"T_dba200dc_d33f_11ea_bd14_184f329eea2drow1_col1\" class=\"data row1 col1\" >Thrust2_series</td>\n",
       "                        <td id=\"T_dba200dc_d33f_11ea_bd14_184f329eea2drow1_col2\" class=\"data row1 col2\" >1</td>\n",
       "                        <td id=\"T_dba200dc_d33f_11ea_bd14_184f329eea2drow1_col3\" class=\"data row1 col3\" >#956cb4</td>\n",
       "                        <td id=\"T_dba200dc_d33f_11ea_bd14_184f329eea2drow1_col4\" class=\"data row1 col4\" >2</td>\n",
       "            </tr>\n",
       "            <tr>\n",
       "                        <th id=\"T_dba200dc_d33f_11ea_bd14_184f329eea2dlevel0_row2\" class=\"row_heading level0 row2\" >0</th>\n",
       "                        <td id=\"T_dba200dc_d33f_11ea_bd14_184f329eea2drow2_col0\" class=\"data row2 col0\" >Fault2</td>\n",
       "                        <td id=\"T_dba200dc_d33f_11ea_bd14_184f329eea2drow2_col1\" class=\"data row2 col1\" >Fault2_series</td>\n",
       "                        <td id=\"T_dba200dc_d33f_11ea_bd14_184f329eea2drow2_col2\" class=\"data row2 col2\" >1</td>\n",
       "                        <td id=\"T_dba200dc_d33f_11ea_bd14_184f329eea2drow2_col3\" class=\"data row2 col3\" >#015482</td>\n",
       "                        <td id=\"T_dba200dc_d33f_11ea_bd14_184f329eea2drow2_col4\" class=\"data row2 col4\" >3</td>\n",
       "            </tr>\n",
       "            <tr>\n",
       "                        <th id=\"T_dba200dc_d33f_11ea_bd14_184f329eea2dlevel0_row3\" class=\"row_heading level0 row3\" >1</th>\n",
       "                        <td id=\"T_dba200dc_d33f_11ea_bd14_184f329eea2drow3_col0\" class=\"data row3 col0\" >Fault5</td>\n",
       "                        <td id=\"T_dba200dc_d33f_11ea_bd14_184f329eea2drow3_col1\" class=\"data row3 col1\" >Fault5_series</td>\n",
       "                        <td id=\"T_dba200dc_d33f_11ea_bd14_184f329eea2drow3_col2\" class=\"data row3 col2\" >1</td>\n",
       "                        <td id=\"T_dba200dc_d33f_11ea_bd14_184f329eea2drow3_col3\" class=\"data row3 col3\" >#9f0052</td>\n",
       "                        <td id=\"T_dba200dc_d33f_11ea_bd14_184f329eea2drow3_col4\" class=\"data row3 col4\" >4</td>\n",
       "            </tr>\n",
       "            <tr>\n",
       "                        <th id=\"T_dba200dc_d33f_11ea_bd14_184f329eea2dlevel0_row4\" class=\"row_heading level0 row4\" >2</th>\n",
       "                        <td id=\"T_dba200dc_d33f_11ea_bd14_184f329eea2drow4_col0\" class=\"data row4 col0\" >Fault6</td>\n",
       "                        <td id=\"T_dba200dc_d33f_11ea_bd14_184f329eea2drow4_col1\" class=\"data row4 col1\" >Fault6_series</td>\n",
       "                        <td id=\"T_dba200dc_d33f_11ea_bd14_184f329eea2drow4_col2\" class=\"data row4 col2\" >1</td>\n",
       "                        <td id=\"T_dba200dc_d33f_11ea_bd14_184f329eea2drow4_col3\" class=\"data row4 col3\" >#ffbe00</td>\n",
       "                        <td id=\"T_dba200dc_d33f_11ea_bd14_184f329eea2drow4_col4\" class=\"data row4 col4\" >5</td>\n",
       "            </tr>\n",
       "            <tr>\n",
       "                        <th id=\"T_dba200dc_d33f_11ea_bd14_184f329eea2dlevel0_row5\" class=\"row_heading level0 row5\" >7</th>\n",
       "                        <td id=\"T_dba200dc_d33f_11ea_bd14_184f329eea2drow5_col0\" class=\"data row5 col0\" >Tertiary</td>\n",
       "                        <td id=\"T_dba200dc_d33f_11ea_bd14_184f329eea2drow5_col1\" class=\"data row5 col1\" >Post_tectonic_series</td>\n",
       "                        <td id=\"T_dba200dc_d33f_11ea_bd14_184f329eea2drow5_col2\" class=\"data row5 col2\" >1</td>\n",
       "                        <td id=\"T_dba200dc_d33f_11ea_bd14_184f329eea2drow5_col3\" class=\"data row5 col3\" >#4878d0</td>\n",
       "                        <td id=\"T_dba200dc_d33f_11ea_bd14_184f329eea2drow5_col4\" class=\"data row5 col4\" >6</td>\n",
       "            </tr>\n",
       "            <tr>\n",
       "                        <th id=\"T_dba200dc_d33f_11ea_bd14_184f329eea2dlevel0_row6\" class=\"row_heading level0 row6\" >8</th>\n",
       "                        <td id=\"T_dba200dc_d33f_11ea_bd14_184f329eea2drow6_col0\" class=\"data row6 col0\" >Orange</td>\n",
       "                        <td id=\"T_dba200dc_d33f_11ea_bd14_184f329eea2drow6_col1\" class=\"data row6 col1\" >Post_tectonic_series</td>\n",
       "                        <td id=\"T_dba200dc_d33f_11ea_bd14_184f329eea2drow6_col2\" class=\"data row6 col2\" >2</td>\n",
       "                        <td id=\"T_dba200dc_d33f_11ea_bd14_184f329eea2drow6_col3\" class=\"data row6 col3\" >#ee854a</td>\n",
       "                        <td id=\"T_dba200dc_d33f_11ea_bd14_184f329eea2drow6_col4\" class=\"data row6 col4\" >7</td>\n",
       "            </tr>\n",
       "            <tr>\n",
       "                        <th id=\"T_dba200dc_d33f_11ea_bd14_184f329eea2dlevel0_row7\" class=\"row_heading level0 row7\" >9</th>\n",
       "                        <td id=\"T_dba200dc_d33f_11ea_bd14_184f329eea2drow7_col0\" class=\"data row7 col0\" >Pink</td>\n",
       "                        <td id=\"T_dba200dc_d33f_11ea_bd14_184f329eea2drow7_col1\" class=\"data row7 col1\" >Post_tectonic_series</td>\n",
       "                        <td id=\"T_dba200dc_d33f_11ea_bd14_184f329eea2drow7_col2\" class=\"data row7 col2\" >3</td>\n",
       "                        <td id=\"T_dba200dc_d33f_11ea_bd14_184f329eea2drow7_col3\" class=\"data row7 col3\" >#6acc64</td>\n",
       "                        <td id=\"T_dba200dc_d33f_11ea_bd14_184f329eea2drow7_col4\" class=\"data row7 col4\" >8</td>\n",
       "            </tr>\n",
       "            <tr>\n",
       "                        <th id=\"T_dba200dc_d33f_11ea_bd14_184f329eea2dlevel0_row8\" class=\"row_heading level0 row8\" >6</th>\n",
       "                        <td id=\"T_dba200dc_d33f_11ea_bd14_184f329eea2drow8_col0\" class=\"data row8 col0\" >Mesozoic</td>\n",
       "                        <td id=\"T_dba200dc_d33f_11ea_bd14_184f329eea2drow8_col1\" class=\"data row8 col1\" >Detachement</td>\n",
       "                        <td id=\"T_dba200dc_d33f_11ea_bd14_184f329eea2drow8_col2\" class=\"data row8 col2\" >1</td>\n",
       "                        <td id=\"T_dba200dc_d33f_11ea_bd14_184f329eea2drow8_col3\" class=\"data row8 col3\" >#5DA629</td>\n",
       "                        <td id=\"T_dba200dc_d33f_11ea_bd14_184f329eea2drow8_col4\" class=\"data row8 col4\" >9</td>\n",
       "            </tr>\n",
       "            <tr>\n",
       "                        <th id=\"T_dba200dc_d33f_11ea_bd14_184f329eea2dlevel0_row9\" class=\"row_heading level0 row9\" >5</th>\n",
       "                        <td id=\"T_dba200dc_d33f_11ea_bd14_184f329eea2drow9_col0\" class=\"data row9 col0\" >Upper-filling</td>\n",
       "                        <td id=\"T_dba200dc_d33f_11ea_bd14_184f329eea2drow9_col1\" class=\"data row9 col1\" >Syn_tectonic_series2</td>\n",
       "                        <td id=\"T_dba200dc_d33f_11ea_bd14_184f329eea2drow9_col2\" class=\"data row9 col2\" >1</td>\n",
       "                        <td id=\"T_dba200dc_d33f_11ea_bd14_184f329eea2drow9_col3\" class=\"data row9 col3\" >#ff3f20</td>\n",
       "                        <td id=\"T_dba200dc_d33f_11ea_bd14_184f329eea2drow9_col4\" class=\"data row9 col4\" >10</td>\n",
       "            </tr>\n",
       "            <tr>\n",
       "                        <th id=\"T_dba200dc_d33f_11ea_bd14_184f329eea2dlevel0_row10\" class=\"row_heading level0 row10\" >4</th>\n",
       "                        <td id=\"T_dba200dc_d33f_11ea_bd14_184f329eea2drow10_col0\" class=\"data row10 col0\" >Middle-filling</td>\n",
       "                        <td id=\"T_dba200dc_d33f_11ea_bd14_184f329eea2drow10_col1\" class=\"data row10 col1\" >Syn_tectonic_series1</td>\n",
       "                        <td id=\"T_dba200dc_d33f_11ea_bd14_184f329eea2drow10_col2\" class=\"data row10 col2\" >1</td>\n",
       "                        <td id=\"T_dba200dc_d33f_11ea_bd14_184f329eea2drow10_col3\" class=\"data row10 col3\" >#443988</td>\n",
       "                        <td id=\"T_dba200dc_d33f_11ea_bd14_184f329eea2drow10_col4\" class=\"data row10 col4\" >11</td>\n",
       "            </tr>\n",
       "            <tr>\n",
       "                        <th id=\"T_dba200dc_d33f_11ea_bd14_184f329eea2dlevel0_row11\" class=\"row_heading level0 row11\" >3</th>\n",
       "                        <td id=\"T_dba200dc_d33f_11ea_bd14_184f329eea2drow11_col0\" class=\"data row11 col0\" >Lower-filling</td>\n",
       "                        <td id=\"T_dba200dc_d33f_11ea_bd14_184f329eea2drow11_col1\" class=\"data row11 col1\" >Pre_tectonic_series</td>\n",
       "                        <td id=\"T_dba200dc_d33f_11ea_bd14_184f329eea2drow11_col2\" class=\"data row11 col2\" >1</td>\n",
       "                        <td id=\"T_dba200dc_d33f_11ea_bd14_184f329eea2drow11_col3\" class=\"data row11 col3\" >#728f02</td>\n",
       "                        <td id=\"T_dba200dc_d33f_11ea_bd14_184f329eea2drow11_col4\" class=\"data row11 col4\" >12</td>\n",
       "            </tr>\n",
       "            <tr>\n",
       "                        <th id=\"T_dba200dc_d33f_11ea_bd14_184f329eea2dlevel0_row12\" class=\"row_heading level0 row12\" >12</th>\n",
       "                        <td id=\"T_dba200dc_d33f_11ea_bd14_184f329eea2drow12_col0\" class=\"data row12 col0\" >basement</td>\n",
       "                        <td id=\"T_dba200dc_d33f_11ea_bd14_184f329eea2drow12_col1\" class=\"data row12 col1\" >Basement</td>\n",
       "                        <td id=\"T_dba200dc_d33f_11ea_bd14_184f329eea2drow12_col2\" class=\"data row12 col2\" >1</td>\n",
       "                        <td id=\"T_dba200dc_d33f_11ea_bd14_184f329eea2drow12_col3\" class=\"data row12 col3\" >#8c613c</td>\n",
       "                        <td id=\"T_dba200dc_d33f_11ea_bd14_184f329eea2drow12_col4\" class=\"data row12 col4\" >13</td>\n",
=======
       "    #T_74a522a8_d720_11ea_80aa_d05099154a5crow0_col3 {\n",
       "            background-color:  #d65f5f;\n",
       "        }    #T_74a522a8_d720_11ea_80aa_d05099154a5crow1_col3 {\n",
       "            background-color:  #956cb4;\n",
       "        }    #T_74a522a8_d720_11ea_80aa_d05099154a5crow2_col3 {\n",
       "            background-color:  #015482;\n",
       "        }    #T_74a522a8_d720_11ea_80aa_d05099154a5crow3_col3 {\n",
       "            background-color:  #9f0052;\n",
       "        }    #T_74a522a8_d720_11ea_80aa_d05099154a5crow4_col3 {\n",
       "            background-color:  #ffbe00;\n",
       "        }    #T_74a522a8_d720_11ea_80aa_d05099154a5crow5_col3 {\n",
       "            background-color:  #4878d0;\n",
       "        }    #T_74a522a8_d720_11ea_80aa_d05099154a5crow6_col3 {\n",
       "            background-color:  #ee854a;\n",
       "        }    #T_74a522a8_d720_11ea_80aa_d05099154a5crow7_col3 {\n",
       "            background-color:  #6acc64;\n",
       "        }    #T_74a522a8_d720_11ea_80aa_d05099154a5crow8_col3 {\n",
       "            background-color:  #5DA629;\n",
       "        }    #T_74a522a8_d720_11ea_80aa_d05099154a5crow9_col3 {\n",
       "            background-color:  #ff3f20;\n",
       "        }    #T_74a522a8_d720_11ea_80aa_d05099154a5crow10_col3 {\n",
       "            background-color:  #443988;\n",
       "        }    #T_74a522a8_d720_11ea_80aa_d05099154a5crow11_col3 {\n",
       "            background-color:  #728f02;\n",
       "        }    #T_74a522a8_d720_11ea_80aa_d05099154a5crow12_col3 {\n",
       "            background-color:  #8c613c;\n",
       "        }</style><table id=\"T_74a522a8_d720_11ea_80aa_d05099154a5c\" ><thead>    <tr>        <th class=\"blank level0\" ></th>        <th class=\"col_heading level0 col0\" >surface</th>        <th class=\"col_heading level0 col1\" >series</th>        <th class=\"col_heading level0 col2\" >order_surfaces</th>        <th class=\"col_heading level0 col3\" >color</th>        <th class=\"col_heading level0 col4\" >id</th>    </tr></thead><tbody>\n",
       "                <tr>\n",
       "                        <th id=\"T_74a522a8_d720_11ea_80aa_d05099154a5clevel0_row0\" class=\"row_heading level0 row0\" >10</th>\n",
       "                        <td id=\"T_74a522a8_d720_11ea_80aa_d05099154a5crow0_col0\" class=\"data row0 col0\" >Thrust1_south</td>\n",
       "                        <td id=\"T_74a522a8_d720_11ea_80aa_d05099154a5crow0_col1\" class=\"data row0 col1\" >Thrust1_series</td>\n",
       "                        <td id=\"T_74a522a8_d720_11ea_80aa_d05099154a5crow0_col2\" class=\"data row0 col2\" >1</td>\n",
       "                        <td id=\"T_74a522a8_d720_11ea_80aa_d05099154a5crow0_col3\" class=\"data row0 col3\" >#d65f5f</td>\n",
       "                        <td id=\"T_74a522a8_d720_11ea_80aa_d05099154a5crow0_col4\" class=\"data row0 col4\" >1</td>\n",
       "            </tr>\n",
       "            <tr>\n",
       "                        <th id=\"T_74a522a8_d720_11ea_80aa_d05099154a5clevel0_row1\" class=\"row_heading level0 row1\" >11</th>\n",
       "                        <td id=\"T_74a522a8_d720_11ea_80aa_d05099154a5crow1_col0\" class=\"data row1 col0\" >Thrust2_south</td>\n",
       "                        <td id=\"T_74a522a8_d720_11ea_80aa_d05099154a5crow1_col1\" class=\"data row1 col1\" >Thrust2_series</td>\n",
       "                        <td id=\"T_74a522a8_d720_11ea_80aa_d05099154a5crow1_col2\" class=\"data row1 col2\" >1</td>\n",
       "                        <td id=\"T_74a522a8_d720_11ea_80aa_d05099154a5crow1_col3\" class=\"data row1 col3\" >#956cb4</td>\n",
       "                        <td id=\"T_74a522a8_d720_11ea_80aa_d05099154a5crow1_col4\" class=\"data row1 col4\" >2</td>\n",
       "            </tr>\n",
       "            <tr>\n",
       "                        <th id=\"T_74a522a8_d720_11ea_80aa_d05099154a5clevel0_row2\" class=\"row_heading level0 row2\" >0</th>\n",
       "                        <td id=\"T_74a522a8_d720_11ea_80aa_d05099154a5crow2_col0\" class=\"data row2 col0\" >Fault2</td>\n",
       "                        <td id=\"T_74a522a8_d720_11ea_80aa_d05099154a5crow2_col1\" class=\"data row2 col1\" >Fault2_series</td>\n",
       "                        <td id=\"T_74a522a8_d720_11ea_80aa_d05099154a5crow2_col2\" class=\"data row2 col2\" >1</td>\n",
       "                        <td id=\"T_74a522a8_d720_11ea_80aa_d05099154a5crow2_col3\" class=\"data row2 col3\" >#015482</td>\n",
       "                        <td id=\"T_74a522a8_d720_11ea_80aa_d05099154a5crow2_col4\" class=\"data row2 col4\" >3</td>\n",
       "            </tr>\n",
       "            <tr>\n",
       "                        <th id=\"T_74a522a8_d720_11ea_80aa_d05099154a5clevel0_row3\" class=\"row_heading level0 row3\" >1</th>\n",
       "                        <td id=\"T_74a522a8_d720_11ea_80aa_d05099154a5crow3_col0\" class=\"data row3 col0\" >Fault5</td>\n",
       "                        <td id=\"T_74a522a8_d720_11ea_80aa_d05099154a5crow3_col1\" class=\"data row3 col1\" >Fault5_series</td>\n",
       "                        <td id=\"T_74a522a8_d720_11ea_80aa_d05099154a5crow3_col2\" class=\"data row3 col2\" >1</td>\n",
       "                        <td id=\"T_74a522a8_d720_11ea_80aa_d05099154a5crow3_col3\" class=\"data row3 col3\" >#9f0052</td>\n",
       "                        <td id=\"T_74a522a8_d720_11ea_80aa_d05099154a5crow3_col4\" class=\"data row3 col4\" >4</td>\n",
       "            </tr>\n",
       "            <tr>\n",
       "                        <th id=\"T_74a522a8_d720_11ea_80aa_d05099154a5clevel0_row4\" class=\"row_heading level0 row4\" >2</th>\n",
       "                        <td id=\"T_74a522a8_d720_11ea_80aa_d05099154a5crow4_col0\" class=\"data row4 col0\" >Fault6</td>\n",
       "                        <td id=\"T_74a522a8_d720_11ea_80aa_d05099154a5crow4_col1\" class=\"data row4 col1\" >Fault6_series</td>\n",
       "                        <td id=\"T_74a522a8_d720_11ea_80aa_d05099154a5crow4_col2\" class=\"data row4 col2\" >1</td>\n",
       "                        <td id=\"T_74a522a8_d720_11ea_80aa_d05099154a5crow4_col3\" class=\"data row4 col3\" >#ffbe00</td>\n",
       "                        <td id=\"T_74a522a8_d720_11ea_80aa_d05099154a5crow4_col4\" class=\"data row4 col4\" >5</td>\n",
       "            </tr>\n",
       "            <tr>\n",
       "                        <th id=\"T_74a522a8_d720_11ea_80aa_d05099154a5clevel0_row5\" class=\"row_heading level0 row5\" >7</th>\n",
       "                        <td id=\"T_74a522a8_d720_11ea_80aa_d05099154a5crow5_col0\" class=\"data row5 col0\" >Tertiary</td>\n",
       "                        <td id=\"T_74a522a8_d720_11ea_80aa_d05099154a5crow5_col1\" class=\"data row5 col1\" >Post_tectonic_series</td>\n",
       "                        <td id=\"T_74a522a8_d720_11ea_80aa_d05099154a5crow5_col2\" class=\"data row5 col2\" >1</td>\n",
       "                        <td id=\"T_74a522a8_d720_11ea_80aa_d05099154a5crow5_col3\" class=\"data row5 col3\" >#4878d0</td>\n",
       "                        <td id=\"T_74a522a8_d720_11ea_80aa_d05099154a5crow5_col4\" class=\"data row5 col4\" >6</td>\n",
       "            </tr>\n",
       "            <tr>\n",
       "                        <th id=\"T_74a522a8_d720_11ea_80aa_d05099154a5clevel0_row6\" class=\"row_heading level0 row6\" >8</th>\n",
       "                        <td id=\"T_74a522a8_d720_11ea_80aa_d05099154a5crow6_col0\" class=\"data row6 col0\" >Orange</td>\n",
       "                        <td id=\"T_74a522a8_d720_11ea_80aa_d05099154a5crow6_col1\" class=\"data row6 col1\" >Post_tectonic_series</td>\n",
       "                        <td id=\"T_74a522a8_d720_11ea_80aa_d05099154a5crow6_col2\" class=\"data row6 col2\" >2</td>\n",
       "                        <td id=\"T_74a522a8_d720_11ea_80aa_d05099154a5crow6_col3\" class=\"data row6 col3\" >#ee854a</td>\n",
       "                        <td id=\"T_74a522a8_d720_11ea_80aa_d05099154a5crow6_col4\" class=\"data row6 col4\" >7</td>\n",
       "            </tr>\n",
       "            <tr>\n",
       "                        <th id=\"T_74a522a8_d720_11ea_80aa_d05099154a5clevel0_row7\" class=\"row_heading level0 row7\" >9</th>\n",
       "                        <td id=\"T_74a522a8_d720_11ea_80aa_d05099154a5crow7_col0\" class=\"data row7 col0\" >Pink</td>\n",
       "                        <td id=\"T_74a522a8_d720_11ea_80aa_d05099154a5crow7_col1\" class=\"data row7 col1\" >Post_tectonic_series</td>\n",
       "                        <td id=\"T_74a522a8_d720_11ea_80aa_d05099154a5crow7_col2\" class=\"data row7 col2\" >3</td>\n",
       "                        <td id=\"T_74a522a8_d720_11ea_80aa_d05099154a5crow7_col3\" class=\"data row7 col3\" >#6acc64</td>\n",
       "                        <td id=\"T_74a522a8_d720_11ea_80aa_d05099154a5crow7_col4\" class=\"data row7 col4\" >8</td>\n",
       "            </tr>\n",
       "            <tr>\n",
       "                        <th id=\"T_74a522a8_d720_11ea_80aa_d05099154a5clevel0_row8\" class=\"row_heading level0 row8\" >6</th>\n",
       "                        <td id=\"T_74a522a8_d720_11ea_80aa_d05099154a5crow8_col0\" class=\"data row8 col0\" >Mesozoic</td>\n",
       "                        <td id=\"T_74a522a8_d720_11ea_80aa_d05099154a5crow8_col1\" class=\"data row8 col1\" >Detachement</td>\n",
       "                        <td id=\"T_74a522a8_d720_11ea_80aa_d05099154a5crow8_col2\" class=\"data row8 col2\" >1</td>\n",
       "                        <td id=\"T_74a522a8_d720_11ea_80aa_d05099154a5crow8_col3\" class=\"data row8 col3\" >#5DA629</td>\n",
       "                        <td id=\"T_74a522a8_d720_11ea_80aa_d05099154a5crow8_col4\" class=\"data row8 col4\" >9</td>\n",
       "            </tr>\n",
       "            <tr>\n",
       "                        <th id=\"T_74a522a8_d720_11ea_80aa_d05099154a5clevel0_row9\" class=\"row_heading level0 row9\" >5</th>\n",
       "                        <td id=\"T_74a522a8_d720_11ea_80aa_d05099154a5crow9_col0\" class=\"data row9 col0\" >Upper-filling</td>\n",
       "                        <td id=\"T_74a522a8_d720_11ea_80aa_d05099154a5crow9_col1\" class=\"data row9 col1\" >Syn_tectonic_series2</td>\n",
       "                        <td id=\"T_74a522a8_d720_11ea_80aa_d05099154a5crow9_col2\" class=\"data row9 col2\" >1</td>\n",
       "                        <td id=\"T_74a522a8_d720_11ea_80aa_d05099154a5crow9_col3\" class=\"data row9 col3\" >#ff3f20</td>\n",
       "                        <td id=\"T_74a522a8_d720_11ea_80aa_d05099154a5crow9_col4\" class=\"data row9 col4\" >10</td>\n",
       "            </tr>\n",
       "            <tr>\n",
       "                        <th id=\"T_74a522a8_d720_11ea_80aa_d05099154a5clevel0_row10\" class=\"row_heading level0 row10\" >4</th>\n",
       "                        <td id=\"T_74a522a8_d720_11ea_80aa_d05099154a5crow10_col0\" class=\"data row10 col0\" >Middle-filling</td>\n",
       "                        <td id=\"T_74a522a8_d720_11ea_80aa_d05099154a5crow10_col1\" class=\"data row10 col1\" >Syn_tectonic_series1</td>\n",
       "                        <td id=\"T_74a522a8_d720_11ea_80aa_d05099154a5crow10_col2\" class=\"data row10 col2\" >1</td>\n",
       "                        <td id=\"T_74a522a8_d720_11ea_80aa_d05099154a5crow10_col3\" class=\"data row10 col3\" >#443988</td>\n",
       "                        <td id=\"T_74a522a8_d720_11ea_80aa_d05099154a5crow10_col4\" class=\"data row10 col4\" >11</td>\n",
       "            </tr>\n",
       "            <tr>\n",
       "                        <th id=\"T_74a522a8_d720_11ea_80aa_d05099154a5clevel0_row11\" class=\"row_heading level0 row11\" >3</th>\n",
       "                        <td id=\"T_74a522a8_d720_11ea_80aa_d05099154a5crow11_col0\" class=\"data row11 col0\" >Lower-filling</td>\n",
       "                        <td id=\"T_74a522a8_d720_11ea_80aa_d05099154a5crow11_col1\" class=\"data row11 col1\" >Pre_tectonic_series</td>\n",
       "                        <td id=\"T_74a522a8_d720_11ea_80aa_d05099154a5crow11_col2\" class=\"data row11 col2\" >1</td>\n",
       "                        <td id=\"T_74a522a8_d720_11ea_80aa_d05099154a5crow11_col3\" class=\"data row11 col3\" >#728f02</td>\n",
       "                        <td id=\"T_74a522a8_d720_11ea_80aa_d05099154a5crow11_col4\" class=\"data row11 col4\" >12</td>\n",
       "            </tr>\n",
       "            <tr>\n",
       "                        <th id=\"T_74a522a8_d720_11ea_80aa_d05099154a5clevel0_row12\" class=\"row_heading level0 row12\" >12</th>\n",
       "                        <td id=\"T_74a522a8_d720_11ea_80aa_d05099154a5crow12_col0\" class=\"data row12 col0\" >basement</td>\n",
       "                        <td id=\"T_74a522a8_d720_11ea_80aa_d05099154a5crow12_col1\" class=\"data row12 col1\" >Basement</td>\n",
       "                        <td id=\"T_74a522a8_d720_11ea_80aa_d05099154a5crow12_col2\" class=\"data row12 col2\" >1</td>\n",
       "                        <td id=\"T_74a522a8_d720_11ea_80aa_d05099154a5crow12_col3\" class=\"data row12 col3\" >#8c613c</td>\n",
       "                        <td id=\"T_74a522a8_d720_11ea_80aa_d05099154a5crow12_col4\" class=\"data row12 col4\" >13</td>\n",
>>>>>>> 152f82ae45eb205ade2a6191ed0b548682544a52
       "            </tr>\n",
       "    </tbody></table>"
      ],
      "text/plain": [
       "           surface                series  order_surfaces    color  id\n",
       "10   Thrust1_south        Thrust1_series               1  #d65f5f   1\n",
       "11   Thrust2_south        Thrust2_series               1  #956cb4   2\n",
       "0           Fault2         Fault2_series               1  #015482   3\n",
       "1           Fault5         Fault5_series               1  #9f0052   4\n",
       "2           Fault6         Fault6_series               1  #ffbe00   5\n",
       "7         Tertiary  Post_tectonic_series               1  #4878d0   6\n",
       "8           Orange  Post_tectonic_series               2  #ee854a   7\n",
       "9             Pink  Post_tectonic_series               3  #6acc64   8\n",
       "6         Mesozoic           Detachement               1  #5DA629   9\n",
       "5    Upper-filling  Syn_tectonic_series2               1  #ff3f20  10\n",
       "4   Middle-filling  Syn_tectonic_series1               1  #443988  11\n",
       "3    Lower-filling   Pre_tectonic_series               1  #728f02  12\n",
       "12        basement              Basement               1  #8c613c  13"
      ]
     },
     "execution_count": 12,
     "metadata": {},
     "output_type": "execute_result"
    }
   ],
   "source": [
    "# Assign formations to series\n",
    "gp.map_series_to_surfaces(geo_model,\n",
    "                         {\"Thrust1_series\": 'Thrust1_south',\n",
    "                          \"Thrust2_series\": 'Thrust2_south',\n",
    "                          \"Fault2_series\": 'Fault2',\n",
    "                          \"Fault5_series\": 'Fault5',\n",
    "                          \"Fault6_series\": 'Fault6',\n",
    "                         \"Post_tectonic_series\": ('Tertiary', 'Orange', \n",
    "                                                  'Pink'),\n",
    "                          \"Detachement\": 'Mesozoic',\n",
    "                         \"Syn_tectonic_series2\": 'Upper-filling',\n",
    "                         \"Syn_tectonic_series1\": 'Middle-filling',\n",
    "                         \"Pre_tectonic_series\": 'Lower-filling'},\n",
    "                         remove_unused_series=True)\n",
    "geo_model.surfaces"
   ]
  },
  {
   "cell_type": "code",
   "execution_count": 13,
   "metadata": {
    "execution_event_id": "0322604e-1169-45d9-a285-9830d86b7011",
    "jupyter": {
     "outputs_hidden": true
    },
    "last_executed_text": "# Set Faults\ngeo_model.set_is_fault(['Fault1_series','Fault7_series','Fault6_series',\n                        'Fault2_series', 'Fault5_series', 'Fault3_series', 'Fault4_series']);",
    "persistent_id": "947b25c4-e155-47fe-8adf-d4c6bbc870c7"
   },
   "outputs": [],
   "source": [
    "# Set Faults\n",
    "geo_model.set_is_fault(['Thrust1_series', 'Thrust2_series',\n",
    "                        'Fault2_series', 'Fault5_series', 'Fault6_series'],\n",
    "                      change_color=False);\n",
    "#geo_model.set_is_finite_fault(series_fault=['Fault1_series', 'Fault7_series', 'Fault6_series', \n",
    "#                                            'Fault5_series', 'Fault3_series', 'Fault4_series'],\n",
    "#                              toggle=True)"
   ]
  },
  {
   "cell_type": "code",
   "execution_count": 14,
   "metadata": {},
   "outputs": [
    {
     "data": {
      "text/html": [
       "<table border=\"1\" class=\"dataframe\">\n",
       "  <thead>\n",
       "    <tr style=\"text-align: right;\">\n",
       "      <th></th>\n",
       "      <th>order_series</th>\n",
       "      <th>BottomRelation</th>\n",
       "      <th>isActive</th>\n",
       "      <th>isFault</th>\n",
       "      <th>isFinite</th>\n",
       "    </tr>\n",
       "  </thead>\n",
       "  <tbody>\n",
       "    <tr>\n",
       "      <th>Thrust1_series</th>\n",
       "      <td>1</td>\n",
       "      <td>Fault</td>\n",
       "      <td>True</td>\n",
       "      <td>True</td>\n",
       "      <td>False</td>\n",
       "    </tr>\n",
       "    <tr>\n",
       "      <th>Thrust2_series</th>\n",
       "      <td>2</td>\n",
       "      <td>Fault</td>\n",
       "      <td>True</td>\n",
       "      <td>True</td>\n",
       "      <td>False</td>\n",
       "    </tr>\n",
       "    <tr>\n",
       "      <th>Fault2_series</th>\n",
       "      <td>3</td>\n",
       "      <td>Fault</td>\n",
       "      <td>True</td>\n",
       "      <td>True</td>\n",
       "      <td>False</td>\n",
       "    </tr>\n",
       "    <tr>\n",
       "      <th>Fault5_series</th>\n",
       "      <td>4</td>\n",
       "      <td>Fault</td>\n",
       "      <td>True</td>\n",
       "      <td>True</td>\n",
       "      <td>False</td>\n",
       "    </tr>\n",
       "    <tr>\n",
       "      <th>Fault6_series</th>\n",
       "      <td>5</td>\n",
       "      <td>Fault</td>\n",
       "      <td>True</td>\n",
       "      <td>True</td>\n",
       "      <td>False</td>\n",
       "    </tr>\n",
       "    <tr>\n",
       "      <th>Post_tectonic_series</th>\n",
       "      <td>6</td>\n",
       "      <td>Onlap</td>\n",
       "      <td>True</td>\n",
       "      <td>False</td>\n",
       "      <td>False</td>\n",
       "    </tr>\n",
       "    <tr>\n",
       "      <th>Detachement</th>\n",
       "      <td>7</td>\n",
       "      <td>Erosion</td>\n",
       "      <td>True</td>\n",
       "      <td>False</td>\n",
       "      <td>False</td>\n",
       "    </tr>\n",
       "    <tr>\n",
       "      <th>Syn_tectonic_series2</th>\n",
       "      <td>8</td>\n",
       "      <td>Onlap</td>\n",
       "      <td>True</td>\n",
       "      <td>False</td>\n",
       "      <td>False</td>\n",
       "    </tr>\n",
       "    <tr>\n",
       "      <th>Syn_tectonic_series1</th>\n",
       "      <td>9</td>\n",
       "      <td>Onlap</td>\n",
       "      <td>True</td>\n",
       "      <td>False</td>\n",
       "      <td>False</td>\n",
       "    </tr>\n",
       "    <tr>\n",
       "      <th>Pre_tectonic_series</th>\n",
       "      <td>10</td>\n",
       "      <td>Onlap</td>\n",
       "      <td>True</td>\n",
       "      <td>False</td>\n",
       "      <td>False</td>\n",
       "    </tr>\n",
       "    <tr>\n",
       "      <th>Basement</th>\n",
       "      <td>11</td>\n",
       "      <td>Erosion</td>\n",
       "      <td>False</td>\n",
       "      <td>False</td>\n",
       "      <td>False</td>\n",
       "    </tr>\n",
       "  </tbody>\n",
       "</table>"
      ],
      "text/plain": [
       "                      order_series BottomRelation  isActive  isFault  isFinite\n",
       "Thrust1_series                   1          Fault      True     True     False\n",
       "Thrust2_series                   2          Fault      True     True     False\n",
       "Fault2_series                    3          Fault      True     True     False\n",
       "Fault5_series                    4          Fault      True     True     False\n",
       "Fault6_series                    5          Fault      True     True     False\n",
       "Post_tectonic_series             6          Onlap      True    False     False\n",
       "Detachement                      7        Erosion      True    False     False\n",
       "Syn_tectonic_series2             8          Onlap      True    False     False\n",
       "Syn_tectonic_series1             9          Onlap      True    False     False\n",
       "Pre_tectonic_series             10          Onlap      True    False     False\n",
       "Basement                        11        Erosion     False    False     False"
      ]
     },
     "execution_count": 14,
     "metadata": {},
     "output_type": "execute_result"
    }
   ],
   "source": [
    "geo_model.set_bottom_relation(series=['Post_tectonic_series',\n",
    "                                     'Pre_tectonic_series',\n",
    "                                     'Syn_tectonic_series1',\n",
    "                                     'Syn_tectonic_series2'], bottom_relation='Onlap')"
   ]
  },
  {
   "cell_type": "code",
   "execution_count": 15,
   "metadata": {
    "execution_event_id": "65b4f27d-0d35-4ecd-8936-ef931408ebed",
    "last_executed_text": "# table of fault relations\ngeo_model.faults.faults_relations_df",
    "persistent_id": "fc9e0c38-c1bd-43c5-96d5-6b03880188f4"
   },
   "outputs": [
    {
     "data": {
      "text/html": [
       "<div>\n",
       "<style scoped>\n",
       "    .dataframe tbody tr th:only-of-type {\n",
       "        vertical-align: middle;\n",
       "    }\n",
       "\n",
       "    .dataframe tbody tr th {\n",
       "        vertical-align: top;\n",
       "    }\n",
       "\n",
       "    .dataframe thead th {\n",
       "        text-align: right;\n",
       "    }\n",
       "</style>\n",
       "<table border=\"1\" class=\"dataframe\">\n",
       "  <thead>\n",
       "    <tr style=\"text-align: right;\">\n",
       "      <th></th>\n",
       "      <th>Thrust1_series</th>\n",
       "      <th>Thrust2_series</th>\n",
       "      <th>Fault2_series</th>\n",
       "      <th>Fault5_series</th>\n",
       "      <th>Fault6_series</th>\n",
       "      <th>Post_tectonic_series</th>\n",
       "      <th>Detachement</th>\n",
       "      <th>Syn_tectonic_series2</th>\n",
       "      <th>Syn_tectonic_series1</th>\n",
       "      <th>Pre_tectonic_series</th>\n",
       "      <th>Basement</th>\n",
       "    </tr>\n",
       "  </thead>\n",
       "  <tbody>\n",
       "    <tr>\n",
       "      <th>Thrust1_series</th>\n",
       "      <td>False</td>\n",
       "      <td>False</td>\n",
       "      <td>False</td>\n",
       "      <td>False</td>\n",
       "      <td>False</td>\n",
       "      <td>True</td>\n",
       "      <td>True</td>\n",
       "      <td>True</td>\n",
       "      <td>True</td>\n",
       "      <td>True</td>\n",
       "      <td>True</td>\n",
       "    </tr>\n",
       "    <tr>\n",
       "      <th>Thrust2_series</th>\n",
       "      <td>False</td>\n",
       "      <td>False</td>\n",
       "      <td>False</td>\n",
       "      <td>False</td>\n",
       "      <td>False</td>\n",
       "      <td>True</td>\n",
       "      <td>True</td>\n",
       "      <td>True</td>\n",
       "      <td>True</td>\n",
       "      <td>True</td>\n",
       "      <td>True</td>\n",
       "    </tr>\n",
       "    <tr>\n",
       "      <th>Fault2_series</th>\n",
       "      <td>False</td>\n",
       "      <td>False</td>\n",
       "      <td>False</td>\n",
       "      <td>False</td>\n",
       "      <td>False</td>\n",
       "      <td>True</td>\n",
       "      <td>True</td>\n",
       "      <td>True</td>\n",
       "      <td>True</td>\n",
       "      <td>True</td>\n",
       "      <td>True</td>\n",
       "    </tr>\n",
       "    <tr>\n",
       "      <th>Fault5_series</th>\n",
       "      <td>False</td>\n",
       "      <td>False</td>\n",
       "      <td>False</td>\n",
       "      <td>False</td>\n",
       "      <td>False</td>\n",
       "      <td>True</td>\n",
       "      <td>True</td>\n",
       "      <td>True</td>\n",
       "      <td>True</td>\n",
       "      <td>True</td>\n",
       "      <td>True</td>\n",
       "    </tr>\n",
       "    <tr>\n",
       "      <th>Fault6_series</th>\n",
       "      <td>False</td>\n",
       "      <td>False</td>\n",
       "      <td>False</td>\n",
       "      <td>False</td>\n",
       "      <td>False</td>\n",
       "      <td>True</td>\n",
       "      <td>True</td>\n",
       "      <td>True</td>\n",
       "      <td>True</td>\n",
       "      <td>True</td>\n",
       "      <td>True</td>\n",
       "    </tr>\n",
       "    <tr>\n",
       "      <th>Post_tectonic_series</th>\n",
       "      <td>False</td>\n",
       "      <td>False</td>\n",
       "      <td>False</td>\n",
       "      <td>False</td>\n",
       "      <td>False</td>\n",
       "      <td>False</td>\n",
       "      <td>False</td>\n",
       "      <td>False</td>\n",
       "      <td>False</td>\n",
       "      <td>False</td>\n",
       "      <td>False</td>\n",
       "    </tr>\n",
       "    <tr>\n",
       "      <th>Detachement</th>\n",
       "      <td>False</td>\n",
       "      <td>False</td>\n",
       "      <td>False</td>\n",
       "      <td>False</td>\n",
       "      <td>False</td>\n",
       "      <td>False</td>\n",
       "      <td>False</td>\n",
       "      <td>False</td>\n",
       "      <td>False</td>\n",
       "      <td>False</td>\n",
       "      <td>False</td>\n",
       "    </tr>\n",
       "    <tr>\n",
       "      <th>Syn_tectonic_series2</th>\n",
       "      <td>False</td>\n",
       "      <td>False</td>\n",
       "      <td>False</td>\n",
       "      <td>False</td>\n",
       "      <td>False</td>\n",
       "      <td>False</td>\n",
       "      <td>False</td>\n",
       "      <td>False</td>\n",
       "      <td>False</td>\n",
       "      <td>False</td>\n",
       "      <td>False</td>\n",
       "    </tr>\n",
       "    <tr>\n",
       "      <th>Syn_tectonic_series1</th>\n",
       "      <td>False</td>\n",
       "      <td>False</td>\n",
       "      <td>False</td>\n",
       "      <td>False</td>\n",
       "      <td>False</td>\n",
       "      <td>False</td>\n",
       "      <td>False</td>\n",
       "      <td>False</td>\n",
       "      <td>False</td>\n",
       "      <td>False</td>\n",
       "      <td>False</td>\n",
       "    </tr>\n",
       "    <tr>\n",
       "      <th>Pre_tectonic_series</th>\n",
       "      <td>False</td>\n",
       "      <td>False</td>\n",
       "      <td>False</td>\n",
       "      <td>False</td>\n",
       "      <td>False</td>\n",
       "      <td>False</td>\n",
       "      <td>False</td>\n",
       "      <td>False</td>\n",
       "      <td>False</td>\n",
       "      <td>False</td>\n",
       "      <td>False</td>\n",
       "    </tr>\n",
       "    <tr>\n",
       "      <th>Basement</th>\n",
       "      <td>False</td>\n",
       "      <td>False</td>\n",
       "      <td>False</td>\n",
       "      <td>False</td>\n",
       "      <td>False</td>\n",
       "      <td>False</td>\n",
       "      <td>False</td>\n",
       "      <td>False</td>\n",
       "      <td>False</td>\n",
       "      <td>False</td>\n",
       "      <td>False</td>\n",
       "    </tr>\n",
       "  </tbody>\n",
       "</table>\n",
       "</div>"
      ],
      "text/plain": [
       "                      Thrust1_series  Thrust2_series  Fault2_series  \\\n",
       "Thrust1_series                 False           False          False   \n",
       "Thrust2_series                 False           False          False   \n",
       "Fault2_series                  False           False          False   \n",
       "Fault5_series                  False           False          False   \n",
       "Fault6_series                  False           False          False   \n",
       "Post_tectonic_series           False           False          False   \n",
       "Detachement                    False           False          False   \n",
       "Syn_tectonic_series2           False           False          False   \n",
       "Syn_tectonic_series1           False           False          False   \n",
       "Pre_tectonic_series            False           False          False   \n",
       "Basement                       False           False          False   \n",
       "\n",
       "                      Fault5_series  Fault6_series  Post_tectonic_series  \\\n",
       "Thrust1_series                False          False                  True   \n",
       "Thrust2_series                False          False                  True   \n",
       "Fault2_series                 False          False                  True   \n",
       "Fault5_series                 False          False                  True   \n",
       "Fault6_series                 False          False                  True   \n",
       "Post_tectonic_series          False          False                 False   \n",
       "Detachement                   False          False                 False   \n",
       "Syn_tectonic_series2          False          False                 False   \n",
       "Syn_tectonic_series1          False          False                 False   \n",
       "Pre_tectonic_series           False          False                 False   \n",
       "Basement                      False          False                 False   \n",
       "\n",
       "                      Detachement  Syn_tectonic_series2  Syn_tectonic_series1  \\\n",
       "Thrust1_series               True                  True                  True   \n",
       "Thrust2_series               True                  True                  True   \n",
       "Fault2_series                True                  True                  True   \n",
       "Fault5_series                True                  True                  True   \n",
       "Fault6_series                True                  True                  True   \n",
       "Post_tectonic_series        False                 False                 False   \n",
       "Detachement                 False                 False                 False   \n",
       "Syn_tectonic_series2        False                 False                 False   \n",
       "Syn_tectonic_series1        False                 False                 False   \n",
       "Pre_tectonic_series         False                 False                 False   \n",
       "Basement                    False                 False                 False   \n",
       "\n",
       "                      Pre_tectonic_series  Basement  \n",
       "Thrust1_series                       True      True  \n",
       "Thrust2_series                       True      True  \n",
       "Fault2_series                        True      True  \n",
       "Fault5_series                        True      True  \n",
       "Fault6_series                        True      True  \n",
       "Post_tectonic_series                False     False  \n",
       "Detachement                         False     False  \n",
       "Syn_tectonic_series2                False     False  \n",
       "Syn_tectonic_series1                False     False  \n",
       "Pre_tectonic_series                 False     False  \n",
       "Basement                            False     False  "
      ]
     },
     "execution_count": 15,
     "metadata": {},
     "output_type": "execute_result"
    }
   ],
   "source": [
    "# table of fault relations\n",
    "geo_model.faults.faults_relations_df"
   ]
  },
  {
   "cell_type": "code",
   "execution_count": 16,
   "metadata": {},
   "outputs": [
    {
     "data": {
      "text/html": [
       "<div>\n",
       "<style scoped>\n",
       "    .dataframe tbody tr th:only-of-type {\n",
       "        vertical-align: middle;\n",
       "    }\n",
       "\n",
       "    .dataframe tbody tr th {\n",
       "        vertical-align: top;\n",
       "    }\n",
       "\n",
       "    .dataframe thead th {\n",
       "        text-align: right;\n",
       "    }\n",
       "</style>\n",
       "<table border=\"1\" class=\"dataframe\">\n",
       "  <thead>\n",
       "    <tr style=\"text-align: right;\">\n",
       "      <th></th>\n",
       "      <th>Thrust1_series</th>\n",
       "      <th>Thrust2_series</th>\n",
       "      <th>Fault2_series</th>\n",
       "      <th>Fault5_series</th>\n",
       "      <th>Fault6_series</th>\n",
       "      <th>Post_tectonic_series</th>\n",
       "      <th>Detachement</th>\n",
       "      <th>Syn_tectonic_series2</th>\n",
       "      <th>Syn_tectonic_series1</th>\n",
       "      <th>Pre_tectonic_series</th>\n",
       "      <th>Basement</th>\n",
       "    </tr>\n",
       "  </thead>\n",
       "  <tbody>\n",
       "    <tr>\n",
       "      <th>Thrust1_series</th>\n",
       "      <td>False</td>\n",
       "      <td>True</td>\n",
       "      <td>False</td>\n",
       "      <td>False</td>\n",
       "      <td>False</td>\n",
       "      <td>True</td>\n",
       "      <td>False</td>\n",
       "      <td>False</td>\n",
       "      <td>False</td>\n",
       "      <td>False</td>\n",
       "      <td>False</td>\n",
       "    </tr>\n",
       "    <tr>\n",
       "      <th>Thrust2_series</th>\n",
       "      <td>False</td>\n",
       "      <td>False</td>\n",
       "      <td>False</td>\n",
       "      <td>False</td>\n",
       "      <td>False</td>\n",
       "      <td>True</td>\n",
       "      <td>False</td>\n",
       "      <td>False</td>\n",
       "      <td>False</td>\n",
       "      <td>False</td>\n",
       "      <td>False</td>\n",
       "    </tr>\n",
       "    <tr>\n",
       "      <th>Fault2_series</th>\n",
       "      <td>False</td>\n",
       "      <td>False</td>\n",
       "      <td>False</td>\n",
       "      <td>False</td>\n",
       "      <td>False</td>\n",
       "      <td>False</td>\n",
       "      <td>True</td>\n",
       "      <td>True</td>\n",
       "      <td>True</td>\n",
       "      <td>True</td>\n",
       "      <td>True</td>\n",
       "    </tr>\n",
       "    <tr>\n",
       "      <th>Fault5_series</th>\n",
       "      <td>False</td>\n",
       "      <td>False</td>\n",
       "      <td>False</td>\n",
       "      <td>False</td>\n",
       "      <td>False</td>\n",
       "      <td>False</td>\n",
       "      <td>True</td>\n",
       "      <td>True</td>\n",
       "      <td>True</td>\n",
       "      <td>True</td>\n",
       "      <td>True</td>\n",
       "    </tr>\n",
       "    <tr>\n",
       "      <th>Fault6_series</th>\n",
       "      <td>False</td>\n",
       "      <td>False</td>\n",
       "      <td>False</td>\n",
       "      <td>False</td>\n",
       "      <td>False</td>\n",
       "      <td>False</td>\n",
       "      <td>True</td>\n",
       "      <td>True</td>\n",
       "      <td>True</td>\n",
       "      <td>True</td>\n",
       "      <td>True</td>\n",
       "    </tr>\n",
       "    <tr>\n",
       "      <th>Post_tectonic_series</th>\n",
       "      <td>False</td>\n",
       "      <td>False</td>\n",
       "      <td>False</td>\n",
       "      <td>False</td>\n",
       "      <td>False</td>\n",
       "      <td>False</td>\n",
       "      <td>False</td>\n",
       "      <td>False</td>\n",
       "      <td>False</td>\n",
       "      <td>False</td>\n",
       "      <td>False</td>\n",
       "    </tr>\n",
       "    <tr>\n",
       "      <th>Detachement</th>\n",
       "      <td>False</td>\n",
       "      <td>False</td>\n",
       "      <td>False</td>\n",
       "      <td>False</td>\n",
       "      <td>False</td>\n",
       "      <td>False</td>\n",
       "      <td>False</td>\n",
       "      <td>False</td>\n",
       "      <td>False</td>\n",
       "      <td>False</td>\n",
       "      <td>False</td>\n",
       "    </tr>\n",
       "    <tr>\n",
       "      <th>Syn_tectonic_series2</th>\n",
       "      <td>False</td>\n",
       "      <td>False</td>\n",
       "      <td>False</td>\n",
       "      <td>False</td>\n",
       "      <td>False</td>\n",
       "      <td>False</td>\n",
       "      <td>False</td>\n",
       "      <td>False</td>\n",
       "      <td>False</td>\n",
       "      <td>False</td>\n",
       "      <td>False</td>\n",
       "    </tr>\n",
       "    <tr>\n",
       "      <th>Syn_tectonic_series1</th>\n",
       "      <td>False</td>\n",
       "      <td>False</td>\n",
       "      <td>False</td>\n",
       "      <td>False</td>\n",
       "      <td>False</td>\n",
       "      <td>False</td>\n",
       "      <td>False</td>\n",
       "      <td>False</td>\n",
       "      <td>False</td>\n",
       "      <td>False</td>\n",
       "      <td>False</td>\n",
       "    </tr>\n",
       "    <tr>\n",
       "      <th>Pre_tectonic_series</th>\n",
       "      <td>False</td>\n",
       "      <td>False</td>\n",
       "      <td>False</td>\n",
       "      <td>False</td>\n",
       "      <td>False</td>\n",
       "      <td>False</td>\n",
       "      <td>False</td>\n",
       "      <td>False</td>\n",
       "      <td>False</td>\n",
       "      <td>False</td>\n",
       "      <td>False</td>\n",
       "    </tr>\n",
       "    <tr>\n",
       "      <th>Basement</th>\n",
       "      <td>False</td>\n",
       "      <td>False</td>\n",
       "      <td>False</td>\n",
       "      <td>False</td>\n",
       "      <td>False</td>\n",
       "      <td>False</td>\n",
       "      <td>False</td>\n",
       "      <td>False</td>\n",
       "      <td>False</td>\n",
       "      <td>False</td>\n",
       "      <td>False</td>\n",
       "    </tr>\n",
       "  </tbody>\n",
       "</table>\n",
       "</div>"
      ],
      "text/plain": [
       "                      Thrust1_series  Thrust2_series  Fault2_series  \\\n",
       "Thrust1_series                 False            True          False   \n",
       "Thrust2_series                 False           False          False   \n",
       "Fault2_series                  False           False          False   \n",
       "Fault5_series                  False           False          False   \n",
       "Fault6_series                  False           False          False   \n",
       "Post_tectonic_series           False           False          False   \n",
       "Detachement                    False           False          False   \n",
       "Syn_tectonic_series2           False           False          False   \n",
       "Syn_tectonic_series1           False           False          False   \n",
       "Pre_tectonic_series            False           False          False   \n",
       "Basement                       False           False          False   \n",
       "\n",
       "                      Fault5_series  Fault6_series  Post_tectonic_series  \\\n",
       "Thrust1_series                False          False                  True   \n",
       "Thrust2_series                False          False                  True   \n",
       "Fault2_series                 False          False                 False   \n",
       "Fault5_series                 False          False                 False   \n",
       "Fault6_series                 False          False                 False   \n",
       "Post_tectonic_series          False          False                 False   \n",
       "Detachement                   False          False                 False   \n",
       "Syn_tectonic_series2          False          False                 False   \n",
       "Syn_tectonic_series1          False          False                 False   \n",
       "Pre_tectonic_series           False          False                 False   \n",
       "Basement                      False          False                 False   \n",
       "\n",
       "                      Detachement  Syn_tectonic_series2  Syn_tectonic_series1  \\\n",
       "Thrust1_series              False                 False                 False   \n",
       "Thrust2_series              False                 False                 False   \n",
       "Fault2_series                True                  True                  True   \n",
       "Fault5_series                True                  True                  True   \n",
       "Fault6_series                True                  True                  True   \n",
       "Post_tectonic_series        False                 False                 False   \n",
       "Detachement                 False                 False                 False   \n",
       "Syn_tectonic_series2        False                 False                 False   \n",
       "Syn_tectonic_series1        False                 False                 False   \n",
       "Pre_tectonic_series         False                 False                 False   \n",
       "Basement                    False                 False                 False   \n",
       "\n",
       "                      Pre_tectonic_series  Basement  \n",
       "Thrust1_series                      False     False  \n",
       "Thrust2_series                      False     False  \n",
       "Fault2_series                        True      True  \n",
       "Fault5_series                        True      True  \n",
       "Fault6_series                        True      True  \n",
       "Post_tectonic_series                False     False  \n",
       "Detachement                         False     False  \n",
       "Syn_tectonic_series2                False     False  \n",
       "Syn_tectonic_series1                False     False  \n",
       "Pre_tectonic_series                 False     False  \n",
       "Basement                            False     False  "
      ]
     },
     "execution_count": 16,
     "metadata": {},
     "output_type": "execute_result"
    }
   ],
   "source": [
    "fr = np.array([[False, True, False, False, False, True, False, False, False, False, False],\n",
    "               [False, False, False, False, False, True, False, False, False, False, False],\n",
    "               [False, False, False, False, False, False, True, True, True, True, True],\n",
    "               [False, False, False, False, False, False, True, True, True, True, True],\n",
    "               [False, False, False, False, False, False, True, True, True, True, True],\n",
    "               [False, False, False, False, False, False, False, False, False, False, False],\n",
    "               [False, False, False, False, False, False, False, False, False, False, False],\n",
    "               [False, False, False, False, False, False, False, False, False, False, False],\n",
    "               [False, False, False, False, False, False, False, False, False, False, False],\n",
    "               [False, False, False, False, False, False, False, False, False, False, False],\n",
    "               [False, False, False, False, False, False, False, False, False, False, False]])\n",
    "geo_model.set_fault_relation(fr)"
   ]
  },
  {
   "cell_type": "markdown",
   "metadata": {},
   "source": [
    "## Creating the model\n",
    "Now that we set the parameters and fault relations, it is time to start the modeling process:"
   ]
  },
  {
   "cell_type": "code",
   "execution_count": 17,
   "metadata": {
    "persistent_id": "dab045e6-6403-43f8-a5fb-16d3202cfdb7",
    "scrolled": true
   },
   "outputs": [
    {
     "name": "stderr",
     "output_type": "stream",
     "text": [
<<<<<<< HEAD
      "/home/bl2/miniconda3/envs/gempy_env/lib/python3.7/site-packages/gempy/core/solution.py:315: UserWarning: Surfaces not computed due to: No surface found at the given iso value.. The surface is: Series: No surface found at the given iso value.; Surface Number:8\n",
      "  '; Surface Number:' + str(s_n))\n",
      "/home/bl2/miniconda3/envs/gempy_env/lib/python3.7/site-packages/gempy/core/solution.py:128: VisibleDeprecationWarning: Creating an ndarray from ragged nested sequences (which is a list-or-tuple of lists-or-tuples-or ndarrays with different lengths or shapes) is deprecated. If you meant to do this, you must specify 'dtype=object' when creating the ndarray\n",
=======
      "C:\\Users\\brigg\\miniconda3\\envs\\env_gempy\\lib\\site-packages\\gempy\\core\\solution.py:315: UserWarning: Surfaces not computed due to: No surface found at the given iso value.. The surface is: Series: No surface found at the given iso value.; Surface Number:8\n",
      "  '; Surface Number:' + str(s_n))\n",
      "C:\\Users\\brigg\\miniconda3\\envs\\env_gempy\\lib\\site-packages\\gempy\\core\\solution.py:128: VisibleDeprecationWarning: Creating an ndarray from ragged nested sequences (which is a list-or-tuple of lists-or-tuples-or ndarrays with different lengths or shapes) is deprecated. If you meant to do this, you must specify 'dtype=object' when creating the ndarray\n",
>>>>>>> 152f82ae45eb205ade2a6191ed0b548682544a52
      "  self.geological_map = np.array([values[0][:, l0: l1], values[4][:, l0: l1].astype(float)])\n"
     ]
    }
   ],
   "source": [
    "# Compute the model\n",
    "sol = gp.compute_model(geo_model, compute_mesh=True)"
   ]
  },
  {
   "cell_type": "markdown",
   "metadata": {},
   "source": [
    "When plotting the scalar field, we actually see what the gradients (the orientation triangles) look like for the different units / faults. "
   ]
  },
  {
   "cell_type": "code",
   "execution_count": 18,
   "metadata": {},
   "outputs": [],
   "source": [
    "# Plot solution in 2D\n",
    "#p2d.plot_contacts(ax, cell_number=5)\n",
    "p2d.plot_lith(ax, cell_number=5, alpha=1.)\n",
    "p2d.plot_topography(ax)\n",
    "\n",
    "# Plot solution in 3D\n",
    "#p3d.plot_surfaces()\n",
    "#p3d.plot_structured_grid()"
   ]
  },
  {
   "cell_type": "code",
   "execution_count": 19,
   "metadata": {},
   "outputs": [
    {
     "data": {
      "text/plain": [
<<<<<<< HEAD
       "<gempy.plot.visualization_2d.Plot2D at 0x7f0230bef890>"
=======
       "<gempy.plot.visualization_2d.Plot2D at 0x1b302ce9108>"
>>>>>>> 152f82ae45eb205ade2a6191ed0b548682544a52
      ]
     },
     "execution_count": 19,
     "metadata": {},
     "output_type": "execute_result"
    }
   ],
   "source": [
    "gp.plot_2d(geo_model, cell_number=25, show_data=False, show_topography=True,\n",
    "          show_lith=True, show_results=True, show_boundaries=False)"
   ]
  },
  {
   "cell_type": "markdown",
   "metadata": {},
   "source": [
    "## Gravity"
   ]
  },
  {
   "cell_type": "code",
<<<<<<< HEAD
   "execution_count": 20,
=======
   "execution_count": 19,
>>>>>>> 152f82ae45eb205ade2a6191ed0b548682544a52
   "metadata": {},
   "outputs": [],
   "source": [
    "# Creating the grid\n",
    "grav_res = 15\n",
    "X = np.linspace(1000, 27000, grav_res)\n",
    "Y = np.linspace(1000, 19000, grav_res)\n",
    "Z = 300\n",
    "\n",
    "xyz = np.meshgrid(X, Y, Z)\n",
    "xy_ravel = np.vstack(list(map(np.ravel, xyz))).T"
<<<<<<< HEAD
=======
   ]
  },
  {
   "cell_type": "code",
   "execution_count": 20,
   "metadata": {},
   "outputs": [
    {
     "data": {
      "text/plain": [
       "<matplotlib.collections.PathCollection at 0x27664a38148>"
      ]
     },
     "execution_count": 20,
     "metadata": {},
     "output_type": "execute_result"
    }
   ],
   "source": [
    "import matplotlib.pyplot as plt\n",
    "gp._plot.plot_data(geo_model, direction='z')\n",
    "plt.scatter(xy_ravel[:,0], xy_ravel[:,1], s=5)"
   ]
  },
  {
   "cell_type": "code",
   "execution_count": 21,
   "metadata": {},
   "outputs": [
    {
     "name": "stdout",
     "output_type": "stream",
     "text": [
      "Active grids: ['regular' 'topography' 'centered']\n"
     ]
    },
    {
     "data": {
      "text/plain": [
       "Grid Object. Values: \n",
       "array([[  140.        ,   200.        , -6453.125     ],\n",
       "       [  140.        ,   200.        , -6359.375     ],\n",
       "       [  140.        ,   200.        , -6265.625     ],\n",
       "       ...,\n",
       "       [27800.        , 19800.        ,  -245.22956921],\n",
       "       [27800.        , 19800.        ,  -438.89824608],\n",
       "       [27800.        , 19800.        ,  -708.        ]])"
      ]
     },
     "execution_count": 21,
     "metadata": {},
     "output_type": "execute_result"
    }
   ],
   "source": [
    "geo_model.set_centered_grid(xy_ravel, resolution = [15, 15, 15], radius = 800)"
   ]
  },
  {
   "cell_type": "code",
   "execution_count": 22,
   "metadata": {},
   "outputs": [
    {
     "data": {
      "text/plain": [
       "array([[ -800.        ,  -800.        ,   -48.        ],\n",
       "       [ -800.        ,  -800.        ,   -57.6       ],\n",
       "       [ -800.        ,  -800.        ,   -61.33915675],\n",
       "       ...,\n",
       "       [  800.        ,   800.        ,  -545.22956921],\n",
       "       [  800.        ,   800.        ,  -738.89824608],\n",
       "       [  800.        ,   800.        , -1008.        ]])"
      ]
     },
     "execution_count": 22,
     "metadata": {},
     "output_type": "execute_result"
    }
   ],
   "source": [
    "geo_model.grid.centered_grid.kernel_centers"
   ]
  },
  {
   "cell_type": "code",
   "execution_count": 23,
   "metadata": {},
   "outputs": [
    {
     "data": {
      "text/html": [
       "<style  type=\"text/css\" >\n",
       "    #T_dd4a2a7a_d720_11ea_b95a_d05099154a5crow0_col3 {\n",
       "            background-color:  #d65f5f;\n",
       "        }    #T_dd4a2a7a_d720_11ea_b95a_d05099154a5crow1_col3 {\n",
       "            background-color:  #956cb4;\n",
       "        }    #T_dd4a2a7a_d720_11ea_b95a_d05099154a5crow2_col3 {\n",
       "            background-color:  #015482;\n",
       "        }    #T_dd4a2a7a_d720_11ea_b95a_d05099154a5crow3_col3 {\n",
       "            background-color:  #9f0052;\n",
       "        }    #T_dd4a2a7a_d720_11ea_b95a_d05099154a5crow4_col3 {\n",
       "            background-color:  #ffbe00;\n",
       "        }    #T_dd4a2a7a_d720_11ea_b95a_d05099154a5crow5_col3 {\n",
       "            background-color:  #4878d0;\n",
       "        }    #T_dd4a2a7a_d720_11ea_b95a_d05099154a5crow6_col3 {\n",
       "            background-color:  #6acc64;\n",
       "        }    #T_dd4a2a7a_d720_11ea_b95a_d05099154a5crow7_col3 {\n",
       "            background-color:  #ee854a;\n",
       "        }    #T_dd4a2a7a_d720_11ea_b95a_d05099154a5crow8_col3 {\n",
       "            background-color:  #5DA629;\n",
       "        }    #T_dd4a2a7a_d720_11ea_b95a_d05099154a5crow9_col3 {\n",
       "            background-color:  #ff3f20;\n",
       "        }    #T_dd4a2a7a_d720_11ea_b95a_d05099154a5crow10_col3 {\n",
       "            background-color:  #443988;\n",
       "        }    #T_dd4a2a7a_d720_11ea_b95a_d05099154a5crow11_col3 {\n",
       "            background-color:  #728f02;\n",
       "        }    #T_dd4a2a7a_d720_11ea_b95a_d05099154a5crow12_col3 {\n",
       "            background-color:  #8c613c;\n",
       "        }</style><table id=\"T_dd4a2a7a_d720_11ea_b95a_d05099154a5c\" ><thead>    <tr>        <th class=\"blank level0\" ></th>        <th class=\"col_heading level0 col0\" >surface</th>        <th class=\"col_heading level0 col1\" >series</th>        <th class=\"col_heading level0 col2\" >order_surfaces</th>        <th class=\"col_heading level0 col3\" >color</th>        <th class=\"col_heading level0 col4\" >id</th>        <th class=\"col_heading level0 col5\" >density</th>    </tr></thead><tbody>\n",
       "                <tr>\n",
       "                        <th id=\"T_dd4a2a7a_d720_11ea_b95a_d05099154a5clevel0_row0\" class=\"row_heading level0 row0\" >10</th>\n",
       "                        <td id=\"T_dd4a2a7a_d720_11ea_b95a_d05099154a5crow0_col0\" class=\"data row0 col0\" >Thrust1_south</td>\n",
       "                        <td id=\"T_dd4a2a7a_d720_11ea_b95a_d05099154a5crow0_col1\" class=\"data row0 col1\" >Thrust1_series</td>\n",
       "                        <td id=\"T_dd4a2a7a_d720_11ea_b95a_d05099154a5crow0_col2\" class=\"data row0 col2\" >1</td>\n",
       "                        <td id=\"T_dd4a2a7a_d720_11ea_b95a_d05099154a5crow0_col3\" class=\"data row0 col3\" >#d65f5f</td>\n",
       "                        <td id=\"T_dd4a2a7a_d720_11ea_b95a_d05099154a5crow0_col4\" class=\"data row0 col4\" >1</td>\n",
       "                        <td id=\"T_dd4a2a7a_d720_11ea_b95a_d05099154a5crow0_col5\" class=\"data row0 col5\" >0.000000</td>\n",
       "            </tr>\n",
       "            <tr>\n",
       "                        <th id=\"T_dd4a2a7a_d720_11ea_b95a_d05099154a5clevel0_row1\" class=\"row_heading level0 row1\" >11</th>\n",
       "                        <td id=\"T_dd4a2a7a_d720_11ea_b95a_d05099154a5crow1_col0\" class=\"data row1 col0\" >Thrust2_south</td>\n",
       "                        <td id=\"T_dd4a2a7a_d720_11ea_b95a_d05099154a5crow1_col1\" class=\"data row1 col1\" >Thrust2_series</td>\n",
       "                        <td id=\"T_dd4a2a7a_d720_11ea_b95a_d05099154a5crow1_col2\" class=\"data row1 col2\" >1</td>\n",
       "                        <td id=\"T_dd4a2a7a_d720_11ea_b95a_d05099154a5crow1_col3\" class=\"data row1 col3\" >#956cb4</td>\n",
       "                        <td id=\"T_dd4a2a7a_d720_11ea_b95a_d05099154a5crow1_col4\" class=\"data row1 col4\" >2</td>\n",
       "                        <td id=\"T_dd4a2a7a_d720_11ea_b95a_d05099154a5crow1_col5\" class=\"data row1 col5\" >0.000000</td>\n",
       "            </tr>\n",
       "            <tr>\n",
       "                        <th id=\"T_dd4a2a7a_d720_11ea_b95a_d05099154a5clevel0_row2\" class=\"row_heading level0 row2\" >0</th>\n",
       "                        <td id=\"T_dd4a2a7a_d720_11ea_b95a_d05099154a5crow2_col0\" class=\"data row2 col0\" >Fault2</td>\n",
       "                        <td id=\"T_dd4a2a7a_d720_11ea_b95a_d05099154a5crow2_col1\" class=\"data row2 col1\" >Fault2_series</td>\n",
       "                        <td id=\"T_dd4a2a7a_d720_11ea_b95a_d05099154a5crow2_col2\" class=\"data row2 col2\" >1</td>\n",
       "                        <td id=\"T_dd4a2a7a_d720_11ea_b95a_d05099154a5crow2_col3\" class=\"data row2 col3\" >#015482</td>\n",
       "                        <td id=\"T_dd4a2a7a_d720_11ea_b95a_d05099154a5crow2_col4\" class=\"data row2 col4\" >3</td>\n",
       "                        <td id=\"T_dd4a2a7a_d720_11ea_b95a_d05099154a5crow2_col5\" class=\"data row2 col5\" >0.000000</td>\n",
       "            </tr>\n",
       "            <tr>\n",
       "                        <th id=\"T_dd4a2a7a_d720_11ea_b95a_d05099154a5clevel0_row3\" class=\"row_heading level0 row3\" >1</th>\n",
       "                        <td id=\"T_dd4a2a7a_d720_11ea_b95a_d05099154a5crow3_col0\" class=\"data row3 col0\" >Fault5</td>\n",
       "                        <td id=\"T_dd4a2a7a_d720_11ea_b95a_d05099154a5crow3_col1\" class=\"data row3 col1\" >Fault5_series</td>\n",
       "                        <td id=\"T_dd4a2a7a_d720_11ea_b95a_d05099154a5crow3_col2\" class=\"data row3 col2\" >1</td>\n",
       "                        <td id=\"T_dd4a2a7a_d720_11ea_b95a_d05099154a5crow3_col3\" class=\"data row3 col3\" >#9f0052</td>\n",
       "                        <td id=\"T_dd4a2a7a_d720_11ea_b95a_d05099154a5crow3_col4\" class=\"data row3 col4\" >4</td>\n",
       "                        <td id=\"T_dd4a2a7a_d720_11ea_b95a_d05099154a5crow3_col5\" class=\"data row3 col5\" >0.000000</td>\n",
       "            </tr>\n",
       "            <tr>\n",
       "                        <th id=\"T_dd4a2a7a_d720_11ea_b95a_d05099154a5clevel0_row4\" class=\"row_heading level0 row4\" >2</th>\n",
       "                        <td id=\"T_dd4a2a7a_d720_11ea_b95a_d05099154a5crow4_col0\" class=\"data row4 col0\" >Fault6</td>\n",
       "                        <td id=\"T_dd4a2a7a_d720_11ea_b95a_d05099154a5crow4_col1\" class=\"data row4 col1\" >Fault6_series</td>\n",
       "                        <td id=\"T_dd4a2a7a_d720_11ea_b95a_d05099154a5crow4_col2\" class=\"data row4 col2\" >1</td>\n",
       "                        <td id=\"T_dd4a2a7a_d720_11ea_b95a_d05099154a5crow4_col3\" class=\"data row4 col3\" >#ffbe00</td>\n",
       "                        <td id=\"T_dd4a2a7a_d720_11ea_b95a_d05099154a5crow4_col4\" class=\"data row4 col4\" >5</td>\n",
       "                        <td id=\"T_dd4a2a7a_d720_11ea_b95a_d05099154a5crow4_col5\" class=\"data row4 col5\" >0.000000</td>\n",
       "            </tr>\n",
       "            <tr>\n",
       "                        <th id=\"T_dd4a2a7a_d720_11ea_b95a_d05099154a5clevel0_row5\" class=\"row_heading level0 row5\" >7</th>\n",
       "                        <td id=\"T_dd4a2a7a_d720_11ea_b95a_d05099154a5crow5_col0\" class=\"data row5 col0\" >Tertiary</td>\n",
       "                        <td id=\"T_dd4a2a7a_d720_11ea_b95a_d05099154a5crow5_col1\" class=\"data row5 col1\" >Post_tectonic_series</td>\n",
       "                        <td id=\"T_dd4a2a7a_d720_11ea_b95a_d05099154a5crow5_col2\" class=\"data row5 col2\" >1</td>\n",
       "                        <td id=\"T_dd4a2a7a_d720_11ea_b95a_d05099154a5crow5_col3\" class=\"data row5 col3\" >#4878d0</td>\n",
       "                        <td id=\"T_dd4a2a7a_d720_11ea_b95a_d05099154a5crow5_col4\" class=\"data row5 col4\" >6</td>\n",
       "                        <td id=\"T_dd4a2a7a_d720_11ea_b95a_d05099154a5crow5_col5\" class=\"data row5 col5\" >2.450000</td>\n",
       "            </tr>\n",
       "            <tr>\n",
       "                        <th id=\"T_dd4a2a7a_d720_11ea_b95a_d05099154a5clevel0_row6\" class=\"row_heading level0 row6\" >9</th>\n",
       "                        <td id=\"T_dd4a2a7a_d720_11ea_b95a_d05099154a5crow6_col0\" class=\"data row6 col0\" >Pink</td>\n",
       "                        <td id=\"T_dd4a2a7a_d720_11ea_b95a_d05099154a5crow6_col1\" class=\"data row6 col1\" >Post_tectonic_series</td>\n",
       "                        <td id=\"T_dd4a2a7a_d720_11ea_b95a_d05099154a5crow6_col2\" class=\"data row6 col2\" >2</td>\n",
       "                        <td id=\"T_dd4a2a7a_d720_11ea_b95a_d05099154a5crow6_col3\" class=\"data row6 col3\" >#6acc64</td>\n",
       "                        <td id=\"T_dd4a2a7a_d720_11ea_b95a_d05099154a5crow6_col4\" class=\"data row6 col4\" >7</td>\n",
       "                        <td id=\"T_dd4a2a7a_d720_11ea_b95a_d05099154a5crow6_col5\" class=\"data row6 col5\" >2.450000</td>\n",
       "            </tr>\n",
       "            <tr>\n",
       "                        <th id=\"T_dd4a2a7a_d720_11ea_b95a_d05099154a5clevel0_row7\" class=\"row_heading level0 row7\" >8</th>\n",
       "                        <td id=\"T_dd4a2a7a_d720_11ea_b95a_d05099154a5crow7_col0\" class=\"data row7 col0\" >Orange</td>\n",
       "                        <td id=\"T_dd4a2a7a_d720_11ea_b95a_d05099154a5crow7_col1\" class=\"data row7 col1\" >Post_tectonic_series</td>\n",
       "                        <td id=\"T_dd4a2a7a_d720_11ea_b95a_d05099154a5crow7_col2\" class=\"data row7 col2\" >3</td>\n",
       "                        <td id=\"T_dd4a2a7a_d720_11ea_b95a_d05099154a5crow7_col3\" class=\"data row7 col3\" >#ee854a</td>\n",
       "                        <td id=\"T_dd4a2a7a_d720_11ea_b95a_d05099154a5crow7_col4\" class=\"data row7 col4\" >8</td>\n",
       "                        <td id=\"T_dd4a2a7a_d720_11ea_b95a_d05099154a5crow7_col5\" class=\"data row7 col5\" >2.450000</td>\n",
       "            </tr>\n",
       "            <tr>\n",
       "                        <th id=\"T_dd4a2a7a_d720_11ea_b95a_d05099154a5clevel0_row8\" class=\"row_heading level0 row8\" >6</th>\n",
       "                        <td id=\"T_dd4a2a7a_d720_11ea_b95a_d05099154a5crow8_col0\" class=\"data row8 col0\" >Mesozoic</td>\n",
       "                        <td id=\"T_dd4a2a7a_d720_11ea_b95a_d05099154a5crow8_col1\" class=\"data row8 col1\" >Detachement</td>\n",
       "                        <td id=\"T_dd4a2a7a_d720_11ea_b95a_d05099154a5crow8_col2\" class=\"data row8 col2\" >1</td>\n",
       "                        <td id=\"T_dd4a2a7a_d720_11ea_b95a_d05099154a5crow8_col3\" class=\"data row8 col3\" >#5DA629</td>\n",
       "                        <td id=\"T_dd4a2a7a_d720_11ea_b95a_d05099154a5crow8_col4\" class=\"data row8 col4\" >9</td>\n",
       "                        <td id=\"T_dd4a2a7a_d720_11ea_b95a_d05099154a5crow8_col5\" class=\"data row8 col5\" >2.450000</td>\n",
       "            </tr>\n",
       "            <tr>\n",
       "                        <th id=\"T_dd4a2a7a_d720_11ea_b95a_d05099154a5clevel0_row9\" class=\"row_heading level0 row9\" >5</th>\n",
       "                        <td id=\"T_dd4a2a7a_d720_11ea_b95a_d05099154a5crow9_col0\" class=\"data row9 col0\" >Upper-filling</td>\n",
       "                        <td id=\"T_dd4a2a7a_d720_11ea_b95a_d05099154a5crow9_col1\" class=\"data row9 col1\" >Syn_tectonic_series2</td>\n",
       "                        <td id=\"T_dd4a2a7a_d720_11ea_b95a_d05099154a5crow9_col2\" class=\"data row9 col2\" >1</td>\n",
       "                        <td id=\"T_dd4a2a7a_d720_11ea_b95a_d05099154a5crow9_col3\" class=\"data row9 col3\" >#ff3f20</td>\n",
       "                        <td id=\"T_dd4a2a7a_d720_11ea_b95a_d05099154a5crow9_col4\" class=\"data row9 col4\" >10</td>\n",
       "                        <td id=\"T_dd4a2a7a_d720_11ea_b95a_d05099154a5crow9_col5\" class=\"data row9 col5\" >3.200000</td>\n",
       "            </tr>\n",
       "            <tr>\n",
       "                        <th id=\"T_dd4a2a7a_d720_11ea_b95a_d05099154a5clevel0_row10\" class=\"row_heading level0 row10\" >4</th>\n",
       "                        <td id=\"T_dd4a2a7a_d720_11ea_b95a_d05099154a5crow10_col0\" class=\"data row10 col0\" >Middle-filling</td>\n",
       "                        <td id=\"T_dd4a2a7a_d720_11ea_b95a_d05099154a5crow10_col1\" class=\"data row10 col1\" >Syn_tectonic_series1</td>\n",
       "                        <td id=\"T_dd4a2a7a_d720_11ea_b95a_d05099154a5crow10_col2\" class=\"data row10 col2\" >1</td>\n",
       "                        <td id=\"T_dd4a2a7a_d720_11ea_b95a_d05099154a5crow10_col3\" class=\"data row10 col3\" >#443988</td>\n",
       "                        <td id=\"T_dd4a2a7a_d720_11ea_b95a_d05099154a5crow10_col4\" class=\"data row10 col4\" >11</td>\n",
       "                        <td id=\"T_dd4a2a7a_d720_11ea_b95a_d05099154a5crow10_col5\" class=\"data row10 col5\" >3.200000</td>\n",
       "            </tr>\n",
       "            <tr>\n",
       "                        <th id=\"T_dd4a2a7a_d720_11ea_b95a_d05099154a5clevel0_row11\" class=\"row_heading level0 row11\" >3</th>\n",
       "                        <td id=\"T_dd4a2a7a_d720_11ea_b95a_d05099154a5crow11_col0\" class=\"data row11 col0\" >Lower-filling</td>\n",
       "                        <td id=\"T_dd4a2a7a_d720_11ea_b95a_d05099154a5crow11_col1\" class=\"data row11 col1\" >Pre_tectonic_series</td>\n",
       "                        <td id=\"T_dd4a2a7a_d720_11ea_b95a_d05099154a5crow11_col2\" class=\"data row11 col2\" >1</td>\n",
       "                        <td id=\"T_dd4a2a7a_d720_11ea_b95a_d05099154a5crow11_col3\" class=\"data row11 col3\" >#728f02</td>\n",
       "                        <td id=\"T_dd4a2a7a_d720_11ea_b95a_d05099154a5crow11_col4\" class=\"data row11 col4\" >12</td>\n",
       "                        <td id=\"T_dd4a2a7a_d720_11ea_b95a_d05099154a5crow11_col5\" class=\"data row11 col5\" >3.200000</td>\n",
       "            </tr>\n",
       "            <tr>\n",
       "                        <th id=\"T_dd4a2a7a_d720_11ea_b95a_d05099154a5clevel0_row12\" class=\"row_heading level0 row12\" >12</th>\n",
       "                        <td id=\"T_dd4a2a7a_d720_11ea_b95a_d05099154a5crow12_col0\" class=\"data row12 col0\" >basement</td>\n",
       "                        <td id=\"T_dd4a2a7a_d720_11ea_b95a_d05099154a5crow12_col1\" class=\"data row12 col1\" >Basement</td>\n",
       "                        <td id=\"T_dd4a2a7a_d720_11ea_b95a_d05099154a5crow12_col2\" class=\"data row12 col2\" >1</td>\n",
       "                        <td id=\"T_dd4a2a7a_d720_11ea_b95a_d05099154a5crow12_col3\" class=\"data row12 col3\" >#8c613c</td>\n",
       "                        <td id=\"T_dd4a2a7a_d720_11ea_b95a_d05099154a5crow12_col4\" class=\"data row12 col4\" >13</td>\n",
       "                        <td id=\"T_dd4a2a7a_d720_11ea_b95a_d05099154a5crow12_col5\" class=\"data row12 col5\" >2.450000</td>\n",
       "            </tr>\n",
       "    </tbody></table>"
      ],
      "text/plain": [
       "           surface                series  order_surfaces    color  id  density\n",
       "10   Thrust1_south        Thrust1_series               1  #d65f5f   1     0.00\n",
       "11   Thrust2_south        Thrust2_series               1  #956cb4   2     0.00\n",
       "0           Fault2         Fault2_series               1  #015482   3     0.00\n",
       "1           Fault5         Fault5_series               1  #9f0052   4     0.00\n",
       "2           Fault6         Fault6_series               1  #ffbe00   5     0.00\n",
       "7         Tertiary  Post_tectonic_series               1  #4878d0   6     2.45\n",
       "9             Pink  Post_tectonic_series               2  #6acc64   7     2.45\n",
       "8           Orange  Post_tectonic_series               3  #ee854a   8     2.45\n",
       "6         Mesozoic           Detachement               1  #5DA629   9     2.45\n",
       "5    Upper-filling  Syn_tectonic_series2               1  #ff3f20  10     3.20\n",
       "4   Middle-filling  Syn_tectonic_series1               1  #443988  11     3.20\n",
       "3    Lower-filling   Pre_tectonic_series               1  #728f02  12     3.20\n",
       "12        basement              Basement               1  #8c613c  13     2.45"
      ]
     },
     "execution_count": 23,
     "metadata": {},
     "output_type": "execute_result"
    }
   ],
   "source": [
    "# add densities\n",
    "densities = [0, 0, 0, 0, 0, 2.45, 2.45, 2.45, \n",
    "             2.45, 3.2, 3.2, 3.2, 2.45]\n",
    "geo_model.add_surface_values(densities, ['density'])"
   ]
  },
  {
   "cell_type": "code",
   "execution_count": 24,
   "metadata": {},
   "outputs": [
    {
     "name": "stdout",
     "output_type": "stream",
     "text": [
      "Setting kriging parameters to their default values.\n",
      "Compiling theano function...\n",
      "Level of Optimization:  fast_run\n",
      "Device:  cpu\n",
      "Precision:  float64\n",
      "Number of faults:  5\n",
      "Compilation Done!\n",
      "Kriging values: \n",
      "                                             values\n",
      "range                                      35217.2\n",
      "$C_o$                                  2.95298e+07\n",
      "drift equations  [3, 3, 3, 3, 3, 3, 3, 3, 3, 3, 3]\n"
     ]
    },
    {
     "data": {
      "text/plain": [
       "<gempy.core.interpolator.InterpolatorModel at 0x2766287dc08>"
      ]
     },
     "execution_count": 24,
     "metadata": {},
     "output_type": "execute_result"
    }
   ],
   "source": [
    "gp.set_interpolator(geo_model, output=['gravity'], theano_optimizer='fast_run')"
   ]
  },
  {
   "cell_type": "code",
   "execution_count": 25,
   "metadata": {},
   "outputs": [
    {
     "name": "stderr",
     "output_type": "stream",
     "text": [
      "C:\\Users\\brigg\\miniconda3\\envs\\env_gempy\\lib\\site-packages\\gempy\\core\\solution.py:315: UserWarning: Surfaces not computed due to: No surface found at the given iso value.. The surface is: Series: No surface found at the given iso value.; Surface Number:8\n",
      "  '; Surface Number:' + str(s_n))\n",
      "C:\\Users\\brigg\\miniconda3\\envs\\env_gempy\\lib\\site-packages\\gempy\\core\\solution.py:128: VisibleDeprecationWarning: Creating an ndarray from ragged nested sequences (which is a list-or-tuple of lists-or-tuples-or ndarrays with different lengths or shapes) is deprecated. If you meant to do this, you must specify 'dtype=object' when creating the ndarray\n",
      "  self.geological_map = np.array([values[0][:, l0: l1], values[4][:, l0: l1].astype(float)])\n"
     ]
    }
   ],
   "source": [
    "sol = gp.compute_model(geo_model)\n",
    "grav = sol.fw_gravity"
   ]
  },
  {
   "cell_type": "code",
   "execution_count": 27,
   "metadata": {},
   "outputs": [
    {
     "data": {
      "text/plain": [
       "<matplotlib.image.AxesImage at 0x27601f35a08>"
      ]
     },
     "execution_count": 27,
     "metadata": {},
     "output_type": "execute_result"
    }
   ],
   "source": [
    "gp._plot.plot_data(geo_model, direction='z')\n",
    "plt.scatter(xy_ravel[:,0], xy_ravel[:,1], s=5)\n",
    "plt.imshow(sol.fw_gravity.reshape(grav_res, grav_res), extent = (xy_ravel[:,0].min() + (xy_ravel[0, 0] - xy_ravel[1, 0])/2,\n",
    "                                                       xy_ravel[:,0].max() - (xy_ravel[0, 0] - xy_ravel[1, 0])/2,\n",
    "                                                       xy_ravel[:,1].min() + (xy_ravel[0, 1] - xy_ravel[30, 1])/2,\n",
    "                                                       xy_ravel[:,1].max() - (xy_ravel[0, 1] - xy_ravel[30, 1])/2),\n",
    "           cmap='viridis_r', origin='lower')"
   ]
  },
  {
   "cell_type": "code",
   "execution_count": 28,
   "metadata": {},
   "outputs": [
    {
     "data": {
      "text/plain": [
       "<gempy.plot.vista.GemPyToVista at 0x2ded7053488>"
      ]
     },
     "execution_count": 28,
     "metadata": {},
     "output_type": "execute_result"
    }
   ],
   "source": [
    "gp.plot_3d(geo_model, show_data=False)"
   ]
  },
  {
   "cell_type": "markdown",
   "metadata": {},
   "source": [
    "## 3D Plotting"
   ]
  },
  {
   "cell_type": "code",
   "execution_count": 20,
   "metadata": {},
   "outputs": [
    {
     "data": {
      "text/plain": [
       "<gempy.plot.vista.GemPyToVista at 0x1b300fb2508>"
      ]
     },
     "execution_count": 20,
     "metadata": {},
     "output_type": "execute_result"
    }
   ],
   "source": [
    "gp.plot_3d(geo_model, show_surfaces=False, show_data=True, show_lith=False,\n",
    "           image=False, plotter_type='background')"
>>>>>>> 152f82ae45eb205ade2a6191ed0b548682544a52
   ]
  },
  {
   "cell_type": "code",
   "execution_count": 21,
   "metadata": {},
   "outputs": [
    {
     "data": {
      "text/plain": [
<<<<<<< HEAD
       "<matplotlib.collections.PathCollection at 0x7f023094dcd0>"
=======
       "<gempy.plot.vista.GemPyToVista at 0x1b300fb7d88>"
>>>>>>> 152f82ae45eb205ade2a6191ed0b548682544a52
      ]
     },
     "execution_count": 21,
     "metadata": {},
     "output_type": "execute_result"
    }
   ],
   "source": [
<<<<<<< HEAD
    "import matplotlib.pyplot as plt\n",
    "gp._plot.plot_data(geo_model, direction='z')\n",
    "plt.scatter(xy_ravel[:,0], xy_ravel[:,1], s=5)"
   ]
  },
  {
   "cell_type": "code",
   "execution_count": 22,
   "metadata": {},
   "outputs": [
    {
     "name": "stdout",
     "output_type": "stream",
     "text": [
      "Active grids: ['regular' 'topography' 'centered']\n"
     ]
    },
    {
     "data": {
      "text/plain": [
       "Grid Object. Values: \n",
       "array([[  280.        ,   200.        , -6425.        ],\n",
       "       [  280.        ,   200.        , -6275.        ],\n",
       "       [  280.        ,   200.        , -6125.        ],\n",
       "       ...,\n",
       "       [27800.        , 19800.        ,  -245.22956921],\n",
       "       [27800.        , 19800.        ,  -438.89824608],\n",
       "       [27800.        , 19800.        ,  -708.        ]])"
      ]
     },
     "execution_count": 22,
     "metadata": {},
     "output_type": "execute_result"
    }
   ],
   "source": [
    "geo_model.set_centered_grid(xy_ravel, resolution = [15, 15, 15], radius = 800)"
   ]
  },
  {
   "cell_type": "code",
   "execution_count": 23,
   "metadata": {},
   "outputs": [
    {
     "data": {
      "text/plain": [
       "array([[ -800.        ,  -800.        ,   -48.        ],\n",
       "       [ -800.        ,  -800.        ,   -57.6       ],\n",
       "       [ -800.        ,  -800.        ,   -61.33915675],\n",
       "       ...,\n",
       "       [  800.        ,   800.        ,  -545.22956921],\n",
       "       [  800.        ,   800.        ,  -738.89824608],\n",
       "       [  800.        ,   800.        , -1008.        ]])"
      ]
     },
     "execution_count": 23,
     "metadata": {},
     "output_type": "execute_result"
    }
   ],
   "source": [
    "geo_model.grid.centered_grid.kernel_centers"
   ]
  },
  {
   "cell_type": "code",
   "execution_count": 24,
   "metadata": {},
   "outputs": [
    {
     "data": {
      "text/html": [
       "<style  type=\"text/css\" >\n",
       "    #T_feec9d3e_d256_11ea_91ab_184f329eea2drow0_col3 {\n",
       "            background-color:  #d65f5f;\n",
       "        }    #T_feec9d3e_d256_11ea_91ab_184f329eea2drow1_col3 {\n",
       "            background-color:  #956cb4;\n",
       "        }    #T_feec9d3e_d256_11ea_91ab_184f329eea2drow2_col3 {\n",
       "            background-color:  #015482;\n",
       "        }    #T_feec9d3e_d256_11ea_91ab_184f329eea2drow3_col3 {\n",
       "            background-color:  #9f0052;\n",
       "        }    #T_feec9d3e_d256_11ea_91ab_184f329eea2drow4_col3 {\n",
       "            background-color:  #ffbe00;\n",
       "        }    #T_feec9d3e_d256_11ea_91ab_184f329eea2drow5_col3 {\n",
       "            background-color:  #4878d0;\n",
       "        }    #T_feec9d3e_d256_11ea_91ab_184f329eea2drow6_col3 {\n",
       "            background-color:  #6acc64;\n",
       "        }    #T_feec9d3e_d256_11ea_91ab_184f329eea2drow7_col3 {\n",
       "            background-color:  #ee854a;\n",
       "        }    #T_feec9d3e_d256_11ea_91ab_184f329eea2drow8_col3 {\n",
       "            background-color:  #5DA629;\n",
       "        }    #T_feec9d3e_d256_11ea_91ab_184f329eea2drow9_col3 {\n",
       "            background-color:  #ff3f20;\n",
       "        }    #T_feec9d3e_d256_11ea_91ab_184f329eea2drow10_col3 {\n",
       "            background-color:  #443988;\n",
       "        }    #T_feec9d3e_d256_11ea_91ab_184f329eea2drow11_col3 {\n",
       "            background-color:  #728f02;\n",
       "        }    #T_feec9d3e_d256_11ea_91ab_184f329eea2drow12_col3 {\n",
       "            background-color:  #8c613c;\n",
       "        }</style><table id=\"T_feec9d3e_d256_11ea_91ab_184f329eea2d\" ><thead>    <tr>        <th class=\"blank level0\" ></th>        <th class=\"col_heading level0 col0\" >surface</th>        <th class=\"col_heading level0 col1\" >series</th>        <th class=\"col_heading level0 col2\" >order_surfaces</th>        <th class=\"col_heading level0 col3\" >color</th>        <th class=\"col_heading level0 col4\" >id</th>        <th class=\"col_heading level0 col5\" >density</th>    </tr></thead><tbody>\n",
       "                <tr>\n",
       "                        <th id=\"T_feec9d3e_d256_11ea_91ab_184f329eea2dlevel0_row0\" class=\"row_heading level0 row0\" >10</th>\n",
       "                        <td id=\"T_feec9d3e_d256_11ea_91ab_184f329eea2drow0_col0\" class=\"data row0 col0\" >Thrust1_south</td>\n",
       "                        <td id=\"T_feec9d3e_d256_11ea_91ab_184f329eea2drow0_col1\" class=\"data row0 col1\" >Thrust1_series</td>\n",
       "                        <td id=\"T_feec9d3e_d256_11ea_91ab_184f329eea2drow0_col2\" class=\"data row0 col2\" >1</td>\n",
       "                        <td id=\"T_feec9d3e_d256_11ea_91ab_184f329eea2drow0_col3\" class=\"data row0 col3\" >#d65f5f</td>\n",
       "                        <td id=\"T_feec9d3e_d256_11ea_91ab_184f329eea2drow0_col4\" class=\"data row0 col4\" >1</td>\n",
       "                        <td id=\"T_feec9d3e_d256_11ea_91ab_184f329eea2drow0_col5\" class=\"data row0 col5\" >0.000000</td>\n",
       "            </tr>\n",
       "            <tr>\n",
       "                        <th id=\"T_feec9d3e_d256_11ea_91ab_184f329eea2dlevel0_row1\" class=\"row_heading level0 row1\" >11</th>\n",
       "                        <td id=\"T_feec9d3e_d256_11ea_91ab_184f329eea2drow1_col0\" class=\"data row1 col0\" >Thrust2_south</td>\n",
       "                        <td id=\"T_feec9d3e_d256_11ea_91ab_184f329eea2drow1_col1\" class=\"data row1 col1\" >Thrust2_series</td>\n",
       "                        <td id=\"T_feec9d3e_d256_11ea_91ab_184f329eea2drow1_col2\" class=\"data row1 col2\" >1</td>\n",
       "                        <td id=\"T_feec9d3e_d256_11ea_91ab_184f329eea2drow1_col3\" class=\"data row1 col3\" >#956cb4</td>\n",
       "                        <td id=\"T_feec9d3e_d256_11ea_91ab_184f329eea2drow1_col4\" class=\"data row1 col4\" >2</td>\n",
       "                        <td id=\"T_feec9d3e_d256_11ea_91ab_184f329eea2drow1_col5\" class=\"data row1 col5\" >0.000000</td>\n",
       "            </tr>\n",
       "            <tr>\n",
       "                        <th id=\"T_feec9d3e_d256_11ea_91ab_184f329eea2dlevel0_row2\" class=\"row_heading level0 row2\" >0</th>\n",
       "                        <td id=\"T_feec9d3e_d256_11ea_91ab_184f329eea2drow2_col0\" class=\"data row2 col0\" >Fault2</td>\n",
       "                        <td id=\"T_feec9d3e_d256_11ea_91ab_184f329eea2drow2_col1\" class=\"data row2 col1\" >Fault2_series</td>\n",
       "                        <td id=\"T_feec9d3e_d256_11ea_91ab_184f329eea2drow2_col2\" class=\"data row2 col2\" >1</td>\n",
       "                        <td id=\"T_feec9d3e_d256_11ea_91ab_184f329eea2drow2_col3\" class=\"data row2 col3\" >#015482</td>\n",
       "                        <td id=\"T_feec9d3e_d256_11ea_91ab_184f329eea2drow2_col4\" class=\"data row2 col4\" >3</td>\n",
       "                        <td id=\"T_feec9d3e_d256_11ea_91ab_184f329eea2drow2_col5\" class=\"data row2 col5\" >0.000000</td>\n",
       "            </tr>\n",
       "            <tr>\n",
       "                        <th id=\"T_feec9d3e_d256_11ea_91ab_184f329eea2dlevel0_row3\" class=\"row_heading level0 row3\" >1</th>\n",
       "                        <td id=\"T_feec9d3e_d256_11ea_91ab_184f329eea2drow3_col0\" class=\"data row3 col0\" >Fault5</td>\n",
       "                        <td id=\"T_feec9d3e_d256_11ea_91ab_184f329eea2drow3_col1\" class=\"data row3 col1\" >Fault5_series</td>\n",
       "                        <td id=\"T_feec9d3e_d256_11ea_91ab_184f329eea2drow3_col2\" class=\"data row3 col2\" >1</td>\n",
       "                        <td id=\"T_feec9d3e_d256_11ea_91ab_184f329eea2drow3_col3\" class=\"data row3 col3\" >#9f0052</td>\n",
       "                        <td id=\"T_feec9d3e_d256_11ea_91ab_184f329eea2drow3_col4\" class=\"data row3 col4\" >4</td>\n",
       "                        <td id=\"T_feec9d3e_d256_11ea_91ab_184f329eea2drow3_col5\" class=\"data row3 col5\" >0.000000</td>\n",
       "            </tr>\n",
       "            <tr>\n",
       "                        <th id=\"T_feec9d3e_d256_11ea_91ab_184f329eea2dlevel0_row4\" class=\"row_heading level0 row4\" >2</th>\n",
       "                        <td id=\"T_feec9d3e_d256_11ea_91ab_184f329eea2drow4_col0\" class=\"data row4 col0\" >Fault6</td>\n",
       "                        <td id=\"T_feec9d3e_d256_11ea_91ab_184f329eea2drow4_col1\" class=\"data row4 col1\" >Fault6_series</td>\n",
       "                        <td id=\"T_feec9d3e_d256_11ea_91ab_184f329eea2drow4_col2\" class=\"data row4 col2\" >1</td>\n",
       "                        <td id=\"T_feec9d3e_d256_11ea_91ab_184f329eea2drow4_col3\" class=\"data row4 col3\" >#ffbe00</td>\n",
       "                        <td id=\"T_feec9d3e_d256_11ea_91ab_184f329eea2drow4_col4\" class=\"data row4 col4\" >5</td>\n",
       "                        <td id=\"T_feec9d3e_d256_11ea_91ab_184f329eea2drow4_col5\" class=\"data row4 col5\" >0.000000</td>\n",
       "            </tr>\n",
       "            <tr>\n",
       "                        <th id=\"T_feec9d3e_d256_11ea_91ab_184f329eea2dlevel0_row5\" class=\"row_heading level0 row5\" >7</th>\n",
       "                        <td id=\"T_feec9d3e_d256_11ea_91ab_184f329eea2drow5_col0\" class=\"data row5 col0\" >Tertiary</td>\n",
       "                        <td id=\"T_feec9d3e_d256_11ea_91ab_184f329eea2drow5_col1\" class=\"data row5 col1\" >Post_tectonic_series</td>\n",
       "                        <td id=\"T_feec9d3e_d256_11ea_91ab_184f329eea2drow5_col2\" class=\"data row5 col2\" >1</td>\n",
       "                        <td id=\"T_feec9d3e_d256_11ea_91ab_184f329eea2drow5_col3\" class=\"data row5 col3\" >#4878d0</td>\n",
       "                        <td id=\"T_feec9d3e_d256_11ea_91ab_184f329eea2drow5_col4\" class=\"data row5 col4\" >6</td>\n",
       "                        <td id=\"T_feec9d3e_d256_11ea_91ab_184f329eea2drow5_col5\" class=\"data row5 col5\" >2.450000</td>\n",
       "            </tr>\n",
       "            <tr>\n",
       "                        <th id=\"T_feec9d3e_d256_11ea_91ab_184f329eea2dlevel0_row6\" class=\"row_heading level0 row6\" >9</th>\n",
       "                        <td id=\"T_feec9d3e_d256_11ea_91ab_184f329eea2drow6_col0\" class=\"data row6 col0\" >Pink</td>\n",
       "                        <td id=\"T_feec9d3e_d256_11ea_91ab_184f329eea2drow6_col1\" class=\"data row6 col1\" >Post_tectonic_series</td>\n",
       "                        <td id=\"T_feec9d3e_d256_11ea_91ab_184f329eea2drow6_col2\" class=\"data row6 col2\" >2</td>\n",
       "                        <td id=\"T_feec9d3e_d256_11ea_91ab_184f329eea2drow6_col3\" class=\"data row6 col3\" >#6acc64</td>\n",
       "                        <td id=\"T_feec9d3e_d256_11ea_91ab_184f329eea2drow6_col4\" class=\"data row6 col4\" >7</td>\n",
       "                        <td id=\"T_feec9d3e_d256_11ea_91ab_184f329eea2drow6_col5\" class=\"data row6 col5\" >2.450000</td>\n",
       "            </tr>\n",
       "            <tr>\n",
       "                        <th id=\"T_feec9d3e_d256_11ea_91ab_184f329eea2dlevel0_row7\" class=\"row_heading level0 row7\" >8</th>\n",
       "                        <td id=\"T_feec9d3e_d256_11ea_91ab_184f329eea2drow7_col0\" class=\"data row7 col0\" >Orange</td>\n",
       "                        <td id=\"T_feec9d3e_d256_11ea_91ab_184f329eea2drow7_col1\" class=\"data row7 col1\" >Post_tectonic_series</td>\n",
       "                        <td id=\"T_feec9d3e_d256_11ea_91ab_184f329eea2drow7_col2\" class=\"data row7 col2\" >3</td>\n",
       "                        <td id=\"T_feec9d3e_d256_11ea_91ab_184f329eea2drow7_col3\" class=\"data row7 col3\" >#ee854a</td>\n",
       "                        <td id=\"T_feec9d3e_d256_11ea_91ab_184f329eea2drow7_col4\" class=\"data row7 col4\" >8</td>\n",
       "                        <td id=\"T_feec9d3e_d256_11ea_91ab_184f329eea2drow7_col5\" class=\"data row7 col5\" >2.450000</td>\n",
       "            </tr>\n",
       "            <tr>\n",
       "                        <th id=\"T_feec9d3e_d256_11ea_91ab_184f329eea2dlevel0_row8\" class=\"row_heading level0 row8\" >6</th>\n",
       "                        <td id=\"T_feec9d3e_d256_11ea_91ab_184f329eea2drow8_col0\" class=\"data row8 col0\" >Mesozoic</td>\n",
       "                        <td id=\"T_feec9d3e_d256_11ea_91ab_184f329eea2drow8_col1\" class=\"data row8 col1\" >Detachement</td>\n",
       "                        <td id=\"T_feec9d3e_d256_11ea_91ab_184f329eea2drow8_col2\" class=\"data row8 col2\" >1</td>\n",
       "                        <td id=\"T_feec9d3e_d256_11ea_91ab_184f329eea2drow8_col3\" class=\"data row8 col3\" >#5DA629</td>\n",
       "                        <td id=\"T_feec9d3e_d256_11ea_91ab_184f329eea2drow8_col4\" class=\"data row8 col4\" >9</td>\n",
       "                        <td id=\"T_feec9d3e_d256_11ea_91ab_184f329eea2drow8_col5\" class=\"data row8 col5\" >2.450000</td>\n",
       "            </tr>\n",
       "            <tr>\n",
       "                        <th id=\"T_feec9d3e_d256_11ea_91ab_184f329eea2dlevel0_row9\" class=\"row_heading level0 row9\" >5</th>\n",
       "                        <td id=\"T_feec9d3e_d256_11ea_91ab_184f329eea2drow9_col0\" class=\"data row9 col0\" >Upper-filling</td>\n",
       "                        <td id=\"T_feec9d3e_d256_11ea_91ab_184f329eea2drow9_col1\" class=\"data row9 col1\" >Syn_tectonic_series2</td>\n",
       "                        <td id=\"T_feec9d3e_d256_11ea_91ab_184f329eea2drow9_col2\" class=\"data row9 col2\" >1</td>\n",
       "                        <td id=\"T_feec9d3e_d256_11ea_91ab_184f329eea2drow9_col3\" class=\"data row9 col3\" >#ff3f20</td>\n",
       "                        <td id=\"T_feec9d3e_d256_11ea_91ab_184f329eea2drow9_col4\" class=\"data row9 col4\" >10</td>\n",
       "                        <td id=\"T_feec9d3e_d256_11ea_91ab_184f329eea2drow9_col5\" class=\"data row9 col5\" >2.800000</td>\n",
       "            </tr>\n",
       "            <tr>\n",
       "                        <th id=\"T_feec9d3e_d256_11ea_91ab_184f329eea2dlevel0_row10\" class=\"row_heading level0 row10\" >4</th>\n",
       "                        <td id=\"T_feec9d3e_d256_11ea_91ab_184f329eea2drow10_col0\" class=\"data row10 col0\" >Middle-filling</td>\n",
       "                        <td id=\"T_feec9d3e_d256_11ea_91ab_184f329eea2drow10_col1\" class=\"data row10 col1\" >Syn_tectonic_series1</td>\n",
       "                        <td id=\"T_feec9d3e_d256_11ea_91ab_184f329eea2drow10_col2\" class=\"data row10 col2\" >1</td>\n",
       "                        <td id=\"T_feec9d3e_d256_11ea_91ab_184f329eea2drow10_col3\" class=\"data row10 col3\" >#443988</td>\n",
       "                        <td id=\"T_feec9d3e_d256_11ea_91ab_184f329eea2drow10_col4\" class=\"data row10 col4\" >11</td>\n",
       "                        <td id=\"T_feec9d3e_d256_11ea_91ab_184f329eea2drow10_col5\" class=\"data row10 col5\" >2.800000</td>\n",
       "            </tr>\n",
       "            <tr>\n",
       "                        <th id=\"T_feec9d3e_d256_11ea_91ab_184f329eea2dlevel0_row11\" class=\"row_heading level0 row11\" >3</th>\n",
       "                        <td id=\"T_feec9d3e_d256_11ea_91ab_184f329eea2drow11_col0\" class=\"data row11 col0\" >Lower-filling</td>\n",
       "                        <td id=\"T_feec9d3e_d256_11ea_91ab_184f329eea2drow11_col1\" class=\"data row11 col1\" >Pre_tectonic_series</td>\n",
       "                        <td id=\"T_feec9d3e_d256_11ea_91ab_184f329eea2drow11_col2\" class=\"data row11 col2\" >1</td>\n",
       "                        <td id=\"T_feec9d3e_d256_11ea_91ab_184f329eea2drow11_col3\" class=\"data row11 col3\" >#728f02</td>\n",
       "                        <td id=\"T_feec9d3e_d256_11ea_91ab_184f329eea2drow11_col4\" class=\"data row11 col4\" >12</td>\n",
       "                        <td id=\"T_feec9d3e_d256_11ea_91ab_184f329eea2drow11_col5\" class=\"data row11 col5\" >2.800000</td>\n",
       "            </tr>\n",
       "            <tr>\n",
       "                        <th id=\"T_feec9d3e_d256_11ea_91ab_184f329eea2dlevel0_row12\" class=\"row_heading level0 row12\" >12</th>\n",
       "                        <td id=\"T_feec9d3e_d256_11ea_91ab_184f329eea2drow12_col0\" class=\"data row12 col0\" >basement</td>\n",
       "                        <td id=\"T_feec9d3e_d256_11ea_91ab_184f329eea2drow12_col1\" class=\"data row12 col1\" >Basement</td>\n",
       "                        <td id=\"T_feec9d3e_d256_11ea_91ab_184f329eea2drow12_col2\" class=\"data row12 col2\" >1</td>\n",
       "                        <td id=\"T_feec9d3e_d256_11ea_91ab_184f329eea2drow12_col3\" class=\"data row12 col3\" >#8c613c</td>\n",
       "                        <td id=\"T_feec9d3e_d256_11ea_91ab_184f329eea2drow12_col4\" class=\"data row12 col4\" >13</td>\n",
       "                        <td id=\"T_feec9d3e_d256_11ea_91ab_184f329eea2drow12_col5\" class=\"data row12 col5\" >3.200000</td>\n",
       "            </tr>\n",
       "    </tbody></table>"
      ],
      "text/plain": [
       "           surface                series  order_surfaces    color  id  density\n",
       "10   Thrust1_south        Thrust1_series               1  #d65f5f   1     0.00\n",
       "11   Thrust2_south        Thrust2_series               1  #956cb4   2     0.00\n",
       "0           Fault2         Fault2_series               1  #015482   3     0.00\n",
       "1           Fault5         Fault5_series               1  #9f0052   4     0.00\n",
       "2           Fault6         Fault6_series               1  #ffbe00   5     0.00\n",
       "7         Tertiary  Post_tectonic_series               1  #4878d0   6     2.45\n",
       "9             Pink  Post_tectonic_series               2  #6acc64   7     2.45\n",
       "8           Orange  Post_tectonic_series               3  #ee854a   8     2.45\n",
       "6         Mesozoic           Detachement               1  #5DA629   9     2.45\n",
       "5    Upper-filling  Syn_tectonic_series2               1  #ff3f20  10     2.80\n",
       "4   Middle-filling  Syn_tectonic_series1               1  #443988  11     2.80\n",
       "3    Lower-filling   Pre_tectonic_series               1  #728f02  12     2.80\n",
       "12        basement              Basement               1  #8c613c  13     3.20"
      ]
     },
     "execution_count": 24,
     "metadata": {},
     "output_type": "execute_result"
    }
   ],
   "source": [
    "# add densities\n",
    "densities = [0, 0, 0, 0, 0, 2.45, 2.45, 2.45, \n",
    "             2.45, 2.8, 2.8, 2.8, 3.2]\n",
    "geo_model.add_surface_values(densities, ['density'])"
   ]
  },
  {
   "cell_type": "code",
   "execution_count": 25,
   "metadata": {},
   "outputs": [
    {
     "name": "stdout",
     "output_type": "stream",
     "text": [
      "Setting kriging parameters to their default values.\n",
      "Compiling theano function...\n",
      "Level of Optimization:  fast_run\n",
      "Device:  cpu\n",
      "Precision:  float64\n",
      "Number of faults:  5\n",
      "Compilation Done!\n",
      "Kriging values: \n",
      "                                             values\n",
      "range                                      35217.2\n",
      "$C_o$                                  2.95298e+07\n",
      "drift equations  [3, 3, 3, 3, 3, 3, 3, 3, 3, 3, 3]\n"
     ]
    },
    {
     "data": {
      "text/plain": [
       "<gempy.core.interpolator.InterpolatorModel at 0x7f02a83441d0>"
      ]
     },
     "execution_count": 25,
     "metadata": {},
     "output_type": "execute_result"
    }
   ],
   "source": [
    "gp.set_interpolator(geo_model, output=['gravity'], theano_optimizer='fast_run')"
   ]
  },
  {
   "cell_type": "code",
   "execution_count": null,
   "metadata": {},
   "outputs": [],
   "source": [
    "sol = gp.compute_model(geo_model)\n",
    "grav = sol.fw_gravity"
   ]
  },
  {
   "cell_type": "code",
   "execution_count": null,
   "metadata": {},
   "outputs": [],
   "source": [
    "gp._plot.plot_data(geo_model, direction='z')\n",
    "plt.scatter(xy_ravel[:,0], xy_ravel[:,1], s=5)\n",
    "plt.imshow(sol.fw_gravity.reshape(grav_res, grav_res), extent = (xy_ravel[:,0].min() + (xy_ravel[0, 0] - xy_ravel[1, 0])/2,\n",
    "                                                       xy_ravel[:,0].max() - (xy_ravel[0, 0] - xy_ravel[1, 0])/2,\n",
    "                                                       xy_ravel[:,1].min() + (xy_ravel[0, 1] - xy_ravel[30, 1])/2,\n",
    "                                                       xy_ravel[:,1].max() - (xy_ravel[0, 1] - xy_ravel[30, 1])/2),\n",
    "           cmap='viridis_r', origin='bottom')"
   ]
  },
  {
   "cell_type": "markdown",
   "metadata": {},
   "source": [
    "## 3D Plotting"
   ]
  },
  {
   "cell_type": "code",
   "execution_count": 27,
   "metadata": {},
   "outputs": [
    {
     "data": {
      "text/plain": [
       "<gempy.plot.vista.GemPyToVista at 0x7fad1808ac10>"
      ]
     },
     "execution_count": 27,
     "metadata": {},
     "output_type": "execute_result"
    }
   ],
   "source": [
    "gp.plot_3d(geo_model, show_surfaces=False, show_data=True, show_lith=False,\n",
    "           image=False, plotter_type='background')"
   ]
  },
  {
   "cell_type": "code",
   "execution_count": 28,
   "metadata": {},
   "outputs": [
    {
     "data": {
      "text/plain": [
       "<gempy.plot.vista.GemPyToVista at 0x7fad274aa650>"
      ]
     },
     "execution_count": 28,
     "metadata": {},
     "output_type": "execute_result"
    }
   ],
   "source": [
    "gp.plot_3d(geo_model, plotter_type='background', show_topography=True, show_surfaces=False, show_data=False,\n",
    "          kwargs_plot_structured_grid={'opacity':1.0})"
=======
    "gp.plot_3d(geo_model, plotter_type='background', show_topography=True, show_surfaces=False, show_data=False,\n",
    "          kwargs_plot_structured_grid={'opacity':1.0}, ve=3)"
>>>>>>> 152f82ae45eb205ade2a6191ed0b548682544a52
   ]
  },
  {
   "cell_type": "code",
   "execution_count": 29,
   "metadata": {},
   "outputs": [
    {
     "ename": "IndexError",
     "evalue": "index 1 is out of bounds for axis 0 with size 1",
     "output_type": "error",
     "traceback": [
      "\u001b[0;31m-------------------------------------------------------------------------\u001b[0m",
      "\u001b[0;31mIndexError\u001b[0m                              Traceback (most recent call last)",
      "\u001b[0;32m<ipython-input-29-3bbd3e57d701>\u001b[0m in \u001b[0;36m<module>\u001b[0;34m\u001b[0m\n\u001b[0;32m----> 1\u001b[0;31m \u001b[0mgp\u001b[0m\u001b[0;34m.\u001b[0m\u001b[0mplot\u001b[0m\u001b[0;34m.\u001b[0m\u001b[0mplot_interactive_3d\u001b[0m\u001b[0;34m(\u001b[0m\u001b[0mgeo_model\u001b[0m\u001b[0;34m,\u001b[0m \u001b[0mseries\u001b[0m\u001b[0;34m=\u001b[0m\u001b[0;34m[\u001b[0m\u001b[0;34m'Graben_series'\u001b[0m\u001b[0;34m,\u001b[0m \u001b[0;34m'Detachement'\u001b[0m\u001b[0;34m]\u001b[0m\u001b[0;34m,\u001b[0m \u001b[0mshow_topography\u001b[0m\u001b[0;34m=\u001b[0m\u001b[0;32mTrue\u001b[0m\u001b[0;34m)\u001b[0m\u001b[0;34m\u001b[0m\u001b[0;34m\u001b[0m\u001b[0m\n\u001b[0m",
      "\u001b[0;32m~/miniconda3/envs/gempy_env/lib/python3.7/site-packages/gempy/plot/plot_api.py\u001b[0m in \u001b[0;36mplot_interactive_3d\u001b[0;34m(geo_model, scalar_field, series, show_topography, **kwargs)\u001b[0m\n\u001b[1;32m    372\u001b[0m     \u001b[0mgpv\u001b[0m\u001b[0;34m.\u001b[0m\u001b[0mplot_data\u001b[0m\u001b[0;34m(\u001b[0m\u001b[0;34m)\u001b[0m\u001b[0;34m\u001b[0m\u001b[0;34m\u001b[0m\u001b[0m\n\u001b[1;32m    373\u001b[0m     gpv.plot_structured_grid_interactive(scalar_field=scalar_field, series=series,\n\u001b[0;32m--> 374\u001b[0;31m                                          render_topography=show_topography, **kwargs)\n\u001b[0m\u001b[1;32m    375\u001b[0m \u001b[0;34m\u001b[0m\u001b[0m\n\u001b[1;32m    376\u001b[0m     \u001b[0;32mreturn\u001b[0m \u001b[0mgpv\u001b[0m\u001b[0;34m\u001b[0m\u001b[0;34m\u001b[0m\u001b[0m\n",
      "\u001b[0;32m~/miniconda3/envs/gempy_env/lib/python3.7/site-packages/gempy/plot/vista.py\u001b[0m in \u001b[0;36mplot_structured_grid_interactive\u001b[0;34m(self, scalar_field, series, render_topography, **kwargs)\u001b[0m\n\u001b[1;32m    832\u001b[0m \u001b[0;34m\u001b[0m\u001b[0m\n\u001b[1;32m    833\u001b[0m         mesh, cmap = self.create_regular_mesh(scalar_field=scalar_field, series=series,\n\u001b[0;32m--> 834\u001b[0;31m                                               render_topography=render_topography)\n\u001b[0m\u001b[1;32m    835\u001b[0m \u001b[0;34m\u001b[0m\u001b[0m\n\u001b[1;32m    836\u001b[0m         \u001b[0;32mif\u001b[0m \u001b[0mscalar_field\u001b[0m \u001b[0;34m==\u001b[0m \u001b[0;34m'all'\u001b[0m \u001b[0;32mor\u001b[0m \u001b[0mscalar_field\u001b[0m \u001b[0;34m==\u001b[0m \u001b[0;34m'lith'\u001b[0m\u001b[0;34m:\u001b[0m\u001b[0;34m\u001b[0m\u001b[0;34m\u001b[0m\u001b[0m\n",
      "\u001b[0;32m~/miniconda3/envs/gempy_env/lib/python3.7/site-packages/gempy/plot/vista.py\u001b[0m in \u001b[0;36mcreate_regular_mesh\u001b[0;34m(self, scalar_field, data, series, render_topography)\u001b[0m\n\u001b[1;32m    661\u001b[0m         regular_grid_mesh, cmap = self.set_scalar_data(regular_grid_mesh,\n\u001b[1;32m    662\u001b[0m                                                        \u001b[0mdata\u001b[0m\u001b[0;34m=\u001b[0m\u001b[0mdata\u001b[0m\u001b[0;34m,\u001b[0m \u001b[0mscalar_field\u001b[0m\u001b[0;34m=\u001b[0m\u001b[0mscalar_field\u001b[0m\u001b[0;34m,\u001b[0m\u001b[0;34m\u001b[0m\u001b[0;34m\u001b[0m\u001b[0m\n\u001b[0;32m--> 663\u001b[0;31m                                                        series=series)\n\u001b[0m\u001b[1;32m    664\u001b[0m \u001b[0;34m\u001b[0m\u001b[0m\n\u001b[1;32m    665\u001b[0m         \u001b[0;32mif\u001b[0m \u001b[0mrender_topography\u001b[0m \u001b[0;34m==\u001b[0m \u001b[0;32mTrue\u001b[0m \u001b[0;32mand\u001b[0m \u001b[0mregular_grid\u001b[0m\u001b[0;34m.\u001b[0m\u001b[0mmask_topo\u001b[0m\u001b[0;34m.\u001b[0m\u001b[0mshape\u001b[0m\u001b[0;34m[\u001b[0m\u001b[0;36m0\u001b[0m\u001b[0;34m]\u001b[0m \u001b[0;34m!=\u001b[0m \u001b[0;36m0\u001b[0m \u001b[0;32mand\u001b[0m \u001b[0;32mTrue\u001b[0m\u001b[0;34m:\u001b[0m\u001b[0;34m\u001b[0m\u001b[0;34m\u001b[0m\u001b[0m\n",
      "\u001b[0;32m~/miniconda3/envs/gempy_env/lib/python3.7/site-packages/gempy/plot/vista.py\u001b[0m in \u001b[0;36mset_scalar_data\u001b[0;34m(self, regular_grid, data, scalar_field, series, cmap)\u001b[0m\n\u001b[1;32m    732\u001b[0m                 \u001b[0mscalar_field_\u001b[0m \u001b[0;34m=\u001b[0m \u001b[0;34m'values_'\u001b[0m\u001b[0;34m\u001b[0m\u001b[0;34m\u001b[0m\u001b[0m\n\u001b[1;32m    733\u001b[0m                 \u001b[0;32mfor\u001b[0m \u001b[0me\u001b[0m\u001b[0;34m,\u001b[0m \u001b[0mlith_property\u001b[0m \u001b[0;32min\u001b[0m \u001b[0menumerate\u001b[0m\u001b[0;34m(\u001b[0m\u001b[0mself\u001b[0m\u001b[0;34m.\u001b[0m\u001b[0mmodel\u001b[0m\u001b[0;34m.\u001b[0m\u001b[0m_surfaces\u001b[0m\u001b[0;34m.\u001b[0m\u001b[0mdf\u001b[0m\u001b[0;34m.\u001b[0m\u001b[0mcolumns\u001b[0m\u001b[0;34m[\u001b[0m\u001b[0mself\u001b[0m\u001b[0;34m.\u001b[0m\u001b[0mmodel\u001b[0m\u001b[0;34m.\u001b[0m\u001b[0m_surfaces\u001b[0m\u001b[0;34m.\u001b[0m\u001b[0m_n_properties\u001b[0m\u001b[0;34m:\u001b[0m\u001b[0;34m]\u001b[0m\u001b[0;34m)\u001b[0m\u001b[0;34m:\u001b[0m\u001b[0;34m\u001b[0m\u001b[0;34m\u001b[0m\u001b[0m\n\u001b[0;32m--> 734\u001b[0;31m                     \u001b[0mregular_grid\u001b[0m\u001b[0;34m[\u001b[0m\u001b[0mscalar_field_\u001b[0m \u001b[0;34m+\u001b[0m \u001b[0mlith_property\u001b[0m\u001b[0;34m]\u001b[0m \u001b[0;34m=\u001b[0m \u001b[0mdata\u001b[0m\u001b[0;34m.\u001b[0m\u001b[0mvalues_matrix\u001b[0m\u001b[0;34m[\u001b[0m\u001b[0me\u001b[0m\u001b[0;34m]\u001b[0m\u001b[0;34m\u001b[0m\u001b[0;34m\u001b[0m\u001b[0m\n\u001b[0m\u001b[1;32m    735\u001b[0m \u001b[0;34m\u001b[0m\u001b[0m\n\u001b[1;32m    736\u001b[0m         \u001b[0;32mif\u001b[0m \u001b[0mtype\u001b[0m\u001b[0;34m(\u001b[0m\u001b[0mdata\u001b[0m\u001b[0;34m)\u001b[0m \u001b[0;34m==\u001b[0m \u001b[0mdict\u001b[0m\u001b[0;34m:\u001b[0m\u001b[0;34m\u001b[0m\u001b[0;34m\u001b[0m\u001b[0m\n",
      "\u001b[0;31mIndexError\u001b[0m: index 1 is out of bounds for axis 0 with size 1"
     ]
    }
   ],
   "source": [
    "gp.plot.plot_interactive_3d(geo_model, series=['Graben_series', 'Detachement'], show_topography=True)"
   ]
  },
  {
   "cell_type": "markdown",
   "metadata": {},
   "source": [
    "## Topology"
   ]
  },
  {
   "cell_type": "code",
   "execution_count": 22,
   "metadata": {},
   "outputs": [],
   "source": [
    "from gempy.assets import topology as tp\n",
    "# complete model\n",
    "# edges, centroids = tp.compute_topology(geo_model)\n",
    "edges, centroids = tp.compute_topology(geo_model, cell_number=5, voxel_threshold=1, direction=\"y\")"
   ]
  },
  {
   "cell_type": "code",
   "execution_count": 24,
   "metadata": {},
   "outputs": [],
   "source": [
    "fig = plt.figure(figsize=[20,15])\n",
    "gp._plot.plot_section(geo_model, 5, show_legend=False, show_data=False)\n",
    "gp.plot.plot_topology(geo_model, edges, centroids, direction=\"y\")"
   ]
  },
  {
   "cell_type": "code",
   "execution_count": 14,
   "metadata": {},
   "outputs": [
    {
     "data": {
      "text/plain": [
       "True"
      ]
     },
     "execution_count": 14,
     "metadata": {},
     "output_type": "execute_result"
    }
   ],
   "source": [
    "gp.save_model(geo_model,path='../models/20200731_POC_model_3_normal_faults_3D/')"
   ]
  }
 ],
 "metadata": {
  "hide_input": false,
  "history": [
   {
    "cell": {
     "executionCount": 1,
     "executionEventId": "f1376539-5ee2-4e8d-934f-3cd1de49b436",
     "hasError": false,
     "id": "85377cb2-8342-40d1-a89f-10befcb2dc3c",
     "outputs": [],
     "persistentId": "fec1bccb-59c6-4fb3-aa4c-143a6244bfb6",
     "text": "# import some libraries\nimport sys, os\nsys.path.append(r'/Users/nijan/Documents/git/gempy/')\nimport seaborn as sns\nimport gempy as gp\n%matplotlib inline\n\nimport numpy as np\n#import pandas as pd"
    },
    "executionTime": "2020-01-09T13:46:48.237Z"
   },
   {
    "cell": {
     "executionCount": 2,
     "executionEventId": "32e97e41-e5d0-40fb-aa7c-f57164108f31",
     "hasError": false,
     "id": "5ca38d07-6617-43cc-a646-24b1ace26730",
     "outputs": [
      {
       "name": "stdout",
       "output_type": "stream",
       "text": "Active grids: ['regular']\n"
      }
     ],
     "persistentId": "b5f9eda2-0419-4d49-af92-c997c1d04c8b",
     "text": "# Import data\n# Create a model instance\ngeo_model = gp.create_model('Permo_Carb_Trough')\n\n# Initialize the model, set dimension and load interface and orientation data\ngp.init_data(geo_model, [0, 30000., 0, 15000., -7000, 1000.], [50, 50, 60],\n                         path_o = '../data/both_lines82and6_foliations_90_270.csv',\n                         path_i = '../data/both_lines82and6_interfaces.csv', default_values=False);"
    },
    "executionTime": "2020-01-09T13:46:51.444Z"
   },
   {
    "cell": {
     "executionCount": 3,
     "executionEventId": "1b8db966-7827-493c-a33c-1b45e2278ae6",
     "hasError": false,
     "id": "67c4f7cf-8037-4f39-98fa-ad1ac35860bf",
     "outputs": [
      {
       "data": {
        "text/html": "<div>\n<style scoped>\n    .dataframe tbody tr th:only-of-type {\n        vertical-align: middle;\n    }\n\n    .dataframe tbody tr th {\n        vertical-align: top;\n    }\n\n    .dataframe thead th {\n        text-align: right;\n    }\n</style>\n<table border=\"1\" class=\"dataframe\">\n  <thead>\n    <tr style=\"text-align: right;\">\n      <th></th>\n      <th>X</th>\n      <th>Y</th>\n      <th>Z</th>\n      <th>X_r</th>\n      <th>Y_r</th>\n      <th>Z_r</th>\n      <th>surface</th>\n      <th>series</th>\n      <th>id</th>\n      <th>order_series</th>\n      <th>smooth</th>\n    </tr>\n  </thead>\n  <tbody>\n    <tr>\n      <th>0</th>\n      <td>10221.66646</td>\n      <td>5000</td>\n      <td>-441.42848</td>\n      <td>0.412689</td>\n      <td>0.43558</td>\n      <td>0.541379</td>\n      <td>Fault2</td>\n      <td>Default series</td>\n      <td>1</td>\n      <td>1</td>\n      <td>0.000001</td>\n    </tr>\n    <tr>\n      <th>1</th>\n      <td>10421.66646</td>\n      <td>5000</td>\n      <td>-1534.28563</td>\n      <td>0.416376</td>\n      <td>0.43558</td>\n      <td>0.521233</td>\n      <td>Fault2</td>\n      <td>Default series</td>\n      <td>1</td>\n      <td>1</td>\n      <td>0.000001</td>\n    </tr>\n    <tr>\n      <th>2</th>\n      <td>10788.33313</td>\n      <td>5000</td>\n      <td>-2712.85706</td>\n      <td>0.423135</td>\n      <td>0.43558</td>\n      <td>0.499507</td>\n      <td>Fault2</td>\n      <td>Default series</td>\n      <td>1</td>\n      <td>1</td>\n      <td>0.000001</td>\n    </tr>\n    <tr>\n      <th>3</th>\n      <td>11321.66646</td>\n      <td>5000</td>\n      <td>-3762.85706</td>\n      <td>0.432967</td>\n      <td>0.43558</td>\n      <td>0.480152</td>\n      <td>Fault2</td>\n      <td>Default series</td>\n      <td>1</td>\n      <td>1</td>\n      <td>0.000001</td>\n    </tr>\n    <tr>\n      <th>4</th>\n      <td>12021.66646</td>\n      <td>5000</td>\n      <td>-5027.14277</td>\n      <td>0.445871</td>\n      <td>0.43558</td>\n      <td>0.456846</td>\n      <td>Fault2</td>\n      <td>Default series</td>\n      <td>1</td>\n      <td>1</td>\n      <td>0.000001</td>\n    </tr>\n  </tbody>\n</table>\n</div>",
        "text/plain": "             X     Y           Z       X_r      Y_r       Z_r surface  \\\n0  10221.66646  5000  -441.42848  0.412689  0.43558  0.541379  Fault2   \n1  10421.66646  5000 -1534.28563  0.416376  0.43558  0.521233  Fault2   \n2  10788.33313  5000 -2712.85706  0.423135  0.43558  0.499507  Fault2   \n3  11321.66646  5000 -3762.85706  0.432967  0.43558  0.480152  Fault2   \n4  12021.66646  5000 -5027.14277  0.445871  0.43558  0.456846  Fault2   \n\n           series  id  order_series    smooth  \n0  Default series   1             1  0.000001  \n1  Default series   1             1  0.000001  \n2  Default series   1             1  0.000001  \n3  Default series   1             1  0.000001  \n4  Default series   1             1  0.000001  "
       },
       "execution_count": 3,
       "metadata": {},
       "output_type": "execute_result"
      }
     ],
     "persistentId": "49dc924b-f83c-438e-91c2-35d3cb86883e",
     "text": "# Check the table and if everything is allright\ngp.get_data(geo_model, 'surface_points').head()"
    },
    "executionTime": "2020-01-09T13:46:52.568Z"
   },
   {
    "cell": {
     "executionCount": 4,
     "executionEventId": "1ceab20c-c2d0-4918-b214-8ce550dc276e",
     "hasError": false,
     "id": "56aa663a-8629-4feb-8074-44afe534607c",
     "outputs": [
      {
       "data": {
        "text/plain": "<gempy.plot.visualization_2d.PlotData2D at 0x7fd3802965c0>"
       },
       "execution_count": 4,
       "metadata": {},
       "output_type": "execute_result"
      },
      {
       "data": {
        "image/png": "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\n",
        "text/plain": "<Figure size 1620x432 with 1 Axes>"
       },
       "metadata": {
        "needs_background": "light"
       },
       "output_type": "display_data"
      }
     ],
     "persistentId": "ee8777a5-3493-467f-aeca-3347606b4c2f",
     "text": "# Have a visual inspection of the data and if it looks relatively ok\nimport matplotlib.pyplot as plt\ngp.plot.plot_data(geo_model, direction='y')"
    },
    "executionTime": "2020-01-09T13:46:54.123Z"
   },
   {
    "cell": {
     "executionCount": 5,
     "executionEventId": "15229d78-4810-4ae0-a7d5-5b162b70676e",
     "hasError": false,
     "id": "1f35e604-126b-4357-8c33-3ad4114b5903",
     "outputs": [
      {
       "data": {
        "text/plain": "<matplotlib.image.AxesImage at 0x7fd37022a128>"
       },
       "execution_count": 5,
       "metadata": {},
       "output_type": "execute_result"
      },
      {
       "data": {
        "image/png": "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\n",
        "text/plain": "<Figure size 432x288 with 1 Axes>"
       },
       "metadata": {
        "needs_background": "light"
       },
       "output_type": "display_data"
      }
     ],
     "persistentId": "f514aa5f-47b5-46e0-99e5-a7d36611df08",
     "text": "# for comparison, an interpretation\nimport matplotlib.image as mimg\nimg = mimg.imread('../imgs/line11-NS-06.png')\nplt.imshow(img)"
    },
    "executionTime": "2020-01-09T13:48:05.939Z"
   },
   {
    "cell": {
     "executionCount": 6,
     "executionEventId": "d9d7cdf2-64e3-4bd7-bddb-4214d861c93a",
     "hasError": false,
     "id": "cd08698b-de3d-46d8-b298-b1213596426c",
     "outputs": [
      {
       "data": {
        "text/html": "<style  type=\"text/css\" >\n    #T_ac943048_32e6_11ea_9201_f01898ee72bcrow0_col4 {\n            background-color:  #69d84f;\n        }    #T_ac943048_32e6_11ea_9201_f01898ee72bcrow1_col4 {\n            background-color:  #443988;\n        }    #T_ac943048_32e6_11ea_9201_f01898ee72bcrow2_col4 {\n            background-color:  #015482;\n        }    #T_ac943048_32e6_11ea_9201_f01898ee72bcrow3_col4 {\n            background-color:  #728f02;\n        }    #T_ac943048_32e6_11ea_9201_f01898ee72bcrow4_col4 {\n            background-color:  #a8ff04;\n        }    #T_ac943048_32e6_11ea_9201_f01898ee72bcrow5_col4 {\n            background-color:  #9f0052;\n        }    #T_ac943048_32e6_11ea_9201_f01898ee72bcrow6_col4 {\n            background-color:  #ffbe00;\n        }    #T_ac943048_32e6_11ea_9201_f01898ee72bcrow7_col4 {\n            background-color:  #acc2d9;\n        }    #T_ac943048_32e6_11ea_9201_f01898ee72bcrow8_col4 {\n            background-color:  #56ae57;\n        }    #T_ac943048_32e6_11ea_9201_f01898ee72bcrow9_col4 {\n            background-color:  #b2996e;\n        }    #T_ac943048_32e6_11ea_9201_f01898ee72bcrow10_col4 {\n            background-color:  #5DA629;\n        }    #T_ac943048_32e6_11ea_9201_f01898ee72bcrow11_col4 {\n            background-color:  #325916;\n        }    #T_ac943048_32e6_11ea_9201_f01898ee72bcrow12_col4 {\n            background-color:  #ff3f20;\n        }    #T_ac943048_32e6_11ea_9201_f01898ee72bcrow13_col4 {\n            background-color:  #894585;\n        }</style><table id=\"T_ac943048_32e6_11ea_9201_f01898ee72bc\" ><thead>    <tr>        <th class=\"blank level0\" ></th>        <th class=\"col_heading level0 col0\" >surface</th>        <th class=\"col_heading level0 col1\" >series</th>        <th class=\"col_heading level0 col2\" >order_surfaces</th>        <th class=\"col_heading level0 col3\" >isBasement</th>        <th class=\"col_heading level0 col4\" >color</th>        <th class=\"col_heading level0 col5\" >id</th>    </tr></thead><tbody>\n                <tr>\n                        <th id=\"T_ac943048_32e6_11ea_9201_f01898ee72bclevel0_row0\" class=\"row_heading level0 row0\" >12</th>\n                        <td id=\"T_ac943048_32e6_11ea_9201_f01898ee72bcrow0_col0\" class=\"data row0 col0\" >Fault7</td>\n                        <td id=\"T_ac943048_32e6_11ea_9201_f01898ee72bcrow0_col1\" class=\"data row0 col1\" >Fault7_series</td>\n                        <td id=\"T_ac943048_32e6_11ea_9201_f01898ee72bcrow0_col2\" class=\"data row0 col2\" >1</td>\n                        <td id=\"T_ac943048_32e6_11ea_9201_f01898ee72bcrow0_col3\" class=\"data row0 col3\" >False</td>\n                        <td id=\"T_ac943048_32e6_11ea_9201_f01898ee72bcrow0_col4\" class=\"data row0 col4\" >#69d84f</td>\n                        <td id=\"T_ac943048_32e6_11ea_9201_f01898ee72bcrow0_col5\" class=\"data row0 col5\" >1</td>\n            </tr>\n            <tr>\n                        <th id=\"T_ac943048_32e6_11ea_9201_f01898ee72bclevel0_row1\" class=\"row_heading level0 row1\" >4</th>\n                        <td id=\"T_ac943048_32e6_11ea_9201_f01898ee72bcrow1_col0\" class=\"data row1 col0\" >Fault6</td>\n                        <td id=\"T_ac943048_32e6_11ea_9201_f01898ee72bcrow1_col1\" class=\"data row1 col1\" >Fault6_series</td>\n                        <td id=\"T_ac943048_32e6_11ea_9201_f01898ee72bcrow1_col2\" class=\"data row1 col2\" >1</td>\n                        <td id=\"T_ac943048_32e6_11ea_9201_f01898ee72bcrow1_col3\" class=\"data row1 col3\" >False</td>\n                        <td id=\"T_ac943048_32e6_11ea_9201_f01898ee72bcrow1_col4\" class=\"data row1 col4\" >#443988</td>\n                        <td id=\"T_ac943048_32e6_11ea_9201_f01898ee72bcrow1_col5\" class=\"data row1 col5\" >2</td>\n            </tr>\n            <tr>\n                        <th id=\"T_ac943048_32e6_11ea_9201_f01898ee72bclevel0_row2\" class=\"row_heading level0 row2\" >0</th>\n                        <td id=\"T_ac943048_32e6_11ea_9201_f01898ee72bcrow2_col0\" class=\"data row2 col0\" >Fault2</td>\n                        <td id=\"T_ac943048_32e6_11ea_9201_f01898ee72bcrow2_col1\" class=\"data row2 col1\" >Fault2_series</td>\n                        <td id=\"T_ac943048_32e6_11ea_9201_f01898ee72bcrow2_col2\" class=\"data row2 col2\" >1</td>\n                        <td id=\"T_ac943048_32e6_11ea_9201_f01898ee72bcrow2_col3\" class=\"data row2 col3\" >False</td>\n                        <td id=\"T_ac943048_32e6_11ea_9201_f01898ee72bcrow2_col4\" class=\"data row2 col4\" >#015482</td>\n                        <td id=\"T_ac943048_32e6_11ea_9201_f01898ee72bcrow2_col5\" class=\"data row2 col5\" >3</td>\n            </tr>\n            <tr>\n                        <th id=\"T_ac943048_32e6_11ea_9201_f01898ee72bclevel0_row3\" class=\"row_heading level0 row3\" >3</th>\n                        <td id=\"T_ac943048_32e6_11ea_9201_f01898ee72bcrow3_col0\" class=\"data row3 col0\" >Fault5</td>\n                        <td id=\"T_ac943048_32e6_11ea_9201_f01898ee72bcrow3_col1\" class=\"data row3 col1\" >Fault5_series</td>\n                        <td id=\"T_ac943048_32e6_11ea_9201_f01898ee72bcrow3_col2\" class=\"data row3 col2\" >1</td>\n                        <td id=\"T_ac943048_32e6_11ea_9201_f01898ee72bcrow3_col3\" class=\"data row3 col3\" >False</td>\n                        <td id=\"T_ac943048_32e6_11ea_9201_f01898ee72bcrow3_col4\" class=\"data row3 col4\" >#728f02</td>\n                        <td id=\"T_ac943048_32e6_11ea_9201_f01898ee72bcrow3_col5\" class=\"data row3 col5\" >4</td>\n            </tr>\n            <tr>\n                        <th id=\"T_ac943048_32e6_11ea_9201_f01898ee72bclevel0_row4\" class=\"row_heading level0 row4\" >11</th>\n                        <td id=\"T_ac943048_32e6_11ea_9201_f01898ee72bcrow4_col0\" class=\"data row4 col0\" >Fault1</td>\n                        <td id=\"T_ac943048_32e6_11ea_9201_f01898ee72bcrow4_col1\" class=\"data row4 col1\" >Fault1_series</td>\n                        <td id=\"T_ac943048_32e6_11ea_9201_f01898ee72bcrow4_col2\" class=\"data row4 col2\" >1</td>\n                        <td id=\"T_ac943048_32e6_11ea_9201_f01898ee72bcrow4_col3\" class=\"data row4 col3\" >False</td>\n                        <td id=\"T_ac943048_32e6_11ea_9201_f01898ee72bcrow4_col4\" class=\"data row4 col4\" >#a8ff04</td>\n                        <td id=\"T_ac943048_32e6_11ea_9201_f01898ee72bcrow4_col5\" class=\"data row4 col5\" >5</td>\n            </tr>\n            <tr>\n                        <th id=\"T_ac943048_32e6_11ea_9201_f01898ee72bclevel0_row5\" class=\"row_heading level0 row5\" >1</th>\n                        <td id=\"T_ac943048_32e6_11ea_9201_f01898ee72bcrow5_col0\" class=\"data row5 col0\" >Fault3</td>\n                        <td id=\"T_ac943048_32e6_11ea_9201_f01898ee72bcrow5_col1\" class=\"data row5 col1\" >Fault3_series</td>\n                        <td id=\"T_ac943048_32e6_11ea_9201_f01898ee72bcrow5_col2\" class=\"data row5 col2\" >1</td>\n                        <td id=\"T_ac943048_32e6_11ea_9201_f01898ee72bcrow5_col3\" class=\"data row5 col3\" >False</td>\n                        <td id=\"T_ac943048_32e6_11ea_9201_f01898ee72bcrow5_col4\" class=\"data row5 col4\" >#9f0052</td>\n                        <td id=\"T_ac943048_32e6_11ea_9201_f01898ee72bcrow5_col5\" class=\"data row5 col5\" >6</td>\n            </tr>\n            <tr>\n                        <th id=\"T_ac943048_32e6_11ea_9201_f01898ee72bclevel0_row6\" class=\"row_heading level0 row6\" >2</th>\n                        <td id=\"T_ac943048_32e6_11ea_9201_f01898ee72bcrow6_col0\" class=\"data row6 col0\" >Fault4</td>\n                        <td id=\"T_ac943048_32e6_11ea_9201_f01898ee72bcrow6_col1\" class=\"data row6 col1\" >Fault4_series</td>\n                        <td id=\"T_ac943048_32e6_11ea_9201_f01898ee72bcrow6_col2\" class=\"data row6 col2\" >1</td>\n                        <td id=\"T_ac943048_32e6_11ea_9201_f01898ee72bcrow6_col3\" class=\"data row6 col3\" >False</td>\n                        <td id=\"T_ac943048_32e6_11ea_9201_f01898ee72bcrow6_col4\" class=\"data row6 col4\" >#ffbe00</td>\n                        <td id=\"T_ac943048_32e6_11ea_9201_f01898ee72bcrow6_col5\" class=\"data row6 col5\" >7</td>\n            </tr>\n            <tr>\n                        <th id=\"T_ac943048_32e6_11ea_9201_f01898ee72bclevel0_row7\" class=\"row_heading level0 row7\" >8</th>\n                        <td id=\"T_ac943048_32e6_11ea_9201_f01898ee72bcrow7_col0\" class=\"data row7 col0\" >Mesozoic</td>\n                        <td id=\"T_ac943048_32e6_11ea_9201_f01898ee72bcrow7_col1\" class=\"data row7 col1\" >Post_tectonic_series</td>\n                        <td id=\"T_ac943048_32e6_11ea_9201_f01898ee72bcrow7_col2\" class=\"data row7 col2\" >1</td>\n                        <td id=\"T_ac943048_32e6_11ea_9201_f01898ee72bcrow7_col3\" class=\"data row7 col3\" >False</td>\n                        <td id=\"T_ac943048_32e6_11ea_9201_f01898ee72bcrow7_col4\" class=\"data row7 col4\" >#acc2d9</td>\n                        <td id=\"T_ac943048_32e6_11ea_9201_f01898ee72bcrow7_col5\" class=\"data row7 col5\" >8</td>\n            </tr>\n            <tr>\n                        <th id=\"T_ac943048_32e6_11ea_9201_f01898ee72bclevel0_row8\" class=\"row_heading level0 row8\" >9</th>\n                        <td id=\"T_ac943048_32e6_11ea_9201_f01898ee72bcrow8_col0\" class=\"data row8 col0\" >Tertiary</td>\n                        <td id=\"T_ac943048_32e6_11ea_9201_f01898ee72bcrow8_col1\" class=\"data row8 col1\" >Post_tectonic_series</td>\n                        <td id=\"T_ac943048_32e6_11ea_9201_f01898ee72bcrow8_col2\" class=\"data row8 col2\" >2</td>\n                        <td id=\"T_ac943048_32e6_11ea_9201_f01898ee72bcrow8_col3\" class=\"data row8 col3\" >False</td>\n                        <td id=\"T_ac943048_32e6_11ea_9201_f01898ee72bcrow8_col4\" class=\"data row8 col4\" >#56ae57</td>\n                        <td id=\"T_ac943048_32e6_11ea_9201_f01898ee72bcrow8_col5\" class=\"data row8 col5\" >9</td>\n            </tr>\n            <tr>\n                        <th id=\"T_ac943048_32e6_11ea_9201_f01898ee72bclevel0_row9\" class=\"row_heading level0 row9\" >10</th>\n                        <td id=\"T_ac943048_32e6_11ea_9201_f01898ee72bcrow9_col0\" class=\"data row9 col0\" >Quaternary</td>\n                        <td id=\"T_ac943048_32e6_11ea_9201_f01898ee72bcrow9_col1\" class=\"data row9 col1\" >Post_tectonic_series</td>\n                        <td id=\"T_ac943048_32e6_11ea_9201_f01898ee72bcrow9_col2\" class=\"data row9 col2\" >3</td>\n                        <td id=\"T_ac943048_32e6_11ea_9201_f01898ee72bcrow9_col3\" class=\"data row9 col3\" >False</td>\n                        <td id=\"T_ac943048_32e6_11ea_9201_f01898ee72bcrow9_col4\" class=\"data row9 col4\" >#b2996e</td>\n                        <td id=\"T_ac943048_32e6_11ea_9201_f01898ee72bcrow9_col5\" class=\"data row9 col5\" >10</td>\n            </tr>\n            <tr>\n                        <th id=\"T_ac943048_32e6_11ea_9201_f01898ee72bclevel0_row10\" class=\"row_heading level0 row10\" >7</th>\n                        <td id=\"T_ac943048_32e6_11ea_9201_f01898ee72bcrow10_col0\" class=\"data row10 col0\" >Upper-filling</td>\n                        <td id=\"T_ac943048_32e6_11ea_9201_f01898ee72bcrow10_col1\" class=\"data row10 col1\" >Syn_tectonic_series2</td>\n                        <td id=\"T_ac943048_32e6_11ea_9201_f01898ee72bcrow10_col2\" class=\"data row10 col2\" >1</td>\n                        <td id=\"T_ac943048_32e6_11ea_9201_f01898ee72bcrow10_col3\" class=\"data row10 col3\" >False</td>\n                        <td id=\"T_ac943048_32e6_11ea_9201_f01898ee72bcrow10_col4\" class=\"data row10 col4\" >#5DA629</td>\n                        <td id=\"T_ac943048_32e6_11ea_9201_f01898ee72bcrow10_col5\" class=\"data row10 col5\" >11</td>\n            </tr>\n            <tr>\n                        <th id=\"T_ac943048_32e6_11ea_9201_f01898ee72bclevel0_row11\" class=\"row_heading level0 row11\" >6</th>\n                        <td id=\"T_ac943048_32e6_11ea_9201_f01898ee72bcrow11_col0\" class=\"data row11 col0\" >Middle-filling</td>\n                        <td id=\"T_ac943048_32e6_11ea_9201_f01898ee72bcrow11_col1\" class=\"data row11 col1\" >Syn_tectonic_series1</td>\n                        <td id=\"T_ac943048_32e6_11ea_9201_f01898ee72bcrow11_col2\" class=\"data row11 col2\" >1</td>\n                        <td id=\"T_ac943048_32e6_11ea_9201_f01898ee72bcrow11_col3\" class=\"data row11 col3\" >False</td>\n                        <td id=\"T_ac943048_32e6_11ea_9201_f01898ee72bcrow11_col4\" class=\"data row11 col4\" >#325916</td>\n                        <td id=\"T_ac943048_32e6_11ea_9201_f01898ee72bcrow11_col5\" class=\"data row11 col5\" >12</td>\n            </tr>\n            <tr>\n                        <th id=\"T_ac943048_32e6_11ea_9201_f01898ee72bclevel0_row12\" class=\"row_heading level0 row12\" >5</th>\n                        <td id=\"T_ac943048_32e6_11ea_9201_f01898ee72bcrow12_col0\" class=\"data row12 col0\" >Lower-filling</td>\n                        <td id=\"T_ac943048_32e6_11ea_9201_f01898ee72bcrow12_col1\" class=\"data row12 col1\" >Pre_tectonic_series</td>\n                        <td id=\"T_ac943048_32e6_11ea_9201_f01898ee72bcrow12_col2\" class=\"data row12 col2\" >1</td>\n                        <td id=\"T_ac943048_32e6_11ea_9201_f01898ee72bcrow12_col3\" class=\"data row12 col3\" >False</td>\n                        <td id=\"T_ac943048_32e6_11ea_9201_f01898ee72bcrow12_col4\" class=\"data row12 col4\" >#ff3f20</td>\n                        <td id=\"T_ac943048_32e6_11ea_9201_f01898ee72bcrow12_col5\" class=\"data row12 col5\" >13</td>\n            </tr>\n            <tr>\n                        <th id=\"T_ac943048_32e6_11ea_9201_f01898ee72bclevel0_row13\" class=\"row_heading level0 row13\" >13</th>\n                        <td id=\"T_ac943048_32e6_11ea_9201_f01898ee72bcrow13_col0\" class=\"data row13 col0\" >basement</td>\n                        <td id=\"T_ac943048_32e6_11ea_9201_f01898ee72bcrow13_col1\" class=\"data row13 col1\" >Basement</td>\n                        <td id=\"T_ac943048_32e6_11ea_9201_f01898ee72bcrow13_col2\" class=\"data row13 col2\" >1</td>\n                        <td id=\"T_ac943048_32e6_11ea_9201_f01898ee72bcrow13_col3\" class=\"data row13 col3\" >True</td>\n                        <td id=\"T_ac943048_32e6_11ea_9201_f01898ee72bcrow13_col4\" class=\"data row13 col4\" >#894585</td>\n                        <td id=\"T_ac943048_32e6_11ea_9201_f01898ee72bcrow13_col5\" class=\"data row13 col5\" >14</td>\n            </tr>\n    </tbody></table>",
        "text/plain": "           surface                series  order_surfaces  isBasement    color vertices edges  id\n12          Fault7         Fault7_series               1       False  #69d84f      NaN   NaN   1\n4           Fault6         Fault6_series               1       False  #443988      NaN   NaN   2\n0           Fault2         Fault2_series               1       False  #015482      NaN   NaN   3\n3           Fault5         Fault5_series               1       False  #728f02      NaN   NaN   4\n11          Fault1         Fault1_series               1       False  #a8ff04      NaN   NaN   5\n1           Fault3         Fault3_series               1       False  #9f0052      NaN   NaN   6\n2           Fault4         Fault4_series               1       False  #ffbe00      NaN   NaN   7\n8         Mesozoic  Post_tectonic_series               1       False  #acc2d9      NaN   NaN   8\n9         Tertiary  Post_tectonic_series               2       False  #56ae57      NaN   NaN   9\n10      Quaternary  Post_tectonic_series               3       False  #b2996e      NaN   NaN  10\n7    Upper-filling  Syn_tectonic_series2               1       False  #5DA629      NaN   NaN  11\n6   Middle-filling  Syn_tectonic_series1               1       False  #325916      NaN   NaN  12\n5    Lower-filling   Pre_tectonic_series               1       False  #ff3f20      NaN   NaN  13\n13        basement              Basement               1        True  #894585      NaN   NaN  14"
       },
       "execution_count": 6,
       "metadata": {},
       "output_type": "execute_result"
      }
     ],
     "persistentId": "635ddca3-8aad-4571-a25f-dd09873d6439",
     "text": "# Assign formations to series\ngp.map_series_to_surfaces(geo_model,\n                         {\"Fault7_series\": 'Fault7',\n                          \"Fault6_series\": 'Fault6',\n                          \"Fault2_series\": 'Fault2',\n                          \"Fault5_series\": 'Fault5',\n                          \"Fault1_series\": 'Fault1',\n                         \"Fault3_series\": 'Fault3',\n                         \"Fault4_series\": 'Fault4',\n                         \"Post_tectonic_series\": ('Mesozoic', 'Tertiary', 'Quaternary'),\n                         \"Syn_tectonic_series2\": 'Upper-filling',\n                         \"Syn_tectonic_series1\": 'Middle-filling',\n                         \"Pre_tectonic_series\": 'Lower-filling'},\n                         remove_unused_series=True)\ngeo_model.surfaces"
    },
    "executionTime": "2020-01-09T13:48:10.770Z"
   },
   {
    "cell": {
     "executionCount": 7,
     "executionEventId": "77aeca02-799c-4cfb-b12e-68eda0d5b272",
     "hasError": false,
     "id": "7957ae8b-1a30-422f-97d2-67f92248bce8",
     "outputs": [
      {
       "name": "stdout",
       "output_type": "stream",
       "text": "Fault colors changed. If you do not like this behavior, set change_color to False.\n[0 0 0 0 0 0 0 0 0 0 0] [0. 0. 0. 0. 0. 0. 0. 0. 0. 0. 0. 0. 0. 0. 0. 0. 0. 0. 0. 0. 0. 0. 0. 0.\n 0. 0. 0. 0. 0. 0. 0. 0. 0. 0. 0. 0. 0. 0. 0. 0. 0. 0. 0. 0. 0. 0. 0. 0.\n 0. 0. 0. 0. 0. 0. 0. 0. 0. 0. 0. 0. 0. 0. 0. 0. 0. 0. 0. 0. 0. 0. 0. 0.\n 0. 0. 0. 0. 0. 0. 0. 0. 0. 0. 0. 0. 0. 0. 0. 0. 0. 0. 0. 0. 0. 0. 0. 0.\n 0. 0. 0. 0. 0. 0. 0. 0. 0. 0. 0. 0. 0. 0. 0. 0. 0. 0. 0. 0. 0. 0. 0. 0.\n 0. 0. 0. 0. 0. 0. 0. 0. 0. 0. 0. 0. 0. 0. 0. 0. 0. 0. 0. 0. 0. 0. 0. 0.\n 0. 0. 0. 0. 0. 0. 0. 0. 0. 0. 0. 0. 0. 0. 0. 0. 0. 0. 0. 0. 0. 0. 0. 0.\n 0. 0. 0. 0. 0. 0. 0. 0. 0. 0. 0. 0. 0. 0. 0. 0. 0. 0. 0. 0. 0. 0. 0. 0.\n 0. 0. 0. 0. 0. 0. 0. 0. 0. 0. 0. 0. 0. 0. 0. 0. 0. 0. 0. 0. 0. 0. 0. 0.\n 0. 0. 0. 0. 0. 0. 0. 0. 0. 0. 0. 0. 0. 0. 0. 0. 0. 0. 0. 0. 0. 0. 0. 0.\n 0. 0. 0. 0. 0. 0. 0. 0. 0. 0. 0. 0. 0. 0. 0. 0. 0. 0. 0. 0. 0. 0. 0. 0.\n 0. 0. 0. 0. 0. 0. 0. 0. 0. 0. 0. 0. 0. 0. 0. 0. 0. 0. 0. 0. 0. 0. 0. 0.\n 0. 0. 0. 0. 0. 0. 0. 0. 0. 0. 0. 0. 0. 0. 0. 0. 0. 0. 0. 0. 0. 0. 0. 0.\n 0. 0. 0. 0. 0. 0. 0. 0. 0. 0. 0. 0. 0. 0. 0. 0. 0. 0. 0. 0. 0. 0. 0. 0.\n 0. 0. 0. 0. 0. 0. 0. 0. 0. 0. 0. 0. 0. 0. 0. 0. 0. 0. 0. 0. 0. 0. 0. 0.\n 0. 0. 0. 0. 0. 0. 0. 0. 0. 0. 0. 0. 0. 0. 0. 0. 0. 0. 0. 0. 0. 0. 0. 0.\n 0. 0. 0. 0. 0. 0. 0. 0. 0. 0. 0. 0. 0. 0. 0. 0. 0. 0. 0. 0. 0. 0. 0. 0.\n 0. 0. 0. 0. 0. 0. 0. 0. 0. 0. 0. 0. 0. 0. 0. 0. 0. 0. 0. 0. 0. 0. 0. 0.\n 0. 0. 0. 0. 0. 0. 0. 0. 0. 0. 0. 0. 0. 0. 0. 0. 0. 0. 0. 0. 0. 0. 0. 0.\n 0. 0. 0. 0. 0. 0. 0. 0. 0. 0. 0. 0. 0. 0. 0. 0. 0. 0. 0. 0. 0. 0. 0. 0.\n 0. 0. 0. 0. 0. 0. 0. 0. 0. 0. 0. 0. 0. 0. 0. 0. 0. 0. 0. 0. 0. 0. 0. 0.\n 0. 0. 0. 0. 0. 0. 0. 0. 0. 0. 0. 0. 0. 0. 0. 0. 0. 0. 0. 0. 0. 0. 0. 0.\n 0. 0. 0. 0. 0. 0. 0. 0. 0. 0. 0. 0. 0. 0. 0. 0. 0. 0. 0. 0. 0. 0. 0. 0.\n 0. 0. 0. 0. 0. 0. 0. 0. 0. 0. 0. 0. 0. 0. 0. 0. 0. 0. 0. 0. 0. 0. 0. 0.\n 0. 0. 0. 0. 0. 0. 0. 0. 0. 0. 0. 0. 0. 0. 0. 0. 0. 0. 0. 0. 0. 0. 0. 0.\n 0. 0. 0. 0. 0. 0. 0. 0. 0. 0. 0. 0. 0. 0. 0. 0. 0. 0. 0. 0. 0. 0. 0. 0.\n 0. 0. 0. 0. 0. 0. 0. 0.]\n[0 0 0 0 0 0 0 0 0 0 0] [0. 0. 0. 0. 0. 0. 0. 0. 0. 0. 0. 0. 0. 0. 0. 0. 0. 0. 0. 0. 0. 0. 0. 0.\n 0. 0. 0. 0. 0. 0. 0. 0. 0. 0. 0. 0. 0. 0. 0. 0. 0. 0. 0. 0. 0. 0. 0. 0.\n 0. 0. 0. 0. 0. 0. 0. 0. 0. 0. 0. 0. 0. 0. 0. 0. 0. 0. 0. 0. 0. 0. 0. 0.\n 0. 0. 0. 0. 0. 0. 0. 0. 0. 0. 0. 0. 0. 0. 0. 0. 0. 0. 0. 0. 0. 0. 0. 0.\n 0. 0. 0. 0. 0. 0. 0. 0. 0. 0. 0. 0. 0. 0. 0. 0. 0. 0. 0. 0. 0. 0. 0. 0.\n 0. 0. 0. 0. 0. 0. 0. 0. 0. 0. 0. 0. 0. 0. 0. 0. 0. 0. 0. 0. 0. 0. 0. 0.\n 0. 0. 0. 0. 0. 0. 0. 0. 0. 0. 0. 0. 0. 0. 0. 0. 0. 0. 0. 0. 0. 0. 0. 0.\n 0. 0. 0. 0. 0. 0. 0. 0. 0. 0. 0. 0. 0. 0. 0. 0. 0. 0. 0. 0. 0. 0. 0. 0.\n 0. 0. 0. 0. 0. 0. 0. 0. 0. 0. 0. 0. 0. 0. 0. 0. 0. 0. 0. 0. 0. 0. 0. 0.\n 0. 0. 0. 0. 0. 0. 0. 0. 0. 0. 0. 0. 0. 0. 0. 0. 0. 0. 0. 0. 0. 0. 0. 0.\n 0. 0. 0. 0. 0. 0. 0. 0. 0. 0. 0. 0. 0. 0. 0. 0. 0. 0. 0. 0. 0. 0. 0. 0.\n 0. 0. 0. 0. 0. 0. 0. 0. 0. 0. 0. 0. 0. 0. 0. 0. 0. 0. 0. 0. 0. 0. 0. 0.\n 0. 0. 0. 0. 0. 0. 0. 0. 0. 0. 0. 0. 0. 0. 0. 0. 0. 0. 0. 0. 0. 0. 0. 0.\n 0. 0. 0. 0. 0. 0. 0. 0. 0. 0. 0. 0. 0. 0. 0. 0. 0. 0. 0. 0. 0. 0. 0. 0.\n 0. 0. 0. 0. 0. 0. 0. 0. 0. 0. 0. 0. 0. 0. 0. 0. 0. 0. 0. 0. 0. 0. 0. 0.\n 0. 0. 0. 0. 0. 0. 0. 0. 0. 0. 0. 0. 0. 0. 0. 0. 0. 0. 0. 0. 0. 0. 0. 0.\n 0. 0. 0. 0. 0. 0. 0. 0. 0. 0. 0. 0. 0. 0. 0. 0. 0. 0. 0. 0. 0. 0. 0. 0.\n 0. 0. 0. 0. 0. 0. 0. 0. 0. 0. 0. 0. 0. 0. 0. 0. 0. 0. 0. 0. 0. 0. 0. 0.\n 0. 0. 0. 0. 0. 0. 0. 0. 0. 0. 0. 0. 0. 0. 0. 0. 0. 0. 0. 0. 0. 0. 0. 0.\n 0. 0. 0. 0. 0. 0. 0. 0. 0. 0. 0. 0. 0. 0. 0. 0. 0. 0. 0. 0. 0. 0. 0. 0.\n 0. 0. 0. 0. 0. 0. 0. 0. 0. 0. 0. 0. 0. 0. 0. 0. 0. 0. 0. 0. 0. 0. 0. 0.\n 0. 0. 0. 0. 0. 0. 0. 0. 0. 0. 0. 0. 0. 0. 0. 0. 0. 0. 0. 0. 0. 0. 0. 0.\n 0. 0. 0. 0. 0. 0. 0. 0. 0. 0. 0. 0. 0. 0. 0. 0. 0. 0. 0. 0. 0. 0. 0. 0.\n 0. 0. 0. 0. 0. 0. 0. 0. 0. 0. 0. 0. 0. 0. 0. 0. 0. 0. 0. 0. 0. 0. 0. 0.\n 0. 0. 0. 0. 0. 0. 0. 0. 0. 0. 0. 0. 0. 0. 0. 0. 0. 0. 0. 0. 0. 0. 0. 0.\n 0. 0. 0. 0. 0. 0. 0. 0. 0. 0. 0. 0. 0. 0. 0. 0. 0. 0. 0. 0. 0. 0. 0. 0.\n 0. 0. 0. 0. 0. 0. 0. 0.]\n[0 0 0 0 0 0 0 0 0 0 0] [0. 0. 0. 0. 0. 0. 0. 0. 0. 0. 0. 0. 0. 0. 0. 0. 0. 0. 0. 0. 0. 0. 0. 0.\n 0. 0. 0. 0. 0. 0. 0. 0. 0. 0. 0. 0. 0. 0. 0. 0. 0. 0. 0. 0. 0. 0. 0. 0.\n 0. 0. 0. 0. 0. 0. 0. 0. 0. 0. 0. 0. 0. 0. 0. 0. 0. 0. 0. 0. 0. 0. 0. 0.\n 0. 0. 0. 0. 0. 0. 0. 0. 0. 0. 0. 0. 0. 0. 0. 0. 0. 0. 0. 0. 0. 0. 0. 0.\n 0. 0. 0. 0. 0. 0. 0. 0. 0. 0. 0. 0. 0. 0. 0. 0. 0. 0. 0. 0. 0. 0. 0. 0.\n 0. 0. 0. 0. 0. 0. 0. 0. 0. 0. 0. 0. 0. 0. 0. 0. 0. 0. 0. 0. 0. 0. 0. 0.\n 0. 0. 0. 0. 0. 0. 0. 0. 0. 0. 0. 0. 0. 0. 0. 0. 0. 0. 0. 0. 0. 0. 0. 0.\n 0. 0. 0. 0. 0. 0. 0. 0. 0. 0. 0. 0. 0. 0. 0. 0. 0. 0. 0. 0. 0. 0. 0. 0.\n 0. 0. 0. 0. 0. 0. 0. 0. 0. 0. 0. 0. 0. 0. 0. 0. 0. 0. 0. 0. 0. 0. 0. 0.\n 0. 0. 0. 0. 0. 0. 0. 0. 0. 0. 0. 0. 0. 0. 0. 0. 0. 0. 0. 0. 0. 0. 0. 0.\n 0. 0. 0. 0. 0. 0. 0. 0. 0. 0. 0. 0. 0. 0. 0. 0. 0. 0. 0. 0. 0. 0. 0. 0.\n 0. 0. 0. 0. 0. 0. 0. 0. 0. 0. 0. 0. 0. 0. 0. 0. 0. 0. 0. 0. 0. 0. 0. 0.\n 0. 0. 0. 0. 0. 0. 0. 0. 0. 0. 0. 0. 0. 0. 0. 0. 0. 0. 0. 0. 0. 0. 0. 0.\n 0. 0. 0. 0. 0. 0. 0. 0. 0. 0. 0. 0. 0. 0. 0. 0. 0. 0. 0. 0. 0. 0. 0. 0.\n 0. 0. 0. 0. 0. 0. 0. 0. 0. 0. 0. 0. 0. 0. 0. 0. 0. 0. 0. 0. 0. 0. 0. 0.\n 0. 0. 0. 0. 0. 0. 0. 0. 0. 0. 0. 0. 0. 0. 0. 0. 0. 0. 0. 0. 0. 0. 0. 0.\n 0. 0. 0. 0. 0. 0. 0. 0. 0. 0. 0. 0. 0. 0. 0. 0. 0. 0. 0. 0. 0. 0. 0. 0.\n 0. 0. 0. 0. 0. 0. 0. 0. 0. 0. 0. 0. 0. 0. 0. 0. 0. 0. 0. 0. 0. 0. 0. 0.\n 0. 0. 0. 0. 0. 0. 0. 0. 0. 0. 0. 0. 0. 0. 0. 0. 0. 0. 0. 0. 0. 0. 0. 0.\n 0. 0. 0. 0. 0. 0. 0. 0. 0. 0. 0. 0. 0. 0. 0. 0. 0. 0. 0. 0. 0. 0. 0. 0.\n 0. 0. 0. 0. 0. 0. 0. 0. 0. 0. 0. 0. 0. 0. 0. 0. 0. 0. 0. 0. 0. 0. 0. 0.\n 0. 0. 0. 0. 0. 0. 0. 0. 0. 0. 0. 0. 0. 0. 0. 0. 0. 0. 0. 0. 0. 0. 0. 0.\n 0. 0. 0. 0. 0. 0. 0. 0. 0. 0. 0. 0. 0. 0. 0. 0. 0. 0. 0. 0. 0. 0. 0. 0.\n 0. 0. 0. 0. 0. 0. 0. 0. 0. 0. 0. 0. 0. 0. 0. 0. 0. 0. 0. 0. 0. 0. 0. 0.\n 0. 0. 0. 0. 0. 0. 0. 0. 0. 0. 0. 0. 0. 0. 0. 0. 0. 0. 0. 0. 0. 0. 0. 0.\n 0. 0. 0. 0. 0. 0. 0. 0. 0. 0. 0. 0. 0. 0. 0. 0. 0. 0. 0. 0. 0. 0. 0. 0.\n 0. 0. 0. 0. 0. 0. 0. 0.]\n[0 0 0 0 0 0 0 0 0 0 0] [0. 0. 0. 0. 0. 0. 0. 0. 0. 0. 0. 0. 0. 0. 0. 0. 0. 0. 0. 0. 0. 0. 0. 0.\n 0. 0. 0. 0. 0. 0. 0. 0. 0. 0. 0. 0. 0. 0. 0. 0. 0. 0. 0. 0. 0. 0. 0. 0.\n 0. 0. 0. 0. 0. 0. 0. 0. 0. 0. 0. 0. 0. 0. 0. 0. 0. 0. 0. 0. 0. 0. 0. 0.\n 0. 0. 0. 0. 0. 0. 0. 0. 0. 0. 0. 0. 0. 0. 0. 0. 0. 0. 0. 0. 0. 0. 0. 0.\n 0. 0. 0. 0. 0. 0. 0. 0. 0. 0. 0. 0. 0. 0. 0. 0. 0. 0. 0. 0. 0. 0. 0. 0.\n 0. 0. 0. 0. 0. 0. 0. 0. 0. 0. 0. 0. 0. 0. 0. 0. 0. 0. 0. 0. 0. 0. 0. 0.\n 0. 0. 0. 0. 0. 0. 0. 0. 0. 0. 0. 0. 0. 0. 0. 0. 0. 0. 0. 0. 0. 0. 0. 0.\n 0. 0. 0. 0. 0. 0. 0. 0. 0. 0. 0. 0. 0. 0. 0. 0. 0. 0. 0. 0. 0. 0. 0. 0.\n 0. 0. 0. 0. 0. 0. 0. 0. 0. 0. 0. 0. 0. 0. 0. 0. 0. 0. 0. 0. 0. 0. 0. 0.\n 0. 0. 0. 0. 0. 0. 0. 0. 0. 0. 0. 0. 0. 0. 0. 0. 0. 0. 0. 0. 0. 0. 0. 0.\n 0. 0. 0. 0. 0. 0. 0. 0. 0. 0. 0. 0. 0. 0. 0. 0. 0. 0. 0. 0. 0. 0. 0. 0.\n 0. 0. 0. 0. 0. 0. 0. 0. 0. 0. 0. 0. 0. 0. 0. 0. 0. 0. 0. 0. 0. 0. 0. 0.\n 0. 0. 0. 0. 0. 0. 0. 0. 0. 0. 0. 0. 0. 0. 0. 0. 0. 0. 0. 0. 0. 0. 0. 0.\n 0. 0. 0. 0. 0. 0. 0. 0. 0. 0. 0. 0. 0. 0. 0. 0. 0. 0. 0. 0. 0. 0. 0. 0.\n 0. 0. 0. 0. 0. 0. 0. 0. 0. 0. 0. 0. 0. 0. 0. 0. 0. 0. 0. 0. 0. 0. 0. 0.\n 0. 0. 0. 0. 0. 0. 0. 0. 0. 0. 0. 0. 0. 0. 0. 0. 0. 0. 0. 0. 0. 0. 0. 0.\n 0. 0. 0. 0. 0. 0. 0. 0. 0. 0. 0. 0. 0. 0. 0. 0. 0. 0. 0. 0. 0. 0. 0. 0.\n 0. 0. 0. 0. 0. 0. 0. 0. 0. 0. 0. 0. 0. 0. 0. 0. 0. 0. 0. 0. 0. 0. 0. 0.\n 0. 0. 0. 0. 0. 0. 0. 0. 0. 0. 0. 0. 0. 0. 0. 0. 0. 0. 0. 0. 0. 0. 0. 0.\n 0. 0. 0. 0. 0. 0. 0. 0. 0. 0. 0. 0. 0. 0. 0. 0. 0. 0. 0. 0. 0. 0. 0. 0.\n 0. 0. 0. 0. 0. 0. 0. 0. 0. 0. 0. 0. 0. 0. 0. 0. 0. 0. 0. 0. 0. 0. 0. 0.\n 0. 0. 0. 0. 0. 0. 0. 0. 0. 0. 0. 0. 0. 0. 0. 0. 0. 0. 0. 0. 0. 0. 0. 0.\n 0. 0. 0. 0. 0. 0. 0. 0. 0. 0. 0. 0. 0. 0. 0. 0. 0. 0. 0. 0. 0. 0. 0. 0.\n 0. 0. 0. 0. 0. 0. 0. 0. 0. 0. 0. 0. 0. 0. 0. 0. 0. 0. 0. 0. 0. 0. 0. 0.\n 0. 0. 0. 0. 0. 0. 0. 0. 0. 0. 0. 0. 0. 0. 0. 0. 0. 0. 0. 0. 0. 0. 0. 0.\n 0. 0. 0. 0. 0. 0. 0. 0. 0. 0. 0. 0. 0. 0. 0. 0. 0. 0. 0. 0. 0. 0. 0. 0.\n 0. 0. 0. 0. 0. 0. 0. 0.]\n[0 0 0 0 0 0 0 0 0 0 0] [0. 0. 0. 0. 0. 0. 0. 0. 0. 0. 0. 0. 0. 0. 0. 0. 0. 0. 0. 0. 0. 0. 0. 0.\n 0. 0. 0. 0. 0. 0. 0. 0. 0. 0. 0. 0. 0. 0. 0. 0. 0. 0. 0. 0. 0. 0. 0. 0.\n 0. 0. 0. 0. 0. 0. 0. 0. 0. 0. 0. 0. 0. 0. 0. 0. 0. 0. 0. 0. 0. 0. 0. 0.\n 0. 0. 0. 0. 0. 0. 0. 0. 0. 0. 0. 0. 0. 0. 0. 0. 0. 0. 0. 0. 0. 0. 0. 0.\n 0. 0. 0. 0. 0. 0. 0. 0. 0. 0. 0. 0. 0. 0. 0. 0. 0. 0. 0. 0. 0. 0. 0. 0.\n 0. 0. 0. 0. 0. 0. 0. 0. 0. 0. 0. 0. 0. 0. 0. 0. 0. 0. 0. 0. 0. 0. 0. 0.\n 0. 0. 0. 0. 0. 0. 0. 0. 0. 0. 0. 0. 0. 0. 0. 0. 0. 0. 0. 0. 0. 0. 0. 0.\n 0. 0. 0. 0. 0. 0. 0. 0. 0. 0. 0. 0. 0. 0. 0. 0. 0. 0. 0. 0. 0. 0. 0. 0.\n 0. 0. 0. 0. 0. 0. 0. 0. 0. 0. 0. 0. 0. 0. 0. 0. 0. 0. 0. 0. 0. 0. 0. 0.\n 0. 0. 0. 0. 0. 0. 0. 0. 0. 0. 0. 0. 0. 0. 0. 0. 0. 0. 0. 0. 0. 0. 0. 0.\n 0. 0. 0. 0. 0. 0. 0. 0. 0. 0. 0. 0. 0. 0. 0. 0. 0. 0. 0. 0. 0. 0. 0. 0.\n 0. 0. 0. 0. 0. 0. 0. 0. 0. 0. 0. 0. 0. 0. 0. 0. 0. 0. 0. 0. 0. 0. 0. 0.\n 0. 0. 0. 0. 0. 0. 0. 0. 0. 0. 0. 0. 0. 0. 0. 0. 0. 0. 0. 0. 0. 0. 0. 0.\n 0. 0. 0. 0. 0. 0. 0. 0. 0. 0. 0. 0. 0. 0. 0. 0. 0. 0. 0. 0. 0. 0. 0. 0.\n 0. 0. 0. 0. 0. 0. 0. 0. 0. 0. 0. 0. 0. 0. 0. 0. 0. 0. 0. 0. 0. 0. 0. 0.\n 0. 0. 0. 0. 0. 0. 0. 0. 0. 0. 0. 0. 0. 0. 0. 0. 0. 0. 0. 0. 0. 0. 0. 0.\n 0. 0. 0. 0. 0. 0. 0. 0. 0. 0. 0. 0. 0. 0. 0. 0. 0. 0. 0. 0. 0. 0. 0. 0.\n 0. 0. 0. 0. 0. 0. 0. 0. 0. 0. 0. 0. 0. 0. 0. 0. 0. 0. 0. 0. 0. 0. 0. 0.\n 0. 0. 0. 0. 0. 0. 0. 0. 0. 0. 0. 0. 0. 0. 0. 0. 0. 0. 0. 0. 0. 0. 0. 0.\n 0. 0. 0. 0. 0. 0. 0. 0. 0. 0. 0. 0. 0. 0. 0. 0. 0. 0. 0. 0. 0. 0. 0. 0.\n 0. 0. 0. 0. 0. 0. 0. 0. 0. 0. 0. 0. 0. 0. 0. 0. 0. 0. 0. 0. 0. 0. 0. 0.\n 0. 0. 0. 0. 0. 0. 0. 0. 0. 0. 0. 0. 0. 0. 0. 0. 0. 0. 0. 0. 0. 0. 0. 0.\n 0. 0. 0. 0. 0. 0. 0. 0. 0. 0. 0. 0. 0. 0. 0. 0. 0. 0. 0. 0. 0. 0. 0. 0.\n 0. 0. 0. 0. 0. 0. 0. 0. 0. 0. 0. 0. 0. 0. 0. 0. 0. 0. 0. 0. 0. 0. 0. 0.\n 0. 0. 0. 0. 0. 0. 0. 0. 0. 0. 0. 0. 0. 0. 0. 0. 0. 0. 0. 0. 0. 0. 0. 0.\n 0. 0. 0. 0. 0. 0. 0. 0. 0. 0. 0. 0. 0. 0. 0. 0. 0. 0. 0. 0. 0. 0. 0. 0.\n 0. 0. 0. 0. 0. 0. 0. 0.]\n[0 0 0 0 0 0 0 0 0 0 0] [0. 0. 0. 0. 0. 0. 0. 0. 0. 0. 0. 0. 0. 0. 0. 0. 0. 0. 0. 0. 0. 0. 0. 0.\n 0. 0. 0. 0. 0. 0. 0. 0. 0. 0. 0. 0. 0. 0. 0. 0. 0. 0. 0. 0. 0. 0. 0. 0.\n 0. 0. 0. 0. 0. 0. 0. 0. 0. 0. 0. 0. 0. 0. 0. 0. 0. 0. 0. 0. 0. 0. 0. 0.\n 0. 0. 0. 0. 0. 0. 0. 0. 0. 0. 0. 0. 0. 0. 0. 0. 0. 0. 0. 0. 0. 0. 0. 0.\n 0. 0. 0. 0. 0. 0. 0. 0. 0. 0. 0. 0. 0. 0. 0. 0. 0. 0. 0. 0. 0. 0. 0. 0.\n 0. 0. 0. 0. 0. 0. 0. 0. 0. 0. 0. 0. 0. 0. 0. 0. 0. 0. 0. 0. 0. 0. 0. 0.\n 0. 0. 0. 0. 0. 0. 0. 0. 0. 0. 0. 0. 0. 0. 0. 0. 0. 0. 0. 0. 0. 0. 0. 0.\n 0. 0. 0. 0. 0. 0. 0. 0. 0. 0. 0. 0. 0. 0. 0. 0. 0. 0. 0. 0. 0. 0. 0. 0.\n 0. 0. 0. 0. 0. 0. 0. 0. 0. 0. 0. 0. 0. 0. 0. 0. 0. 0. 0. 0. 0. 0. 0. 0.\n 0. 0. 0. 0. 0. 0. 0. 0. 0. 0. 0. 0. 0. 0. 0. 0. 0. 0. 0. 0. 0. 0. 0. 0.\n 0. 0. 0. 0. 0. 0. 0. 0. 0. 0. 0. 0. 0. 0. 0. 0. 0. 0. 0. 0. 0. 0. 0. 0.\n 0. 0. 0. 0. 0. 0. 0. 0. 0. 0. 0. 0. 0. 0. 0. 0. 0. 0. 0. 0. 0. 0. 0. 0.\n 0. 0. 0. 0. 0. 0. 0. 0. 0. 0. 0. 0. 0. 0. 0. 0. 0. 0. 0. 0. 0. 0. 0. 0.\n 0. 0. 0. 0. 0. 0. 0. 0. 0. 0. 0. 0. 0. 0. 0. 0. 0. 0. 0. 0. 0. 0. 0. 0.\n 0. 0. 0. 0. 0. 0. 0. 0. 0. 0. 0. 0. 0. 0. 0. 0. 0. 0. 0. 0. 0. 0. 0. 0.\n 0. 0. 0. 0. 0. 0. 0. 0. 0. 0. 0. 0. 0. 0. 0. 0. 0. 0. 0. 0. 0. 0. 0. 0.\n 0. 0. 0. 0. 0. 0. 0. 0. 0. 0. 0. 0. 0. 0. 0. 0. 0. 0. 0. 0. 0. 0. 0. 0.\n 0. 0. 0. 0. 0. 0. 0. 0. 0. 0. 0. 0. 0. 0. 0. 0. 0. 0. 0. 0. 0. 0. 0. 0.\n 0. 0. 0. 0. 0. 0. 0. 0. 0. 0. 0. 0. 0. 0. 0. 0. 0. 0. 0. 0. 0. 0. 0. 0.\n 0. 0. 0. 0. 0. 0. 0. 0. 0. 0. 0. 0. 0. 0. 0. 0. 0. 0. 0. 0. 0. 0. 0. 0.\n 0. 0. 0. 0. 0. 0. 0. 0. 0. 0. 0. 0. 0. 0. 0. 0. 0. 0. 0. 0. 0. 0. 0. 0.\n 0. 0. 0. 0. 0. 0. 0. 0. 0. 0. 0. 0. 0. 0. 0. 0. 0. 0. 0. 0. 0. 0. 0. 0.\n 0. 0. 0. 0. 0. 0. 0. 0. 0. 0. 0. 0. 0. 0. 0. 0. 0. 0. 0. 0. 0. 0. 0. 0.\n 0. 0. 0. 0. 0. 0. 0. 0. 0. 0. 0. 0. 0. 0. 0. 0. 0. 0. 0. 0. 0. 0. 0. 0.\n 0. 0. 0. 0. 0. 0. 0. 0. 0. 0. 0. 0. 0. 0. 0. 0. 0. 0. 0. 0. 0. 0. 0. 0.\n 0. 0. 0. 0. 0. 0. 0. 0. 0. 0. 0. 0. 0. 0. 0. 0. 0. 0. 0. 0. 0. 0. 0. 0.\n 0. 0. 0. 0. 0. 0. 0. 0.]\n[0 0 0 0 0 0 0 0 0 0 0] [0. 0. 0. 0. 0. 0. 0. 0. 0. 0. 0. 0. 0. 0. 0. 0. 0. 0. 0. 0. 0. 0. 0. 0.\n 0. 0. 0. 0. 0. 0. 0. 0. 0. 0. 0. 0. 0. 0. 0. 0. 0. 0. 0. 0. 0. 0. 0. 0.\n 0. 0. 0. 0. 0. 0. 0. 0. 0. 0. 0. 0. 0. 0. 0. 0. 0. 0. 0. 0. 0. 0. 0. 0.\n 0. 0. 0. 0. 0. 0. 0. 0. 0. 0. 0. 0. 0. 0. 0. 0. 0. 0. 0. 0. 0. 0. 0. 0.\n 0. 0. 0. 0. 0. 0. 0. 0. 0. 0. 0. 0. 0. 0. 0. 0. 0. 0. 0. 0. 0. 0. 0. 0.\n 0. 0. 0. 0. 0. 0. 0. 0. 0. 0. 0. 0. 0. 0. 0. 0. 0. 0. 0. 0. 0. 0. 0. 0.\n 0. 0. 0. 0. 0. 0. 0. 0. 0. 0. 0. 0. 0. 0. 0. 0. 0. 0. 0. 0. 0. 0. 0. 0.\n 0. 0. 0. 0. 0. 0. 0. 0. 0. 0. 0. 0. 0. 0. 0. 0. 0. 0. 0. 0. 0. 0. 0. 0.\n 0. 0. 0. 0. 0. 0. 0. 0. 0. 0. 0. 0. 0. 0. 0. 0. 0. 0. 0. 0. 0. 0. 0. 0.\n 0. 0. 0. 0. 0. 0. 0. 0. 0. 0. 0. 0. 0. 0. 0. 0. 0. 0. 0. 0. 0. 0. 0. 0.\n 0. 0. 0. 0. 0. 0. 0. 0. 0. 0. 0. 0. 0. 0. 0. 0. 0. 0. 0. 0. 0. 0. 0. 0.\n 0. 0. 0. 0. 0. 0. 0. 0. 0. 0. 0. 0. 0. 0. 0. 0. 0. 0. 0. 0. 0. 0. 0. 0.\n 0. 0. 0. 0. 0. 0. 0. 0. 0. 0. 0. 0. 0. 0. 0. 0. 0. 0. 0. 0. 0. 0. 0. 0.\n 0. 0. 0. 0. 0. 0. 0. 0. 0. 0. 0. 0. 0. 0. 0. 0. 0. 0. 0. 0. 0. 0. 0. 0.\n 0. 0. 0. 0. 0. 0. 0. 0. 0. 0. 0. 0. 0. 0. 0. 0. 0. 0. 0. 0. 0. 0. 0. 0.\n 0. 0. 0. 0. 0. 0. 0. 0. 0. 0. 0. 0. 0. 0. 0. 0. 0. 0. 0. 0. 0. 0. 0. 0.\n 0. 0. 0. 0. 0. 0. 0. 0. 0. 0. 0. 0. 0. 0. 0. 0. 0. 0. 0. 0. 0. 0. 0. 0.\n 0. 0. 0. 0. 0. 0. 0. 0. 0. 0. 0. 0. 0. 0. 0. 0. 0. 0. 0. 0. 0. 0. 0. 0.\n 0. 0. 0. 0. 0. 0. 0. 0. 0. 0. 0. 0. 0. 0. 0. 0. 0. 0. 0. 0. 0. 0. 0. 0.\n 0. 0. 0. 0. 0. 0. 0. 0. 0. 0. 0. 0. 0. 0. 0. 0. 0. 0. 0. 0. 0. 0. 0. 0.\n 0. 0. 0. 0. 0. 0. 0. 0. 0. 0. 0. 0. 0. 0. 0. 0. 0. 0. 0. 0. 0. 0. 0. 0.\n 0. 0. 0. 0. 0. 0. 0. 0. 0. 0. 0. 0. 0. 0. 0. 0. 0. 0. 0. 0. 0. 0. 0. 0.\n 0. 0. 0. 0. 0. 0. 0. 0. 0. 0. 0. 0. 0. 0. 0. 0. 0. 0. 0. 0. 0. 0. 0. 0.\n 0. 0. 0. 0. 0. 0. 0. 0. 0. 0. 0. 0. 0. 0. 0. 0. 0. 0. 0. 0. 0. 0. 0. 0.\n 0. 0. 0. 0. 0. 0. 0. 0. 0. 0. 0. 0. 0. 0. 0. 0. 0. 0. 0. 0. 0. 0. 0. 0.\n 0. 0. 0. 0. 0. 0. 0. 0. 0. 0. 0. 0. 0. 0. 0. 0. 0. 0. 0. 0. 0. 0. 0. 0.\n 0. 0. 0. 0. 0. 0. 0. 0.]\n[0 0 0 0 0 0 0 0 0 0 0] [0. 0. 0. 0. 0. 0. 0. 0. 0. 0. 0. 0. 0. 0. 0. 0. 0. 0. 0. 0. 0. 0. 0. 0.\n 0. 0. 0. 0. 0. 0. 0. 0. 0. 0. 0. 0. 0. 0. 0. 0. 0. 0. 0. 0. 0. 0. 0. 0.\n 0. 0. 0. 0. 0. 0. 0. 0. 0. 0. 0. 0. 0. 0. 0. 0. 0. 0. 0. 0. 0. 0. 0. 0.\n 0. 0. 0. 0. 0. 0. 0. 0. 0. 0. 0. 0. 0. 0. 0. 0. 0. 0. 0. 0. 0. 0. 0. 0.\n 0. 0. 0. 0. 0. 0. 0. 0. 0. 0. 0. 0. 0. 0. 0. 0. 0. 0. 0. 0. 0. 0. 0. 0.\n 0. 0. 0. 0. 0. 0. 0. 0. 0. 0. 0. 0. 0. 0. 0. 0. 0. 0. 0. 0. 0. 0. 0. 0.\n 0. 0. 0. 0. 0. 0. 0. 0. 0. 0. 0. 0. 0. 0. 0. 0. 0. 0. 0. 0. 0. 0. 0. 0.\n 0. 0. 0. 0. 0. 0. 0. 0. 0. 0. 0. 0. 0. 0. 0. 0. 0. 0. 0. 0. 0. 0. 0. 0.\n 0. 0. 0. 0. 0. 0. 0. 0. 0. 0. 0. 0. 0. 0. 0. 0. 0. 0. 0. 0. 0. 0. 0. 0.\n 0. 0. 0. 0. 0. 0. 0. 0. 0. 0. 0. 0. 0. 0. 0. 0. 0. 0. 0. 0. 0. 0. 0. 0.\n 0. 0. 0. 0. 0. 0. 0. 0. 0. 0. 0. 0. 0. 0. 0. 0. 0. 0. 0. 0. 0. 0. 0. 0.\n 0. 0. 0. 0. 0. 0. 0. 0. 0. 0. 0. 0. 0. 0. 0. 0. 0. 0. 0. 0. 0. 0. 0. 0.\n 0. 0. 0. 0. 0. 0. 0. 0. 0. 0. 0. 0. 0. 0. 0. 0. 0. 0. 0. 0. 0. 0. 0. 0.\n 0. 0. 0. 0. 0. 0. 0. 0. 0. 0. 0. 0. 0. 0. 0. 0. 0. 0. 0. 0. 0. 0. 0. 0.\n 0. 0. 0. 0. 0. 0. 0. 0. 0. 0. 0. 0. 0. 0. 0. 0. 0. 0. 0. 0. 0. 0. 0. 0.\n 0. 0. 0. 0. 0. 0. 0. 0. 0. 0. 0. 0. 0. 0. 0. 0. 0. 0. 0. 0. 0. 0. 0. 0.\n 0. 0. 0. 0. 0. 0. 0. 0. 0. 0. 0. 0. 0. 0. 0. 0. 0. 0. 0. 0. 0. 0. 0. 0.\n 0. 0. 0. 0. 0. 0. 0. 0. 0. 0. 0. 0. 0. 0. 0. 0. 0. 0. 0. 0. 0. 0. 0. 0.\n 0. 0. 0. 0. 0. 0. 0. 0. 0. 0. 0. 0. 0. 0. 0. 0. 0. 0. 0. 0. 0. 0. 0. 0.\n 0. 0. 0. 0. 0. 0. 0. 0. 0. 0. 0. 0. 0. 0. 0. 0. 0. 0. 0. 0. 0. 0. 0. 0.\n 0. 0. 0. 0. 0. 0. 0. 0. 0. 0. 0. 0. 0. 0. 0. 0. 0. 0. 0. 0. 0. 0. 0. 0.\n 0. 0. 0. 0. 0. 0. 0. 0. 0. 0. 0. 0. 0. 0. 0. 0. 0. 0. 0. 0. 0. 0. 0. 0.\n 0. 0. 0. 0. 0. 0. 0. 0. 0. 0. 0. 0. 0. 0. 0. 0. 0. 0. 0. 0. 0. 0. 0. 0.\n 0. 0. 0. 0. 0. 0. 0. 0. 0. 0. 0. 0. 0. 0. 0. 0. 0. 0. 0. 0. 0. 0. 0. 0.\n 0. 0. 0. 0. 0. 0. 0. 0. 0. 0. 0. 0. 0. 0. 0. 0. 0. 0. 0. 0. 0. 0. 0. 0.\n 0. 0. 0. 0. 0. 0. 0. 0. 0. 0. 0. 0. 0. 0. 0. 0. 0. 0. 0. 0. 0. 0. 0. 0.\n 0. 0. 0. 0. 0. 0. 0. 0.]\n[0 0 0 0 0 0 0 0 0 0 0] [0. 0. 0. 0. 0. 0. 0. 0. 0. 0. 0. 0. 0. 0. 0. 0. 0. 0. 0. 0. 0. 0. 0. 0.\n 0. 0. 0. 0. 0. 0. 0. 0. 0. 0. 0. 0. 0. 0. 0. 0. 0. 0. 0. 0. 0. 0. 0. 0.\n 0. 0. 0. 0. 0. 0. 0. 0. 0. 0. 0. 0. 0. 0. 0. 0. 0. 0. 0. 0. 0. 0. 0. 0.\n 0. 0. 0. 0. 0. 0. 0. 0. 0. 0. 0. 0. 0. 0. 0. 0. 0. 0. 0. 0. 0. 0. 0. 0.\n 0. 0. 0. 0. 0. 0. 0. 0. 0. 0. 0. 0. 0. 0. 0. 0. 0. 0. 0. 0. 0. 0. 0. 0.\n 0. 0. 0. 0. 0. 0. 0. 0. 0. 0. 0. 0. 0. 0. 0. 0. 0. 0. 0. 0. 0. 0. 0. 0.\n 0. 0. 0. 0. 0. 0. 0. 0. 0. 0. 0. 0. 0. 0. 0. 0. 0. 0. 0. 0. 0. 0. 0. 0.\n 0. 0. 0. 0. 0. 0. 0. 0. 0. 0. 0. 0. 0. 0. 0. 0. 0. 0. 0. 0. 0. 0. 0. 0.\n 0. 0. 0. 0. 0. 0. 0. 0. 0. 0. 0. 0. 0. 0. 0. 0. 0. 0. 0. 0. 0. 0. 0. 0.\n 0. 0. 0. 0. 0. 0. 0. 0. 0. 0. 0. 0. 0. 0. 0. 0. 0. 0. 0. 0. 0. 0. 0. 0.\n 0. 0. 0. 0. 0. 0. 0. 0. 0. 0. 0. 0. 0. 0. 0. 0. 0. 0. 0. 0. 0. 0. 0. 0.\n 0. 0. 0. 0. 0. 0. 0. 0. 0. 0. 0. 0. 0. 0. 0. 0. 0. 0. 0. 0. 0. 0. 0. 0.\n 0. 0. 0. 0. 0. 0. 0. 0. 0. 0. 0. 0. 0. 0. 0. 0. 0. 0. 0. 0. 0. 0. 0. 0.\n 0. 0. 0. 0. 0. 0. 0. 0. 0. 0. 0. 0. 0. 0. 0. 0. 0. 0. 0. 0. 0. 0. 0. 0.\n 0. 0. 0. 0. 0. 0. 0. 0. 0. 0. 0. 0. 0. 0. 0. 0. 0. 0. 0. 0. 0. 0. 0. 0.\n 0. 0. 0. 0. 0. 0. 0. 0. 0. 0. 0. 0. 0. 0. 0. 0. 0. 0. 0. 0. 0. 0. 0. 0.\n 0. 0. 0. 0. 0. 0. 0. 0. 0. 0. 0. 0. 0. 0. 0. 0. 0. 0. 0. 0. 0. 0. 0. 0.\n 0. 0. 0. 0. 0. 0. 0. 0. 0. 0. 0. 0. 0. 0. 0. 0. 0. 0. 0. 0. 0. 0. 0. 0.\n 0. 0. 0. 0. 0. 0. 0. 0. 0. 0. 0. 0. 0. 0. 0. 0. 0. 0. 0. 0. 0. 0. 0. 0.\n 0. 0. 0. 0. 0. 0. 0. 0. 0. 0. 0. 0. 0. 0. 0. 0. 0. 0. 0. 0. 0. 0. 0. 0.\n 0. 0. 0. 0. 0. 0. 0. 0. 0. 0. 0. 0. 0. 0. 0. 0. 0. 0. 0. 0. 0. 0. 0. 0.\n 0. 0. 0. 0. 0. 0. 0. 0. 0. 0. 0. 0. 0. 0. 0. 0. 0. 0. 0. 0. 0. 0. 0. 0.\n 0. 0. 0. 0. 0. 0. 0. 0. 0. 0. 0. 0. 0. 0. 0. 0. 0. 0. 0. 0. 0. 0. 0. 0.\n 0. 0. 0. 0. 0. 0. 0. 0. 0. 0. 0. 0. 0. 0. 0. 0. 0. 0. 0. 0. 0. 0. 0. 0.\n 0. 0. 0. 0. 0. 0. 0. 0. 0. 0. 0. 0. 0. 0. 0. 0. 0. 0. 0. 0. 0. 0. 0. 0.\n 0. 0. 0. 0. 0. 0. 0. 0. 0. 0. 0. 0. 0. 0. 0. 0. 0. 0. 0. 0. 0. 0. 0. 0.\n 0. 0. 0. 0. 0. 0. 0. 0.]\n[0 0 0 0 0 0 0 0 0 0 0] [0. 0. 0. 0. 0. 0. 0. 0. 0. 0. 0. 0. 0. 0. 0. 0. 0. 0. 0. 0. 0. 0. 0. 0.\n 0. 0. 0. 0. 0. 0. 0. 0. 0. 0. 0. 0. 0. 0. 0. 0. 0. 0. 0. 0. 0. 0. 0. 0.\n 0. 0. 0. 0. 0. 0. 0. 0. 0. 0. 0. 0. 0. 0. 0. 0. 0. 0. 0. 0. 0. 0. 0. 0.\n 0. 0. 0. 0. 0. 0. 0. 0. 0. 0. 0. 0. 0. 0. 0. 0. 0. 0. 0. 0. 0. 0. 0. 0.\n 0. 0. 0. 0. 0. 0. 0. 0. 0. 0. 0. 0. 0. 0. 0. 0. 0. 0. 0. 0. 0. 0. 0. 0.\n 0. 0. 0. 0. 0. 0. 0. 0. 0. 0. 0. 0. 0. 0. 0. 0. 0. 0. 0. 0. 0. 0. 0. 0.\n 0. 0. 0. 0. 0. 0. 0. 0. 0. 0. 0. 0. 0. 0. 0. 0. 0. 0. 0. 0. 0. 0. 0. 0.\n 0. 0. 0. 0. 0. 0. 0. 0. 0. 0. 0. 0. 0. 0. 0. 0. 0. 0. 0. 0. 0. 0. 0. 0.\n 0. 0. 0. 0. 0. 0. 0. 0. 0. 0. 0. 0. 0. 0. 0. 0. 0. 0. 0. 0. 0. 0. 0. 0.\n 0. 0. 0. 0. 0. 0. 0. 0. 0. 0. 0. 0. 0. 0. 0. 0. 0. 0. 0. 0. 0. 0. 0. 0.\n 0. 0. 0. 0. 0. 0. 0. 0. 0. 0. 0. 0. 0. 0. 0. 0. 0. 0. 0. 0. 0. 0. 0. 0.\n 0. 0. 0. 0. 0. 0. 0. 0. 0. 0. 0. 0. 0. 0. 0. 0. 0. 0. 0. 0. 0. 0. 0. 0.\n 0. 0. 0. 0. 0. 0. 0. 0. 0. 0. 0. 0. 0. 0. 0. 0. 0. 0. 0. 0. 0. 0. 0. 0.\n 0. 0. 0. 0. 0. 0. 0. 0. 0. 0. 0. 0. 0. 0. 0. 0. 0. 0. 0. 0. 0. 0. 0. 0.\n 0. 0. 0. 0. 0. 0. 0. 0. 0. 0. 0. 0. 0. 0. 0. 0. 0. 0. 0. 0. 0. 0. 0. 0.\n 0. 0. 0. 0. 0. 0. 0. 0. 0. 0. 0. 0. 0. 0. 0. 0. 0. 0. 0. 0. 0. 0. 0. 0.\n 0. 0. 0. 0. 0. 0. 0. 0. 0. 0. 0. 0. 0. 0. 0. 0. 0. 0. 0. 0. 0. 0. 0. 0.\n 0. 0. 0. 0. 0. 0. 0. 0. 0. 0. 0. 0. 0. 0. 0. 0. 0. 0. 0. 0. 0. 0. 0. 0.\n 0. 0. 0. 0. 0. 0. 0. 0. 0. 0. 0. 0. 0. 0. 0. 0. 0. 0. 0. 0. 0. 0. 0. 0.\n 0. 0. 0. 0. 0. 0. 0. 0. 0. 0. 0. 0. 0. 0. 0. 0. 0. 0. 0. 0. 0. 0. 0. 0.\n 0. 0. 0. 0. 0. 0. 0. 0. 0. 0. 0. 0. 0. 0. 0. 0. 0. 0. 0. 0. 0. 0. 0. 0.\n 0. 0. 0. 0. 0. 0. 0. 0. 0. 0. 0. 0. 0. 0. 0. 0. 0. 0. 0. 0. 0. 0. 0. 0.\n 0. 0. 0. 0. 0. 0. 0. 0. 0. 0. 0. 0. 0. 0. 0. 0. 0. 0. 0. 0. 0. 0. 0. 0.\n 0. 0. 0. 0. 0. 0. 0. 0. 0. 0. 0. 0. 0. 0. 0. 0. 0. 0. 0. 0. 0. 0. 0. 0.\n 0. 0. 0. 0. 0. 0. 0. 0. 0. 0. 0. 0. 0. 0. 0. 0. 0. 0. 0. 0. 0. 0. 0. 0.\n 0. 0. 0. 0. 0. 0. 0. 0. 0. 0. 0. 0. 0. 0. 0. 0. 0. 0. 0. 0. 0. 0. 0. 0.\n 0. 0. 0. 0. 0. 0. 0. 0.]\n[0 0 0 0 0 0 0 0 0 0 0] [0. 0. 0. 0. 0. 0. 0. 0. 0. 0. 0. 0. 0. 0. 0. 0. 0. 0. 0. 0. 0. 0. 0. 0.\n 0. 0. 0. 0. 0. 0. 0. 0. 0. 0. 0. 0. 0. 0. 0. 0. 0. 0. 0. 0. 0. 0. 0. 0.\n 0. 0. 0. 0. 0. 0. 0. 0. 0. 0. 0. 0. 0. 0. 0. 0. 0. 0. 0. 0. 0. 0. 0. 0.\n 0. 0. 0. 0. 0. 0. 0. 0. 0. 0. 0. 0. 0. 0. 0. 0. 0. 0. 0. 0. 0. 0. 0. 0.\n 0. 0. 0. 0. 0. 0. 0. 0. 0. 0. 0. 0. 0. 0. 0. 0. 0. 0. 0. 0. 0. 0. 0. 0.\n 0. 0. 0. 0. 0. 0. 0. 0. 0. 0. 0. 0. 0. 0. 0. 0. 0. 0. 0. 0. 0. 0. 0. 0.\n 0. 0. 0. 0. 0. 0. 0. 0. 0. 0. 0. 0. 0. 0. 0. 0. 0. 0. 0. 0. 0. 0. 0. 0.\n 0. 0. 0. 0. 0. 0. 0. 0. 0. 0. 0. 0. 0. 0. 0. 0. 0. 0. 0. 0. 0. 0. 0. 0.\n 0. 0. 0. 0. 0. 0. 0. 0. 0. 0. 0. 0. 0. 0. 0. 0. 0. 0. 0. 0. 0. 0. 0. 0.\n 0. 0. 0. 0. 0. 0. 0. 0. 0. 0. 0. 0. 0. 0. 0. 0. 0. 0. 0. 0. 0. 0. 0. 0.\n 0. 0. 0. 0. 0. 0. 0. 0. 0. 0. 0. 0. 0. 0. 0. 0. 0. 0. 0. 0. 0. 0. 0. 0.\n 0. 0. 0. 0. 0. 0. 0. 0. 0. 0. 0. 0. 0. 0. 0. 0. 0. 0. 0. 0. 0. 0. 0. 0.\n 0. 0. 0. 0. 0. 0. 0. 0. 0. 0. 0. 0. 0. 0. 0. 0. 0. 0. 0. 0. 0. 0. 0. 0.\n 0. 0. 0. 0. 0. 0. 0. 0. 0. 0. 0. 0. 0. 0. 0. 0. 0. 0. 0. 0. 0. 0. 0. 0.\n 0. 0. 0. 0. 0. 0. 0. 0. 0. 0. 0. 0. 0. 0. 0. 0. 0. 0. 0. 0. 0. 0. 0. 0.\n 0. 0. 0. 0. 0. 0. 0. 0. 0. 0. 0. 0. 0. 0. 0. 0. 0. 0. 0. 0. 0. 0. 0. 0.\n 0. 0. 0. 0. 0. 0. 0. 0. 0. 0. 0. 0. 0. 0. 0. 0. 0. 0. 0. 0. 0. 0. 0. 0.\n 0. 0. 0. 0. 0. 0. 0. 0. 0. 0. 0. 0. 0. 0. 0. 0. 0. 0. 0. 0. 0. 0. 0. 0.\n 0. 0. 0. 0. 0. 0. 0. 0. 0. 0. 0. 0. 0. 0. 0. 0. 0. 0. 0. 0. 0. 0. 0. 0.\n 0. 0. 0. 0. 0. 0. 0. 0. 0. 0. 0. 0. 0. 0. 0. 0. 0. 0. 0. 0. 0. 0. 0. 0.\n 0. 0. 0. 0. 0. 0. 0. 0. 0. 0. 0. 0. 0. 0. 0. 0. 0. 0. 0. 0. 0. 0. 0. 0.\n 0. 0. 0. 0. 0. 0. 0. 0. 0. 0. 0. 0. 0. 0. 0. 0. 0. 0. 0. 0. 0. 0. 0. 0.\n 0. 0. 0. 0. 0. 0. 0. 0. 0. 0. 0. 0. 0. 0. 0. 0. 0. 0. 0. 0. 0. 0. 0. 0.\n 0. 0. 0. 0. 0. 0. 0. 0. 0. 0. 0. 0. 0. 0. 0. 0. 0. 0. 0. 0. 0. 0. 0. 0.\n 0. 0. 0. 0. 0. 0. 0. 0. 0. 0. 0. 0. 0. 0. 0. 0. 0. 0. 0. 0. 0. 0. 0. 0.\n 0. 0. 0. 0. 0. 0. 0. 0. 0. 0. 0. 0. 0. 0. 0. 0. 0. 0. 0. 0. 0. 0. 0. 0.\n 0. 0. 0. 0. 0. 0. 0. 0.]\n"
      },
      {
       "data": {
        "text/html": "<table border=\"1\" class=\"dataframe\">\n  <thead>\n    <tr style=\"text-align: right;\">\n      <th></th>\n      <th>isFault</th>\n      <th>isFinite</th>\n    </tr>\n  </thead>\n  <tbody>\n    <tr>\n      <th>Fault7_series</th>\n      <td>True</td>\n      <td>False</td>\n    </tr>\n    <tr>\n      <th>Fault6_series</th>\n      <td>True</td>\n      <td>False</td>\n    </tr>\n    <tr>\n      <th>Fault2_series</th>\n      <td>True</td>\n      <td>False</td>\n    </tr>\n    <tr>\n      <th>Fault5_series</th>\n      <td>True</td>\n      <td>False</td>\n    </tr>\n    <tr>\n      <th>Fault1_series</th>\n      <td>True</td>\n      <td>False</td>\n    </tr>\n    <tr>\n      <th>Fault3_series</th>\n      <td>True</td>\n      <td>False</td>\n    </tr>\n    <tr>\n      <th>Fault4_series</th>\n      <td>True</td>\n      <td>False</td>\n    </tr>\n    <tr>\n      <th>Post_tectonic_series</th>\n      <td>False</td>\n      <td>False</td>\n    </tr>\n    <tr>\n      <th>Syn_tectonic_series2</th>\n      <td>False</td>\n      <td>False</td>\n    </tr>\n    <tr>\n      <th>Syn_tectonic_series1</th>\n      <td>False</td>\n      <td>False</td>\n    </tr>\n    <tr>\n      <th>Pre_tectonic_series</th>\n      <td>False</td>\n      <td>False</td>\n    </tr>\n    <tr>\n      <th>Basement</th>\n      <td>False</td>\n      <td>False</td>\n    </tr>\n  </tbody>\n</table>",
        "text/plain": "                      isFault  isFinite\nFault7_series            True     False\nFault6_series            True     False\nFault2_series            True     False\nFault5_series            True     False\nFault1_series            True     False\nFault3_series            True     False\nFault4_series            True     False\nPost_tectonic_series    False     False\nSyn_tectonic_series2    False     False\nSyn_tectonic_series1    False     False\nPre_tectonic_series     False     False\nBasement                False     False"
       },
       "execution_count": 7,
       "metadata": {},
       "output_type": "execute_result"
      }
     ],
     "persistentId": "947b25c4-e155-47fe-8adf-d4c6bbc870c7",
     "text": "# Set Faults\ngeo_model.set_is_fault(['Fault1_series','Fault7_series','Fault6_series',\n                        'Fault2_series', 'Fault5_series', 'Fault3_series', 'Fault4_series'])\n#geo_model.set_is_finite_fault(series_fault=['Fault1_series', 'Fault7_series', 'Fault6_series', \n#                                            'Fault5_series', 'Fault3_series', 'Fault4_series'],\n#                              toggle=True)\n"
    },
    "executionTime": "2020-01-09T13:48:15.420Z"
   },
   {
    "cell": {
     "executionCount": 8,
     "executionEventId": "66b7b000-ea1c-4a4f-8959-1d1678c6c5f8",
     "hasError": false,
     "id": "7957ae8b-1a30-422f-97d2-67f92248bce8",
     "outputs": [
      {
       "name": "stdout",
       "output_type": "stream",
       "text": "Fault colors changed. If you do not like this behavior, set change_color to False.\n[0 0 0 0 0 0 0 0 0 0 0] [0. 0. 0. 0. 0. 0. 0. 0. 0. 0. 0. 0. 0. 0. 0. 0. 0. 0. 0. 0. 0. 0. 0. 0.\n 0. 0. 0. 0. 0. 0. 0. 0. 0. 0. 0. 0. 0. 0. 0. 0. 0. 0. 0. 0. 0. 0. 0. 0.\n 0. 0. 0. 0. 0. 0. 0. 0. 0. 0. 0. 0. 0. 0. 0. 0. 0. 0. 0. 0. 0. 0. 0. 0.\n 0. 0. 0. 0. 0. 0. 0. 0. 0. 0. 0. 0. 0. 0. 0. 0. 0. 0. 0. 0. 0. 0. 0. 0.\n 0. 0. 0. 0. 0. 0. 0. 0. 0. 0. 0. 0. 0. 0. 0. 0. 0. 0. 0. 0. 0. 0. 0. 0.\n 0. 0. 0. 0. 0. 0. 0. 0. 0. 0. 0. 0. 0. 0. 0. 0. 0. 0. 0. 0. 0. 0. 0. 0.\n 0. 0. 0. 0. 0. 0. 0. 0. 0. 0. 0. 0. 0. 0. 0. 0. 0. 0. 0. 0. 0. 0. 0. 0.\n 0. 0. 0. 0. 0. 0. 0. 0. 0. 0. 0. 0. 0. 0. 0. 0. 0. 0. 0. 0. 0. 0. 0. 0.\n 0. 0. 0. 0. 0. 0. 0. 0. 0. 0. 0. 0. 0. 0. 0. 0. 0. 0. 0. 0. 0. 0. 0. 0.\n 0. 0. 0. 0. 0. 0. 0. 0. 0. 0. 0. 0. 0. 0. 0. 0. 0. 0. 0. 0. 0. 0. 0. 0.\n 0. 0. 0. 0. 0. 0. 0. 0. 0. 0. 0. 0. 0. 0. 0. 0. 0. 0. 0. 0. 0. 0. 0. 0.\n 0. 0. 0. 0. 0. 0. 0. 0. 0. 0. 0. 0. 0. 0. 0. 0. 0. 0. 0. 0. 0. 0. 0. 0.\n 0. 0. 0. 0. 0. 0. 0. 0. 0. 0. 0. 0. 0. 0. 0. 0. 0. 0. 0. 0. 0. 0. 0. 0.\n 0. 0. 0. 0. 0. 0. 0. 0. 0. 0. 0. 0. 0. 0. 0. 0. 0. 0. 0. 0. 0. 0. 0. 0.\n 0. 0. 0. 0. 0. 0. 0. 0. 0. 0. 0. 0. 0. 0. 0. 0. 0. 0. 0. 0. 0. 0. 0. 0.\n 0. 0. 0. 0. 0. 0. 0. 0. 0. 0. 0. 0. 0. 0. 0. 0. 0. 0. 0. 0. 0. 0. 0. 0.\n 0. 0. 0. 0. 0. 0. 0. 0. 0. 0. 0. 0. 0. 0. 0. 0. 0. 0. 0. 0. 0. 0. 0. 0.\n 0. 0. 0. 0. 0. 0. 0. 0. 0. 0. 0. 0. 0. 0. 0. 0. 0. 0. 0. 0. 0. 0. 0. 0.\n 0. 0. 0. 0. 0. 0. 0. 0. 0. 0. 0. 0. 0. 0. 0. 0. 0. 0. 0. 0. 0. 0. 0. 0.\n 0. 0. 0. 0. 0. 0. 0. 0. 0. 0. 0. 0. 0. 0. 0. 0. 0. 0. 0. 0. 0. 0. 0. 0.\n 0. 0. 0. 0. 0. 0. 0. 0. 0. 0. 0. 0. 0. 0. 0. 0. 0. 0. 0. 0. 0. 0. 0. 0.\n 0. 0. 0. 0. 0. 0. 0. 0. 0. 0. 0. 0. 0. 0. 0. 0. 0. 0. 0. 0. 0. 0. 0. 0.\n 0. 0. 0. 0. 0. 0. 0. 0. 0. 0. 0. 0. 0. 0. 0. 0. 0. 0. 0. 0. 0. 0. 0. 0.\n 0. 0. 0. 0. 0. 0. 0. 0. 0. 0. 0. 0. 0. 0. 0. 0. 0. 0. 0. 0. 0. 0. 0. 0.\n 0. 0. 0. 0. 0. 0. 0. 0. 0. 0. 0. 0. 0. 0. 0. 0. 0. 0. 0. 0. 0. 0. 0. 0.\n 0. 0. 0. 0. 0. 0. 0. 0. 0. 0. 0. 0. 0. 0. 0. 0. 0. 0. 0. 0. 0. 0. 0. 0.\n 0. 0. 0. 0. 0. 0. 0. 0.]\n[0 0 0 0 0 0 0 0 0 0 0] [0. 0. 0. 0. 0. 0. 0. 0. 0. 0. 0. 0. 0. 0. 0. 0. 0. 0. 0. 0. 0. 0. 0. 0.\n 0. 0. 0. 0. 0. 0. 0. 0. 0. 0. 0. 0. 0. 0. 0. 0. 0. 0. 0. 0. 0. 0. 0. 0.\n 0. 0. 0. 0. 0. 0. 0. 0. 0. 0. 0. 0. 0. 0. 0. 0. 0. 0. 0. 0. 0. 0. 0. 0.\n 0. 0. 0. 0. 0. 0. 0. 0. 0. 0. 0. 0. 0. 0. 0. 0. 0. 0. 0. 0. 0. 0. 0. 0.\n 0. 0. 0. 0. 0. 0. 0. 0. 0. 0. 0. 0. 0. 0. 0. 0. 0. 0. 0. 0. 0. 0. 0. 0.\n 0. 0. 0. 0. 0. 0. 0. 0. 0. 0. 0. 0. 0. 0. 0. 0. 0. 0. 0. 0. 0. 0. 0. 0.\n 0. 0. 0. 0. 0. 0. 0. 0. 0. 0. 0. 0. 0. 0. 0. 0. 0. 0. 0. 0. 0. 0. 0. 0.\n 0. 0. 0. 0. 0. 0. 0. 0. 0. 0. 0. 0. 0. 0. 0. 0. 0. 0. 0. 0. 0. 0. 0. 0.\n 0. 0. 0. 0. 0. 0. 0. 0. 0. 0. 0. 0. 0. 0. 0. 0. 0. 0. 0. 0. 0. 0. 0. 0.\n 0. 0. 0. 0. 0. 0. 0. 0. 0. 0. 0. 0. 0. 0. 0. 0. 0. 0. 0. 0. 0. 0. 0. 0.\n 0. 0. 0. 0. 0. 0. 0. 0. 0. 0. 0. 0. 0. 0. 0. 0. 0. 0. 0. 0. 0. 0. 0. 0.\n 0. 0. 0. 0. 0. 0. 0. 0. 0. 0. 0. 0. 0. 0. 0. 0. 0. 0. 0. 0. 0. 0. 0. 0.\n 0. 0. 0. 0. 0. 0. 0. 0. 0. 0. 0. 0. 0. 0. 0. 0. 0. 0. 0. 0. 0. 0. 0. 0.\n 0. 0. 0. 0. 0. 0. 0. 0. 0. 0. 0. 0. 0. 0. 0. 0. 0. 0. 0. 0. 0. 0. 0. 0.\n 0. 0. 0. 0. 0. 0. 0. 0. 0. 0. 0. 0. 0. 0. 0. 0. 0. 0. 0. 0. 0. 0. 0. 0.\n 0. 0. 0. 0. 0. 0. 0. 0. 0. 0. 0. 0. 0. 0. 0. 0. 0. 0. 0. 0. 0. 0. 0. 0.\n 0. 0. 0. 0. 0. 0. 0. 0. 0. 0. 0. 0. 0. 0. 0. 0. 0. 0. 0. 0. 0. 0. 0. 0.\n 0. 0. 0. 0. 0. 0. 0. 0. 0. 0. 0. 0. 0. 0. 0. 0. 0. 0. 0. 0. 0. 0. 0. 0.\n 0. 0. 0. 0. 0. 0. 0. 0. 0. 0. 0. 0. 0. 0. 0. 0. 0. 0. 0. 0. 0. 0. 0. 0.\n 0. 0. 0. 0. 0. 0. 0. 0. 0. 0. 0. 0. 0. 0. 0. 0. 0. 0. 0. 0. 0. 0. 0. 0.\n 0. 0. 0. 0. 0. 0. 0. 0. 0. 0. 0. 0. 0. 0. 0. 0. 0. 0. 0. 0. 0. 0. 0. 0.\n 0. 0. 0. 0. 0. 0. 0. 0. 0. 0. 0. 0. 0. 0. 0. 0. 0. 0. 0. 0. 0. 0. 0. 0.\n 0. 0. 0. 0. 0. 0. 0. 0. 0. 0. 0. 0. 0. 0. 0. 0. 0. 0. 0. 0. 0. 0. 0. 0.\n 0. 0. 0. 0. 0. 0. 0. 0. 0. 0. 0. 0. 0. 0. 0. 0. 0. 0. 0. 0. 0. 0. 0. 0.\n 0. 0. 0. 0. 0. 0. 0. 0. 0. 0. 0. 0. 0. 0. 0. 0. 0. 0. 0. 0. 0. 0. 0. 0.\n 0. 0. 0. 0. 0. 0. 0. 0. 0. 0. 0. 0. 0. 0. 0. 0. 0. 0. 0. 0. 0. 0. 0. 0.\n 0. 0. 0. 0. 0. 0. 0. 0.]\n[0 0 0 0 0 0 0 0 0 0 0] [0. 0. 0. 0. 0. 0. 0. 0. 0. 0. 0. 0. 0. 0. 0. 0. 0. 0. 0. 0. 0. 0. 0. 0.\n 0. 0. 0. 0. 0. 0. 0. 0. 0. 0. 0. 0. 0. 0. 0. 0. 0. 0. 0. 0. 0. 0. 0. 0.\n 0. 0. 0. 0. 0. 0. 0. 0. 0. 0. 0. 0. 0. 0. 0. 0. 0. 0. 0. 0. 0. 0. 0. 0.\n 0. 0. 0. 0. 0. 0. 0. 0. 0. 0. 0. 0. 0. 0. 0. 0. 0. 0. 0. 0. 0. 0. 0. 0.\n 0. 0. 0. 0. 0. 0. 0. 0. 0. 0. 0. 0. 0. 0. 0. 0. 0. 0. 0. 0. 0. 0. 0. 0.\n 0. 0. 0. 0. 0. 0. 0. 0. 0. 0. 0. 0. 0. 0. 0. 0. 0. 0. 0. 0. 0. 0. 0. 0.\n 0. 0. 0. 0. 0. 0. 0. 0. 0. 0. 0. 0. 0. 0. 0. 0. 0. 0. 0. 0. 0. 0. 0. 0.\n 0. 0. 0. 0. 0. 0. 0. 0. 0. 0. 0. 0. 0. 0. 0. 0. 0. 0. 0. 0. 0. 0. 0. 0.\n 0. 0. 0. 0. 0. 0. 0. 0. 0. 0. 0. 0. 0. 0. 0. 0. 0. 0. 0. 0. 0. 0. 0. 0.\n 0. 0. 0. 0. 0. 0. 0. 0. 0. 0. 0. 0. 0. 0. 0. 0. 0. 0. 0. 0. 0. 0. 0. 0.\n 0. 0. 0. 0. 0. 0. 0. 0. 0. 0. 0. 0. 0. 0. 0. 0. 0. 0. 0. 0. 0. 0. 0. 0.\n 0. 0. 0. 0. 0. 0. 0. 0. 0. 0. 0. 0. 0. 0. 0. 0. 0. 0. 0. 0. 0. 0. 0. 0.\n 0. 0. 0. 0. 0. 0. 0. 0. 0. 0. 0. 0. 0. 0. 0. 0. 0. 0. 0. 0. 0. 0. 0. 0.\n 0. 0. 0. 0. 0. 0. 0. 0. 0. 0. 0. 0. 0. 0. 0. 0. 0. 0. 0. 0. 0. 0. 0. 0.\n 0. 0. 0. 0. 0. 0. 0. 0. 0. 0. 0. 0. 0. 0. 0. 0. 0. 0. 0. 0. 0. 0. 0. 0.\n 0. 0. 0. 0. 0. 0. 0. 0. 0. 0. 0. 0. 0. 0. 0. 0. 0. 0. 0. 0. 0. 0. 0. 0.\n 0. 0. 0. 0. 0. 0. 0. 0. 0. 0. 0. 0. 0. 0. 0. 0. 0. 0. 0. 0. 0. 0. 0. 0.\n 0. 0. 0. 0. 0. 0. 0. 0. 0. 0. 0. 0. 0. 0. 0. 0. 0. 0. 0. 0. 0. 0. 0. 0.\n 0. 0. 0. 0. 0. 0. 0. 0. 0. 0. 0. 0. 0. 0. 0. 0. 0. 0. 0. 0. 0. 0. 0. 0.\n 0. 0. 0. 0. 0. 0. 0. 0. 0. 0. 0. 0. 0. 0. 0. 0. 0. 0. 0. 0. 0. 0. 0. 0.\n 0. 0. 0. 0. 0. 0. 0. 0. 0. 0. 0. 0. 0. 0. 0. 0. 0. 0. 0. 0. 0. 0. 0. 0.\n 0. 0. 0. 0. 0. 0. 0. 0. 0. 0. 0. 0. 0. 0. 0. 0. 0. 0. 0. 0. 0. 0. 0. 0.\n 0. 0. 0. 0. 0. 0. 0. 0. 0. 0. 0. 0. 0. 0. 0. 0. 0. 0. 0. 0. 0. 0. 0. 0.\n 0. 0. 0. 0. 0. 0. 0. 0. 0. 0. 0. 0. 0. 0. 0. 0. 0. 0. 0. 0. 0. 0. 0. 0.\n 0. 0. 0. 0. 0. 0. 0. 0. 0. 0. 0. 0. 0. 0. 0. 0. 0. 0. 0. 0. 0. 0. 0. 0.\n 0. 0. 0. 0. 0. 0. 0. 0. 0. 0. 0. 0. 0. 0. 0. 0. 0. 0. 0. 0. 0. 0. 0. 0.\n 0. 0. 0. 0. 0. 0. 0. 0.]\n[0 0 0 0 0 0 0 0 0 0 0] [0. 0. 0. 0. 0. 0. 0. 0. 0. 0. 0. 0. 0. 0. 0. 0. 0. 0. 0. 0. 0. 0. 0. 0.\n 0. 0. 0. 0. 0. 0. 0. 0. 0. 0. 0. 0. 0. 0. 0. 0. 0. 0. 0. 0. 0. 0. 0. 0.\n 0. 0. 0. 0. 0. 0. 0. 0. 0. 0. 0. 0. 0. 0. 0. 0. 0. 0. 0. 0. 0. 0. 0. 0.\n 0. 0. 0. 0. 0. 0. 0. 0. 0. 0. 0. 0. 0. 0. 0. 0. 0. 0. 0. 0. 0. 0. 0. 0.\n 0. 0. 0. 0. 0. 0. 0. 0. 0. 0. 0. 0. 0. 0. 0. 0. 0. 0. 0. 0. 0. 0. 0. 0.\n 0. 0. 0. 0. 0. 0. 0. 0. 0. 0. 0. 0. 0. 0. 0. 0. 0. 0. 0. 0. 0. 0. 0. 0.\n 0. 0. 0. 0. 0. 0. 0. 0. 0. 0. 0. 0. 0. 0. 0. 0. 0. 0. 0. 0. 0. 0. 0. 0.\n 0. 0. 0. 0. 0. 0. 0. 0. 0. 0. 0. 0. 0. 0. 0. 0. 0. 0. 0. 0. 0. 0. 0. 0.\n 0. 0. 0. 0. 0. 0. 0. 0. 0. 0. 0. 0. 0. 0. 0. 0. 0. 0. 0. 0. 0. 0. 0. 0.\n 0. 0. 0. 0. 0. 0. 0. 0. 0. 0. 0. 0. 0. 0. 0. 0. 0. 0. 0. 0. 0. 0. 0. 0.\n 0. 0. 0. 0. 0. 0. 0. 0. 0. 0. 0. 0. 0. 0. 0. 0. 0. 0. 0. 0. 0. 0. 0. 0.\n 0. 0. 0. 0. 0. 0. 0. 0. 0. 0. 0. 0. 0. 0. 0. 0. 0. 0. 0. 0. 0. 0. 0. 0.\n 0. 0. 0. 0. 0. 0. 0. 0. 0. 0. 0. 0. 0. 0. 0. 0. 0. 0. 0. 0. 0. 0. 0. 0.\n 0. 0. 0. 0. 0. 0. 0. 0. 0. 0. 0. 0. 0. 0. 0. 0. 0. 0. 0. 0. 0. 0. 0. 0.\n 0. 0. 0. 0. 0. 0. 0. 0. 0. 0. 0. 0. 0. 0. 0. 0. 0. 0. 0. 0. 0. 0. 0. 0.\n 0. 0. 0. 0. 0. 0. 0. 0. 0. 0. 0. 0. 0. 0. 0. 0. 0. 0. 0. 0. 0. 0. 0. 0.\n 0. 0. 0. 0. 0. 0. 0. 0. 0. 0. 0. 0. 0. 0. 0. 0. 0. 0. 0. 0. 0. 0. 0. 0.\n 0. 0. 0. 0. 0. 0. 0. 0. 0. 0. 0. 0. 0. 0. 0. 0. 0. 0. 0. 0. 0. 0. 0. 0.\n 0. 0. 0. 0. 0. 0. 0. 0. 0. 0. 0. 0. 0. 0. 0. 0. 0. 0. 0. 0. 0. 0. 0. 0.\n 0. 0. 0. 0. 0. 0. 0. 0. 0. 0. 0. 0. 0. 0. 0. 0. 0. 0. 0. 0. 0. 0. 0. 0.\n 0. 0. 0. 0. 0. 0. 0. 0. 0. 0. 0. 0. 0. 0. 0. 0. 0. 0. 0. 0. 0. 0. 0. 0.\n 0. 0. 0. 0. 0. 0. 0. 0. 0. 0. 0. 0. 0. 0. 0. 0. 0. 0. 0. 0. 0. 0. 0. 0.\n 0. 0. 0. 0. 0. 0. 0. 0. 0. 0. 0. 0. 0. 0. 0. 0. 0. 0. 0. 0. 0. 0. 0. 0.\n 0. 0. 0. 0. 0. 0. 0. 0. 0. 0. 0. 0. 0. 0. 0. 0. 0. 0. 0. 0. 0. 0. 0. 0.\n 0. 0. 0. 0. 0. 0. 0. 0. 0. 0. 0. 0. 0. 0. 0. 0. 0. 0. 0. 0. 0. 0. 0. 0.\n 0. 0. 0. 0. 0. 0. 0. 0. 0. 0. 0. 0. 0. 0. 0. 0. 0. 0. 0. 0. 0. 0. 0. 0.\n 0. 0. 0. 0. 0. 0. 0. 0.]\n[0 0 0 0 0 0 0 0 0 0 0] [0. 0. 0. 0. 0. 0. 0. 0. 0. 0. 0. 0. 0. 0. 0. 0. 0. 0. 0. 0. 0. 0. 0. 0.\n 0. 0. 0. 0. 0. 0. 0. 0. 0. 0. 0. 0. 0. 0. 0. 0. 0. 0. 0. 0. 0. 0. 0. 0.\n 0. 0. 0. 0. 0. 0. 0. 0. 0. 0. 0. 0. 0. 0. 0. 0. 0. 0. 0. 0. 0. 0. 0. 0.\n 0. 0. 0. 0. 0. 0. 0. 0. 0. 0. 0. 0. 0. 0. 0. 0. 0. 0. 0. 0. 0. 0. 0. 0.\n 0. 0. 0. 0. 0. 0. 0. 0. 0. 0. 0. 0. 0. 0. 0. 0. 0. 0. 0. 0. 0. 0. 0. 0.\n 0. 0. 0. 0. 0. 0. 0. 0. 0. 0. 0. 0. 0. 0. 0. 0. 0. 0. 0. 0. 0. 0. 0. 0.\n 0. 0. 0. 0. 0. 0. 0. 0. 0. 0. 0. 0. 0. 0. 0. 0. 0. 0. 0. 0. 0. 0. 0. 0.\n 0. 0. 0. 0. 0. 0. 0. 0. 0. 0. 0. 0. 0. 0. 0. 0. 0. 0. 0. 0. 0. 0. 0. 0.\n 0. 0. 0. 0. 0. 0. 0. 0. 0. 0. 0. 0. 0. 0. 0. 0. 0. 0. 0. 0. 0. 0. 0. 0.\n 0. 0. 0. 0. 0. 0. 0. 0. 0. 0. 0. 0. 0. 0. 0. 0. 0. 0. 0. 0. 0. 0. 0. 0.\n 0. 0. 0. 0. 0. 0. 0. 0. 0. 0. 0. 0. 0. 0. 0. 0. 0. 0. 0. 0. 0. 0. 0. 0.\n 0. 0. 0. 0. 0. 0. 0. 0. 0. 0. 0. 0. 0. 0. 0. 0. 0. 0. 0. 0. 0. 0. 0. 0.\n 0. 0. 0. 0. 0. 0. 0. 0. 0. 0. 0. 0. 0. 0. 0. 0. 0. 0. 0. 0. 0. 0. 0. 0.\n 0. 0. 0. 0. 0. 0. 0. 0. 0. 0. 0. 0. 0. 0. 0. 0. 0. 0. 0. 0. 0. 0. 0. 0.\n 0. 0. 0. 0. 0. 0. 0. 0. 0. 0. 0. 0. 0. 0. 0. 0. 0. 0. 0. 0. 0. 0. 0. 0.\n 0. 0. 0. 0. 0. 0. 0. 0. 0. 0. 0. 0. 0. 0. 0. 0. 0. 0. 0. 0. 0. 0. 0. 0.\n 0. 0. 0. 0. 0. 0. 0. 0. 0. 0. 0. 0. 0. 0. 0. 0. 0. 0. 0. 0. 0. 0. 0. 0.\n 0. 0. 0. 0. 0. 0. 0. 0. 0. 0. 0. 0. 0. 0. 0. 0. 0. 0. 0. 0. 0. 0. 0. 0.\n 0. 0. 0. 0. 0. 0. 0. 0. 0. 0. 0. 0. 0. 0. 0. 0. 0. 0. 0. 0. 0. 0. 0. 0.\n 0. 0. 0. 0. 0. 0. 0. 0. 0. 0. 0. 0. 0. 0. 0. 0. 0. 0. 0. 0. 0. 0. 0. 0.\n 0. 0. 0. 0. 0. 0. 0. 0. 0. 0. 0. 0. 0. 0. 0. 0. 0. 0. 0. 0. 0. 0. 0. 0.\n 0. 0. 0. 0. 0. 0. 0. 0. 0. 0. 0. 0. 0. 0. 0. 0. 0. 0. 0. 0. 0. 0. 0. 0.\n 0. 0. 0. 0. 0. 0. 0. 0. 0. 0. 0. 0. 0. 0. 0. 0. 0. 0. 0. 0. 0. 0. 0. 0.\n 0. 0. 0. 0. 0. 0. 0. 0. 0. 0. 0. 0. 0. 0. 0. 0. 0. 0. 0. 0. 0. 0. 0. 0.\n 0. 0. 0. 0. 0. 0. 0. 0. 0. 0. 0. 0. 0. 0. 0. 0. 0. 0. 0. 0. 0. 0. 0. 0.\n 0. 0. 0. 0. 0. 0. 0. 0. 0. 0. 0. 0. 0. 0. 0. 0. 0. 0. 0. 0. 0. 0. 0. 0.\n 0. 0. 0. 0. 0. 0. 0. 0.]\n[0 0 0 0 0 0 0 0 0 0 0] [0. 0. 0. 0. 0. 0. 0. 0. 0. 0. 0. 0. 0. 0. 0. 0. 0. 0. 0. 0. 0. 0. 0. 0.\n 0. 0. 0. 0. 0. 0. 0. 0. 0. 0. 0. 0. 0. 0. 0. 0. 0. 0. 0. 0. 0. 0. 0. 0.\n 0. 0. 0. 0. 0. 0. 0. 0. 0. 0. 0. 0. 0. 0. 0. 0. 0. 0. 0. 0. 0. 0. 0. 0.\n 0. 0. 0. 0. 0. 0. 0. 0. 0. 0. 0. 0. 0. 0. 0. 0. 0. 0. 0. 0. 0. 0. 0. 0.\n 0. 0. 0. 0. 0. 0. 0. 0. 0. 0. 0. 0. 0. 0. 0. 0. 0. 0. 0. 0. 0. 0. 0. 0.\n 0. 0. 0. 0. 0. 0. 0. 0. 0. 0. 0. 0. 0. 0. 0. 0. 0. 0. 0. 0. 0. 0. 0. 0.\n 0. 0. 0. 0. 0. 0. 0. 0. 0. 0. 0. 0. 0. 0. 0. 0. 0. 0. 0. 0. 0. 0. 0. 0.\n 0. 0. 0. 0. 0. 0. 0. 0. 0. 0. 0. 0. 0. 0. 0. 0. 0. 0. 0. 0. 0. 0. 0. 0.\n 0. 0. 0. 0. 0. 0. 0. 0. 0. 0. 0. 0. 0. 0. 0. 0. 0. 0. 0. 0. 0. 0. 0. 0.\n 0. 0. 0. 0. 0. 0. 0. 0. 0. 0. 0. 0. 0. 0. 0. 0. 0. 0. 0. 0. 0. 0. 0. 0.\n 0. 0. 0. 0. 0. 0. 0. 0. 0. 0. 0. 0. 0. 0. 0. 0. 0. 0. 0. 0. 0. 0. 0. 0.\n 0. 0. 0. 0. 0. 0. 0. 0. 0. 0. 0. 0. 0. 0. 0. 0. 0. 0. 0. 0. 0. 0. 0. 0.\n 0. 0. 0. 0. 0. 0. 0. 0. 0. 0. 0. 0. 0. 0. 0. 0. 0. 0. 0. 0. 0. 0. 0. 0.\n 0. 0. 0. 0. 0. 0. 0. 0. 0. 0. 0. 0. 0. 0. 0. 0. 0. 0. 0. 0. 0. 0. 0. 0.\n 0. 0. 0. 0. 0. 0. 0. 0. 0. 0. 0. 0. 0. 0. 0. 0. 0. 0. 0. 0. 0. 0. 0. 0.\n 0. 0. 0. 0. 0. 0. 0. 0. 0. 0. 0. 0. 0. 0. 0. 0. 0. 0. 0. 0. 0. 0. 0. 0.\n 0. 0. 0. 0. 0. 0. 0. 0. 0. 0. 0. 0. 0. 0. 0. 0. 0. 0. 0. 0. 0. 0. 0. 0.\n 0. 0. 0. 0. 0. 0. 0. 0. 0. 0. 0. 0. 0. 0. 0. 0. 0. 0. 0. 0. 0. 0. 0. 0.\n 0. 0. 0. 0. 0. 0. 0. 0. 0. 0. 0. 0. 0. 0. 0. 0. 0. 0. 0. 0. 0. 0. 0. 0.\n 0. 0. 0. 0. 0. 0. 0. 0. 0. 0. 0. 0. 0. 0. 0. 0. 0. 0. 0. 0. 0. 0. 0. 0.\n 0. 0. 0. 0. 0. 0. 0. 0. 0. 0. 0. 0. 0. 0. 0. 0. 0. 0. 0. 0. 0. 0. 0. 0.\n 0. 0. 0. 0. 0. 0. 0. 0. 0. 0. 0. 0. 0. 0. 0. 0. 0. 0. 0. 0. 0. 0. 0. 0.\n 0. 0. 0. 0. 0. 0. 0. 0. 0. 0. 0. 0. 0. 0. 0. 0. 0. 0. 0. 0. 0. 0. 0. 0.\n 0. 0. 0. 0. 0. 0. 0. 0. 0. 0. 0. 0. 0. 0. 0. 0. 0. 0. 0. 0. 0. 0. 0. 0.\n 0. 0. 0. 0. 0. 0. 0. 0. 0. 0. 0. 0. 0. 0. 0. 0. 0. 0. 0. 0. 0. 0. 0. 0.\n 0. 0. 0. 0. 0. 0. 0. 0. 0. 0. 0. 0. 0. 0. 0. 0. 0. 0. 0. 0. 0. 0. 0. 0.\n 0. 0. 0. 0. 0. 0. 0. 0.]\n[0 0 0 0 0 0 0 0 0 0 0] [0. 0. 0. 0. 0. 0. 0. 0. 0. 0. 0. 0. 0. 0. 0. 0. 0. 0. 0. 0. 0. 0. 0. 0.\n 0. 0. 0. 0. 0. 0. 0. 0. 0. 0. 0. 0. 0. 0. 0. 0. 0. 0. 0. 0. 0. 0. 0. 0.\n 0. 0. 0. 0. 0. 0. 0. 0. 0. 0. 0. 0. 0. 0. 0. 0. 0. 0. 0. 0. 0. 0. 0. 0.\n 0. 0. 0. 0. 0. 0. 0. 0. 0. 0. 0. 0. 0. 0. 0. 0. 0. 0. 0. 0. 0. 0. 0. 0.\n 0. 0. 0. 0. 0. 0. 0. 0. 0. 0. 0. 0. 0. 0. 0. 0. 0. 0. 0. 0. 0. 0. 0. 0.\n 0. 0. 0. 0. 0. 0. 0. 0. 0. 0. 0. 0. 0. 0. 0. 0. 0. 0. 0. 0. 0. 0. 0. 0.\n 0. 0. 0. 0. 0. 0. 0. 0. 0. 0. 0. 0. 0. 0. 0. 0. 0. 0. 0. 0. 0. 0. 0. 0.\n 0. 0. 0. 0. 0. 0. 0. 0. 0. 0. 0. 0. 0. 0. 0. 0. 0. 0. 0. 0. 0. 0. 0. 0.\n 0. 0. 0. 0. 0. 0. 0. 0. 0. 0. 0. 0. 0. 0. 0. 0. 0. 0. 0. 0. 0. 0. 0. 0.\n 0. 0. 0. 0. 0. 0. 0. 0. 0. 0. 0. 0. 0. 0. 0. 0. 0. 0. 0. 0. 0. 0. 0. 0.\n 0. 0. 0. 0. 0. 0. 0. 0. 0. 0. 0. 0. 0. 0. 0. 0. 0. 0. 0. 0. 0. 0. 0. 0.\n 0. 0. 0. 0. 0. 0. 0. 0. 0. 0. 0. 0. 0. 0. 0. 0. 0. 0. 0. 0. 0. 0. 0. 0.\n 0. 0. 0. 0. 0. 0. 0. 0. 0. 0. 0. 0. 0. 0. 0. 0. 0. 0. 0. 0. 0. 0. 0. 0.\n 0. 0. 0. 0. 0. 0. 0. 0. 0. 0. 0. 0. 0. 0. 0. 0. 0. 0. 0. 0. 0. 0. 0. 0.\n 0. 0. 0. 0. 0. 0. 0. 0. 0. 0. 0. 0. 0. 0. 0. 0. 0. 0. 0. 0. 0. 0. 0. 0.\n 0. 0. 0. 0. 0. 0. 0. 0. 0. 0. 0. 0. 0. 0. 0. 0. 0. 0. 0. 0. 0. 0. 0. 0.\n 0. 0. 0. 0. 0. 0. 0. 0. 0. 0. 0. 0. 0. 0. 0. 0. 0. 0. 0. 0. 0. 0. 0. 0.\n 0. 0. 0. 0. 0. 0. 0. 0. 0. 0. 0. 0. 0. 0. 0. 0. 0. 0. 0. 0. 0. 0. 0. 0.\n 0. 0. 0. 0. 0. 0. 0. 0. 0. 0. 0. 0. 0. 0. 0. 0. 0. 0. 0. 0. 0. 0. 0. 0.\n 0. 0. 0. 0. 0. 0. 0. 0. 0. 0. 0. 0. 0. 0. 0. 0. 0. 0. 0. 0. 0. 0. 0. 0.\n 0. 0. 0. 0. 0. 0. 0. 0. 0. 0. 0. 0. 0. 0. 0. 0. 0. 0. 0. 0. 0. 0. 0. 0.\n 0. 0. 0. 0. 0. 0. 0. 0. 0. 0. 0. 0. 0. 0. 0. 0. 0. 0. 0. 0. 0. 0. 0. 0.\n 0. 0. 0. 0. 0. 0. 0. 0. 0. 0. 0. 0. 0. 0. 0. 0. 0. 0. 0. 0. 0. 0. 0. 0.\n 0. 0. 0. 0. 0. 0. 0. 0. 0. 0. 0. 0. 0. 0. 0. 0. 0. 0. 0. 0. 0. 0. 0. 0.\n 0. 0. 0. 0. 0. 0. 0. 0. 0. 0. 0. 0. 0. 0. 0. 0. 0. 0. 0. 0. 0. 0. 0. 0.\n 0. 0. 0. 0. 0. 0. 0. 0. 0. 0. 0. 0. 0. 0. 0. 0. 0. 0. 0. 0. 0. 0. 0. 0.\n 0. 0. 0. 0. 0. 0. 0. 0.]\n[0 0 0 0 0 0 0 0 0 0 0] [0. 0. 0. 0. 0. 0. 0. 0. 0. 0. 0. 0. 0. 0. 0. 0. 0. 0. 0. 0. 0. 0. 0. 0.\n 0. 0. 0. 0. 0. 0. 0. 0. 0. 0. 0. 0. 0. 0. 0. 0. 0. 0. 0. 0. 0. 0. 0. 0.\n 0. 0. 0. 0. 0. 0. 0. 0. 0. 0. 0. 0. 0. 0. 0. 0. 0. 0. 0. 0. 0. 0. 0. 0.\n 0. 0. 0. 0. 0. 0. 0. 0. 0. 0. 0. 0. 0. 0. 0. 0. 0. 0. 0. 0. 0. 0. 0. 0.\n 0. 0. 0. 0. 0. 0. 0. 0. 0. 0. 0. 0. 0. 0. 0. 0. 0. 0. 0. 0. 0. 0. 0. 0.\n 0. 0. 0. 0. 0. 0. 0. 0. 0. 0. 0. 0. 0. 0. 0. 0. 0. 0. 0. 0. 0. 0. 0. 0.\n 0. 0. 0. 0. 0. 0. 0. 0. 0. 0. 0. 0. 0. 0. 0. 0. 0. 0. 0. 0. 0. 0. 0. 0.\n 0. 0. 0. 0. 0. 0. 0. 0. 0. 0. 0. 0. 0. 0. 0. 0. 0. 0. 0. 0. 0. 0. 0. 0.\n 0. 0. 0. 0. 0. 0. 0. 0. 0. 0. 0. 0. 0. 0. 0. 0. 0. 0. 0. 0. 0. 0. 0. 0.\n 0. 0. 0. 0. 0. 0. 0. 0. 0. 0. 0. 0. 0. 0. 0. 0. 0. 0. 0. 0. 0. 0. 0. 0.\n 0. 0. 0. 0. 0. 0. 0. 0. 0. 0. 0. 0. 0. 0. 0. 0. 0. 0. 0. 0. 0. 0. 0. 0.\n 0. 0. 0. 0. 0. 0. 0. 0. 0. 0. 0. 0. 0. 0. 0. 0. 0. 0. 0. 0. 0. 0. 0. 0.\n 0. 0. 0. 0. 0. 0. 0. 0. 0. 0. 0. 0. 0. 0. 0. 0. 0. 0. 0. 0. 0. 0. 0. 0.\n 0. 0. 0. 0. 0. 0. 0. 0. 0. 0. 0. 0. 0. 0. 0. 0. 0. 0. 0. 0. 0. 0. 0. 0.\n 0. 0. 0. 0. 0. 0. 0. 0. 0. 0. 0. 0. 0. 0. 0. 0. 0. 0. 0. 0. 0. 0. 0. 0.\n 0. 0. 0. 0. 0. 0. 0. 0. 0. 0. 0. 0. 0. 0. 0. 0. 0. 0. 0. 0. 0. 0. 0. 0.\n 0. 0. 0. 0. 0. 0. 0. 0. 0. 0. 0. 0. 0. 0. 0. 0. 0. 0. 0. 0. 0. 0. 0. 0.\n 0. 0. 0. 0. 0. 0. 0. 0. 0. 0. 0. 0. 0. 0. 0. 0. 0. 0. 0. 0. 0. 0. 0. 0.\n 0. 0. 0. 0. 0. 0. 0. 0. 0. 0. 0. 0. 0. 0. 0. 0. 0. 0. 0. 0. 0. 0. 0. 0.\n 0. 0. 0. 0. 0. 0. 0. 0. 0. 0. 0. 0. 0. 0. 0. 0. 0. 0. 0. 0. 0. 0. 0. 0.\n 0. 0. 0. 0. 0. 0. 0. 0. 0. 0. 0. 0. 0. 0. 0. 0. 0. 0. 0. 0. 0. 0. 0. 0.\n 0. 0. 0. 0. 0. 0. 0. 0. 0. 0. 0. 0. 0. 0. 0. 0. 0. 0. 0. 0. 0. 0. 0. 0.\n 0. 0. 0. 0. 0. 0. 0. 0. 0. 0. 0. 0. 0. 0. 0. 0. 0. 0. 0. 0. 0. 0. 0. 0.\n 0. 0. 0. 0. 0. 0. 0. 0. 0. 0. 0. 0. 0. 0. 0. 0. 0. 0. 0. 0. 0. 0. 0. 0.\n 0. 0. 0. 0. 0. 0. 0. 0. 0. 0. 0. 0. 0. 0. 0. 0. 0. 0. 0. 0. 0. 0. 0. 0.\n 0. 0. 0. 0. 0. 0. 0. 0. 0. 0. 0. 0. 0. 0. 0. 0. 0. 0. 0. 0. 0. 0. 0. 0.\n 0. 0. 0. 0. 0. 0. 0. 0.]\n[0 0 0 0 0 0 0 0 0 0 0] [0. 0. 0. 0. 0. 0. 0. 0. 0. 0. 0. 0. 0. 0. 0. 0. 0. 0. 0. 0. 0. 0. 0. 0.\n 0. 0. 0. 0. 0. 0. 0. 0. 0. 0. 0. 0. 0. 0. 0. 0. 0. 0. 0. 0. 0. 0. 0. 0.\n 0. 0. 0. 0. 0. 0. 0. 0. 0. 0. 0. 0. 0. 0. 0. 0. 0. 0. 0. 0. 0. 0. 0. 0.\n 0. 0. 0. 0. 0. 0. 0. 0. 0. 0. 0. 0. 0. 0. 0. 0. 0. 0. 0. 0. 0. 0. 0. 0.\n 0. 0. 0. 0. 0. 0. 0. 0. 0. 0. 0. 0. 0. 0. 0. 0. 0. 0. 0. 0. 0. 0. 0. 0.\n 0. 0. 0. 0. 0. 0. 0. 0. 0. 0. 0. 0. 0. 0. 0. 0. 0. 0. 0. 0. 0. 0. 0. 0.\n 0. 0. 0. 0. 0. 0. 0. 0. 0. 0. 0. 0. 0. 0. 0. 0. 0. 0. 0. 0. 0. 0. 0. 0.\n 0. 0. 0. 0. 0. 0. 0. 0. 0. 0. 0. 0. 0. 0. 0. 0. 0. 0. 0. 0. 0. 0. 0. 0.\n 0. 0. 0. 0. 0. 0. 0. 0. 0. 0. 0. 0. 0. 0. 0. 0. 0. 0. 0. 0. 0. 0. 0. 0.\n 0. 0. 0. 0. 0. 0. 0. 0. 0. 0. 0. 0. 0. 0. 0. 0. 0. 0. 0. 0. 0. 0. 0. 0.\n 0. 0. 0. 0. 0. 0. 0. 0. 0. 0. 0. 0. 0. 0. 0. 0. 0. 0. 0. 0. 0. 0. 0. 0.\n 0. 0. 0. 0. 0. 0. 0. 0. 0. 0. 0. 0. 0. 0. 0. 0. 0. 0. 0. 0. 0. 0. 0. 0.\n 0. 0. 0. 0. 0. 0. 0. 0. 0. 0. 0. 0. 0. 0. 0. 0. 0. 0. 0. 0. 0. 0. 0. 0.\n 0. 0. 0. 0. 0. 0. 0. 0. 0. 0. 0. 0. 0. 0. 0. 0. 0. 0. 0. 0. 0. 0. 0. 0.\n 0. 0. 0. 0. 0. 0. 0. 0. 0. 0. 0. 0. 0. 0. 0. 0. 0. 0. 0. 0. 0. 0. 0. 0.\n 0. 0. 0. 0. 0. 0. 0. 0. 0. 0. 0. 0. 0. 0. 0. 0. 0. 0. 0. 0. 0. 0. 0. 0.\n 0. 0. 0. 0. 0. 0. 0. 0. 0. 0. 0. 0. 0. 0. 0. 0. 0. 0. 0. 0. 0. 0. 0. 0.\n 0. 0. 0. 0. 0. 0. 0. 0. 0. 0. 0. 0. 0. 0. 0. 0. 0. 0. 0. 0. 0. 0. 0. 0.\n 0. 0. 0. 0. 0. 0. 0. 0. 0. 0. 0. 0. 0. 0. 0. 0. 0. 0. 0. 0. 0. 0. 0. 0.\n 0. 0. 0. 0. 0. 0. 0. 0. 0. 0. 0. 0. 0. 0. 0. 0. 0. 0. 0. 0. 0. 0. 0. 0.\n 0. 0. 0. 0. 0. 0. 0. 0. 0. 0. 0. 0. 0. 0. 0. 0. 0. 0. 0. 0. 0. 0. 0. 0.\n 0. 0. 0. 0. 0. 0. 0. 0. 0. 0. 0. 0. 0. 0. 0. 0. 0. 0. 0. 0. 0. 0. 0. 0.\n 0. 0. 0. 0. 0. 0. 0. 0. 0. 0. 0. 0. 0. 0. 0. 0. 0. 0. 0. 0. 0. 0. 0. 0.\n 0. 0. 0. 0. 0. 0. 0. 0. 0. 0. 0. 0. 0. 0. 0. 0. 0. 0. 0. 0. 0. 0. 0. 0.\n 0. 0. 0. 0. 0. 0. 0. 0. 0. 0. 0. 0. 0. 0. 0. 0. 0. 0. 0. 0. 0. 0. 0. 0.\n 0. 0. 0. 0. 0. 0. 0. 0. 0. 0. 0. 0. 0. 0. 0. 0. 0. 0. 0. 0. 0. 0. 0. 0.\n 0. 0. 0. 0. 0. 0. 0. 0.]\n[0 0 0 0 0 0 0 0 0 0 0] [0. 0. 0. 0. 0. 0. 0. 0. 0. 0. 0. 0. 0. 0. 0. 0. 0. 0. 0. 0. 0. 0. 0. 0.\n 0. 0. 0. 0. 0. 0. 0. 0. 0. 0. 0. 0. 0. 0. 0. 0. 0. 0. 0. 0. 0. 0. 0. 0.\n 0. 0. 0. 0. 0. 0. 0. 0. 0. 0. 0. 0. 0. 0. 0. 0. 0. 0. 0. 0. 0. 0. 0. 0.\n 0. 0. 0. 0. 0. 0. 0. 0. 0. 0. 0. 0. 0. 0. 0. 0. 0. 0. 0. 0. 0. 0. 0. 0.\n 0. 0. 0. 0. 0. 0. 0. 0. 0. 0. 0. 0. 0. 0. 0. 0. 0. 0. 0. 0. 0. 0. 0. 0.\n 0. 0. 0. 0. 0. 0. 0. 0. 0. 0. 0. 0. 0. 0. 0. 0. 0. 0. 0. 0. 0. 0. 0. 0.\n 0. 0. 0. 0. 0. 0. 0. 0. 0. 0. 0. 0. 0. 0. 0. 0. 0. 0. 0. 0. 0. 0. 0. 0.\n 0. 0. 0. 0. 0. 0. 0. 0. 0. 0. 0. 0. 0. 0. 0. 0. 0. 0. 0. 0. 0. 0. 0. 0.\n 0. 0. 0. 0. 0. 0. 0. 0. 0. 0. 0. 0. 0. 0. 0. 0. 0. 0. 0. 0. 0. 0. 0. 0.\n 0. 0. 0. 0. 0. 0. 0. 0. 0. 0. 0. 0. 0. 0. 0. 0. 0. 0. 0. 0. 0. 0. 0. 0.\n 0. 0. 0. 0. 0. 0. 0. 0. 0. 0. 0. 0. 0. 0. 0. 0. 0. 0. 0. 0. 0. 0. 0. 0.\n 0. 0. 0. 0. 0. 0. 0. 0. 0. 0. 0. 0. 0. 0. 0. 0. 0. 0. 0. 0. 0. 0. 0. 0.\n 0. 0. 0. 0. 0. 0. 0. 0. 0. 0. 0. 0. 0. 0. 0. 0. 0. 0. 0. 0. 0. 0. 0. 0.\n 0. 0. 0. 0. 0. 0. 0. 0. 0. 0. 0. 0. 0. 0. 0. 0. 0. 0. 0. 0. 0. 0. 0. 0.\n 0. 0. 0. 0. 0. 0. 0. 0. 0. 0. 0. 0. 0. 0. 0. 0. 0. 0. 0. 0. 0. 0. 0. 0.\n 0. 0. 0. 0. 0. 0. 0. 0. 0. 0. 0. 0. 0. 0. 0. 0. 0. 0. 0. 0. 0. 0. 0. 0.\n 0. 0. 0. 0. 0. 0. 0. 0. 0. 0. 0. 0. 0. 0. 0. 0. 0. 0. 0. 0. 0. 0. 0. 0.\n 0. 0. 0. 0. 0. 0. 0. 0. 0. 0. 0. 0. 0. 0. 0. 0. 0. 0. 0. 0. 0. 0. 0. 0.\n 0. 0. 0. 0. 0. 0. 0. 0. 0. 0. 0. 0. 0. 0. 0. 0. 0. 0. 0. 0. 0. 0. 0. 0.\n 0. 0. 0. 0. 0. 0. 0. 0. 0. 0. 0. 0. 0. 0. 0. 0. 0. 0. 0. 0. 0. 0. 0. 0.\n 0. 0. 0. 0. 0. 0. 0. 0. 0. 0. 0. 0. 0. 0. 0. 0. 0. 0. 0. 0. 0. 0. 0. 0.\n 0. 0. 0. 0. 0. 0. 0. 0. 0. 0. 0. 0. 0. 0. 0. 0. 0. 0. 0. 0. 0. 0. 0. 0.\n 0. 0. 0. 0. 0. 0. 0. 0. 0. 0. 0. 0. 0. 0. 0. 0. 0. 0. 0. 0. 0. 0. 0. 0.\n 0. 0. 0. 0. 0. 0. 0. 0. 0. 0. 0. 0. 0. 0. 0. 0. 0. 0. 0. 0. 0. 0. 0. 0.\n 0. 0. 0. 0. 0. 0. 0. 0. 0. 0. 0. 0. 0. 0. 0. 0. 0. 0. 0. 0. 0. 0. 0. 0.\n 0. 0. 0. 0. 0. 0. 0. 0. 0. 0. 0. 0. 0. 0. 0. 0. 0. 0. 0. 0. 0. 0. 0. 0.\n 0. 0. 0. 0. 0. 0. 0. 0.]\n[0 0 0 0 0 0 0 0 0 0 0] [0. 0. 0. 0. 0. 0. 0. 0. 0. 0. 0. 0. 0. 0. 0. 0. 0. 0. 0. 0. 0. 0. 0. 0.\n 0. 0. 0. 0. 0. 0. 0. 0. 0. 0. 0. 0. 0. 0. 0. 0. 0. 0. 0. 0. 0. 0. 0. 0.\n 0. 0. 0. 0. 0. 0. 0. 0. 0. 0. 0. 0. 0. 0. 0. 0. 0. 0. 0. 0. 0. 0. 0. 0.\n 0. 0. 0. 0. 0. 0. 0. 0. 0. 0. 0. 0. 0. 0. 0. 0. 0. 0. 0. 0. 0. 0. 0. 0.\n 0. 0. 0. 0. 0. 0. 0. 0. 0. 0. 0. 0. 0. 0. 0. 0. 0. 0. 0. 0. 0. 0. 0. 0.\n 0. 0. 0. 0. 0. 0. 0. 0. 0. 0. 0. 0. 0. 0. 0. 0. 0. 0. 0. 0. 0. 0. 0. 0.\n 0. 0. 0. 0. 0. 0. 0. 0. 0. 0. 0. 0. 0. 0. 0. 0. 0. 0. 0. 0. 0. 0. 0. 0.\n 0. 0. 0. 0. 0. 0. 0. 0. 0. 0. 0. 0. 0. 0. 0. 0. 0. 0. 0. 0. 0. 0. 0. 0.\n 0. 0. 0. 0. 0. 0. 0. 0. 0. 0. 0. 0. 0. 0. 0. 0. 0. 0. 0. 0. 0. 0. 0. 0.\n 0. 0. 0. 0. 0. 0. 0. 0. 0. 0. 0. 0. 0. 0. 0. 0. 0. 0. 0. 0. 0. 0. 0. 0.\n 0. 0. 0. 0. 0. 0. 0. 0. 0. 0. 0. 0. 0. 0. 0. 0. 0. 0. 0. 0. 0. 0. 0. 0.\n 0. 0. 0. 0. 0. 0. 0. 0. 0. 0. 0. 0. 0. 0. 0. 0. 0. 0. 0. 0. 0. 0. 0. 0.\n 0. 0. 0. 0. 0. 0. 0. 0. 0. 0. 0. 0. 0. 0. 0. 0. 0. 0. 0. 0. 0. 0. 0. 0.\n 0. 0. 0. 0. 0. 0. 0. 0. 0. 0. 0. 0. 0. 0. 0. 0. 0. 0. 0. 0. 0. 0. 0. 0.\n 0. 0. 0. 0. 0. 0. 0. 0. 0. 0. 0. 0. 0. 0. 0. 0. 0. 0. 0. 0. 0. 0. 0. 0.\n 0. 0. 0. 0. 0. 0. 0. 0. 0. 0. 0. 0. 0. 0. 0. 0. 0. 0. 0. 0. 0. 0. 0. 0.\n 0. 0. 0. 0. 0. 0. 0. 0. 0. 0. 0. 0. 0. 0. 0. 0. 0. 0. 0. 0. 0. 0. 0. 0.\n 0. 0. 0. 0. 0. 0. 0. 0. 0. 0. 0. 0. 0. 0. 0. 0. 0. 0. 0. 0. 0. 0. 0. 0.\n 0. 0. 0. 0. 0. 0. 0. 0. 0. 0. 0. 0. 0. 0. 0. 0. 0. 0. 0. 0. 0. 0. 0. 0.\n 0. 0. 0. 0. 0. 0. 0. 0. 0. 0. 0. 0. 0. 0. 0. 0. 0. 0. 0. 0. 0. 0. 0. 0.\n 0. 0. 0. 0. 0. 0. 0. 0. 0. 0. 0. 0. 0. 0. 0. 0. 0. 0. 0. 0. 0. 0. 0. 0.\n 0. 0. 0. 0. 0. 0. 0. 0. 0. 0. 0. 0. 0. 0. 0. 0. 0. 0. 0. 0. 0. 0. 0. 0.\n 0. 0. 0. 0. 0. 0. 0. 0. 0. 0. 0. 0. 0. 0. 0. 0. 0. 0. 0. 0. 0. 0. 0. 0.\n 0. 0. 0. 0. 0. 0. 0. 0. 0. 0. 0. 0. 0. 0. 0. 0. 0. 0. 0. 0. 0. 0. 0. 0.\n 0. 0. 0. 0. 0. 0. 0. 0. 0. 0. 0. 0. 0. 0. 0. 0. 0. 0. 0. 0. 0. 0. 0. 0.\n 0. 0. 0. 0. 0. 0. 0. 0. 0. 0. 0. 0. 0. 0. 0. 0. 0. 0. 0. 0. 0. 0. 0. 0.\n 0. 0. 0. 0. 0. 0. 0. 0.]\n"
      }
     ],
     "persistentId": "947b25c4-e155-47fe-8adf-d4c6bbc870c7",
     "text": "# Set Faults\ngeo_model.set_is_fault(['Fault1_series','Fault7_series','Fault6_series',\n                        'Fault2_series', 'Fault5_series', 'Fault3_series', 'Fault4_series']);\n#geo_model.set_is_finite_fault(series_fault=['Fault1_series', 'Fault7_series', 'Fault6_series', \n#                                            'Fault5_series', 'Fault3_series', 'Fault4_series'],\n#                              toggle=True)\n"
    },
    "executionTime": "2020-01-09T13:48:22.598Z"
   },
   {
    "cell": {
     "executionCount": 9,
     "executionEventId": "0322604e-1169-45d9-a285-9830d86b7011",
     "hasError": false,
     "id": "7957ae8b-1a30-422f-97d2-67f92248bce8",
     "outputs": [
      {
       "name": "stdout",
       "output_type": "stream",
       "text": "Fault colors changed. If you do not like this behavior, set change_color to False.\n[0 0 0 0 0 0 0 0 0 0 0] [0. 0. 0. 0. 0. 0. 0. 0. 0. 0. 0. 0. 0. 0. 0. 0. 0. 0. 0. 0. 0. 0. 0. 0.\n 0. 0. 0. 0. 0. 0. 0. 0. 0. 0. 0. 0. 0. 0. 0. 0. 0. 0. 0. 0. 0. 0. 0. 0.\n 0. 0. 0. 0. 0. 0. 0. 0. 0. 0. 0. 0. 0. 0. 0. 0. 0. 0. 0. 0. 0. 0. 0. 0.\n 0. 0. 0. 0. 0. 0. 0. 0. 0. 0. 0. 0. 0. 0. 0. 0. 0. 0. 0. 0. 0. 0. 0. 0.\n 0. 0. 0. 0. 0. 0. 0. 0. 0. 0. 0. 0. 0. 0. 0. 0. 0. 0. 0. 0. 0. 0. 0. 0.\n 0. 0. 0. 0. 0. 0. 0. 0. 0. 0. 0. 0. 0. 0. 0. 0. 0. 0. 0. 0. 0. 0. 0. 0.\n 0. 0. 0. 0. 0. 0. 0. 0. 0. 0. 0. 0. 0. 0. 0. 0. 0. 0. 0. 0. 0. 0. 0. 0.\n 0. 0. 0. 0. 0. 0. 0. 0. 0. 0. 0. 0. 0. 0. 0. 0. 0. 0. 0. 0. 0. 0. 0. 0.\n 0. 0. 0. 0. 0. 0. 0. 0. 0. 0. 0. 0. 0. 0. 0. 0. 0. 0. 0. 0. 0. 0. 0. 0.\n 0. 0. 0. 0. 0. 0. 0. 0. 0. 0. 0. 0. 0. 0. 0. 0. 0. 0. 0. 0. 0. 0. 0. 0.\n 0. 0. 0. 0. 0. 0. 0. 0. 0. 0. 0. 0. 0. 0. 0. 0. 0. 0. 0. 0. 0. 0. 0. 0.\n 0. 0. 0. 0. 0. 0. 0. 0. 0. 0. 0. 0. 0. 0. 0. 0. 0. 0. 0. 0. 0. 0. 0. 0.\n 0. 0. 0. 0. 0. 0. 0. 0. 0. 0. 0. 0. 0. 0. 0. 0. 0. 0. 0. 0. 0. 0. 0. 0.\n 0. 0. 0. 0. 0. 0. 0. 0. 0. 0. 0. 0. 0. 0. 0. 0. 0. 0. 0. 0. 0. 0. 0. 0.\n 0. 0. 0. 0. 0. 0. 0. 0. 0. 0. 0. 0. 0. 0. 0. 0. 0. 0. 0. 0. 0. 0. 0. 0.\n 0. 0. 0. 0. 0. 0. 0. 0. 0. 0. 0. 0. 0. 0. 0. 0. 0. 0. 0. 0. 0. 0. 0. 0.\n 0. 0. 0. 0. 0. 0. 0. 0. 0. 0. 0. 0. 0. 0. 0. 0. 0. 0. 0. 0. 0. 0. 0. 0.\n 0. 0. 0. 0. 0. 0. 0. 0. 0. 0. 0. 0. 0. 0. 0. 0. 0. 0. 0. 0. 0. 0. 0. 0.\n 0. 0. 0. 0. 0. 0. 0. 0. 0. 0. 0. 0. 0. 0. 0. 0. 0. 0. 0. 0. 0. 0. 0. 0.\n 0. 0. 0. 0. 0. 0. 0. 0. 0. 0. 0. 0. 0. 0. 0. 0. 0. 0. 0. 0. 0. 0. 0. 0.\n 0. 0. 0. 0. 0. 0. 0. 0. 0. 0. 0. 0. 0. 0. 0. 0. 0. 0. 0. 0. 0. 0. 0. 0.\n 0. 0. 0. 0. 0. 0. 0. 0. 0. 0. 0. 0. 0. 0. 0. 0. 0. 0. 0. 0. 0. 0. 0. 0.\n 0. 0. 0. 0. 0. 0. 0. 0. 0. 0. 0. 0. 0. 0. 0. 0. 0. 0. 0. 0. 0. 0. 0. 0.\n 0. 0. 0. 0. 0. 0. 0. 0. 0. 0. 0. 0. 0. 0. 0. 0. 0. 0. 0. 0. 0. 0. 0. 0.\n 0. 0. 0. 0. 0. 0. 0. 0. 0. 0. 0. 0. 0. 0. 0. 0. 0. 0. 0. 0. 0. 0. 0. 0.\n 0. 0. 0. 0. 0. 0. 0. 0. 0. 0. 0. 0. 0. 0. 0. 0. 0. 0. 0. 0. 0. 0. 0. 0.\n 0. 0. 0. 0. 0. 0. 0. 0.]\n[0 0 0 0 0 0 0 0 0 0 0] [0. 0. 0. 0. 0. 0. 0. 0. 0. 0. 0. 0. 0. 0. 0. 0. 0. 0. 0. 0. 0. 0. 0. 0.\n 0. 0. 0. 0. 0. 0. 0. 0. 0. 0. 0. 0. 0. 0. 0. 0. 0. 0. 0. 0. 0. 0. 0. 0.\n 0. 0. 0. 0. 0. 0. 0. 0. 0. 0. 0. 0. 0. 0. 0. 0. 0. 0. 0. 0. 0. 0. 0. 0.\n 0. 0. 0. 0. 0. 0. 0. 0. 0. 0. 0. 0. 0. 0. 0. 0. 0. 0. 0. 0. 0. 0. 0. 0.\n 0. 0. 0. 0. 0. 0. 0. 0. 0. 0. 0. 0. 0. 0. 0. 0. 0. 0. 0. 0. 0. 0. 0. 0.\n 0. 0. 0. 0. 0. 0. 0. 0. 0. 0. 0. 0. 0. 0. 0. 0. 0. 0. 0. 0. 0. 0. 0. 0.\n 0. 0. 0. 0. 0. 0. 0. 0. 0. 0. 0. 0. 0. 0. 0. 0. 0. 0. 0. 0. 0. 0. 0. 0.\n 0. 0. 0. 0. 0. 0. 0. 0. 0. 0. 0. 0. 0. 0. 0. 0. 0. 0. 0. 0. 0. 0. 0. 0.\n 0. 0. 0. 0. 0. 0. 0. 0. 0. 0. 0. 0. 0. 0. 0. 0. 0. 0. 0. 0. 0. 0. 0. 0.\n 0. 0. 0. 0. 0. 0. 0. 0. 0. 0. 0. 0. 0. 0. 0. 0. 0. 0. 0. 0. 0. 0. 0. 0.\n 0. 0. 0. 0. 0. 0. 0. 0. 0. 0. 0. 0. 0. 0. 0. 0. 0. 0. 0. 0. 0. 0. 0. 0.\n 0. 0. 0. 0. 0. 0. 0. 0. 0. 0. 0. 0. 0. 0. 0. 0. 0. 0. 0. 0. 0. 0. 0. 0.\n 0. 0. 0. 0. 0. 0. 0. 0. 0. 0. 0. 0. 0. 0. 0. 0. 0. 0. 0. 0. 0. 0. 0. 0.\n 0. 0. 0. 0. 0. 0. 0. 0. 0. 0. 0. 0. 0. 0. 0. 0. 0. 0. 0. 0. 0. 0. 0. 0.\n 0. 0. 0. 0. 0. 0. 0. 0. 0. 0. 0. 0. 0. 0. 0. 0. 0. 0. 0. 0. 0. 0. 0. 0.\n 0. 0. 0. 0. 0. 0. 0. 0. 0. 0. 0. 0. 0. 0. 0. 0. 0. 0. 0. 0. 0. 0. 0. 0.\n 0. 0. 0. 0. 0. 0. 0. 0. 0. 0. 0. 0. 0. 0. 0. 0. 0. 0. 0. 0. 0. 0. 0. 0.\n 0. 0. 0. 0. 0. 0. 0. 0. 0. 0. 0. 0. 0. 0. 0. 0. 0. 0. 0. 0. 0. 0. 0. 0.\n 0. 0. 0. 0. 0. 0. 0. 0. 0. 0. 0. 0. 0. 0. 0. 0. 0. 0. 0. 0. 0. 0. 0. 0.\n 0. 0. 0. 0. 0. 0. 0. 0. 0. 0. 0. 0. 0. 0. 0. 0. 0. 0. 0. 0. 0. 0. 0. 0.\n 0. 0. 0. 0. 0. 0. 0. 0. 0. 0. 0. 0. 0. 0. 0. 0. 0. 0. 0. 0. 0. 0. 0. 0.\n 0. 0. 0. 0. 0. 0. 0. 0. 0. 0. 0. 0. 0. 0. 0. 0. 0. 0. 0. 0. 0. 0. 0. 0.\n 0. 0. 0. 0. 0. 0. 0. 0. 0. 0. 0. 0. 0. 0. 0. 0. 0. 0. 0. 0. 0. 0. 0. 0.\n 0. 0. 0. 0. 0. 0. 0. 0. 0. 0. 0. 0. 0. 0. 0. 0. 0. 0. 0. 0. 0. 0. 0. 0.\n 0. 0. 0. 0. 0. 0. 0. 0. 0. 0. 0. 0. 0. 0. 0. 0. 0. 0. 0. 0. 0. 0. 0. 0.\n 0. 0. 0. 0. 0. 0. 0. 0. 0. 0. 0. 0. 0. 0. 0. 0. 0. 0. 0. 0. 0. 0. 0. 0.\n 0. 0. 0. 0. 0. 0. 0. 0.]\n[0 0 0 0 0 0 0 0 0 0 0] [0. 0. 0. 0. 0. 0. 0. 0. 0. 0. 0. 0. 0. 0. 0. 0. 0. 0. 0. 0. 0. 0. 0. 0.\n 0. 0. 0. 0. 0. 0. 0. 0. 0. 0. 0. 0. 0. 0. 0. 0. 0. 0. 0. 0. 0. 0. 0. 0.\n 0. 0. 0. 0. 0. 0. 0. 0. 0. 0. 0. 0. 0. 0. 0. 0. 0. 0. 0. 0. 0. 0. 0. 0.\n 0. 0. 0. 0. 0. 0. 0. 0. 0. 0. 0. 0. 0. 0. 0. 0. 0. 0. 0. 0. 0. 0. 0. 0.\n 0. 0. 0. 0. 0. 0. 0. 0. 0. 0. 0. 0. 0. 0. 0. 0. 0. 0. 0. 0. 0. 0. 0. 0.\n 0. 0. 0. 0. 0. 0. 0. 0. 0. 0. 0. 0. 0. 0. 0. 0. 0. 0. 0. 0. 0. 0. 0. 0.\n 0. 0. 0. 0. 0. 0. 0. 0. 0. 0. 0. 0. 0. 0. 0. 0. 0. 0. 0. 0. 0. 0. 0. 0.\n 0. 0. 0. 0. 0. 0. 0. 0. 0. 0. 0. 0. 0. 0. 0. 0. 0. 0. 0. 0. 0. 0. 0. 0.\n 0. 0. 0. 0. 0. 0. 0. 0. 0. 0. 0. 0. 0. 0. 0. 0. 0. 0. 0. 0. 0. 0. 0. 0.\n 0. 0. 0. 0. 0. 0. 0. 0. 0. 0. 0. 0. 0. 0. 0. 0. 0. 0. 0. 0. 0. 0. 0. 0.\n 0. 0. 0. 0. 0. 0. 0. 0. 0. 0. 0. 0. 0. 0. 0. 0. 0. 0. 0. 0. 0. 0. 0. 0.\n 0. 0. 0. 0. 0. 0. 0. 0. 0. 0. 0. 0. 0. 0. 0. 0. 0. 0. 0. 0. 0. 0. 0. 0.\n 0. 0. 0. 0. 0. 0. 0. 0. 0. 0. 0. 0. 0. 0. 0. 0. 0. 0. 0. 0. 0. 0. 0. 0.\n 0. 0. 0. 0. 0. 0. 0. 0. 0. 0. 0. 0. 0. 0. 0. 0. 0. 0. 0. 0. 0. 0. 0. 0.\n 0. 0. 0. 0. 0. 0. 0. 0. 0. 0. 0. 0. 0. 0. 0. 0. 0. 0. 0. 0. 0. 0. 0. 0.\n 0. 0. 0. 0. 0. 0. 0. 0. 0. 0. 0. 0. 0. 0. 0. 0. 0. 0. 0. 0. 0. 0. 0. 0.\n 0. 0. 0. 0. 0. 0. 0. 0. 0. 0. 0. 0. 0. 0. 0. 0. 0. 0. 0. 0. 0. 0. 0. 0.\n 0. 0. 0. 0. 0. 0. 0. 0. 0. 0. 0. 0. 0. 0. 0. 0. 0. 0. 0. 0. 0. 0. 0. 0.\n 0. 0. 0. 0. 0. 0. 0. 0. 0. 0. 0. 0. 0. 0. 0. 0. 0. 0. 0. 0. 0. 0. 0. 0.\n 0. 0. 0. 0. 0. 0. 0. 0. 0. 0. 0. 0. 0. 0. 0. 0. 0. 0. 0. 0. 0. 0. 0. 0.\n 0. 0. 0. 0. 0. 0. 0. 0. 0. 0. 0. 0. 0. 0. 0. 0. 0. 0. 0. 0. 0. 0. 0. 0.\n 0. 0. 0. 0. 0. 0. 0. 0. 0. 0. 0. 0. 0. 0. 0. 0. 0. 0. 0. 0. 0. 0. 0. 0.\n 0. 0. 0. 0. 0. 0. 0. 0. 0. 0. 0. 0. 0. 0. 0. 0. 0. 0. 0. 0. 0. 0. 0. 0.\n 0. 0. 0. 0. 0. 0. 0. 0. 0. 0. 0. 0. 0. 0. 0. 0. 0. 0. 0. 0. 0. 0. 0. 0.\n 0. 0. 0. 0. 0. 0. 0. 0. 0. 0. 0. 0. 0. 0. 0. 0. 0. 0. 0. 0. 0. 0. 0. 0.\n 0. 0. 0. 0. 0. 0. 0. 0. 0. 0. 0. 0. 0. 0. 0. 0. 0. 0. 0. 0. 0. 0. 0. 0.\n 0. 0. 0. 0. 0. 0. 0. 0.]\n[0 0 0 0 0 0 0 0 0 0 0] [0. 0. 0. 0. 0. 0. 0. 0. 0. 0. 0. 0. 0. 0. 0. 0. 0. 0. 0. 0. 0. 0. 0. 0.\n 0. 0. 0. 0. 0. 0. 0. 0. 0. 0. 0. 0. 0. 0. 0. 0. 0. 0. 0. 0. 0. 0. 0. 0.\n 0. 0. 0. 0. 0. 0. 0. 0. 0. 0. 0. 0. 0. 0. 0. 0. 0. 0. 0. 0. 0. 0. 0. 0.\n 0. 0. 0. 0. 0. 0. 0. 0. 0. 0. 0. 0. 0. 0. 0. 0. 0. 0. 0. 0. 0. 0. 0. 0.\n 0. 0. 0. 0. 0. 0. 0. 0. 0. 0. 0. 0. 0. 0. 0. 0. 0. 0. 0. 0. 0. 0. 0. 0.\n 0. 0. 0. 0. 0. 0. 0. 0. 0. 0. 0. 0. 0. 0. 0. 0. 0. 0. 0. 0. 0. 0. 0. 0.\n 0. 0. 0. 0. 0. 0. 0. 0. 0. 0. 0. 0. 0. 0. 0. 0. 0. 0. 0. 0. 0. 0. 0. 0.\n 0. 0. 0. 0. 0. 0. 0. 0. 0. 0. 0. 0. 0. 0. 0. 0. 0. 0. 0. 0. 0. 0. 0. 0.\n 0. 0. 0. 0. 0. 0. 0. 0. 0. 0. 0. 0. 0. 0. 0. 0. 0. 0. 0. 0. 0. 0. 0. 0.\n 0. 0. 0. 0. 0. 0. 0. 0. 0. 0. 0. 0. 0. 0. 0. 0. 0. 0. 0. 0. 0. 0. 0. 0.\n 0. 0. 0. 0. 0. 0. 0. 0. 0. 0. 0. 0. 0. 0. 0. 0. 0. 0. 0. 0. 0. 0. 0. 0.\n 0. 0. 0. 0. 0. 0. 0. 0. 0. 0. 0. 0. 0. 0. 0. 0. 0. 0. 0. 0. 0. 0. 0. 0.\n 0. 0. 0. 0. 0. 0. 0. 0. 0. 0. 0. 0. 0. 0. 0. 0. 0. 0. 0. 0. 0. 0. 0. 0.\n 0. 0. 0. 0. 0. 0. 0. 0. 0. 0. 0. 0. 0. 0. 0. 0. 0. 0. 0. 0. 0. 0. 0. 0.\n 0. 0. 0. 0. 0. 0. 0. 0. 0. 0. 0. 0. 0. 0. 0. 0. 0. 0. 0. 0. 0. 0. 0. 0.\n 0. 0. 0. 0. 0. 0. 0. 0. 0. 0. 0. 0. 0. 0. 0. 0. 0. 0. 0. 0. 0. 0. 0. 0.\n 0. 0. 0. 0. 0. 0. 0. 0. 0. 0. 0. 0. 0. 0. 0. 0. 0. 0. 0. 0. 0. 0. 0. 0.\n 0. 0. 0. 0. 0. 0. 0. 0. 0. 0. 0. 0. 0. 0. 0. 0. 0. 0. 0. 0. 0. 0. 0. 0.\n 0. 0. 0. 0. 0. 0. 0. 0. 0. 0. 0. 0. 0. 0. 0. 0. 0. 0. 0. 0. 0. 0. 0. 0.\n 0. 0. 0. 0. 0. 0. 0. 0. 0. 0. 0. 0. 0. 0. 0. 0. 0. 0. 0. 0. 0. 0. 0. 0.\n 0. 0. 0. 0. 0. 0. 0. 0. 0. 0. 0. 0. 0. 0. 0. 0. 0. 0. 0. 0. 0. 0. 0. 0.\n 0. 0. 0. 0. 0. 0. 0. 0. 0. 0. 0. 0. 0. 0. 0. 0. 0. 0. 0. 0. 0. 0. 0. 0.\n 0. 0. 0. 0. 0. 0. 0. 0. 0. 0. 0. 0. 0. 0. 0. 0. 0. 0. 0. 0. 0. 0. 0. 0.\n 0. 0. 0. 0. 0. 0. 0. 0. 0. 0. 0. 0. 0. 0. 0. 0. 0. 0. 0. 0. 0. 0. 0. 0.\n 0. 0. 0. 0. 0. 0. 0. 0. 0. 0. 0. 0. 0. 0. 0. 0. 0. 0. 0. 0. 0. 0. 0. 0.\n 0. 0. 0. 0. 0. 0. 0. 0. 0. 0. 0. 0. 0. 0. 0. 0. 0. 0. 0. 0. 0. 0. 0. 0.\n 0. 0. 0. 0. 0. 0. 0. 0.]\n[0 0 0 0 0 0 0 0 0 0 0] [0. 0. 0. 0. 0. 0. 0. 0. 0. 0. 0. 0. 0. 0. 0. 0. 0. 0. 0. 0. 0. 0. 0. 0.\n 0. 0. 0. 0. 0. 0. 0. 0. 0. 0. 0. 0. 0. 0. 0. 0. 0. 0. 0. 0. 0. 0. 0. 0.\n 0. 0. 0. 0. 0. 0. 0. 0. 0. 0. 0. 0. 0. 0. 0. 0. 0. 0. 0. 0. 0. 0. 0. 0.\n 0. 0. 0. 0. 0. 0. 0. 0. 0. 0. 0. 0. 0. 0. 0. 0. 0. 0. 0. 0. 0. 0. 0. 0.\n 0. 0. 0. 0. 0. 0. 0. 0. 0. 0. 0. 0. 0. 0. 0. 0. 0. 0. 0. 0. 0. 0. 0. 0.\n 0. 0. 0. 0. 0. 0. 0. 0. 0. 0. 0. 0. 0. 0. 0. 0. 0. 0. 0. 0. 0. 0. 0. 0.\n 0. 0. 0. 0. 0. 0. 0. 0. 0. 0. 0. 0. 0. 0. 0. 0. 0. 0. 0. 0. 0. 0. 0. 0.\n 0. 0. 0. 0. 0. 0. 0. 0. 0. 0. 0. 0. 0. 0. 0. 0. 0. 0. 0. 0. 0. 0. 0. 0.\n 0. 0. 0. 0. 0. 0. 0. 0. 0. 0. 0. 0. 0. 0. 0. 0. 0. 0. 0. 0. 0. 0. 0. 0.\n 0. 0. 0. 0. 0. 0. 0. 0. 0. 0. 0. 0. 0. 0. 0. 0. 0. 0. 0. 0. 0. 0. 0. 0.\n 0. 0. 0. 0. 0. 0. 0. 0. 0. 0. 0. 0. 0. 0. 0. 0. 0. 0. 0. 0. 0. 0. 0. 0.\n 0. 0. 0. 0. 0. 0. 0. 0. 0. 0. 0. 0. 0. 0. 0. 0. 0. 0. 0. 0. 0. 0. 0. 0.\n 0. 0. 0. 0. 0. 0. 0. 0. 0. 0. 0. 0. 0. 0. 0. 0. 0. 0. 0. 0. 0. 0. 0. 0.\n 0. 0. 0. 0. 0. 0. 0. 0. 0. 0. 0. 0. 0. 0. 0. 0. 0. 0. 0. 0. 0. 0. 0. 0.\n 0. 0. 0. 0. 0. 0. 0. 0. 0. 0. 0. 0. 0. 0. 0. 0. 0. 0. 0. 0. 0. 0. 0. 0.\n 0. 0. 0. 0. 0. 0. 0. 0. 0. 0. 0. 0. 0. 0. 0. 0. 0. 0. 0. 0. 0. 0. 0. 0.\n 0. 0. 0. 0. 0. 0. 0. 0. 0. 0. 0. 0. 0. 0. 0. 0. 0. 0. 0. 0. 0. 0. 0. 0.\n 0. 0. 0. 0. 0. 0. 0. 0. 0. 0. 0. 0. 0. 0. 0. 0. 0. 0. 0. 0. 0. 0. 0. 0.\n 0. 0. 0. 0. 0. 0. 0. 0. 0. 0. 0. 0. 0. 0. 0. 0. 0. 0. 0. 0. 0. 0. 0. 0.\n 0. 0. 0. 0. 0. 0. 0. 0. 0. 0. 0. 0. 0. 0. 0. 0. 0. 0. 0. 0. 0. 0. 0. 0.\n 0. 0. 0. 0. 0. 0. 0. 0. 0. 0. 0. 0. 0. 0. 0. 0. 0. 0. 0. 0. 0. 0. 0. 0.\n 0. 0. 0. 0. 0. 0. 0. 0. 0. 0. 0. 0. 0. 0. 0. 0. 0. 0. 0. 0. 0. 0. 0. 0.\n 0. 0. 0. 0. 0. 0. 0. 0. 0. 0. 0. 0. 0. 0. 0. 0. 0. 0. 0. 0. 0. 0. 0. 0.\n 0. 0. 0. 0. 0. 0. 0. 0. 0. 0. 0. 0. 0. 0. 0. 0. 0. 0. 0. 0. 0. 0. 0. 0.\n 0. 0. 0. 0. 0. 0. 0. 0. 0. 0. 0. 0. 0. 0. 0. 0. 0. 0. 0. 0. 0. 0. 0. 0.\n 0. 0. 0. 0. 0. 0. 0. 0. 0. 0. 0. 0. 0. 0. 0. 0. 0. 0. 0. 0. 0. 0. 0. 0.\n 0. 0. 0. 0. 0. 0. 0. 0.]\n[0 0 0 0 0 0 0 0 0 0 0] [0. 0. 0. 0. 0. 0. 0. 0. 0. 0. 0. 0. 0. 0. 0. 0. 0. 0. 0. 0. 0. 0. 0. 0.\n 0. 0. 0. 0. 0. 0. 0. 0. 0. 0. 0. 0. 0. 0. 0. 0. 0. 0. 0. 0. 0. 0. 0. 0.\n 0. 0. 0. 0. 0. 0. 0. 0. 0. 0. 0. 0. 0. 0. 0. 0. 0. 0. 0. 0. 0. 0. 0. 0.\n 0. 0. 0. 0. 0. 0. 0. 0. 0. 0. 0. 0. 0. 0. 0. 0. 0. 0. 0. 0. 0. 0. 0. 0.\n 0. 0. 0. 0. 0. 0. 0. 0. 0. 0. 0. 0. 0. 0. 0. 0. 0. 0. 0. 0. 0. 0. 0. 0.\n 0. 0. 0. 0. 0. 0. 0. 0. 0. 0. 0. 0. 0. 0. 0. 0. 0. 0. 0. 0. 0. 0. 0. 0.\n 0. 0. 0. 0. 0. 0. 0. 0. 0. 0. 0. 0. 0. 0. 0. 0. 0. 0. 0. 0. 0. 0. 0. 0.\n 0. 0. 0. 0. 0. 0. 0. 0. 0. 0. 0. 0. 0. 0. 0. 0. 0. 0. 0. 0. 0. 0. 0. 0.\n 0. 0. 0. 0. 0. 0. 0. 0. 0. 0. 0. 0. 0. 0. 0. 0. 0. 0. 0. 0. 0. 0. 0. 0.\n 0. 0. 0. 0. 0. 0. 0. 0. 0. 0. 0. 0. 0. 0. 0. 0. 0. 0. 0. 0. 0. 0. 0. 0.\n 0. 0. 0. 0. 0. 0. 0. 0. 0. 0. 0. 0. 0. 0. 0. 0. 0. 0. 0. 0. 0. 0. 0. 0.\n 0. 0. 0. 0. 0. 0. 0. 0. 0. 0. 0. 0. 0. 0. 0. 0. 0. 0. 0. 0. 0. 0. 0. 0.\n 0. 0. 0. 0. 0. 0. 0. 0. 0. 0. 0. 0. 0. 0. 0. 0. 0. 0. 0. 0. 0. 0. 0. 0.\n 0. 0. 0. 0. 0. 0. 0. 0. 0. 0. 0. 0. 0. 0. 0. 0. 0. 0. 0. 0. 0. 0. 0. 0.\n 0. 0. 0. 0. 0. 0. 0. 0. 0. 0. 0. 0. 0. 0. 0. 0. 0. 0. 0. 0. 0. 0. 0. 0.\n 0. 0. 0. 0. 0. 0. 0. 0. 0. 0. 0. 0. 0. 0. 0. 0. 0. 0. 0. 0. 0. 0. 0. 0.\n 0. 0. 0. 0. 0. 0. 0. 0. 0. 0. 0. 0. 0. 0. 0. 0. 0. 0. 0. 0. 0. 0. 0. 0.\n 0. 0. 0. 0. 0. 0. 0. 0. 0. 0. 0. 0. 0. 0. 0. 0. 0. 0. 0. 0. 0. 0. 0. 0.\n 0. 0. 0. 0. 0. 0. 0. 0. 0. 0. 0. 0. 0. 0. 0. 0. 0. 0. 0. 0. 0. 0. 0. 0.\n 0. 0. 0. 0. 0. 0. 0. 0. 0. 0. 0. 0. 0. 0. 0. 0. 0. 0. 0. 0. 0. 0. 0. 0.\n 0. 0. 0. 0. 0. 0. 0. 0. 0. 0. 0. 0. 0. 0. 0. 0. 0. 0. 0. 0. 0. 0. 0. 0.\n 0. 0. 0. 0. 0. 0. 0. 0. 0. 0. 0. 0. 0. 0. 0. 0. 0. 0. 0. 0. 0. 0. 0. 0.\n 0. 0. 0. 0. 0. 0. 0. 0. 0. 0. 0. 0. 0. 0. 0. 0. 0. 0. 0. 0. 0. 0. 0. 0.\n 0. 0. 0. 0. 0. 0. 0. 0. 0. 0. 0. 0. 0. 0. 0. 0. 0. 0. 0. 0. 0. 0. 0. 0.\n 0. 0. 0. 0. 0. 0. 0. 0. 0. 0. 0. 0. 0. 0. 0. 0. 0. 0. 0. 0. 0. 0. 0. 0.\n 0. 0. 0. 0. 0. 0. 0. 0. 0. 0. 0. 0. 0. 0. 0. 0. 0. 0. 0. 0. 0. 0. 0. 0.\n 0. 0. 0. 0. 0. 0. 0. 0.]\n[0 0 0 0 0 0 0 0 0 0 0] [0. 0. 0. 0. 0. 0. 0. 0. 0. 0. 0. 0. 0. 0. 0. 0. 0. 0. 0. 0. 0. 0. 0. 0.\n 0. 0. 0. 0. 0. 0. 0. 0. 0. 0. 0. 0. 0. 0. 0. 0. 0. 0. 0. 0. 0. 0. 0. 0.\n 0. 0. 0. 0. 0. 0. 0. 0. 0. 0. 0. 0. 0. 0. 0. 0. 0. 0. 0. 0. 0. 0. 0. 0.\n 0. 0. 0. 0. 0. 0. 0. 0. 0. 0. 0. 0. 0. 0. 0. 0. 0. 0. 0. 0. 0. 0. 0. 0.\n 0. 0. 0. 0. 0. 0. 0. 0. 0. 0. 0. 0. 0. 0. 0. 0. 0. 0. 0. 0. 0. 0. 0. 0.\n 0. 0. 0. 0. 0. 0. 0. 0. 0. 0. 0. 0. 0. 0. 0. 0. 0. 0. 0. 0. 0. 0. 0. 0.\n 0. 0. 0. 0. 0. 0. 0. 0. 0. 0. 0. 0. 0. 0. 0. 0. 0. 0. 0. 0. 0. 0. 0. 0.\n 0. 0. 0. 0. 0. 0. 0. 0. 0. 0. 0. 0. 0. 0. 0. 0. 0. 0. 0. 0. 0. 0. 0. 0.\n 0. 0. 0. 0. 0. 0. 0. 0. 0. 0. 0. 0. 0. 0. 0. 0. 0. 0. 0. 0. 0. 0. 0. 0.\n 0. 0. 0. 0. 0. 0. 0. 0. 0. 0. 0. 0. 0. 0. 0. 0. 0. 0. 0. 0. 0. 0. 0. 0.\n 0. 0. 0. 0. 0. 0. 0. 0. 0. 0. 0. 0. 0. 0. 0. 0. 0. 0. 0. 0. 0. 0. 0. 0.\n 0. 0. 0. 0. 0. 0. 0. 0. 0. 0. 0. 0. 0. 0. 0. 0. 0. 0. 0. 0. 0. 0. 0. 0.\n 0. 0. 0. 0. 0. 0. 0. 0. 0. 0. 0. 0. 0. 0. 0. 0. 0. 0. 0. 0. 0. 0. 0. 0.\n 0. 0. 0. 0. 0. 0. 0. 0. 0. 0. 0. 0. 0. 0. 0. 0. 0. 0. 0. 0. 0. 0. 0. 0.\n 0. 0. 0. 0. 0. 0. 0. 0. 0. 0. 0. 0. 0. 0. 0. 0. 0. 0. 0. 0. 0. 0. 0. 0.\n 0. 0. 0. 0. 0. 0. 0. 0. 0. 0. 0. 0. 0. 0. 0. 0. 0. 0. 0. 0. 0. 0. 0. 0.\n 0. 0. 0. 0. 0. 0. 0. 0. 0. 0. 0. 0. 0. 0. 0. 0. 0. 0. 0. 0. 0. 0. 0. 0.\n 0. 0. 0. 0. 0. 0. 0. 0. 0. 0. 0. 0. 0. 0. 0. 0. 0. 0. 0. 0. 0. 0. 0. 0.\n 0. 0. 0. 0. 0. 0. 0. 0. 0. 0. 0. 0. 0. 0. 0. 0. 0. 0. 0. 0. 0. 0. 0. 0.\n 0. 0. 0. 0. 0. 0. 0. 0. 0. 0. 0. 0. 0. 0. 0. 0. 0. 0. 0. 0. 0. 0. 0. 0.\n 0. 0. 0. 0. 0. 0. 0. 0. 0. 0. 0. 0. 0. 0. 0. 0. 0. 0. 0. 0. 0. 0. 0. 0.\n 0. 0. 0. 0. 0. 0. 0. 0. 0. 0. 0. 0. 0. 0. 0. 0. 0. 0. 0. 0. 0. 0. 0. 0.\n 0. 0. 0. 0. 0. 0. 0. 0. 0. 0. 0. 0. 0. 0. 0. 0. 0. 0. 0. 0. 0. 0. 0. 0.\n 0. 0. 0. 0. 0. 0. 0. 0. 0. 0. 0. 0. 0. 0. 0. 0. 0. 0. 0. 0. 0. 0. 0. 0.\n 0. 0. 0. 0. 0. 0. 0. 0. 0. 0. 0. 0. 0. 0. 0. 0. 0. 0. 0. 0. 0. 0. 0. 0.\n 0. 0. 0. 0. 0. 0. 0. 0. 0. 0. 0. 0. 0. 0. 0. 0. 0. 0. 0. 0. 0. 0. 0. 0.\n 0. 0. 0. 0. 0. 0. 0. 0.]\n[0 0 0 0 0 0 0 0 0 0 0] [0. 0. 0. 0. 0. 0. 0. 0. 0. 0. 0. 0. 0. 0. 0. 0. 0. 0. 0. 0. 0. 0. 0. 0.\n 0. 0. 0. 0. 0. 0. 0. 0. 0. 0. 0. 0. 0. 0. 0. 0. 0. 0. 0. 0. 0. 0. 0. 0.\n 0. 0. 0. 0. 0. 0. 0. 0. 0. 0. 0. 0. 0. 0. 0. 0. 0. 0. 0. 0. 0. 0. 0. 0.\n 0. 0. 0. 0. 0. 0. 0. 0. 0. 0. 0. 0. 0. 0. 0. 0. 0. 0. 0. 0. 0. 0. 0. 0.\n 0. 0. 0. 0. 0. 0. 0. 0. 0. 0. 0. 0. 0. 0. 0. 0. 0. 0. 0. 0. 0. 0. 0. 0.\n 0. 0. 0. 0. 0. 0. 0. 0. 0. 0. 0. 0. 0. 0. 0. 0. 0. 0. 0. 0. 0. 0. 0. 0.\n 0. 0. 0. 0. 0. 0. 0. 0. 0. 0. 0. 0. 0. 0. 0. 0. 0. 0. 0. 0. 0. 0. 0. 0.\n 0. 0. 0. 0. 0. 0. 0. 0. 0. 0. 0. 0. 0. 0. 0. 0. 0. 0. 0. 0. 0. 0. 0. 0.\n 0. 0. 0. 0. 0. 0. 0. 0. 0. 0. 0. 0. 0. 0. 0. 0. 0. 0. 0. 0. 0. 0. 0. 0.\n 0. 0. 0. 0. 0. 0. 0. 0. 0. 0. 0. 0. 0. 0. 0. 0. 0. 0. 0. 0. 0. 0. 0. 0.\n 0. 0. 0. 0. 0. 0. 0. 0. 0. 0. 0. 0. 0. 0. 0. 0. 0. 0. 0. 0. 0. 0. 0. 0.\n 0. 0. 0. 0. 0. 0. 0. 0. 0. 0. 0. 0. 0. 0. 0. 0. 0. 0. 0. 0. 0. 0. 0. 0.\n 0. 0. 0. 0. 0. 0. 0. 0. 0. 0. 0. 0. 0. 0. 0. 0. 0. 0. 0. 0. 0. 0. 0. 0.\n 0. 0. 0. 0. 0. 0. 0. 0. 0. 0. 0. 0. 0. 0. 0. 0. 0. 0. 0. 0. 0. 0. 0. 0.\n 0. 0. 0. 0. 0. 0. 0. 0. 0. 0. 0. 0. 0. 0. 0. 0. 0. 0. 0. 0. 0. 0. 0. 0.\n 0. 0. 0. 0. 0. 0. 0. 0. 0. 0. 0. 0. 0. 0. 0. 0. 0. 0. 0. 0. 0. 0. 0. 0.\n 0. 0. 0. 0. 0. 0. 0. 0. 0. 0. 0. 0. 0. 0. 0. 0. 0. 0. 0. 0. 0. 0. 0. 0.\n 0. 0. 0. 0. 0. 0. 0. 0. 0. 0. 0. 0. 0. 0. 0. 0. 0. 0. 0. 0. 0. 0. 0. 0.\n 0. 0. 0. 0. 0. 0. 0. 0. 0. 0. 0. 0. 0. 0. 0. 0. 0. 0. 0. 0. 0. 0. 0. 0.\n 0. 0. 0. 0. 0. 0. 0. 0. 0. 0. 0. 0. 0. 0. 0. 0. 0. 0. 0. 0. 0. 0. 0. 0.\n 0. 0. 0. 0. 0. 0. 0. 0. 0. 0. 0. 0. 0. 0. 0. 0. 0. 0. 0. 0. 0. 0. 0. 0.\n 0. 0. 0. 0. 0. 0. 0. 0. 0. 0. 0. 0. 0. 0. 0. 0. 0. 0. 0. 0. 0. 0. 0. 0.\n 0. 0. 0. 0. 0. 0. 0. 0. 0. 0. 0. 0. 0. 0. 0. 0. 0. 0. 0. 0. 0. 0. 0. 0.\n 0. 0. 0. 0. 0. 0. 0. 0. 0. 0. 0. 0. 0. 0. 0. 0. 0. 0. 0. 0. 0. 0. 0. 0.\n 0. 0. 0. 0. 0. 0. 0. 0. 0. 0. 0. 0. 0. 0. 0. 0. 0. 0. 0. 0. 0. 0. 0. 0.\n 0. 0. 0. 0. 0. 0. 0. 0. 0. 0. 0. 0. 0. 0. 0. 0. 0. 0. 0. 0. 0. 0. 0. 0.\n 0. 0. 0. 0. 0. 0. 0. 0.]\n[0 0 0 0 0 0 0 0 0 0 0] [0. 0. 0. 0. 0. 0. 0. 0. 0. 0. 0. 0. 0. 0. 0. 0. 0. 0. 0. 0. 0. 0. 0. 0.\n 0. 0. 0. 0. 0. 0. 0. 0. 0. 0. 0. 0. 0. 0. 0. 0. 0. 0. 0. 0. 0. 0. 0. 0.\n 0. 0. 0. 0. 0. 0. 0. 0. 0. 0. 0. 0. 0. 0. 0. 0. 0. 0. 0. 0. 0. 0. 0. 0.\n 0. 0. 0. 0. 0. 0. 0. 0. 0. 0. 0. 0. 0. 0. 0. 0. 0. 0. 0. 0. 0. 0. 0. 0.\n 0. 0. 0. 0. 0. 0. 0. 0. 0. 0. 0. 0. 0. 0. 0. 0. 0. 0. 0. 0. 0. 0. 0. 0.\n 0. 0. 0. 0. 0. 0. 0. 0. 0. 0. 0. 0. 0. 0. 0. 0. 0. 0. 0. 0. 0. 0. 0. 0.\n 0. 0. 0. 0. 0. 0. 0. 0. 0. 0. 0. 0. 0. 0. 0. 0. 0. 0. 0. 0. 0. 0. 0. 0.\n 0. 0. 0. 0. 0. 0. 0. 0. 0. 0. 0. 0. 0. 0. 0. 0. 0. 0. 0. 0. 0. 0. 0. 0.\n 0. 0. 0. 0. 0. 0. 0. 0. 0. 0. 0. 0. 0. 0. 0. 0. 0. 0. 0. 0. 0. 0. 0. 0.\n 0. 0. 0. 0. 0. 0. 0. 0. 0. 0. 0. 0. 0. 0. 0. 0. 0. 0. 0. 0. 0. 0. 0. 0.\n 0. 0. 0. 0. 0. 0. 0. 0. 0. 0. 0. 0. 0. 0. 0. 0. 0. 0. 0. 0. 0. 0. 0. 0.\n 0. 0. 0. 0. 0. 0. 0. 0. 0. 0. 0. 0. 0. 0. 0. 0. 0. 0. 0. 0. 0. 0. 0. 0.\n 0. 0. 0. 0. 0. 0. 0. 0. 0. 0. 0. 0. 0. 0. 0. 0. 0. 0. 0. 0. 0. 0. 0. 0.\n 0. 0. 0. 0. 0. 0. 0. 0. 0. 0. 0. 0. 0. 0. 0. 0. 0. 0. 0. 0. 0. 0. 0. 0.\n 0. 0. 0. 0. 0. 0. 0. 0. 0. 0. 0. 0. 0. 0. 0. 0. 0. 0. 0. 0. 0. 0. 0. 0.\n 0. 0. 0. 0. 0. 0. 0. 0. 0. 0. 0. 0. 0. 0. 0. 0. 0. 0. 0. 0. 0. 0. 0. 0.\n 0. 0. 0. 0. 0. 0. 0. 0. 0. 0. 0. 0. 0. 0. 0. 0. 0. 0. 0. 0. 0. 0. 0. 0.\n 0. 0. 0. 0. 0. 0. 0. 0. 0. 0. 0. 0. 0. 0. 0. 0. 0. 0. 0. 0. 0. 0. 0. 0.\n 0. 0. 0. 0. 0. 0. 0. 0. 0. 0. 0. 0. 0. 0. 0. 0. 0. 0. 0. 0. 0. 0. 0. 0.\n 0. 0. 0. 0. 0. 0. 0. 0. 0. 0. 0. 0. 0. 0. 0. 0. 0. 0. 0. 0. 0. 0. 0. 0.\n 0. 0. 0. 0. 0. 0. 0. 0. 0. 0. 0. 0. 0. 0. 0. 0. 0. 0. 0. 0. 0. 0. 0. 0.\n 0. 0. 0. 0. 0. 0. 0. 0. 0. 0. 0. 0. 0. 0. 0. 0. 0. 0. 0. 0. 0. 0. 0. 0.\n 0. 0. 0. 0. 0. 0. 0. 0. 0. 0. 0. 0. 0. 0. 0. 0. 0. 0. 0. 0. 0. 0. 0. 0.\n 0. 0. 0. 0. 0. 0. 0. 0. 0. 0. 0. 0. 0. 0. 0. 0. 0. 0. 0. 0. 0. 0. 0. 0.\n 0. 0. 0. 0. 0. 0. 0. 0. 0. 0. 0. 0. 0. 0. 0. 0. 0. 0. 0. 0. 0. 0. 0. 0.\n 0. 0. 0. 0. 0. 0. 0. 0. 0. 0. 0. 0. 0. 0. 0. 0. 0. 0. 0. 0. 0. 0. 0. 0.\n 0. 0. 0. 0. 0. 0. 0. 0.]\n[0 0 0 0 0 0 0 0 0 0 0] [0. 0. 0. 0. 0. 0. 0. 0. 0. 0. 0. 0. 0. 0. 0. 0. 0. 0. 0. 0. 0. 0. 0. 0.\n 0. 0. 0. 0. 0. 0. 0. 0. 0. 0. 0. 0. 0. 0. 0. 0. 0. 0. 0. 0. 0. 0. 0. 0.\n 0. 0. 0. 0. 0. 0. 0. 0. 0. 0. 0. 0. 0. 0. 0. 0. 0. 0. 0. 0. 0. 0. 0. 0.\n 0. 0. 0. 0. 0. 0. 0. 0. 0. 0. 0. 0. 0. 0. 0. 0. 0. 0. 0. 0. 0. 0. 0. 0.\n 0. 0. 0. 0. 0. 0. 0. 0. 0. 0. 0. 0. 0. 0. 0. 0. 0. 0. 0. 0. 0. 0. 0. 0.\n 0. 0. 0. 0. 0. 0. 0. 0. 0. 0. 0. 0. 0. 0. 0. 0. 0. 0. 0. 0. 0. 0. 0. 0.\n 0. 0. 0. 0. 0. 0. 0. 0. 0. 0. 0. 0. 0. 0. 0. 0. 0. 0. 0. 0. 0. 0. 0. 0.\n 0. 0. 0. 0. 0. 0. 0. 0. 0. 0. 0. 0. 0. 0. 0. 0. 0. 0. 0. 0. 0. 0. 0. 0.\n 0. 0. 0. 0. 0. 0. 0. 0. 0. 0. 0. 0. 0. 0. 0. 0. 0. 0. 0. 0. 0. 0. 0. 0.\n 0. 0. 0. 0. 0. 0. 0. 0. 0. 0. 0. 0. 0. 0. 0. 0. 0. 0. 0. 0. 0. 0. 0. 0.\n 0. 0. 0. 0. 0. 0. 0. 0. 0. 0. 0. 0. 0. 0. 0. 0. 0. 0. 0. 0. 0. 0. 0. 0.\n 0. 0. 0. 0. 0. 0. 0. 0. 0. 0. 0. 0. 0. 0. 0. 0. 0. 0. 0. 0. 0. 0. 0. 0.\n 0. 0. 0. 0. 0. 0. 0. 0. 0. 0. 0. 0. 0. 0. 0. 0. 0. 0. 0. 0. 0. 0. 0. 0.\n 0. 0. 0. 0. 0. 0. 0. 0. 0. 0. 0. 0. 0. 0. 0. 0. 0. 0. 0. 0. 0. 0. 0. 0.\n 0. 0. 0. 0. 0. 0. 0. 0. 0. 0. 0. 0. 0. 0. 0. 0. 0. 0. 0. 0. 0. 0. 0. 0.\n 0. 0. 0. 0. 0. 0. 0. 0. 0. 0. 0. 0. 0. 0. 0. 0. 0. 0. 0. 0. 0. 0. 0. 0.\n 0. 0. 0. 0. 0. 0. 0. 0. 0. 0. 0. 0. 0. 0. 0. 0. 0. 0. 0. 0. 0. 0. 0. 0.\n 0. 0. 0. 0. 0. 0. 0. 0. 0. 0. 0. 0. 0. 0. 0. 0. 0. 0. 0. 0. 0. 0. 0. 0.\n 0. 0. 0. 0. 0. 0. 0. 0. 0. 0. 0. 0. 0. 0. 0. 0. 0. 0. 0. 0. 0. 0. 0. 0.\n 0. 0. 0. 0. 0. 0. 0. 0. 0. 0. 0. 0. 0. 0. 0. 0. 0. 0. 0. 0. 0. 0. 0. 0.\n 0. 0. 0. 0. 0. 0. 0. 0. 0. 0. 0. 0. 0. 0. 0. 0. 0. 0. 0. 0. 0. 0. 0. 0.\n 0. 0. 0. 0. 0. 0. 0. 0. 0. 0. 0. 0. 0. 0. 0. 0. 0. 0. 0. 0. 0. 0. 0. 0.\n 0. 0. 0. 0. 0. 0. 0. 0. 0. 0. 0. 0. 0. 0. 0. 0. 0. 0. 0. 0. 0. 0. 0. 0.\n 0. 0. 0. 0. 0. 0. 0. 0. 0. 0. 0. 0. 0. 0. 0. 0. 0. 0. 0. 0. 0. 0. 0. 0.\n 0. 0. 0. 0. 0. 0. 0. 0. 0. 0. 0. 0. 0. 0. 0. 0. 0. 0. 0. 0. 0. 0. 0. 0.\n 0. 0. 0. 0. 0. 0. 0. 0. 0. 0. 0. 0. 0. 0. 0. 0. 0. 0. 0. 0. 0. 0. 0. 0.\n 0. 0. 0. 0. 0. 0. 0. 0.]\n[0 0 0 0 0 0 0 0 0 0 0] [0. 0. 0. 0. 0. 0. 0. 0. 0. 0. 0. 0. 0. 0. 0. 0. 0. 0. 0. 0. 0. 0. 0. 0.\n 0. 0. 0. 0. 0. 0. 0. 0. 0. 0. 0. 0. 0. 0. 0. 0. 0. 0. 0. 0. 0. 0. 0. 0.\n 0. 0. 0. 0. 0. 0. 0. 0. 0. 0. 0. 0. 0. 0. 0. 0. 0. 0. 0. 0. 0. 0. 0. 0.\n 0. 0. 0. 0. 0. 0. 0. 0. 0. 0. 0. 0. 0. 0. 0. 0. 0. 0. 0. 0. 0. 0. 0. 0.\n 0. 0. 0. 0. 0. 0. 0. 0. 0. 0. 0. 0. 0. 0. 0. 0. 0. 0. 0. 0. 0. 0. 0. 0.\n 0. 0. 0. 0. 0. 0. 0. 0. 0. 0. 0. 0. 0. 0. 0. 0. 0. 0. 0. 0. 0. 0. 0. 0.\n 0. 0. 0. 0. 0. 0. 0. 0. 0. 0. 0. 0. 0. 0. 0. 0. 0. 0. 0. 0. 0. 0. 0. 0.\n 0. 0. 0. 0. 0. 0. 0. 0. 0. 0. 0. 0. 0. 0. 0. 0. 0. 0. 0. 0. 0. 0. 0. 0.\n 0. 0. 0. 0. 0. 0. 0. 0. 0. 0. 0. 0. 0. 0. 0. 0. 0. 0. 0. 0. 0. 0. 0. 0.\n 0. 0. 0. 0. 0. 0. 0. 0. 0. 0. 0. 0. 0. 0. 0. 0. 0. 0. 0. 0. 0. 0. 0. 0.\n 0. 0. 0. 0. 0. 0. 0. 0. 0. 0. 0. 0. 0. 0. 0. 0. 0. 0. 0. 0. 0. 0. 0. 0.\n 0. 0. 0. 0. 0. 0. 0. 0. 0. 0. 0. 0. 0. 0. 0. 0. 0. 0. 0. 0. 0. 0. 0. 0.\n 0. 0. 0. 0. 0. 0. 0. 0. 0. 0. 0. 0. 0. 0. 0. 0. 0. 0. 0. 0. 0. 0. 0. 0.\n 0. 0. 0. 0. 0. 0. 0. 0. 0. 0. 0. 0. 0. 0. 0. 0. 0. 0. 0. 0. 0. 0. 0. 0.\n 0. 0. 0. 0. 0. 0. 0. 0. 0. 0. 0. 0. 0. 0. 0. 0. 0. 0. 0. 0. 0. 0. 0. 0.\n 0. 0. 0. 0. 0. 0. 0. 0. 0. 0. 0. 0. 0. 0. 0. 0. 0. 0. 0. 0. 0. 0. 0. 0.\n 0. 0. 0. 0. 0. 0. 0. 0. 0. 0. 0. 0. 0. 0. 0. 0. 0. 0. 0. 0. 0. 0. 0. 0.\n 0. 0. 0. 0. 0. 0. 0. 0. 0. 0. 0. 0. 0. 0. 0. 0. 0. 0. 0. 0. 0. 0. 0. 0.\n 0. 0. 0. 0. 0. 0. 0. 0. 0. 0. 0. 0. 0. 0. 0. 0. 0. 0. 0. 0. 0. 0. 0. 0.\n 0. 0. 0. 0. 0. 0. 0. 0. 0. 0. 0. 0. 0. 0. 0. 0. 0. 0. 0. 0. 0. 0. 0. 0.\n 0. 0. 0. 0. 0. 0. 0. 0. 0. 0. 0. 0. 0. 0. 0. 0. 0. 0. 0. 0. 0. 0. 0. 0.\n 0. 0. 0. 0. 0. 0. 0. 0. 0. 0. 0. 0. 0. 0. 0. 0. 0. 0. 0. 0. 0. 0. 0. 0.\n 0. 0. 0. 0. 0. 0. 0. 0. 0. 0. 0. 0. 0. 0. 0. 0. 0. 0. 0. 0. 0. 0. 0. 0.\n 0. 0. 0. 0. 0. 0. 0. 0. 0. 0. 0. 0. 0. 0. 0. 0. 0. 0. 0. 0. 0. 0. 0. 0.\n 0. 0. 0. 0. 0. 0. 0. 0. 0. 0. 0. 0. 0. 0. 0. 0. 0. 0. 0. 0. 0. 0. 0. 0.\n 0. 0. 0. 0. 0. 0. 0. 0. 0. 0. 0. 0. 0. 0. 0. 0. 0. 0. 0. 0. 0. 0. 0. 0.\n 0. 0. 0. 0. 0. 0. 0. 0.]\n"
      }
     ],
     "persistentId": "947b25c4-e155-47fe-8adf-d4c6bbc870c7",
     "text": "# Set Faults\ngeo_model.set_is_fault(['Fault1_series','Fault7_series','Fault6_series',\n                        'Fault2_series', 'Fault5_series', 'Fault3_series', 'Fault4_series']);"
    },
    "executionTime": "2020-01-09T13:50:06.419Z"
   },
   {
    "cell": {
     "executionCount": 10,
     "executionEventId": "65b4f27d-0d35-4ecd-8936-ef931408ebed",
     "hasError": false,
     "id": "898a8375-f6ae-4b40-ad8f-38c22daa93c7",
     "outputs": [
      {
       "data": {
        "text/html": "<div>\n<style scoped>\n    .dataframe tbody tr th:only-of-type {\n        vertical-align: middle;\n    }\n\n    .dataframe tbody tr th {\n        vertical-align: top;\n    }\n\n    .dataframe thead th {\n        text-align: right;\n    }\n</style>\n<table border=\"1\" class=\"dataframe\">\n  <thead>\n    <tr style=\"text-align: right;\">\n      <th></th>\n      <th>Fault7_series</th>\n      <th>Fault6_series</th>\n      <th>Fault2_series</th>\n      <th>Fault5_series</th>\n      <th>Fault1_series</th>\n      <th>Fault3_series</th>\n      <th>Fault4_series</th>\n      <th>Post_tectonic_series</th>\n      <th>Syn_tectonic_series2</th>\n      <th>Syn_tectonic_series1</th>\n      <th>Pre_tectonic_series</th>\n      <th>Basement</th>\n    </tr>\n  </thead>\n  <tbody>\n    <tr>\n      <th>Fault7_series</th>\n      <td>False</td>\n      <td>False</td>\n      <td>False</td>\n      <td>False</td>\n      <td>False</td>\n      <td>False</td>\n      <td>False</td>\n      <td>True</td>\n      <td>True</td>\n      <td>True</td>\n      <td>True</td>\n      <td>True</td>\n    </tr>\n    <tr>\n      <th>Fault6_series</th>\n      <td>False</td>\n      <td>False</td>\n      <td>False</td>\n      <td>False</td>\n      <td>False</td>\n      <td>False</td>\n      <td>False</td>\n      <td>True</td>\n      <td>True</td>\n      <td>True</td>\n      <td>True</td>\n      <td>True</td>\n    </tr>\n    <tr>\n      <th>Fault2_series</th>\n      <td>False</td>\n      <td>False</td>\n      <td>False</td>\n      <td>False</td>\n      <td>False</td>\n      <td>False</td>\n      <td>False</td>\n      <td>True</td>\n      <td>True</td>\n      <td>True</td>\n      <td>True</td>\n      <td>True</td>\n    </tr>\n    <tr>\n      <th>Fault5_series</th>\n      <td>False</td>\n      <td>False</td>\n      <td>False</td>\n      <td>False</td>\n      <td>False</td>\n      <td>False</td>\n      <td>False</td>\n      <td>True</td>\n      <td>True</td>\n      <td>True</td>\n      <td>True</td>\n      <td>True</td>\n    </tr>\n    <tr>\n      <th>Fault1_series</th>\n      <td>False</td>\n      <td>False</td>\n      <td>False</td>\n      <td>False</td>\n      <td>False</td>\n      <td>False</td>\n      <td>False</td>\n      <td>True</td>\n      <td>True</td>\n      <td>True</td>\n      <td>True</td>\n      <td>True</td>\n    </tr>\n    <tr>\n      <th>Fault3_series</th>\n      <td>False</td>\n      <td>False</td>\n      <td>False</td>\n      <td>False</td>\n      <td>False</td>\n      <td>False</td>\n      <td>False</td>\n      <td>True</td>\n      <td>True</td>\n      <td>True</td>\n      <td>True</td>\n      <td>True</td>\n    </tr>\n    <tr>\n      <th>Fault4_series</th>\n      <td>False</td>\n      <td>False</td>\n      <td>False</td>\n      <td>False</td>\n      <td>False</td>\n      <td>False</td>\n      <td>False</td>\n      <td>True</td>\n      <td>True</td>\n      <td>True</td>\n      <td>True</td>\n      <td>True</td>\n    </tr>\n    <tr>\n      <th>Post_tectonic_series</th>\n      <td>False</td>\n      <td>False</td>\n      <td>False</td>\n      <td>False</td>\n      <td>False</td>\n      <td>False</td>\n      <td>False</td>\n      <td>False</td>\n      <td>False</td>\n      <td>False</td>\n      <td>False</td>\n      <td>False</td>\n    </tr>\n    <tr>\n      <th>Syn_tectonic_series2</th>\n      <td>False</td>\n      <td>False</td>\n      <td>False</td>\n      <td>False</td>\n      <td>False</td>\n      <td>False</td>\n      <td>False</td>\n      <td>False</td>\n      <td>False</td>\n      <td>False</td>\n      <td>False</td>\n      <td>False</td>\n    </tr>\n    <tr>\n      <th>Syn_tectonic_series1</th>\n      <td>False</td>\n      <td>False</td>\n      <td>False</td>\n      <td>False</td>\n      <td>False</td>\n      <td>False</td>\n      <td>False</td>\n      <td>False</td>\n      <td>False</td>\n      <td>False</td>\n      <td>False</td>\n      <td>False</td>\n    </tr>\n    <tr>\n      <th>Pre_tectonic_series</th>\n      <td>False</td>\n      <td>False</td>\n      <td>False</td>\n      <td>False</td>\n      <td>False</td>\n      <td>False</td>\n      <td>False</td>\n      <td>False</td>\n      <td>False</td>\n      <td>False</td>\n      <td>False</td>\n      <td>False</td>\n    </tr>\n    <tr>\n      <th>Basement</th>\n      <td>False</td>\n      <td>False</td>\n      <td>False</td>\n      <td>False</td>\n      <td>False</td>\n      <td>False</td>\n      <td>False</td>\n      <td>False</td>\n      <td>False</td>\n      <td>False</td>\n      <td>False</td>\n      <td>False</td>\n    </tr>\n  </tbody>\n</table>\n</div>",
        "text/plain": "                      Fault7_series  Fault6_series  Fault2_series  \\\nFault7_series                 False          False          False   \nFault6_series                 False          False          False   \nFault2_series                 False          False          False   \nFault5_series                 False          False          False   \nFault1_series                 False          False          False   \nFault3_series                 False          False          False   \nFault4_series                 False          False          False   \nPost_tectonic_series          False          False          False   \nSyn_tectonic_series2          False          False          False   \nSyn_tectonic_series1          False          False          False   \nPre_tectonic_series           False          False          False   \nBasement                      False          False          False   \n\n                      Fault5_series  Fault1_series  Fault3_series  \\\nFault7_series                 False          False          False   \nFault6_series                 False          False          False   \nFault2_series                 False          False          False   \nFault5_series                 False          False          False   \nFault1_series                 False          False          False   \nFault3_series                 False          False          False   \nFault4_series                 False          False          False   \nPost_tectonic_series          False          False          False   \nSyn_tectonic_series2          False          False          False   \nSyn_tectonic_series1          False          False          False   \nPre_tectonic_series           False          False          False   \nBasement                      False          False          False   \n\n                      Fault4_series  Post_tectonic_series  \\\nFault7_series                 False                  True   \nFault6_series                 False                  True   \nFault2_series                 False                  True   \nFault5_series                 False                  True   \nFault1_series                 False                  True   \nFault3_series                 False                  True   \nFault4_series                 False                  True   \nPost_tectonic_series          False                 False   \nSyn_tectonic_series2          False                 False   \nSyn_tectonic_series1          False                 False   \nPre_tectonic_series           False                 False   \nBasement                      False                 False   \n\n                      Syn_tectonic_series2  Syn_tectonic_series1  \\\nFault7_series                         True                  True   \nFault6_series                         True                  True   \nFault2_series                         True                  True   \nFault5_series                         True                  True   \nFault1_series                         True                  True   \nFault3_series                         True                  True   \nFault4_series                         True                  True   \nPost_tectonic_series                 False                 False   \nSyn_tectonic_series2                 False                 False   \nSyn_tectonic_series1                 False                 False   \nPre_tectonic_series                  False                 False   \nBasement                             False                 False   \n\n                      Pre_tectonic_series  Basement  \nFault7_series                        True      True  \nFault6_series                        True      True  \nFault2_series                        True      True  \nFault5_series                        True      True  \nFault1_series                        True      True  \nFault3_series                        True      True  \nFault4_series                        True      True  \nPost_tectonic_series                False     False  \nSyn_tectonic_series2                False     False  \nSyn_tectonic_series1                False     False  \nPre_tectonic_series                 False     False  \nBasement                            False     False  "
       },
       "execution_count": 10,
       "metadata": {},
       "output_type": "execute_result"
      }
     ],
     "persistentId": "fc9e0c38-c1bd-43c5-96d5-6b03880188f4",
     "text": "# table of fault relations\ngeo_model.faults.faults_relations_df"
    },
    "executionTime": "2020-01-09T13:52:01.948Z"
   },
   {
    "cell": {
     "executionCount": 11,
     "executionEventId": "ee31c7d9-dda7-4aef-a77c-8989b6556997",
     "hasError": false,
     "id": "59a229f7-3736-4187-bd63-2601c60b5ad1",
     "outputs": [
      {
       "data": {
        "text/plain": "<gempy.core.qgrid_integration.QgridModelIntegration at 0x7fd3804adf28>"
       },
       "execution_count": 11,
       "metadata": {},
       "output_type": "execute_result"
      }
     ],
     "persistentId": "5df2c9e8-b143-4690-8adf-f89949fdb52d",
     "text": "gp.activate_interactive_df(geo_model)"
    },
    "executionTime": "2020-01-09T13:52:03.649Z"
   },
   {
    "cell": {
     "executionCount": 12,
     "executionEventId": "12289e8b-fcc1-4e82-a2ae-8c9bb315f819",
     "hasError": false,
     "id": "caac6fc7-0df6-458e-909d-64b0d1bdfe36",
     "outputs": [
      {
       "data": {
        "application/vnd.jupyter.widget-view+json": {
         "model_id": "c457af08d0714901a8cef7f7cf193ae6",
         "version_major": 2,
         "version_minor": 0
        },
        "text/plain": "QgridWidget(grid_options={'fullWidthRows': True, 'syncColumnCellResize': True, 'forceFitColumns': True, 'defau…"
       },
       "metadata": {},
       "output_type": "display_data"
      }
     ],
     "persistentId": "c81e7f80-7a55-44aa-950f-9753dca6a759",
     "text": "# use this interactive table to check or un-check fault relations\ngeo_model.qi.get('faults_relations')"
    },
    "executionTime": "2020-01-09T13:52:05.907Z"
   }
  ],
  "kernelspec": {
<<<<<<< HEAD
   "display_name": "Python [conda env:gempy_env]",
   "language": "python",
   "name": "conda-env-gempy_env-py"
=======
   "display_name": "Python [conda env:env_gempy]",
   "language": "python",
   "name": "conda-env-env_gempy-py"
>>>>>>> 152f82ae45eb205ade2a6191ed0b548682544a52
  },
  "language_info": {
   "codemirror_mode": {
    "name": "ipython",
    "version": 3
   },
   "file_extension": ".py",
   "mimetype": "text/x-python",
   "name": "python",
   "nbconvert_exporter": "python",
   "pygments_lexer": "ipython3",
   "version": "3.7.8"
  },
  "latex_envs": {
   "LaTeX_envs_menu_present": true,
   "autoclose": false,
   "autocomplete": true,
   "bibliofile": "biblio.bib",
   "cite_by": "apalike",
   "current_citInitial": 1,
   "eqLabelWithNumbers": true,
   "eqNumInitial": 1,
   "hotkeys": {
    "equation": "Ctrl-E",
    "itemize": "Ctrl-I"
   },
   "labels_anchors": false,
   "latex_user_defs": false,
   "report_style_numbering": false,
   "user_envs_cfg": false
  },
  "toc": {
   "base_numbering": 1,
   "nav_menu": {},
   "number_sections": false,
   "sideBar": true,
   "skip_h1_title": false,
   "title_cell": "Table of Contents",
   "title_sidebar": "Contents",
   "toc_cell": false,
   "toc_position": {},
   "toc_section_display": true,
   "toc_window_display": false
  },
  "uuid": "61be901a-3926-4c80-a9c6-4744b54c8dbf",
  "varInspector": {
   "cols": {
    "lenName": 16,
    "lenType": 16,
    "lenVar": 40
   },
   "kernels_config": {
    "python": {
     "delete_cmd_postfix": "",
     "delete_cmd_prefix": "del ",
     "library": "var_list.py",
     "varRefreshCmd": "print(var_dic_list())"
    },
    "r": {
     "delete_cmd_postfix": ") ",
     "delete_cmd_prefix": "rm(",
     "library": "var_list.r",
     "varRefreshCmd": "cat(var_dic_list()) "
    }
   },
   "types_to_exclude": [
    "module",
    "function",
    "builtin_function_or_method",
    "instance",
    "_Feature"
   ],
   "window_display": false
  }
 },
 "nbformat": 4,
 "nbformat_minor": 4
}
