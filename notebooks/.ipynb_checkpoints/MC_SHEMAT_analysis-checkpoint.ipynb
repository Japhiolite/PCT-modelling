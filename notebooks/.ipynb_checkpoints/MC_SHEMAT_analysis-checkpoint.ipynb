{
 "cells": [
  {
   "cell_type": "code",
   "execution_count": 1,
   "metadata": {},
   "outputs": [],
   "source": [
    "# import some libraries\n",
    "from scipy.stats import hmean\n",
    "import pandas as pd\n",
    "import numpy as np\n",
    "import h5py\n",
    "import matplotlib.pyplot as plt\n",
    "%matplotlib inline\n",
    "\n",
    "import seaborn as sns\n",
    "sns.set_style('ticks')\n",
    "sns.set_context('talk')"
   ]
  },
  {
   "cell_type": "markdown",
   "metadata": {},
   "source": [
    "## Extract temperature data for MC-rejection\n",
    "For this, we use the `borehole logs`function in shemat. Borehole logs are defined for `i` and `j` values:  \n",
    "* 32, 15\n",
    "* 79, 23\n",
    "* 53, 34"
   ]
  },
  {
   "cell_type": "code",
   "execution_count": 33,
   "metadata": {
    "code_folding": []
   },
   "outputs": [],
   "source": [
    "def load_borehole_log(datafile: str=None, z_asl: int=0):\n",
    "    \n",
    "    if z_asl > 0:\n",
    "        z_asl = -z_asl\n",
    "        \n",
    "    header = ['temperature', 'hydraulic head', 'pressure', 'delz', 'uindex']\n",
    "    \n",
    "    data = np.loadtxt(datafile)\n",
    "    log_file = pd.DataFrame(data=data, columns=header)\n",
    "    log_file['z_asl'] = log_file['delz'].cumsum() + z_asl\n",
    "    \n",
    "    return log_file\n",
    "\n",
    "def get_log_from_hdf(hdf_file: str=None, borehole_coordinates):\n",
    "    h5_file = h5py.File(hdf_file)"
   ]
  },
  {
   "cell_type": "code",
   "execution_count": 48,
   "metadata": {},
   "outputs": [],
   "source": [
    "h5_file = h5py.File('../models/20210219_MC_ensemble/PCT_base_model_final.h5')"
   ]
  },
  {
   "cell_type": "code",
   "execution_count": 50,
   "metadata": {},
   "outputs": [],
   "source": [
    "bhole = np.array([[32, 15],\n",
    "                 [79, 23],\n",
    "                 [53, 34]])"
   ]
  },
  {
   "cell_type": "code",
   "execution_count": 58,
   "metadata": {},
   "outputs": [],
   "source": [
    "temps = h5_file['temp'][:,bhole[0,1]+1, bhole[0,0]+1]"
   ]
  },
  {
   "cell_type": "code",
   "execution_count": 49,
   "metadata": {},
   "outputs": [],
   "source": [
    "temp = h5_file['temp'][:,:,:]\n",
    "head = h5_file['head'][:,:,:]\n",
    "pres = h5_file['pres'][:,:,:]\n",
    "uindex = h5_file['uindex'][:,:,:]\n",
    "\n"
   ]
  },
  {
   "cell_type": "code",
   "execution_count": 46,
   "metadata": {},
   "outputs": [],
   "source": [
    "log1 = load_borehole_log('../models/20210219_MC_ensemble/PCT_base_model_final_borehole3.dat', z_asl=-6500)"
   ]
  },
  {
   "cell_type": "code",
   "execution_count": 55,
   "metadata": {},
   "outputs": [
    {
     "data": {
      "text/plain": [
       "<AxesSubplot:xlabel='temperature', ylabel='z_asl'>"
      ]
     },
     "execution_count": 55,
     "metadata": {},
     "output_type": "execute_result"
    },
    {
     "data": {
      "image/png": "[encoded data removed]",
      "text/plain": [
       "<Figure size 432x288 with 1 Axes>"
      ]
     },
     "metadata": {},
     "output_type": "display_data"
    }
   ],
   "source": [
    "log1.plot.scatter('temperature', 'z_asl')"
   ]
  }
 ],
 "metadata": {
  "hide_input": false,
  "kernelspec": {
   "display_name": "Python [conda env:env_datasci]",
   "language": "python",
   "name": "conda-env-env_datasci-py"
  },
  "language_info": {
   "codemirror_mode": {
    "name": "ipython",
    "version": 3
   },
   "file_extension": ".py",
   "mimetype": "text/x-python",
   "name": "python",
   "nbconvert_exporter": "python",
   "pygments_lexer": "ipython3",
   "version": "3.7.8"
  },
  "latex_envs": {
   "LaTeX_envs_menu_present": true,
   "autoclose": false,
   "autocomplete": true,
   "bibliofile": "biblio.bib",
   "cite_by": "apalike",
   "current_citInitial": 1,
   "eqLabelWithNumbers": true,
   "eqNumInitial": 1,
   "hotkeys": {
    "equation": "Ctrl-E",
    "itemize": "Ctrl-I"
   },
   "labels_anchors": false,
   "latex_user_defs": false,
   "report_style_numbering": false,
   "user_envs_cfg": false
  }
 },
 "nbformat": 4,
 "nbformat_minor": 4
}
