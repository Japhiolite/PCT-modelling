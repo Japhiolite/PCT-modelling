{
 "cells": [
  {
   "cell_type": "code",
   "execution_count": 2,
   "metadata": {
    "execution_event_id": "f1376539-5ee2-4e8d-934f-3cd1de49b436",
    "last_executed_text": "# import some libraries\nimport sys, os\nsys.path.append(r'/Users/nijan/Documents/git/gempy/')\nimport seaborn as sns\nimport gempy as gp\n%matplotlib inline\n\nimport numpy as np\n#import pandas as pd",
    "persistent_id": "fec1bccb-59c6-4fb3-aa4c-143a6244bfb6"
   },
   "outputs": [],
   "source": [
    "# These two lines are necessary only if GemPy is not installed via pip\n",
    "import sys, os\n",
    "sys.path.append(r'../../gempy/')\n",
    "#sys.path.append(r'/Users/nijan/Documents/git/gempy/')\n",
    "\n",
    "# Importing GemPy\n",
    "import gempy as gp\n",
    "\n",
    "# Importing auxilary libraries\n",
    "import numpy as np\n",
    "import matplotlib.pyplot as plt\n",
    "import matplotlib.image as mpimg\n",
    "\n",
    "# For embedding matplotlib figures\n",
    "%matplotlib qt5"
   ]
  },
  {
   "cell_type": "code",
   "execution_count": 3,
   "metadata": {},
   "outputs": [],
   "source": [
    "import gempy.plot.vista"
   ]
  },
  {
   "cell_type": "code",
   "execution_count": 4,
   "metadata": {},
   "outputs": [],
   "source": [
    "# Import improved plotting features\n",
    "from gempy.plot import visualization_2d_pro as vv\n",
    "from gempy.plot import vista"
   ]
  },
  {
   "cell_type": "code",
   "execution_count": 5,
   "metadata": {},
   "outputs": [
    {
     "name": "stdout",
     "output_type": "stream",
     "text": [
      "Active grids: ['regular']\n",
      "Cropped raster to geo_model.grid.extent.\n",
      "depending on the size of the raster, this can take a while...\n",
      "storing converted file...\n",
      "Active grids: ['regular' 'topography']\n"
     ]
    }
   ],
   "source": [
    "# Import data\n",
    "# Create a model instance\n",
    "geo_model = gp.create_model('PCT_model')\n",
    "\n",
    "# Initialize the model, set dimension and load interface and orientation data\n",
    "gp.init_data(geo_model, [2635000, 2680000., 1240000., 1272000., -5000, 1000.], [100, 100, 50],\n",
    "            path_i = '../../Editorial-Transitional-Heatflow/data/processed/GemPy/well_lith_homogenized.csv')#,\n",
    "            #path_o = '../data/jordan_profile/all_orientations_raw.csv');\n",
    "#topo = geo_model.set_topography(source='gdal', filepath='../../data/processed/GemPy/Model_DTM_EPSG2056.tif');\n",
    "geo_model.set_topography(source='gdal', filepath='../data/jordan_profile/Model_DTM_EPSG2056.tif');"
   ]
  },
  {
   "cell_type": "code",
   "execution_count": 6,
   "metadata": {},
   "outputs": [],
   "source": [
    "import pyvista as pv\n",
    "pv.set_plot_theme(\"document\")\n",
    "\n",
    "p2d = vv.Plot2D(geo_model)\n",
    "p2d.create_figure((13,6));"
   ]
  },
  {
   "cell_type": "code",
   "execution_count": 7,
   "metadata": {},
   "outputs": [
    {
     "name": "stdout",
     "output_type": "stream",
     "text": [
      "Setting kriging parameters to their default values.\n",
      "Compiling theano function...\n",
      "Level of Optimization:  fast_compile\n",
      "Device:  cpu\n",
      "Precision:  float64\n",
      "Number of faults:  0\n",
      "Compilation Done!\n",
      "Kriging values: \n",
      "                       values\n",
      "range                55542.8\n",
      "$C_o$            7.34524e+07\n",
      "drift equations       [3, 3]\n"
     ]
    }
   ],
   "source": [
    "# Set the interpolator function\n",
    "# Create the theano model\n",
    "gp.set_interpolator(geo_model,\n",
    "                         compile_theano=True,\n",
    "                         theano_optimizer='fast_compile',\n",
    "                         verbose=[]);"
   ]
  },
  {
   "cell_type": "code",
   "execution_count": 8,
   "metadata": {},
   "outputs": [],
   "source": [
    "# A section along the x axis\n",
    "ax = p2d.add_section(cell_number=50, direction='x')"
   ]
  },
  {
   "cell_type": "code",
   "execution_count": 9,
   "metadata": {},
   "outputs": [],
   "source": [
    "p3d = vista.Vista(geo_model, plotter_type='background', notebook=False, real_time=False)"
   ]
  },
  {
   "cell_type": "code",
   "execution_count": 10,
   "metadata": {},
   "outputs": [],
   "source": [
    "p2d.plot_data(ax)\n",
    "p3d.plot_data()"
   ]
  }
 ],
 "metadata": {
  "hide_input": false,
  "kernelspec": {
   "display_name": "Python 3",
   "language": "python",
   "name": "python3"
  },
  "latex_envs": {
   "LaTeX_envs_menu_present": true,
   "autoclose": false,
   "autocomplete": true,
   "bibliofile": "biblio.bib",
   "cite_by": "apalike",
   "current_citInitial": 1,
   "eqLabelWithNumbers": true,
   "eqNumInitial": 1,
   "hotkeys": {
    "equation": "Ctrl-E",
    "itemize": "Ctrl-I"
   },
   "labels_anchors": false,
   "latex_user_defs": false,
   "report_style_numbering": false,
   "user_envs_cfg": false
  },
  "toc": {
   "base_numbering": 1,
   "nav_menu": {},
   "number_sections": false,
   "sideBar": true,
   "skip_h1_title": false,
   "title_cell": "Table of Contents",
   "title_sidebar": "Contents",
   "toc_cell": false,
   "toc_position": {},
   "toc_section_display": true,
   "toc_window_display": false
  },
  "varInspector": {
   "cols": {
    "lenName": 16,
    "lenType": 16,
    "lenVar": 40
   },
   "kernels_config": {
    "python": {
     "delete_cmd_postfix": "",
     "delete_cmd_prefix": "del ",
     "library": "var_list.py",
     "varRefreshCmd": "print(var_dic_list())"
    },
    "r": {
     "delete_cmd_postfix": ") ",
     "delete_cmd_prefix": "rm(",
     "library": "var_list.r",
     "varRefreshCmd": "cat(var_dic_list()) "
    }
   },
   "types_to_exclude": [
    "module",
    "function",
    "builtin_function_or_method",
    "instance",
    "_Feature"
   ],
   "window_display": false
  }
 },
 "nbformat": 4,
 "nbformat_minor": 4
}
