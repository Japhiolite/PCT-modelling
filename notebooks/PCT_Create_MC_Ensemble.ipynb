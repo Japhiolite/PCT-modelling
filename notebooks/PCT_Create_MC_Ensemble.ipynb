{
 "cells": [
  {
   "cell_type": "code",
   "execution_count": 1,
   "metadata": {},
   "outputs": [],
   "source": [
    "# These two lines are necessary only if GemPy is not installed via pip\n",
    "import sys, os\n",
    "sys.path.append(r'../../gempy/')\n",
    "#sys.path.append(r'/Users/nijan/Documents/git/gempy/')\n",
    "\n",
    "# Importing GemPy\n",
    "import gempy as gp\n",
    "from gempy.assets import topology as tp\n",
    "from gempy.bayesian.fields import compute_prob, calculate_ie_masked\n",
    "\n",
    "# Importing auxilary libraries\n",
    "import numpy as np\n",
    "import pandas as pd\n",
    "import matplotlib.pyplot as plt\n",
    "import matplotlib.image as mpimg\n",
    "\n",
    "# For embedding matplotlib figures\n",
    "#%matplotlib qt5\n",
    "%matplotlib inline\n",
    "\n",
    "# Import improved plotting features\n",
    "from gempy.plot import visualization_2d as vv\n",
    "from gempy.plot import vista\n",
    "\n",
    "import seaborn as sn"
   ]
  },
  {
   "cell_type": "code",
   "execution_count": 2,
   "metadata": {
    "code_folding": [
     1
    ]
   },
   "outputs": [],
   "source": [
    "## progress bar\n",
    "def log_progress(sequence, every=None, size=None, name='Items'):\n",
    "    from ipywidgets import IntProgress, HTML, VBox\n",
    "    from IPython.display import display\n",
    "\n",
    "    is_iterator = False\n",
    "    if size is None:\n",
    "        try:\n",
    "            size = len(sequence)\n",
    "        except TypeError:\n",
    "            is_iterator = True\n",
    "    if size is not None:\n",
    "        if every is None:\n",
    "            if size <= 200:\n",
    "                every = 1\n",
    "            else:\n",
    "                every = int(size / 200)     # every 0.5%\n",
    "    else:\n",
    "        assert every is not None, 'sequence is iterator, set every'\n",
    "\n",
    "    if is_iterator:\n",
    "        progress = IntProgress(min=0, max=1, value=1)\n",
    "        progress.bar_style = 'info'\n",
    "    else:\n",
    "        progress = IntProgress(min=0, max=size, value=0)\n",
    "    label = HTML()\n",
    "    box = VBox(children=[label, progress])\n",
    "    display(box)\n",
    "\n",
    "    index = 0\n",
    "    try:\n",
    "        for index, record in enumerate(sequence, 1):\n",
    "            if index == 1 or index % every == 0:\n",
    "                if is_iterator:\n",
    "                    label.value = '{name}: {index} / ?'.format(\n",
    "                        name=name,\n",
    "                        index=index\n",
    "                    )\n",
    "                else:\n",
    "                    progress.value = index\n",
    "                    label.value = u'{name}: {index} / {size}'.format(\n",
    "                        name=name,\n",
    "                        index=index,\n",
    "                        size=size\n",
    "                    )\n",
    "            yield record\n",
    "    except:\n",
    "        progress.bar_style = 'danger'\n",
    "        raise\n",
    "    else:\n",
    "        progress.bar_style = 'success'\n",
    "        progress.value = index\n",
    "        label.value = \"{name}: {index}\".format(\n",
    "            name=name,\n",
    "            index=str(index or '?')\n",
    "        )"
   ]
  },
  {
   "cell_type": "markdown",
   "metadata": {},
   "source": [
    "# Model Initialization\n",
    "We import the base model with its topography etc."
   ]
  },
  {
   "cell_type": "code",
   "execution_count": 3,
   "metadata": {},
   "outputs": [
    {
     "name": "stdout",
     "output_type": "stream",
     "text": [
      "Active grids: ['regular']\n",
      "Active grids: ['regular' 'topography']\n"
     ]
    }
   ],
   "source": [
    "model_path = '../models/20210319_MC_no_middle_filling/'\n",
    "\n",
    "geo_model = gp.load_model('Graben_base_model', path=model_path,\n",
    "                         recompile=False)"
   ]
  },
  {
   "cell_type": "code",
   "execution_count": 4,
   "metadata": {},
   "outputs": [
    {
     "data": {
      "text/html": [
       "<div>\n",
       "<style scoped>\n",
       "    .dataframe tbody tr th:only-of-type {\n",
       "        vertical-align: middle;\n",
       "    }\n",
       "\n",
       "    .dataframe tbody tr th {\n",
       "        vertical-align: top;\n",
       "    }\n",
       "\n",
       "    .dataframe thead th {\n",
       "        text-align: right;\n",
       "    }\n",
       "</style>\n",
       "<table border=\"1\" class=\"dataframe\">\n",
       "  <thead>\n",
       "    <tr style=\"text-align: right;\">\n",
       "      <th></th>\n",
       "      <th></th>\n",
       "      <th>values</th>\n",
       "    </tr>\n",
       "  </thead>\n",
       "  <tbody>\n",
       "    <tr>\n",
       "      <th rowspan=\"9\" valign=\"top\">Structure</th>\n",
       "      <th>isLith</th>\n",
       "      <td>True</td>\n",
       "    </tr>\n",
       "    <tr>\n",
       "      <th>isFault</th>\n",
       "      <td>True</td>\n",
       "    </tr>\n",
       "    <tr>\n",
       "      <th>number faults</th>\n",
       "      <td>5</td>\n",
       "    </tr>\n",
       "    <tr>\n",
       "      <th>number surfaces</th>\n",
       "      <td>11</td>\n",
       "    </tr>\n",
       "    <tr>\n",
       "      <th>number series</th>\n",
       "      <td>10</td>\n",
       "    </tr>\n",
       "    <tr>\n",
       "      <th>number surfaces per series</th>\n",
       "      <td>[1, 1, 1, 1, 1, 3, 1, 1, 1, 0]</td>\n",
       "    </tr>\n",
       "    <tr>\n",
       "      <th>len surfaces surface_points</th>\n",
       "      <td>[6, 8, 12, 8, 6, 8, 14, 14, 26, 24, 24]</td>\n",
       "    </tr>\n",
       "    <tr>\n",
       "      <th>len series surface_points</th>\n",
       "      <td>[6, 8, 12, 8, 6, 36, 26, 24, 24, 0]</td>\n",
       "    </tr>\n",
       "    <tr>\n",
       "      <th>len series orientations</th>\n",
       "      <td>[2, 2, 6, 4, 2, 12, 16, 12, 10, 0]</td>\n",
       "    </tr>\n",
       "    <tr>\n",
       "      <th rowspan=\"5\" valign=\"top\">Options</th>\n",
       "      <th>dtype</th>\n",
       "      <td>float64</td>\n",
       "    </tr>\n",
       "    <tr>\n",
       "      <th>output</th>\n",
       "      <td>geology</td>\n",
       "    </tr>\n",
       "    <tr>\n",
       "      <th>theano_optimizer</th>\n",
       "      <td>fast_compile</td>\n",
       "    </tr>\n",
       "    <tr>\n",
       "      <th>device</th>\n",
       "      <td>cpu</td>\n",
       "    </tr>\n",
       "    <tr>\n",
       "      <th>verbosity</th>\n",
       "      <td>None</td>\n",
       "    </tr>\n",
       "    <tr>\n",
       "      <th rowspan=\"3\" valign=\"top\">Kriging</th>\n",
       "      <th>range</th>\n",
       "      <td>32190.8</td>\n",
       "    </tr>\n",
       "    <tr>\n",
       "      <th>$C_o$</th>\n",
       "      <td>2.46726e+07</td>\n",
       "    </tr>\n",
       "    <tr>\n",
       "      <th>drift equations</th>\n",
       "      <td>[3, 3, 3, 3, 3, 3, 3, 3, 3, 3]</td>\n",
       "    </tr>\n",
       "    <tr>\n",
       "      <th rowspan=\"2\" valign=\"top\">Rescaling</th>\n",
       "      <th>rescaling factor</th>\n",
       "      <td>56916.7</td>\n",
       "    </tr>\n",
       "    <tr>\n",
       "      <th>centers</th>\n",
       "      <td>[14239.166495, 6900.0, -2581.92853]</td>\n",
       "    </tr>\n",
       "  </tbody>\n",
       "</table>\n",
       "</div>"
      ],
      "text/plain": [
       "                                                                        values\n",
       "Structure isLith                                                          True\n",
       "          isFault                                                         True\n",
       "          number faults                                                      5\n",
       "          number surfaces                                                   11\n",
       "          number series                                                     10\n",
       "          number surfaces per series            [1, 1, 1, 1, 1, 3, 1, 1, 1, 0]\n",
       "          len surfaces surface_points  [6, 8, 12, 8, 6, 8, 14, 14, 26, 24, 24]\n",
       "          len series surface_points        [6, 8, 12, 8, 6, 36, 26, 24, 24, 0]\n",
       "          len series orientations           [2, 2, 6, 4, 2, 12, 16, 12, 10, 0]\n",
       "Options   dtype                                                        float64\n",
       "          output                                                       geology\n",
       "          theano_optimizer                                        fast_compile\n",
       "          device                                                           cpu\n",
       "          verbosity                                                       None\n",
       "Kriging   range                                                        32190.8\n",
       "          $C_o$                                                    2.46726e+07\n",
       "          drift equations                       [3, 3, 3, 3, 3, 3, 3, 3, 3, 3]\n",
       "Rescaling rescaling factor                                             56916.7\n",
       "          centers                          [14239.166495, 6900.0, -2581.92853]"
      ]
     },
     "execution_count": 4,
     "metadata": {},
     "output_type": "execute_result"
    }
   ],
   "source": [
    "geo_model.get_additional_data()"
   ]
  },
  {
   "cell_type": "code",
   "execution_count": 5,
   "metadata": {},
   "outputs": [
    {
     "name": "stdout",
     "output_type": "stream",
     "text": [
      "Compiling theano function...\n",
      "Level of Optimization:  fast_compile\n",
      "Device:  cpu\n",
      "Precision:  float64\n",
      "Number of faults:  5\n",
      "Compilation Done!\n",
      "Kriging values: \n",
      "                                          values\n",
      "range                                     20000\n",
      "$C_o$                                    200000\n",
      "drift equations  [3, 3, 3, 3, 3, 3, 3, 3, 3, 3]\n"
     ]
    }
   ],
   "source": [
    "# adapt kriging to the parameters of previous example\n",
    "# decrease the kriging range\n",
    "geo_model.modify_kriging_parameters('range', 20000.)\n",
    "geo_model.modify_kriging_parameters('$C_o$', 2e5)\n",
    "#geo_model.modify_surface_points('all', smooth=1e-6)\n",
    "\n",
    "# Set the interpolator function\n",
    "# Create the theano model\n",
    "gp.set_interpolator(geo_model,\n",
    "                         compile_theano=True,\n",
    "                         theano_optimizer='fast_compile',\n",
    "                         verbose=[],\n",
    "                         update_kriging=False);"
   ]
  },
  {
   "cell_type": "code",
   "execution_count": 6,
   "metadata": {},
   "outputs": [
    {
     "name": "stderr",
     "output_type": "stream",
     "text": [
      "C:\\Users\\brigg\\miniconda3\\envs\\env_gempy\\lib\\site-packages\\gempy\\core\\solution.py:315: UserWarning: Surfaces not computed due to: No surface found at the given iso value.. The surface is: Series: No surface found at the given iso value.; Surface Number:8\n",
      "  '; Surface Number:' + str(s_n))\n",
      "C:\\Users\\brigg\\miniconda3\\envs\\env_gempy\\lib\\site-packages\\gempy\\core\\solution.py:128: VisibleDeprecationWarning: Creating an ndarray from ragged nested sequences (which is a list-or-tuple of lists-or-tuples-or ndarrays with different lengths or shapes) is deprecated. If you meant to do this, you must specify 'dtype=object' when creating the ndarray\n",
      "  self.geological_map = np.array([values[0][:, l0: l1], values[4][:, l0: l1].astype(float)])\n"
     ]
    }
   ],
   "source": [
    "# Compute the model\n",
    "sol = gp.compute_model(geo_model, compute_mesh=True)"
   ]
  },
  {
   "cell_type": "markdown",
   "metadata": {},
   "source": [
    "## Add Gravity grid"
   ]
  },
  {
   "cell_type": "code",
   "execution_count": 6,
   "metadata": {},
   "outputs": [
    {
     "data": {
      "text/plain": [
       "<matplotlib.colorbar.Colorbar at 0x14f505fb208>"
      ]
     },
     "execution_count": 6,
     "metadata": {},
     "output_type": "execute_result"
    },
    {
     "data": {
      "image/png": "[encoded data removed]",
      "text/plain": [
       "<Figure size 432x288 with 2 Axes>"
      ]
     },
     "metadata": {
      "needs_background": "light"
     },
     "output_type": "display_data"
    }
   ],
   "source": [
    "# distribute stations\n",
    "import random\n",
    "random.seed(58)\n",
    "station_indices = random.sample(range(0, 4999), 15)\n",
    "station_coordinates = geo_model._grid.topography.values[station_indices, :]\n",
    "\n",
    "cs = plt.scatter(station_coordinates[:,0], station_coordinates[:,1], c=station_coordinates[:,2], cmap='viridis')\n",
    "plt.colorbar(cs)"
   ]
  },
  {
   "cell_type": "code",
   "execution_count": 7,
   "metadata": {},
   "outputs": [
    {
     "name": "stdout",
     "output_type": "stream",
     "text": [
      "Active grids: ['regular' 'topography' 'centered']\n"
     ]
    }
   ],
   "source": [
    "from gempy.assets.geophysics import GravityPreprocessing\n",
    "geo_model.set_centered_grid(station_coordinates,  resolution = [10, 10, 15], radius=6000)\n",
    "g = GravityPreprocessing(geo_model.grid.centered_grid)\n",
    "tz = g.set_tz_kernel()"
   ]
  },
  {
   "cell_type": "code",
   "execution_count": 8,
   "metadata": {},
   "outputs": [
    {
     "data": {
      "text/html": [
       "<style  type=\"text/css\" >\n",
       "    #T_08b71f8c_8c7b_11eb_86b1_d05099154a5crow0_col3 {\n",
       "            background-color:  #5DA629;\n",
       "        }    #T_08b71f8c_8c7b_11eb_86b1_d05099154a5crow1_col3 {\n",
       "            background-color:  #5DA629;\n",
       "        }    #T_08b71f8c_8c7b_11eb_86b1_d05099154a5crow2_col3 {\n",
       "            background-color:  #015482;\n",
       "        }    #T_08b71f8c_8c7b_11eb_86b1_d05099154a5crow3_col3 {\n",
       "            background-color:  #015482;\n",
       "        }    #T_08b71f8c_8c7b_11eb_86b1_d05099154a5crow4_col3 {\n",
       "            background-color:  #015482;\n",
       "        }    #T_08b71f8c_8c7b_11eb_86b1_d05099154a5crow5_col3 {\n",
       "            background-color:  #dbdbac;\n",
       "        }    #T_08b71f8c_8c7b_11eb_86b1_d05099154a5crow6_col3 {\n",
       "            background-color:  #e588f3;\n",
       "        }    #T_08b71f8c_8c7b_11eb_86b1_d05099154a5crow7_col3 {\n",
       "            background-color:  #ff792b;\n",
       "        }    #T_08b71f8c_8c7b_11eb_86b1_d05099154a5crow8_col3 {\n",
       "            background-color:  #725c9a;\n",
       "        }    #T_08b71f8c_8c7b_11eb_86b1_d05099154a5crow9_col3 {\n",
       "            background-color:  #cfc199;\n",
       "        }    #T_08b71f8c_8c7b_11eb_86b1_d05099154a5crow10_col3 {\n",
       "            background-color:  #a5d490;\n",
       "        }    #T_08b71f8c_8c7b_11eb_86b1_d05099154a5crow11_col3 {\n",
       "            background-color:  #c7848f;\n",
       "        }</style><table id=\"T_08b71f8c_8c7b_11eb_86b1_d05099154a5c\" ><thead>    <tr>        <th class=\"blank level0\" ></th>        <th class=\"col_heading level0 col0\" >surface</th>        <th class=\"col_heading level0 col1\" >series</th>        <th class=\"col_heading level0 col2\" >order_surfaces</th>        <th class=\"col_heading level0 col3\" >color</th>        <th class=\"col_heading level0 col4\" >id</th>        <th class=\"col_heading level0 col5\" >density</th>    </tr></thead><tbody>\n",
       "                <tr>\n",
       "                        <th id=\"T_08b71f8c_8c7b_11eb_86b1_d05099154a5clevel0_row0\" class=\"row_heading level0 row0\" >9</th>\n",
       "                        <td id=\"T_08b71f8c_8c7b_11eb_86b1_d05099154a5crow0_col0\" class=\"data row0 col0\" >Thrust1_south</td>\n",
       "                        <td id=\"T_08b71f8c_8c7b_11eb_86b1_d05099154a5crow0_col1\" class=\"data row0 col1\" >Thrust1_series</td>\n",
       "                        <td id=\"T_08b71f8c_8c7b_11eb_86b1_d05099154a5crow0_col2\" class=\"data row0 col2\" >1</td>\n",
       "                        <td id=\"T_08b71f8c_8c7b_11eb_86b1_d05099154a5crow0_col3\" class=\"data row0 col3\" >#5DA629</td>\n",
       "                        <td id=\"T_08b71f8c_8c7b_11eb_86b1_d05099154a5crow0_col4\" class=\"data row0 col4\" >1</td>\n",
       "                        <td id=\"T_08b71f8c_8c7b_11eb_86b1_d05099154a5crow0_col5\" class=\"data row0 col5\" >0.000000</td>\n",
       "            </tr>\n",
       "            <tr>\n",
       "                        <th id=\"T_08b71f8c_8c7b_11eb_86b1_d05099154a5clevel0_row1\" class=\"row_heading level0 row1\" >10</th>\n",
       "                        <td id=\"T_08b71f8c_8c7b_11eb_86b1_d05099154a5crow1_col0\" class=\"data row1 col0\" >Thrust2_south</td>\n",
       "                        <td id=\"T_08b71f8c_8c7b_11eb_86b1_d05099154a5crow1_col1\" class=\"data row1 col1\" >Thrust2_series</td>\n",
       "                        <td id=\"T_08b71f8c_8c7b_11eb_86b1_d05099154a5crow1_col2\" class=\"data row1 col2\" >1</td>\n",
       "                        <td id=\"T_08b71f8c_8c7b_11eb_86b1_d05099154a5crow1_col3\" class=\"data row1 col3\" >#5DA629</td>\n",
       "                        <td id=\"T_08b71f8c_8c7b_11eb_86b1_d05099154a5crow1_col4\" class=\"data row1 col4\" >2</td>\n",
       "                        <td id=\"T_08b71f8c_8c7b_11eb_86b1_d05099154a5crow1_col5\" class=\"data row1 col5\" >0.000000</td>\n",
       "            </tr>\n",
       "            <tr>\n",
       "                        <th id=\"T_08b71f8c_8c7b_11eb_86b1_d05099154a5clevel0_row2\" class=\"row_heading level0 row2\" >0</th>\n",
       "                        <td id=\"T_08b71f8c_8c7b_11eb_86b1_d05099154a5crow2_col0\" class=\"data row2 col0\" >Fault2</td>\n",
       "                        <td id=\"T_08b71f8c_8c7b_11eb_86b1_d05099154a5crow2_col1\" class=\"data row2 col1\" >Fault2_series</td>\n",
       "                        <td id=\"T_08b71f8c_8c7b_11eb_86b1_d05099154a5crow2_col2\" class=\"data row2 col2\" >1</td>\n",
       "                        <td id=\"T_08b71f8c_8c7b_11eb_86b1_d05099154a5crow2_col3\" class=\"data row2 col3\" >#015482</td>\n",
       "                        <td id=\"T_08b71f8c_8c7b_11eb_86b1_d05099154a5crow2_col4\" class=\"data row2 col4\" >3</td>\n",
       "                        <td id=\"T_08b71f8c_8c7b_11eb_86b1_d05099154a5crow2_col5\" class=\"data row2 col5\" >0.000000</td>\n",
       "            </tr>\n",
       "            <tr>\n",
       "                        <th id=\"T_08b71f8c_8c7b_11eb_86b1_d05099154a5clevel0_row3\" class=\"row_heading level0 row3\" >1</th>\n",
       "                        <td id=\"T_08b71f8c_8c7b_11eb_86b1_d05099154a5crow3_col0\" class=\"data row3 col0\" >Fault5</td>\n",
       "                        <td id=\"T_08b71f8c_8c7b_11eb_86b1_d05099154a5crow3_col1\" class=\"data row3 col1\" >Fault5_series</td>\n",
       "                        <td id=\"T_08b71f8c_8c7b_11eb_86b1_d05099154a5crow3_col2\" class=\"data row3 col2\" >1</td>\n",
       "                        <td id=\"T_08b71f8c_8c7b_11eb_86b1_d05099154a5crow3_col3\" class=\"data row3 col3\" >#015482</td>\n",
       "                        <td id=\"T_08b71f8c_8c7b_11eb_86b1_d05099154a5crow3_col4\" class=\"data row3 col4\" >4</td>\n",
       "                        <td id=\"T_08b71f8c_8c7b_11eb_86b1_d05099154a5crow3_col5\" class=\"data row3 col5\" >0.000000</td>\n",
       "            </tr>\n",
       "            <tr>\n",
       "                        <th id=\"T_08b71f8c_8c7b_11eb_86b1_d05099154a5clevel0_row4\" class=\"row_heading level0 row4\" >2</th>\n",
       "                        <td id=\"T_08b71f8c_8c7b_11eb_86b1_d05099154a5crow4_col0\" class=\"data row4 col0\" >Fault6</td>\n",
       "                        <td id=\"T_08b71f8c_8c7b_11eb_86b1_d05099154a5crow4_col1\" class=\"data row4 col1\" >Fault6_series</td>\n",
       "                        <td id=\"T_08b71f8c_8c7b_11eb_86b1_d05099154a5crow4_col2\" class=\"data row4 col2\" >1</td>\n",
       "                        <td id=\"T_08b71f8c_8c7b_11eb_86b1_d05099154a5crow4_col3\" class=\"data row4 col3\" >#015482</td>\n",
       "                        <td id=\"T_08b71f8c_8c7b_11eb_86b1_d05099154a5crow4_col4\" class=\"data row4 col4\" >5</td>\n",
       "                        <td id=\"T_08b71f8c_8c7b_11eb_86b1_d05099154a5crow4_col5\" class=\"data row4 col5\" >0.000000</td>\n",
       "            </tr>\n",
       "            <tr>\n",
       "                        <th id=\"T_08b71f8c_8c7b_11eb_86b1_d05099154a5clevel0_row5\" class=\"row_heading level0 row5\" >6</th>\n",
       "                        <td id=\"T_08b71f8c_8c7b_11eb_86b1_d05099154a5crow5_col0\" class=\"data row5 col0\" >Tertiary</td>\n",
       "                        <td id=\"T_08b71f8c_8c7b_11eb_86b1_d05099154a5crow5_col1\" class=\"data row5 col1\" >Post_tectonic_series</td>\n",
       "                        <td id=\"T_08b71f8c_8c7b_11eb_86b1_d05099154a5crow5_col2\" class=\"data row5 col2\" >1</td>\n",
       "                        <td id=\"T_08b71f8c_8c7b_11eb_86b1_d05099154a5crow5_col3\" class=\"data row5 col3\" >#dbdbac</td>\n",
       "                        <td id=\"T_08b71f8c_8c7b_11eb_86b1_d05099154a5crow5_col4\" class=\"data row5 col4\" >6</td>\n",
       "                        <td id=\"T_08b71f8c_8c7b_11eb_86b1_d05099154a5crow5_col5\" class=\"data row5 col5\" >2.500000</td>\n",
       "            </tr>\n",
       "            <tr>\n",
       "                        <th id=\"T_08b71f8c_8c7b_11eb_86b1_d05099154a5clevel0_row6\" class=\"row_heading level0 row6\" >8</th>\n",
       "                        <td id=\"T_08b71f8c_8c7b_11eb_86b1_d05099154a5crow6_col0\" class=\"data row6 col0\" >Pink</td>\n",
       "                        <td id=\"T_08b71f8c_8c7b_11eb_86b1_d05099154a5crow6_col1\" class=\"data row6 col1\" >Post_tectonic_series</td>\n",
       "                        <td id=\"T_08b71f8c_8c7b_11eb_86b1_d05099154a5crow6_col2\" class=\"data row6 col2\" >2</td>\n",
       "                        <td id=\"T_08b71f8c_8c7b_11eb_86b1_d05099154a5crow6_col3\" class=\"data row6 col3\" >#e588f3</td>\n",
       "                        <td id=\"T_08b71f8c_8c7b_11eb_86b1_d05099154a5crow6_col4\" class=\"data row6 col4\" >7</td>\n",
       "                        <td id=\"T_08b71f8c_8c7b_11eb_86b1_d05099154a5crow6_col5\" class=\"data row6 col5\" >2.530000</td>\n",
       "            </tr>\n",
       "            <tr>\n",
       "                        <th id=\"T_08b71f8c_8c7b_11eb_86b1_d05099154a5clevel0_row7\" class=\"row_heading level0 row7\" >7</th>\n",
       "                        <td id=\"T_08b71f8c_8c7b_11eb_86b1_d05099154a5crow7_col0\" class=\"data row7 col0\" >Orange</td>\n",
       "                        <td id=\"T_08b71f8c_8c7b_11eb_86b1_d05099154a5crow7_col1\" class=\"data row7 col1\" >Post_tectonic_series</td>\n",
       "                        <td id=\"T_08b71f8c_8c7b_11eb_86b1_d05099154a5crow7_col2\" class=\"data row7 col2\" >3</td>\n",
       "                        <td id=\"T_08b71f8c_8c7b_11eb_86b1_d05099154a5crow7_col3\" class=\"data row7 col3\" >#ff792b</td>\n",
       "                        <td id=\"T_08b71f8c_8c7b_11eb_86b1_d05099154a5crow7_col4\" class=\"data row7 col4\" >8</td>\n",
       "                        <td id=\"T_08b71f8c_8c7b_11eb_86b1_d05099154a5crow7_col5\" class=\"data row7 col5\" >2.550000</td>\n",
       "            </tr>\n",
       "            <tr>\n",
       "                        <th id=\"T_08b71f8c_8c7b_11eb_86b1_d05099154a5clevel0_row8\" class=\"row_heading level0 row8\" >5</th>\n",
       "                        <td id=\"T_08b71f8c_8c7b_11eb_86b1_d05099154a5crow8_col0\" class=\"data row8 col0\" >Mesozoic</td>\n",
       "                        <td id=\"T_08b71f8c_8c7b_11eb_86b1_d05099154a5crow8_col1\" class=\"data row8 col1\" >Detachement</td>\n",
       "                        <td id=\"T_08b71f8c_8c7b_11eb_86b1_d05099154a5crow8_col2\" class=\"data row8 col2\" >1</td>\n",
       "                        <td id=\"T_08b71f8c_8c7b_11eb_86b1_d05099154a5crow8_col3\" class=\"data row8 col3\" >#725c9a</td>\n",
       "                        <td id=\"T_08b71f8c_8c7b_11eb_86b1_d05099154a5crow8_col4\" class=\"data row8 col4\" >9</td>\n",
       "                        <td id=\"T_08b71f8c_8c7b_11eb_86b1_d05099154a5crow8_col5\" class=\"data row8 col5\" >2.600000</td>\n",
       "            </tr>\n",
       "            <tr>\n",
       "                        <th id=\"T_08b71f8c_8c7b_11eb_86b1_d05099154a5clevel0_row9\" class=\"row_heading level0 row9\" >4</th>\n",
       "                        <td id=\"T_08b71f8c_8c7b_11eb_86b1_d05099154a5crow9_col0\" class=\"data row9 col0\" >Upper-filling</td>\n",
       "                        <td id=\"T_08b71f8c_8c7b_11eb_86b1_d05099154a5crow9_col1\" class=\"data row9 col1\" >Syn_tectonic_series2</td>\n",
       "                        <td id=\"T_08b71f8c_8c7b_11eb_86b1_d05099154a5crow9_col2\" class=\"data row9 col2\" >1</td>\n",
       "                        <td id=\"T_08b71f8c_8c7b_11eb_86b1_d05099154a5crow9_col3\" class=\"data row9 col3\" >#cfc199</td>\n",
       "                        <td id=\"T_08b71f8c_8c7b_11eb_86b1_d05099154a5crow9_col4\" class=\"data row9 col4\" >10</td>\n",
       "                        <td id=\"T_08b71f8c_8c7b_11eb_86b1_d05099154a5crow9_col5\" class=\"data row9 col5\" >2.470000</td>\n",
       "            </tr>\n",
       "            <tr>\n",
       "                        <th id=\"T_08b71f8c_8c7b_11eb_86b1_d05099154a5clevel0_row10\" class=\"row_heading level0 row10\" >3</th>\n",
       "                        <td id=\"T_08b71f8c_8c7b_11eb_86b1_d05099154a5crow10_col0\" class=\"data row10 col0\" >Lower-filling</td>\n",
       "                        <td id=\"T_08b71f8c_8c7b_11eb_86b1_d05099154a5crow10_col1\" class=\"data row10 col1\" >Pre_tectonic_series</td>\n",
       "                        <td id=\"T_08b71f8c_8c7b_11eb_86b1_d05099154a5crow10_col2\" class=\"data row10 col2\" >1</td>\n",
       "                        <td id=\"T_08b71f8c_8c7b_11eb_86b1_d05099154a5crow10_col3\" class=\"data row10 col3\" >#a5d490</td>\n",
       "                        <td id=\"T_08b71f8c_8c7b_11eb_86b1_d05099154a5crow10_col4\" class=\"data row10 col4\" >11</td>\n",
       "                        <td id=\"T_08b71f8c_8c7b_11eb_86b1_d05099154a5crow10_col5\" class=\"data row10 col5\" >2.570000</td>\n",
       "            </tr>\n",
       "            <tr>\n",
       "                        <th id=\"T_08b71f8c_8c7b_11eb_86b1_d05099154a5clevel0_row11\" class=\"row_heading level0 row11\" >11</th>\n",
       "                        <td id=\"T_08b71f8c_8c7b_11eb_86b1_d05099154a5crow11_col0\" class=\"data row11 col0\" >basement</td>\n",
       "                        <td id=\"T_08b71f8c_8c7b_11eb_86b1_d05099154a5crow11_col1\" class=\"data row11 col1\" >Basement</td>\n",
       "                        <td id=\"T_08b71f8c_8c7b_11eb_86b1_d05099154a5crow11_col2\" class=\"data row11 col2\" >1</td>\n",
       "                        <td id=\"T_08b71f8c_8c7b_11eb_86b1_d05099154a5crow11_col3\" class=\"data row11 col3\" >#c7848f</td>\n",
       "                        <td id=\"T_08b71f8c_8c7b_11eb_86b1_d05099154a5crow11_col4\" class=\"data row11 col4\" >12</td>\n",
       "                        <td id=\"T_08b71f8c_8c7b_11eb_86b1_d05099154a5crow11_col5\" class=\"data row11 col5\" >2.670000</td>\n",
       "            </tr>\n",
       "    </tbody></table>"
      ],
      "text/plain": [
       "          surface                series  order_surfaces    color  id  density\n",
       "9   Thrust1_south        Thrust1_series               1  #5DA629   1     0.00\n",
       "10  Thrust2_south        Thrust2_series               1  #5DA629   2     0.00\n",
       "0          Fault2         Fault2_series               1  #015482   3     0.00\n",
       "1          Fault5         Fault5_series               1  #015482   4     0.00\n",
       "2          Fault6         Fault6_series               1  #015482   5     0.00\n",
       "6        Tertiary  Post_tectonic_series               1  #dbdbac   6     2.50\n",
       "8            Pink  Post_tectonic_series               2  #e588f3   7     2.53\n",
       "7          Orange  Post_tectonic_series               3  #ff792b   8     2.55\n",
       "5        Mesozoic           Detachement               1  #725c9a   9     2.60\n",
       "4   Upper-filling  Syn_tectonic_series2               1  #cfc199  10     2.47\n",
       "3   Lower-filling   Pre_tectonic_series               1  #a5d490  11     2.57\n",
       "11       basement              Basement               1  #c7848f  12     2.67"
      ]
     },
     "execution_count": 8,
     "metadata": {},
     "output_type": "execute_result"
    }
   ],
   "source": [
    "# add densities - from abdelfettah 2014\n",
    "densities = [0, 0, 0, 0, 0, 2.5, 2.53, 2.55, \n",
    "             2.60, 2.47, 2.57, 2.67]\n",
    "geo_model.add_surface_values(densities, ['density'])"
   ]
  },
  {
   "cell_type": "code",
   "execution_count": 95,
   "metadata": {},
   "outputs": [
    {
     "name": "stdout",
     "output_type": "stream",
     "text": [
      "Compiling theano function...\n",
      "Level of Optimization:  fast_run\n",
      "Device:  cpu\n",
      "Precision:  float64\n",
      "Number of faults:  5\n",
      "Compilation Done!\n",
      "Kriging values: \n",
      "                                          values\n",
      "range                                     20000\n",
      "$C_o$                                    200000\n",
      "drift equations  [3, 3, 3, 3, 3, 3, 3, 3, 3, 3]\n"
     ]
    },
    {
     "data": {
      "text/plain": [
       "<gempy.core.interpolator.InterpolatorModel at 0x1ae943baf48>"
      ]
     },
     "execution_count": 95,
     "metadata": {},
     "output_type": "execute_result"
    }
   ],
   "source": [
    "gp.set_interpolator(geo_model, output=['gravity'], theano_optimizer='fast_run', update_kriging=False)"
   ]
  },
  {
   "cell_type": "code",
   "execution_count": 96,
   "metadata": {},
   "outputs": [
    {
     "name": "stderr",
     "output_type": "stream",
     "text": [
      "C:\\Users\\brigg\\miniconda3\\envs\\env_gempy\\lib\\site-packages\\gempy\\core\\solution.py:315: UserWarning: Surfaces not computed due to: No surface found at the given iso value.. The surface is: Series: No surface found at the given iso value.; Surface Number:8\n",
      "  '; Surface Number:' + str(s_n))\n",
      "C:\\Users\\brigg\\miniconda3\\envs\\env_gempy\\lib\\site-packages\\gempy\\core\\solution.py:128: VisibleDeprecationWarning: Creating an ndarray from ragged nested sequences (which is a list-or-tuple of lists-or-tuples-or ndarrays with different lengths or shapes) is deprecated. If you meant to do this, you must specify 'dtype=object' when creating the ndarray\n",
      "  self.geological_map = np.array([values[0][:, l0: l1], values[4][:, l0: l1].astype(float)])\n"
     ]
    }
   ],
   "source": [
    "sol = gp.compute_model(geo_model)\n",
    "grav = sol.fw_gravity"
   ]
  },
  {
   "cell_type": "code",
   "execution_count": 97,
   "metadata": {},
   "outputs": [],
   "source": [
    "grav1 = grav.reshape(len(grav),1)\n",
    "station_forw_grav = np.append(station_coordinates, grav1, axis=1)"
   ]
  },
  {
   "cell_type": "code",
   "execution_count": 98,
   "metadata": {},
   "outputs": [],
   "source": [
    "np.savetxt('../models/20210322_forw_grav_seed58.csv', station_forw_grav, fmt='%.2f, %.2f, %.2f, %.5f')"
   ]
  },
  {
   "cell_type": "markdown",
   "metadata": {},
   "source": [
    "## MC Variation"
   ]
  },
  {
   "cell_type": "code",
   "execution_count": 9,
   "metadata": {},
   "outputs": [],
   "source": [
    "depth_zero = geo_model.surface_points.df['Z'].copy()\n",
    "depth = depth_zero.copy()"
   ]
  },
  {
   "cell_type": "code",
   "execution_count": 10,
   "metadata": {},
   "outputs": [],
   "source": [
    "graben_bot = geo_model.surface_points.df.query(\"surface=='Lower-filling' or surface=='Upper-filling'\")"
   ]
  },
  {
   "cell_type": "code",
   "execution_count": 31,
   "metadata": {},
   "outputs": [
    {
     "name": "stdout",
     "output_type": "stream",
     "text": [
      "Compiling theano function...\n",
      "Level of Optimization:  fast_run\n",
      "Device:  cpu\n",
      "Precision:  float64\n",
      "Number of faults:  5\n",
      "Compilation Done!\n",
      "Kriging values: \n",
      "                                          values\n",
      "range                                     20000\n",
      "$C_o$                                    200000\n",
      "drift equations  [3, 3, 3, 3, 3, 3, 3, 3, 3, 3]\n"
     ]
    },
    {
     "data": {
      "application/vnd.jupyter.widget-view+json": {
       "model_id": "bf1b82236a904c578351dfe04fe1ee83",
       "version_major": 2,
       "version_minor": 0
      },
      "text/plain": [
       "VBox(children=(HTML(value=''), IntProgress(value=0, max=200)))"
      ]
     },
     "metadata": {},
     "output_type": "display_data"
    },
    {
     "name": "stderr",
     "output_type": "stream",
     "text": [
      "C:\\Users\\brigg\\miniconda3\\envs\\env_gempy\\lib\\site-packages\\gempy\\core\\solution.py:315: UserWarning: Surfaces not computed due to: No surface found at the given iso value.. The surface is: Series: No surface found at the given iso value.; Surface Number:8\n",
      "  '; Surface Number:' + str(s_n))\n",
      "C:\\Users\\brigg\\miniconda3\\envs\\env_gempy\\lib\\site-packages\\gempy\\core\\solution.py:128: VisibleDeprecationWarning: Creating an ndarray from ragged nested sequences (which is a list-or-tuple of lists-or-tuples-or ndarrays with different lengths or shapes) is deprecated. If you meant to do this, you must specify 'dtype=object' when creating the ndarray\n",
      "  self.geological_map = np.array([values[0][:, l0: l1], values[4][:, l0: l1].astype(float)])\n"
     ]
    }
   ],
   "source": [
    "# mask_surfpoints = geo_model.surface_points.df.series.isin(faults)\n",
    "gp.set_interpolator(geo_model, output=['gravity'], theano_optimizer='fast_run', update_kriging=False)\n",
    "np.random.seed(3020)\n",
    "lith_blocks = np.array([])\n",
    "grav = dict()\n",
    "edge_blocks = dict()\n",
    "cent_blocks = dict()\n",
    "depth = geo_model.surface_points.df['Z'].copy()\n",
    "graben = list(graben_bot.index)\n",
    "n_points = len(graben)\n",
    "n_iterations = 200\n",
    "\n",
    "geo_model._grid\n",
    "#for i in range(n_iterations):\n",
    "for i in log_progress(range(n_iterations), name='Models'):\n",
    "    variation = np.random.normal(0, 100)\n",
    "    Z = depth[graben] + np.random.normal(variation, 50, size=n_points)\n",
    "    geo_model.modify_surface_points(graben, Z=Z)\n",
    "    gp.compute_model(geo_model)\n",
    "    edges, centroids = tp.compute_topology(geo_model)\n",
    "    lith_blocks = np.append(lith_blocks, geo_model.solutions.lith_block)\n",
    "    grav[f\"Real_{i}\"] = geo_model.solutions.fw_gravity\n",
    "    edge_blocks[f\"Real_{i}\"] = edges\n",
    "    cent_blocks[f\"Real_{i}\"] = centroids\n",
    "\n",
    "lith_blocks = lith_blocks.reshape(n_iterations, -1)"
   ]
  },
  {
   "cell_type": "code",
   "execution_count": 32,
   "metadata": {},
   "outputs": [],
   "source": [
    "np.savetxt('../models/20210319_MC_no_middle_filling/lith_block_samples_run10_200real_rseed3020', lith_blocks, fmt='%d')"
   ]
  },
  {
   "cell_type": "code",
   "execution_count": 33,
   "metadata": {},
   "outputs": [],
   "source": [
    "gravdf = pd.DataFrame.from_dict(grav)"
   ]
  },
  {
   "cell_type": "code",
   "execution_count": 34,
   "metadata": {},
   "outputs": [],
   "source": [
    "gravdf[\"X\"] = station_coordinates[:,0]\n",
    "gravdf[\"Y\"] = station_coordinates[:,1]\n",
    "gravdf[\"Z\"] =station_coordinates[:,2]"
   ]
  },
  {
   "cell_type": "code",
   "execution_count": 35,
   "metadata": {},
   "outputs": [],
   "source": [
    "gravdf.to_csv(\"../models/20210319_MC_no_middle_filling/MC_grav_simulations_run10_200_reals_rseed3020.csv\", index=False)"
   ]
  },
  {
   "cell_type": "code",
   "execution_count": 19,
   "metadata": {},
   "outputs": [],
   "source": [
    "dist = np.array([])\n",
    "for i in range(10000):\n",
    "    dist = np.append(dist, np.random.normal(0, 100))\n",
    "\n",
    "sn.distplot(dist)"
   ]
  }
 ],
 "metadata": {
  "kernelspec": {
   "display_name": "Python [conda env:env_gempy]",
   "language": "python",
   "name": "conda-env-env_gempy-py"
  },
  "language_info": {
   "codemirror_mode": {
    "name": "ipython",
    "version": 3
   },
   "file_extension": ".py",
   "mimetype": "text/x-python",
   "name": "python",
   "nbconvert_exporter": "python",
   "pygments_lexer": "ipython3",
   "version": "3.7.8"
  },
  "latex_envs": {
   "LaTeX_envs_menu_present": true,
   "autoclose": false,
   "autocomplete": true,
   "bibliofile": "biblio.bib",
   "cite_by": "apalike",
   "current_citInitial": 1,
   "eqLabelWithNumbers": true,
   "eqNumInitial": 1,
   "hotkeys": {
    "equation": "Ctrl-E",
    "itemize": "Ctrl-I"
   },
   "labels_anchors": false,
   "latex_user_defs": false,
   "report_style_numbering": false,
   "user_envs_cfg": false
  },
  "varInspector": {
   "cols": {
    "lenName": 16,
    "lenType": 16,
    "lenVar": 40
   },
   "kernels_config": {
    "python": {
     "delete_cmd_postfix": "",
     "delete_cmd_prefix": "del ",
     "library": "var_list.py",
     "varRefreshCmd": "print(var_dic_list())"
    },
    "r": {
     "delete_cmd_postfix": ") ",
     "delete_cmd_prefix": "rm(",
     "library": "var_list.r",
     "varRefreshCmd": "cat(var_dic_list()) "
    }
   },
   "types_to_exclude": [
    "module",
    "function",
    "builtin_function_or_method",
    "instance",
    "_Feature"
   ],
   "window_display": false
  }
 },
 "nbformat": 4,
 "nbformat_minor": 4
}
