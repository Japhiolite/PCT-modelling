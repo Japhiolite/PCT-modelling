{
 "cells": [
  {
   "cell_type": "code",
   "execution_count": 1,
   "metadata": {},
   "outputs": [],
   "source": [
    "# These two lines are necessary only if GemPy is not installed via pip\n",
    "import sys, os\n",
    "sys.path.append(r'../../gempy/')\n",
    "#sys.path.append(r'/Users/nijan/Documents/git/gempy/')\n",
    "\n",
    "# Importing GemPy\n",
    "import gempy as gp\n",
    "from gempy.assets import topology as tp\n",
    "from gempy.bayesian.fields import compute_prob, calculate_ie_masked\n",
    "\n",
    "# Importing auxilary libraries\n",
    "import numpy as np\n",
    "import pandas as pd\n",
    "import matplotlib.pyplot as plt\n",
    "import matplotlib.image as mpimg\n",
    "\n",
    "# For embedding matplotlib figures\n",
    "#%matplotlib qt5\n",
    "%matplotlib inline\n",
    "\n",
    "# Import improved plotting features\n",
    "from gempy.plot import visualization_2d as vv\n",
    "from gempy.plot import vista\n",
    "\n",
    "import seaborn as sn"
   ]
  },
  {
   "cell_type": "code",
   "execution_count": 2,
   "metadata": {
    "code_folding": [
     1
    ]
   },
   "outputs": [],
   "source": [
    "## progress bar\n",
    "def log_progress(sequence, every=None, size=None, name='Items'):\n",
    "    from ipywidgets import IntProgress, HTML, VBox\n",
    "    from IPython.display import display\n",
    "\n",
    "    is_iterator = False\n",
    "    if size is None:\n",
    "        try:\n",
    "            size = len(sequence)\n",
    "        except TypeError:\n",
    "            is_iterator = True\n",
    "    if size is not None:\n",
    "        if every is None:\n",
    "            if size <= 200:\n",
    "                every = 1\n",
    "            else:\n",
    "                every = int(size / 200)     # every 0.5%\n",
    "    else:\n",
    "        assert every is not None, 'sequence is iterator, set every'\n",
    "\n",
    "    if is_iterator:\n",
    "        progress = IntProgress(min=0, max=1, value=1)\n",
    "        progress.bar_style = 'info'\n",
    "    else:\n",
    "        progress = IntProgress(min=0, max=size, value=0)\n",
    "    label = HTML()\n",
    "    box = VBox(children=[label, progress])\n",
    "    display(box)\n",
    "\n",
    "    index = 0\n",
    "    try:\n",
    "        for index, record in enumerate(sequence, 1):\n",
    "            if index == 1 or index % every == 0:\n",
    "                if is_iterator:\n",
    "                    label.value = '{name}: {index} / ?'.format(\n",
    "                        name=name,\n",
    "                        index=index\n",
    "                    )\n",
    "                else:\n",
    "                    progress.value = index\n",
    "                    label.value = u'{name}: {index} / {size}'.format(\n",
    "                        name=name,\n",
    "                        index=index,\n",
    "                        size=size\n",
    "                    )\n",
    "            yield record\n",
    "    except:\n",
    "        progress.bar_style = 'danger'\n",
    "        raise\n",
    "    else:\n",
    "        progress.bar_style = 'success'\n",
    "        progress.value = index\n",
    "        label.value = \"{name}: {index}\".format(\n",
    "            name=name,\n",
    "            index=str(index or '?')\n",
    "        )"
   ]
  },
  {
   "cell_type": "markdown",
   "metadata": {},
   "source": [
    "# Model Initialization\n",
    "We import the base model with its topography etc."
   ]
  },
  {
   "cell_type": "code",
   "execution_count": 3,
   "metadata": {},
   "outputs": [
    {
     "name": "stdout",
     "output_type": "stream",
     "text": [
      "Active grids: ['regular']\n",
      "Active grids: ['regular' 'topography']\n"
     ]
    }
   ],
   "source": [
    "model_path = '../models/20210319_MC_no_middle_filling/'\n",
    "\n",
    "geo_model = gp.load_model('Graben_base_model', path=model_path,\n",
    "                         recompile=False)"
   ]
  },
  {
   "cell_type": "code",
   "execution_count": 4,
   "metadata": {},
   "outputs": [
    {
     "data": {
      "text/html": [
       "<div>\n",
       "<style scoped>\n",
       "    .dataframe tbody tr th:only-of-type {\n",
       "        vertical-align: middle;\n",
       "    }\n",
       "\n",
       "    .dataframe tbody tr th {\n",
       "        vertical-align: top;\n",
       "    }\n",
       "\n",
       "    .dataframe thead th {\n",
       "        text-align: right;\n",
       "    }\n",
       "</style>\n",
       "<table border=\"1\" class=\"dataframe\">\n",
       "  <thead>\n",
       "    <tr style=\"text-align: right;\">\n",
       "      <th></th>\n",
       "      <th></th>\n",
       "      <th>values</th>\n",
       "    </tr>\n",
       "  </thead>\n",
       "  <tbody>\n",
       "    <tr>\n",
       "      <th rowspan=\"9\" valign=\"top\">Structure</th>\n",
       "      <th>isLith</th>\n",
       "      <td>True</td>\n",
       "    </tr>\n",
       "    <tr>\n",
       "      <th>isFault</th>\n",
       "      <td>True</td>\n",
       "    </tr>\n",
       "    <tr>\n",
       "      <th>number faults</th>\n",
       "      <td>5</td>\n",
       "    </tr>\n",
       "    <tr>\n",
       "      <th>number surfaces</th>\n",
       "      <td>11</td>\n",
       "    </tr>\n",
       "    <tr>\n",
       "      <th>number series</th>\n",
       "      <td>10</td>\n",
       "    </tr>\n",
       "    <tr>\n",
       "      <th>number surfaces per series</th>\n",
       "      <td>[1, 1, 1, 1, 1, 3, 1, 1, 1, 0]</td>\n",
       "    </tr>\n",
       "    <tr>\n",
       "      <th>len surfaces surface_points</th>\n",
       "      <td>[6, 8, 12, 8, 6, 8, 14, 14, 26, 24, 24]</td>\n",
       "    </tr>\n",
       "    <tr>\n",
       "      <th>len series surface_points</th>\n",
       "      <td>[6, 8, 12, 8, 6, 36, 26, 24, 24, 0]</td>\n",
       "    </tr>\n",
       "    <tr>\n",
       "      <th>len series orientations</th>\n",
       "      <td>[2, 2, 6, 4, 2, 12, 16, 12, 10, 0]</td>\n",
       "    </tr>\n",
       "    <tr>\n",
       "      <th rowspan=\"5\" valign=\"top\">Options</th>\n",
       "      <th>dtype</th>\n",
       "      <td>float64</td>\n",
       "    </tr>\n",
       "    <tr>\n",
       "      <th>output</th>\n",
       "      <td>geology</td>\n",
       "    </tr>\n",
       "    <tr>\n",
       "      <th>theano_optimizer</th>\n",
       "      <td>fast_compile</td>\n",
       "    </tr>\n",
       "    <tr>\n",
       "      <th>device</th>\n",
       "      <td>cpu</td>\n",
       "    </tr>\n",
       "    <tr>\n",
       "      <th>verbosity</th>\n",
       "      <td>None</td>\n",
       "    </tr>\n",
       "    <tr>\n",
       "      <th rowspan=\"3\" valign=\"top\">Kriging</th>\n",
       "      <th>range</th>\n",
       "      <td>32190.8</td>\n",
       "    </tr>\n",
       "    <tr>\n",
       "      <th>$C_o$</th>\n",
       "      <td>2.46726e+07</td>\n",
       "    </tr>\n",
       "    <tr>\n",
       "      <th>drift equations</th>\n",
       "      <td>[3, 3, 3, 3, 3, 3, 3, 3, 3, 3]</td>\n",
       "    </tr>\n",
       "    <tr>\n",
       "      <th rowspan=\"2\" valign=\"top\">Rescaling</th>\n",
       "      <th>rescaling factor</th>\n",
       "      <td>56916.7</td>\n",
       "    </tr>\n",
       "    <tr>\n",
       "      <th>centers</th>\n",
       "      <td>[14239.166495, 6900.0, -2581.92853]</td>\n",
       "    </tr>\n",
       "  </tbody>\n",
       "</table>\n",
       "</div>"
      ],
      "text/plain": [
       "                                                                        values\n",
       "Structure isLith                                                          True\n",
       "          isFault                                                         True\n",
       "          number faults                                                      5\n",
       "          number surfaces                                                   11\n",
       "          number series                                                     10\n",
       "          number surfaces per series            [1, 1, 1, 1, 1, 3, 1, 1, 1, 0]\n",
       "          len surfaces surface_points  [6, 8, 12, 8, 6, 8, 14, 14, 26, 24, 24]\n",
       "          len series surface_points        [6, 8, 12, 8, 6, 36, 26, 24, 24, 0]\n",
       "          len series orientations           [2, 2, 6, 4, 2, 12, 16, 12, 10, 0]\n",
       "Options   dtype                                                        float64\n",
       "          output                                                       geology\n",
       "          theano_optimizer                                        fast_compile\n",
       "          device                                                           cpu\n",
       "          verbosity                                                       None\n",
       "Kriging   range                                                        32190.8\n",
       "          $C_o$                                                    2.46726e+07\n",
       "          drift equations                       [3, 3, 3, 3, 3, 3, 3, 3, 3, 3]\n",
       "Rescaling rescaling factor                                             56916.7\n",
       "          centers                          [14239.166495, 6900.0, -2581.92853]"
      ]
     },
     "execution_count": 4,
     "metadata": {},
     "output_type": "execute_result"
    }
   ],
   "source": [
    "geo_model.get_additional_data()"
   ]
  },
  {
   "cell_type": "code",
   "execution_count": 5,
   "metadata": {},
   "outputs": [
    {
     "name": "stdout",
     "output_type": "stream",
     "text": [
      "Compiling theano function...\n",
      "Level of Optimization:  fast_compile\n",
      "Device:  cpu\n",
      "Precision:  float64\n",
      "Number of faults:  5\n",
      "Compilation Done!\n",
      "Kriging values: \n",
      "                                          values\n",
      "range                                     20000\n",
      "$C_o$                                    200000\n",
      "drift equations  [3, 3, 3, 3, 3, 3, 3, 3, 3, 3]\n"
     ]
    }
   ],
   "source": [
    "# adapt kriging to the parameters of previous example\n",
    "# decrease the kriging range\n",
    "geo_model.modify_kriging_parameters('range', 20000.)\n",
    "geo_model.modify_kriging_parameters('$C_o$', 2e5)\n",
    "#geo_model.modify_surface_points('all', smooth=1e-6)\n",
    "\n",
    "# Set the interpolator function\n",
    "# Create the theano model\n",
    "gp.set_interpolator(geo_model,\n",
    "                         compile_theano=True,\n",
    "                         theano_optimizer='fast_compile',\n",
    "                         verbose=[],\n",
    "                         update_kriging=False);"
   ]
  },
  {
   "cell_type": "code",
   "execution_count": 6,
   "metadata": {},
   "outputs": [
    {
     "name": "stderr",
     "output_type": "stream",
     "text": [
      "C:\\Users\\brigg\\miniconda3\\envs\\env_gempy\\lib\\site-packages\\gempy\\core\\solution.py:315: UserWarning: Surfaces not computed due to: No surface found at the given iso value.. The surface is: Series: No surface found at the given iso value.; Surface Number:8\n",
      "  '; Surface Number:' + str(s_n))\n",
      "C:\\Users\\brigg\\miniconda3\\envs\\env_gempy\\lib\\site-packages\\gempy\\core\\solution.py:128: VisibleDeprecationWarning: Creating an ndarray from ragged nested sequences (which is a list-or-tuple of lists-or-tuples-or ndarrays with different lengths or shapes) is deprecated. If you meant to do this, you must specify 'dtype=object' when creating the ndarray\n",
      "  self.geological_map = np.array([values[0][:, l0: l1], values[4][:, l0: l1].astype(float)])\n"
     ]
    }
   ],
   "source": [
    "# Compute the model\n",
    "sol = gp.compute_model(geo_model, compute_mesh=True)"
   ]
  },
  {
   "cell_type": "markdown",
   "metadata": {},
   "source": [
    "## MC Variation"
   ]
  },
  {
   "cell_type": "code",
   "execution_count": 7,
   "metadata": {},
   "outputs": [],
   "source": [
    "depth_zero = geo_model.surface_points.df['Z'].copy()\n",
    "depth = depth_zero.copy()"
   ]
  },
  {
   "cell_type": "code",
   "execution_count": 8,
   "metadata": {},
   "outputs": [],
   "source": [
    "graben_bot = geo_model.surface_points.df.query(\"surface=='Lower-filling' or surface=='Upper-filling'\")"
   ]
  },
  {
   "cell_type": "code",
   "execution_count": 9,
   "metadata": {},
   "outputs": [
    {
     "data": {
      "application/vnd.jupyter.widget-view+json": {
       "model_id": "607a27f931c3450187a528be8f375193",
       "version_major": 2,
       "version_minor": 0
      },
      "text/plain": [
       "VBox(children=(HTML(value=''), IntProgress(value=0)))"
      ]
     },
     "metadata": {},
     "output_type": "display_data"
    },
    {
     "name": "stderr",
     "output_type": "stream",
     "text": [
      "C:\\Users\\brigg\\miniconda3\\envs\\env_gempy\\lib\\site-packages\\gempy\\core\\solution.py:315: UserWarning: Surfaces not computed due to: No surface found at the given iso value.. The surface is: Series: No surface found at the given iso value.; Surface Number:8\n",
      "  '; Surface Number:' + str(s_n))\n",
      "C:\\Users\\brigg\\miniconda3\\envs\\env_gempy\\lib\\site-packages\\gempy\\core\\solution.py:128: VisibleDeprecationWarning: Creating an ndarray from ragged nested sequences (which is a list-or-tuple of lists-or-tuples-or ndarrays with different lengths or shapes) is deprecated. If you meant to do this, you must specify 'dtype=object' when creating the ndarray\n",
      "  self.geological_map = np.array([values[0][:, l0: l1], values[4][:, l0: l1].astype(float)])\n"
     ]
    }
   ],
   "source": [
    "# mask_surfpoints = geo_model.surface_points.df.series.isin(faults)\n",
    "np.random.seed(420)\n",
    "lith_blocks = np.array([])\n",
    "edge_blocks = dict()\n",
    "cent_blocks = dict()\n",
    "depth = geo_model.surface_points.df['Z'].copy()\n",
    "graben = list(graben_bot.index)\n",
    "n_points = len(graben)\n",
    "n_iterations = 100\n",
    "\n",
    "geo_model._grid\n",
    "#for i in range(n_iterations):\n",
    "for i in log_progress(range(n_iterations), name='Models'):\n",
    "    variation = np.random.normal(0, 100)\n",
    "    Z = depth[graben] + np.random.normal(variation, 50, size=n_points)\n",
    "    geo_model.modify_surface_points(graben, Z=Z)\n",
    "    gp.compute_model(geo_model)\n",
    "    edges, centroids = tp.compute_topology(geo_model)\n",
    "    lith_blocks = np.append(lith_blocks, geo_model.solutions.lith_block)\n",
    "    edge_blocks[f\"Real_{i}\"] = edges\n",
    "    cent_blocks[f\"Real_{i}\"] = centroids\n",
    "\n",
    "lith_blocks = lith_blocks.reshape(n_iterations, -1)"
   ]
  },
  {
   "cell_type": "code",
   "execution_count": 10,
   "metadata": {},
   "outputs": [],
   "source": [
    "np.savetxt('../models/20210319_MC_no_middle_filling/lith_block_samples', lith_blocks, fmt='%d')"
   ]
  },
  {
   "cell_type": "code",
   "execution_count": 19,
   "metadata": {},
   "outputs": [],
   "source": [
    "dist = np.array([])\n",
    "for i in range(10000):\n",
    "    dist = np.append(dist, np.random.normal(0, 100))\n",
    "\n",
    "sn.distplot(dist)"
   ]
  }
 ],
 "metadata": {
  "kernelspec": {
   "display_name": "Python [conda env:env_gempy]",
   "language": "python",
   "name": "conda-env-env_gempy-py"
  },
  "language_info": {
   "codemirror_mode": {
    "name": "ipython",
    "version": 3
   },
   "file_extension": ".py",
   "mimetype": "text/x-python",
   "name": "python",
   "nbconvert_exporter": "python",
   "pygments_lexer": "ipython3",
   "version": "3.7.8"
  },
  "latex_envs": {
   "LaTeX_envs_menu_present": true,
   "autoclose": false,
   "autocomplete": true,
   "bibliofile": "biblio.bib",
   "cite_by": "apalike",
   "current_citInitial": 1,
   "eqLabelWithNumbers": true,
   "eqNumInitial": 1,
   "hotkeys": {
    "equation": "Ctrl-E",
    "itemize": "Ctrl-I"
   },
   "labels_anchors": false,
   "latex_user_defs": false,
   "report_style_numbering": false,
   "user_envs_cfg": false
  },
  "varInspector": {
   "cols": {
    "lenName": 16,
    "lenType": 16,
    "lenVar": 40
   },
   "kernels_config": {
    "python": {
     "delete_cmd_postfix": "",
     "delete_cmd_prefix": "del ",
     "library": "var_list.py",
     "varRefreshCmd": "print(var_dic_list())"
    },
    "r": {
     "delete_cmd_postfix": ") ",
     "delete_cmd_prefix": "rm(",
     "library": "var_list.r",
     "varRefreshCmd": "cat(var_dic_list()) "
    }
   },
   "types_to_exclude": [
    "module",
    "function",
    "builtin_function_or_method",
    "instance",
    "_Feature"
   ],
   "window_display": false
  }
 },
 "nbformat": 4,
 "nbformat_minor": 4
}
