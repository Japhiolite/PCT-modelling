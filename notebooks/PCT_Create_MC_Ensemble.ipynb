{
 "cells": [
  {
   "cell_type": "code",
   "execution_count": 1,
   "metadata": {},
   "outputs": [],
   "source": [
    "import warnings\n",
    "warnings.filterwarnings(\"ignore\")\n",
    "\n",
    "# Importing GemPy\n",
    "import gempy as gp\n",
    "from gempy.assets import topology as tp\n",
    "from gempy.bayesian.fields import compute_prob, calculate_ie_masked\n",
    "from gempy.assets.geophysics import GravityPreprocessing\n",
    "\n",
    "# Importing auxilary libraries\n",
    "import numpy as np\n",
    "import pandas as pd\n",
    "import matplotlib.pyplot as plt\n",
    "import matplotlib.image as mpimg\n",
    "\n",
    "# For embedding matplotlib figures\n",
    "#%matplotlib qt5\n",
    "%matplotlib inline\n",
    "\n",
    "# Import improved plotting features\n",
    "from gempy.plot import visualization_2d as vv\n",
    "from gempy.plot import vista\n",
    "\n",
    "import seaborn as sn"
   ]
  },
  {
   "cell_type": "code",
   "execution_count": 2,
   "metadata": {},
   "outputs": [
    {
     "name": "stdout",
     "output_type": "stream",
     "text": [
      "Code run with GemPy version: 2.2.3\n"
     ]
    }
   ],
   "source": [
    "print(f\"Code run with GemPy version: {gp.__version__}\")"
   ]
  },
  {
   "cell_type": "code",
   "execution_count": 3,
   "metadata": {
    "code_folding": [
     1
    ]
   },
   "outputs": [],
   "source": [
    "## progress bar\n",
    "def log_progress(sequence, every=None, size=None, name='Items'):\n",
    "    from ipywidgets import IntProgress, HTML, VBox\n",
    "    from IPython.display import display\n",
    "\n",
    "    is_iterator = False\n",
    "    if size is None:\n",
    "        try:\n",
    "            size = len(sequence)\n",
    "        except TypeError:\n",
    "            is_iterator = True\n",
    "    if size is not None:\n",
    "        if every is None:\n",
    "            if size <= 200:\n",
    "                every = 1\n",
    "            else:\n",
    "                every = int(size / 200)     # every 0.5%\n",
    "    else:\n",
    "        assert every is not None, 'sequence is iterator, set every'\n",
    "\n",
    "    if is_iterator:\n",
    "        progress = IntProgress(min=0, max=1, value=1)\n",
    "        progress.bar_style = 'info'\n",
    "    else:\n",
    "        progress = IntProgress(min=0, max=size, value=0)\n",
    "    label = HTML()\n",
    "    box = VBox(children=[label, progress])\n",
    "    display(box)\n",
    "\n",
    "    index = 0\n",
    "    try:\n",
    "        for index, record in enumerate(sequence, 1):\n",
    "            if index == 1 or index % every == 0:\n",
    "                if is_iterator:\n",
    "                    label.value = '{name}: {index} / ?'.format(\n",
    "                        name=name,\n",
    "                        index=index\n",
    "                    )\n",
    "                else:\n",
    "                    progress.value = index\n",
    "                    label.value = u'{name}: {index} / {size}'.format(\n",
    "                        name=name,\n",
    "                        index=index,\n",
    "                        size=size\n",
    "                    )\n",
    "            yield record\n",
    "    except:\n",
    "        progress.bar_style = 'danger'\n",
    "        raise\n",
    "    else:\n",
    "        progress.bar_style = 'success'\n",
    "        progress.value = index\n",
    "        label.value = \"{name}: {index}\".format(\n",
    "            name=name,\n",
    "            index=str(index or '?')\n",
    "        )"
   ]
  },
  {
   "cell_type": "markdown",
   "metadata": {},
   "source": [
    "# Model Initialization\n",
    "First, we import the base Proof-of-Concept model (POC-model from here on), which was generated in the previous example. Using the loading method of GemPy `gp.load_model()` directly loads the model's input, already set with fault relations, surfaces assigned to a stack (series), etc.\n",
    "Only thing left is to recompile and run the model."
   ]
  },
  {
   "cell_type": "code",
   "execution_count": 4,
   "metadata": {},
   "outputs": [
    {
     "name": "stdout",
     "output_type": "stream",
     "text": [
      "Active grids: ['regular']\n",
      "Active grids: ['regular' 'topography']\n"
     ]
    }
   ],
   "source": [
    "model_path = '../models/20210319_MC_no_middle_filling/'\n",
    "\n",
    "geo_model = gp.load_model('Graben_base_model', path=model_path,\n",
    "                       recompile=False)"
   ]
  },
  {
   "cell_type": "code",
   "execution_count": 5,
   "metadata": {},
   "outputs": [
    {
     "name": "stdout",
     "output_type": "stream",
     "text": [
      "Active grids: ['regular']\n",
      "Active grids: ['regular' 'topography']\n"
     ]
    },
    {
     "ename": "KeyError",
     "evalue": "\"None of [Index(['X_r', 'Y_r', 'Z_r'], dtype='object')] are in the [columns]\"",
     "output_type": "error",
     "traceback": [
      "\u001b[1;31m---------------------------------------------------------------------------\u001b[0m",
      "\u001b[1;31mKeyError\u001b[0m                                  Traceback (most recent call last)",
      "\u001b[1;32m<ipython-input-5-4394ef83c177>\u001b[0m in \u001b[0;36m<module>\u001b[1;34m\u001b[0m\n\u001b[0;32m      2\u001b[0m \u001b[1;33m\u001b[0m\u001b[0m\n\u001b[0;32m      3\u001b[0m geo_model = gp.load_model('POC_PCT_model', path=model_path,\n\u001b[1;32m----> 4\u001b[1;33m                          recompile=False)\n\u001b[0m",
      "\u001b[1;32m~\\miniconda3\\envs\\env_gempy\\lib\\site-packages\\gempy\\api_modules\\io.py\u001b[0m in \u001b[0;36mload_model\u001b[1;34m(name, path, recompile)\u001b[0m\n\u001b[0;32m    180\u001b[0m     \u001b[1;31m# update structure from loaded input\u001b[0m\u001b[1;33m\u001b[0m\u001b[1;33m\u001b[0m\u001b[1;33m\u001b[0m\u001b[0m\n\u001b[0;32m    181\u001b[0m     \u001b[0mgeo_model\u001b[0m\u001b[1;33m.\u001b[0m\u001b[0m_additional_data\u001b[0m\u001b[1;33m.\u001b[0m\u001b[0mstructure_data\u001b[0m\u001b[1;33m.\u001b[0m\u001b[0mupdate_structure_from_input\u001b[0m\u001b[1;33m(\u001b[0m\u001b[1;33m)\u001b[0m\u001b[1;33m\u001b[0m\u001b[1;33m\u001b[0m\u001b[0m\n\u001b[1;32m--> 182\u001b[1;33m     \u001b[0mgeo_model\u001b[0m\u001b[1;33m.\u001b[0m\u001b[0m_rescaling\u001b[0m\u001b[1;33m.\u001b[0m\u001b[0mrescale_data\u001b[0m\u001b[1;33m(\u001b[0m\u001b[1;33m)\u001b[0m\u001b[1;33m\u001b[0m\u001b[1;33m\u001b[0m\u001b[0m\n\u001b[0m\u001b[0;32m    183\u001b[0m     \u001b[0mgeo_model\u001b[0m\u001b[1;33m.\u001b[0m\u001b[0mupdate_from_series\u001b[0m\u001b[1;33m(\u001b[0m\u001b[1;33m)\u001b[0m\u001b[1;33m\u001b[0m\u001b[1;33m\u001b[0m\u001b[0m\n\u001b[0;32m    184\u001b[0m     \u001b[0mgeo_model\u001b[0m\u001b[1;33m.\u001b[0m\u001b[0mupdate_from_surfaces\u001b[0m\u001b[1;33m(\u001b[0m\u001b[1;33m)\u001b[0m\u001b[1;33m\u001b[0m\u001b[1;33m\u001b[0m\u001b[0m\n",
      "\u001b[1;32m~\\miniconda3\\envs\\env_gempy\\lib\\site-packages\\gempy\\core\\data_modules\\geometric_data.py\u001b[0m in \u001b[0;36mrescale_data\u001b[1;34m(self, rescaling_factor, centers)\u001b[0m\n\u001b[0;32m   1046\u001b[0m             \u001b[0mself\u001b[0m\u001b[1;33m.\u001b[0m\u001b[0mdf\u001b[0m\u001b[1;33m.\u001b[0m\u001b[0mat\u001b[0m\u001b[1;33m[\u001b[0m\u001b[1;34m'values'\u001b[0m\u001b[1;33m,\u001b[0m \u001b[1;34m'centers'\u001b[0m\u001b[1;33m]\u001b[0m \u001b[1;33m=\u001b[0m \u001b[0mcenters\u001b[0m\u001b[1;33m\u001b[0m\u001b[1;33m\u001b[0m\u001b[0m\n\u001b[0;32m   1047\u001b[0m \u001b[1;33m\u001b[0m\u001b[0m\n\u001b[1;32m-> 1048\u001b[1;33m         \u001b[0mself\u001b[0m\u001b[1;33m.\u001b[0m\u001b[0mset_rescaled_surface_points\u001b[0m\u001b[1;33m(\u001b[0m\u001b[1;33m)\u001b[0m\u001b[1;33m\u001b[0m\u001b[1;33m\u001b[0m\u001b[0m\n\u001b[0m\u001b[0;32m   1049\u001b[0m         \u001b[0mself\u001b[0m\u001b[1;33m.\u001b[0m\u001b[0mset_rescaled_orientations\u001b[0m\u001b[1;33m(\u001b[0m\u001b[1;33m)\u001b[0m\u001b[1;33m\u001b[0m\u001b[1;33m\u001b[0m\u001b[0m\n\u001b[0;32m   1050\u001b[0m         \u001b[0mself\u001b[0m\u001b[1;33m.\u001b[0m\u001b[0mset_rescaled_grid\u001b[0m\u001b[1;33m(\u001b[0m\u001b[1;33m)\u001b[0m\u001b[1;33m\u001b[0m\u001b[1;33m\u001b[0m\u001b[0m\n",
      "\u001b[1;32m~\\miniconda3\\envs\\env_gempy\\lib\\site-packages\\gempy\\core\\data_modules\\geometric_data.py\u001b[0m in \u001b[0;36mset_rescaled_surface_points\u001b[1;34m(self, idx)\u001b[0m\n\u001b[0;32m   1199\u001b[0m \u001b[1;33m\u001b[0m\u001b[0m\n\u001b[0;32m   1200\u001b[0m         self.surface_points.df.loc[idx, ['X_r', 'Y_r', 'Z_r']] = self.rescale_surface_points(\n\u001b[1;32m-> 1201\u001b[1;33m             self.surface_points, self.df.loc['values', 'rescaling factor'], self.df.loc['values', 'centers'], idx=idx)\n\u001b[0m\u001b[0;32m   1202\u001b[0m \u001b[1;33m\u001b[0m\u001b[0m\n\u001b[0;32m   1203\u001b[0m         \u001b[1;32mreturn\u001b[0m \u001b[0mself\u001b[0m\u001b[1;33m.\u001b[0m\u001b[0msurface_points\u001b[0m\u001b[1;33m\u001b[0m\u001b[1;33m\u001b[0m\u001b[0m\n",
      "\u001b[1;32m~\\miniconda3\\envs\\env_gempy\\lib\\site-packages\\pandas\\core\\indexing.py\u001b[0m in \u001b[0;36m__setitem__\u001b[1;34m(self, key, value)\u001b[0m\n\u001b[0;32m    668\u001b[0m         \u001b[1;32melse\u001b[0m\u001b[1;33m:\u001b[0m\u001b[1;33m\u001b[0m\u001b[1;33m\u001b[0m\u001b[0m\n\u001b[0;32m    669\u001b[0m             \u001b[0mkey\u001b[0m \u001b[1;33m=\u001b[0m \u001b[0mcom\u001b[0m\u001b[1;33m.\u001b[0m\u001b[0mapply_if_callable\u001b[0m\u001b[1;33m(\u001b[0m\u001b[0mkey\u001b[0m\u001b[1;33m,\u001b[0m \u001b[0mself\u001b[0m\u001b[1;33m.\u001b[0m\u001b[0mobj\u001b[0m\u001b[1;33m)\u001b[0m\u001b[1;33m\u001b[0m\u001b[1;33m\u001b[0m\u001b[0m\n\u001b[1;32m--> 670\u001b[1;33m         \u001b[0mindexer\u001b[0m \u001b[1;33m=\u001b[0m \u001b[0mself\u001b[0m\u001b[1;33m.\u001b[0m\u001b[0m_get_setitem_indexer\u001b[0m\u001b[1;33m(\u001b[0m\u001b[0mkey\u001b[0m\u001b[1;33m)\u001b[0m\u001b[1;33m\u001b[0m\u001b[1;33m\u001b[0m\u001b[0m\n\u001b[0m\u001b[0;32m    671\u001b[0m         \u001b[0mself\u001b[0m\u001b[1;33m.\u001b[0m\u001b[0m_setitem_with_indexer\u001b[0m\u001b[1;33m(\u001b[0m\u001b[0mindexer\u001b[0m\u001b[1;33m,\u001b[0m \u001b[0mvalue\u001b[0m\u001b[1;33m)\u001b[0m\u001b[1;33m\u001b[0m\u001b[1;33m\u001b[0m\u001b[0m\n\u001b[0;32m    672\u001b[0m \u001b[1;33m\u001b[0m\u001b[0m\n",
      "\u001b[1;32m~\\miniconda3\\envs\\env_gempy\\lib\\site-packages\\pandas\\core\\indexing.py\u001b[0m in \u001b[0;36m_get_setitem_indexer\u001b[1;34m(self, key)\u001b[0m\n\u001b[0;32m    646\u001b[0m         \u001b[1;32mif\u001b[0m \u001b[0misinstance\u001b[0m\u001b[1;33m(\u001b[0m\u001b[0mkey\u001b[0m\u001b[1;33m,\u001b[0m \u001b[0mtuple\u001b[0m\u001b[1;33m)\u001b[0m\u001b[1;33m:\u001b[0m\u001b[1;33m\u001b[0m\u001b[1;33m\u001b[0m\u001b[0m\n\u001b[0;32m    647\u001b[0m             \u001b[1;32mtry\u001b[0m\u001b[1;33m:\u001b[0m\u001b[1;33m\u001b[0m\u001b[1;33m\u001b[0m\u001b[0m\n\u001b[1;32m--> 648\u001b[1;33m                 \u001b[1;32mreturn\u001b[0m \u001b[0mself\u001b[0m\u001b[1;33m.\u001b[0m\u001b[0m_convert_tuple\u001b[0m\u001b[1;33m(\u001b[0m\u001b[0mkey\u001b[0m\u001b[1;33m)\u001b[0m\u001b[1;33m\u001b[0m\u001b[1;33m\u001b[0m\u001b[0m\n\u001b[0m\u001b[0;32m    649\u001b[0m             \u001b[1;32mexcept\u001b[0m \u001b[0mIndexingError\u001b[0m\u001b[1;33m:\u001b[0m\u001b[1;33m\u001b[0m\u001b[1;33m\u001b[0m\u001b[0m\n\u001b[0;32m    650\u001b[0m                 \u001b[1;32mpass\u001b[0m\u001b[1;33m\u001b[0m\u001b[1;33m\u001b[0m\u001b[0m\n",
      "\u001b[1;32m~\\miniconda3\\envs\\env_gempy\\lib\\site-packages\\pandas\\core\\indexing.py\u001b[0m in \u001b[0;36m_convert_tuple\u001b[1;34m(self, key)\u001b[0m\n\u001b[0;32m    731\u001b[0m                 \u001b[1;32mif\u001b[0m \u001b[0mi\u001b[0m \u001b[1;33m>=\u001b[0m \u001b[0mself\u001b[0m\u001b[1;33m.\u001b[0m\u001b[0mndim\u001b[0m\u001b[1;33m:\u001b[0m\u001b[1;33m\u001b[0m\u001b[1;33m\u001b[0m\u001b[0m\n\u001b[0;32m    732\u001b[0m                     \u001b[1;32mraise\u001b[0m \u001b[0mIndexingError\u001b[0m\u001b[1;33m(\u001b[0m\u001b[1;34m\"Too many indexers\"\u001b[0m\u001b[1;33m)\u001b[0m\u001b[1;33m\u001b[0m\u001b[1;33m\u001b[0m\u001b[0m\n\u001b[1;32m--> 733\u001b[1;33m                 \u001b[0midx\u001b[0m \u001b[1;33m=\u001b[0m \u001b[0mself\u001b[0m\u001b[1;33m.\u001b[0m\u001b[0m_convert_to_indexer\u001b[0m\u001b[1;33m(\u001b[0m\u001b[0mk\u001b[0m\u001b[1;33m,\u001b[0m \u001b[0maxis\u001b[0m\u001b[1;33m=\u001b[0m\u001b[0mi\u001b[0m\u001b[1;33m)\u001b[0m\u001b[1;33m\u001b[0m\u001b[1;33m\u001b[0m\u001b[0m\n\u001b[0m\u001b[0;32m    734\u001b[0m                 \u001b[0mkeyidx\u001b[0m\u001b[1;33m.\u001b[0m\u001b[0mappend\u001b[0m\u001b[1;33m(\u001b[0m\u001b[0midx\u001b[0m\u001b[1;33m)\u001b[0m\u001b[1;33m\u001b[0m\u001b[1;33m\u001b[0m\u001b[0m\n\u001b[0;32m    735\u001b[0m         \u001b[1;32mreturn\u001b[0m \u001b[0mtuple\u001b[0m\u001b[1;33m(\u001b[0m\u001b[0mkeyidx\u001b[0m\u001b[1;33m)\u001b[0m\u001b[1;33m\u001b[0m\u001b[1;33m\u001b[0m\u001b[0m\n",
      "\u001b[1;32m~\\miniconda3\\envs\\env_gempy\\lib\\site-packages\\pandas\\core\\indexing.py\u001b[0m in \u001b[0;36m_convert_to_indexer\u001b[1;34m(self, obj, axis, raise_missing)\u001b[0m\n\u001b[0;32m   1730\u001b[0m             \u001b[1;32melse\u001b[0m\u001b[1;33m:\u001b[0m\u001b[1;33m\u001b[0m\u001b[1;33m\u001b[0m\u001b[0m\n\u001b[0;32m   1731\u001b[0m                 \u001b[1;31m# When setting, missing keys are not allowed, even with .loc:\u001b[0m\u001b[1;33m\u001b[0m\u001b[1;33m\u001b[0m\u001b[1;33m\u001b[0m\u001b[0m\n\u001b[1;32m-> 1732\u001b[1;33m                 \u001b[1;32mreturn\u001b[0m \u001b[0mself\u001b[0m\u001b[1;33m.\u001b[0m\u001b[0m_get_listlike_indexer\u001b[0m\u001b[1;33m(\u001b[0m\u001b[0mobj\u001b[0m\u001b[1;33m,\u001b[0m \u001b[0maxis\u001b[0m\u001b[1;33m,\u001b[0m \u001b[0mraise_missing\u001b[0m\u001b[1;33m=\u001b[0m\u001b[1;32mTrue\u001b[0m\u001b[1;33m)\u001b[0m\u001b[1;33m[\u001b[0m\u001b[1;36m1\u001b[0m\u001b[1;33m]\u001b[0m\u001b[1;33m\u001b[0m\u001b[1;33m\u001b[0m\u001b[0m\n\u001b[0m\u001b[0;32m   1733\u001b[0m         \u001b[1;32melse\u001b[0m\u001b[1;33m:\u001b[0m\u001b[1;33m\u001b[0m\u001b[1;33m\u001b[0m\u001b[0m\n\u001b[0;32m   1734\u001b[0m             \u001b[1;32mtry\u001b[0m\u001b[1;33m:\u001b[0m\u001b[1;33m\u001b[0m\u001b[1;33m\u001b[0m\u001b[0m\n",
      "\u001b[1;32m~\\miniconda3\\envs\\env_gempy\\lib\\site-packages\\pandas\\core\\indexing.py\u001b[0m in \u001b[0;36m_get_listlike_indexer\u001b[1;34m(self, key, axis, raise_missing)\u001b[0m\n\u001b[0;32m   1551\u001b[0m \u001b[1;33m\u001b[0m\u001b[0m\n\u001b[0;32m   1552\u001b[0m         self._validate_read_indexer(\n\u001b[1;32m-> 1553\u001b[1;33m             \u001b[0mkeyarr\u001b[0m\u001b[1;33m,\u001b[0m \u001b[0mindexer\u001b[0m\u001b[1;33m,\u001b[0m \u001b[0mo\u001b[0m\u001b[1;33m.\u001b[0m\u001b[0m_get_axis_number\u001b[0m\u001b[1;33m(\u001b[0m\u001b[0maxis\u001b[0m\u001b[1;33m)\u001b[0m\u001b[1;33m,\u001b[0m \u001b[0mraise_missing\u001b[0m\u001b[1;33m=\u001b[0m\u001b[0mraise_missing\u001b[0m\u001b[1;33m\u001b[0m\u001b[1;33m\u001b[0m\u001b[0m\n\u001b[0m\u001b[0;32m   1554\u001b[0m         )\n\u001b[0;32m   1555\u001b[0m         \u001b[1;32mreturn\u001b[0m \u001b[0mkeyarr\u001b[0m\u001b[1;33m,\u001b[0m \u001b[0mindexer\u001b[0m\u001b[1;33m\u001b[0m\u001b[1;33m\u001b[0m\u001b[0m\n",
      "\u001b[1;32m~\\miniconda3\\envs\\env_gempy\\lib\\site-packages\\pandas\\core\\indexing.py\u001b[0m in \u001b[0;36m_validate_read_indexer\u001b[1;34m(self, key, indexer, axis, raise_missing)\u001b[0m\n\u001b[0;32m   1638\u001b[0m             \u001b[1;32mif\u001b[0m \u001b[0mmissing\u001b[0m \u001b[1;33m==\u001b[0m \u001b[0mlen\u001b[0m\u001b[1;33m(\u001b[0m\u001b[0mindexer\u001b[0m\u001b[1;33m)\u001b[0m\u001b[1;33m:\u001b[0m\u001b[1;33m\u001b[0m\u001b[1;33m\u001b[0m\u001b[0m\n\u001b[0;32m   1639\u001b[0m                 \u001b[0maxis_name\u001b[0m \u001b[1;33m=\u001b[0m \u001b[0mself\u001b[0m\u001b[1;33m.\u001b[0m\u001b[0mobj\u001b[0m\u001b[1;33m.\u001b[0m\u001b[0m_get_axis_name\u001b[0m\u001b[1;33m(\u001b[0m\u001b[0maxis\u001b[0m\u001b[1;33m)\u001b[0m\u001b[1;33m\u001b[0m\u001b[1;33m\u001b[0m\u001b[0m\n\u001b[1;32m-> 1640\u001b[1;33m                 \u001b[1;32mraise\u001b[0m \u001b[0mKeyError\u001b[0m\u001b[1;33m(\u001b[0m\u001b[1;34mf\"None of [{key}] are in the [{axis_name}]\"\u001b[0m\u001b[1;33m)\u001b[0m\u001b[1;33m\u001b[0m\u001b[1;33m\u001b[0m\u001b[0m\n\u001b[0m\u001b[0;32m   1641\u001b[0m \u001b[1;33m\u001b[0m\u001b[0m\n\u001b[0;32m   1642\u001b[0m             \u001b[1;31m# We (temporarily) allow for some missing keys with .loc, except in\u001b[0m\u001b[1;33m\u001b[0m\u001b[1;33m\u001b[0m\u001b[1;33m\u001b[0m\u001b[0m\n",
      "\u001b[1;31mKeyError\u001b[0m: \"None of [Index(['X_r', 'Y_r', 'Z_r'], dtype='object')] are in the [columns]\""
     ]
    }
   ],
   "source": [
    "# With GemPy 2.2.9\n",
    "model_path = '../models/2021-06-04_POC_base_model'\n",
    "\n",
    "geo_model = gp.load_model('POC_PCT_model', path=model_path,\n",
    "                         recompile=False)"
   ]
  },
  {
   "cell_type": "markdown",
   "metadata": {},
   "source": [
    "Using the method `.get_additional_data()`, we can display a summary of model information and parameters, such as the kriging parameters."
   ]
  },
  {
   "cell_type": "code",
   "execution_count": 5,
   "metadata": {},
   "outputs": [
    {
     "data": {
      "text/html": [
       "<div>\n",
       "<style scoped>\n",
       "    .dataframe tbody tr th:only-of-type {\n",
       "        vertical-align: middle;\n",
       "    }\n",
       "\n",
       "    .dataframe tbody tr th {\n",
       "        vertical-align: top;\n",
       "    }\n",
       "\n",
       "    .dataframe thead th {\n",
       "        text-align: right;\n",
       "    }\n",
       "</style>\n",
       "<table border=\"1\" class=\"dataframe\">\n",
       "  <thead>\n",
       "    <tr style=\"text-align: right;\">\n",
       "      <th></th>\n",
       "      <th></th>\n",
       "      <th>values</th>\n",
       "    </tr>\n",
       "  </thead>\n",
       "  <tbody>\n",
       "    <tr>\n",
       "      <th rowspan=\"9\" valign=\"top\">Structure</th>\n",
       "      <th>isLith</th>\n",
       "      <td>True</td>\n",
       "    </tr>\n",
       "    <tr>\n",
       "      <th>isFault</th>\n",
       "      <td>True</td>\n",
       "    </tr>\n",
       "    <tr>\n",
       "      <th>number faults</th>\n",
       "      <td>5</td>\n",
       "    </tr>\n",
       "    <tr>\n",
       "      <th>number surfaces</th>\n",
       "      <td>11</td>\n",
       "    </tr>\n",
       "    <tr>\n",
       "      <th>number series</th>\n",
       "      <td>10</td>\n",
       "    </tr>\n",
       "    <tr>\n",
       "      <th>number surfaces per series</th>\n",
       "      <td>[1, 1, 1, 1, 1, 3, 1, 1, 1, 0]</td>\n",
       "    </tr>\n",
       "    <tr>\n",
       "      <th>len surfaces surface_points</th>\n",
       "      <td>[6, 8, 12, 8, 6, 8, 14, 14, 26, 24, 24]</td>\n",
       "    </tr>\n",
       "    <tr>\n",
       "      <th>len series surface_points</th>\n",
       "      <td>[6, 8, 12, 8, 6, 36, 26, 24, 24, 0]</td>\n",
       "    </tr>\n",
       "    <tr>\n",
       "      <th>len series orientations</th>\n",
       "      <td>[2, 2, 6, 4, 2, 12, 16, 12, 10, 0]</td>\n",
       "    </tr>\n",
       "    <tr>\n",
       "      <th rowspan=\"5\" valign=\"top\">Options</th>\n",
       "      <th>dtype</th>\n",
       "      <td>float64</td>\n",
       "    </tr>\n",
       "    <tr>\n",
       "      <th>output</th>\n",
       "      <td>geology</td>\n",
       "    </tr>\n",
       "    <tr>\n",
       "      <th>theano_optimizer</th>\n",
       "      <td>fast_compile</td>\n",
       "    </tr>\n",
       "    <tr>\n",
       "      <th>device</th>\n",
       "      <td>cpu</td>\n",
       "    </tr>\n",
       "    <tr>\n",
       "      <th>verbosity</th>\n",
       "      <td>None</td>\n",
       "    </tr>\n",
       "    <tr>\n",
       "      <th rowspan=\"3\" valign=\"top\">Kriging</th>\n",
       "      <th>range</th>\n",
       "      <td>32190.837206</td>\n",
       "    </tr>\n",
       "    <tr>\n",
       "      <th>$C_o$</th>\n",
       "      <td>24672619.047619</td>\n",
       "    </tr>\n",
       "    <tr>\n",
       "      <th>drift equations</th>\n",
       "      <td>[3, 3, 3, 3, 3, 3, 3, 3, 3, 3]</td>\n",
       "    </tr>\n",
       "    <tr>\n",
       "      <th rowspan=\"2\" valign=\"top\">Rescaling</th>\n",
       "      <th>rescaling factor</th>\n",
       "      <td>56916.66598</td>\n",
       "    </tr>\n",
       "    <tr>\n",
       "      <th>centers</th>\n",
       "      <td>[14239.166495, 6900.0, -2581.92853]</td>\n",
       "    </tr>\n",
       "  </tbody>\n",
       "</table>\n",
       "</div>"
      ],
      "text/plain": [
       "                                                                        values\n",
       "Structure isLith                                                          True\n",
       "          isFault                                                         True\n",
       "          number faults                                                      5\n",
       "          number surfaces                                                   11\n",
       "          number series                                                     10\n",
       "          number surfaces per series            [1, 1, 1, 1, 1, 3, 1, 1, 1, 0]\n",
       "          len surfaces surface_points  [6, 8, 12, 8, 6, 8, 14, 14, 26, 24, 24]\n",
       "          len series surface_points        [6, 8, 12, 8, 6, 36, 26, 24, 24, 0]\n",
       "          len series orientations           [2, 2, 6, 4, 2, 12, 16, 12, 10, 0]\n",
       "Options   dtype                                                        float64\n",
       "          output                                                       geology\n",
       "          theano_optimizer                                        fast_compile\n",
       "          device                                                           cpu\n",
       "          verbosity                                                       None\n",
       "Kriging   range                                                   32190.837206\n",
       "          $C_o$                                                24672619.047619\n",
       "          drift equations                       [3, 3, 3, 3, 3, 3, 3, 3, 3, 3]\n",
       "Rescaling rescaling factor                                         56916.66598\n",
       "          centers                          [14239.166495, 6900.0, -2581.92853]"
      ]
     },
     "execution_count": 5,
     "metadata": {},
     "output_type": "execute_result"
    }
   ],
   "source": [
    "geo_model.get_additional_data()"
   ]
  },
  {
   "cell_type": "markdown",
   "metadata": {},
   "source": [
    "Changing the kriging parameters affects the resulting models, e.g. the range represents the maximum correlation distance, or reducing the coefficient of correlation will yield a smoother, less \"bumpy\" model. For the POC-model, we set the `range` to 20000 and the correlation coefficient $C_o$ to 200000. Then we set up the interpolator, i.e. compile the functions which will calculate the scalar fields of our model surfaces."
   ]
  },
  {
   "cell_type": "code",
   "execution_count": 5,
   "metadata": {},
   "outputs": [
    {
     "name": "stdout",
     "output_type": "stream",
     "text": [
      "Compiling theano function...\n",
      "Level of Optimization:  fast_compile\n",
      "Device:  cpu\n",
      "Precision:  float64\n",
      "Number of faults:  5\n",
      "Compilation Done!\n",
      "Kriging values: \n",
      "                                          values\n",
      "range                                     20000\n",
      "$C_o$                                    200000\n",
      "drift equations  [3, 3, 3, 3, 3, 3, 3, 3, 3, 3]\n"
     ]
    }
   ],
   "source": [
    "# adapt kriging to the parameters of previous example\n",
    "# decrease the kriging range\n",
    "geo_model.modify_kriging_parameters('range', 20000.)\n",
    "geo_model.modify_kriging_parameters('$C_o$', 2e5)\n",
    "#geo_model.modify_surface_points('all', smooth=1e-6)\n",
    "\n",
    "# Set the interpolator function\n",
    "# Create the theano model\n",
    "gp.set_interpolator(geo_model,\n",
    "                         compile_theano=True,\n",
    "                         theano_optimizer='fast_compile',\n",
    "                         verbose=[],\n",
    "                         update_kriging=False);"
   ]
  },
  {
   "cell_type": "code",
   "execution_count": 9,
   "metadata": {},
   "outputs": [],
   "source": [
    "# Compute the model\n",
    "sol = gp.compute_model(geo_model, compute_mesh=True)"
   ]
  },
  {
   "cell_type": "markdown",
   "metadata": {},
   "source": [
    "Now that the model is computed, lets have a look at a cross-section along the y-axis, so across the graben system:"
   ]
  },
  {
   "cell_type": "code",
   "execution_count": 10,
   "metadata": {},
   "outputs": [
    {
     "data": {
      "image/png": "[encoded data removed]",
      "text/plain": [
       "<Figure size 432x288 with 1 Axes>"
      ]
     },
     "metadata": {
      "needs_background": "light"
     },
     "output_type": "display_data"
    }
   ],
   "source": [
    "gp.plot_2d(geo_model, cell_number=25, direction='y', show_data=False, show_topography=False,\n",
    "          show_lith=True, show_results=True, show_boundaries=False);"
   ]
  },
  {
   "cell_type": "markdown",
   "metadata": {},
   "source": [
    "The two distinct domains in this model are directly visible: (i) the old graben system (extensional regime), covered by the (ii) thrusted, younger units."
   ]
  },
  {
   "cell_type": "markdown",
   "metadata": {},
   "source": [
    "## Add Gravity grid\n",
    "In the previous example, next to creating the model, we chose quasi-random locations for 15 gravity stations. The gravity signal of the base POC-model is simulated at these 15 stations. In the following workflows, we assume that these 15 stations were measured. So they serve as observed data for conditioning the MonteCarlo Ensemble of different geological geometries."
   ]
  },
  {
   "cell_type": "code",
   "execution_count": 11,
   "metadata": {},
   "outputs": [],
   "source": [
    "grav_stations = pd.read_csv('../models/20210322_forw_grav_seed58.csv', \n",
    "                            names=['X', 'Y', 'Z', 'grav'])\n",
    "station_coordinates = np.stack((grav_stations.X.values, \n",
    "                                grav_stations.Y.values, \n",
    "                                grav_stations.Z.values), axis=1)"
   ]
  },
  {
   "cell_type": "code",
   "execution_count": 34,
   "metadata": {},
   "outputs": [
    {
     "data": {
      "image/png": "[encoded data removed]",
      "text/plain": [
       "<Figure size 792x360 with 2 Axes>"
      ]
     },
     "metadata": {
      "needs_background": "light"
     },
     "output_type": "display_data"
    }
   ],
   "source": [
    "fig = plt.figure(figsize=[11,5])\n",
    "cb = plt.scatter(grav_stations['X'], grav_stations['Y'], c=grav_stations['grav'], \n",
    "           marker='s', s=90, cmap='viridis')\n",
    "plt.colorbar(cb, label='gravity')\n",
    "plt.ylabel('y [m]')\n",
    "plt.xlabel('x [m]');"
   ]
  },
  {
   "cell_type": "markdown",
   "metadata": {},
   "source": [
    "These stations are used for creating a centered grid around each station. The centered grid has an extent of 10 cells in x- and y-direction, and 15 cells in the z-direction."
   ]
  },
  {
   "cell_type": "code",
   "execution_count": 35,
   "metadata": {},
   "outputs": [
    {
     "name": "stdout",
     "output_type": "stream",
     "text": [
      "Active grids: ['regular' 'topography' 'centered']\n"
     ]
    },
    {
     "data": {
      "text/plain": [
       "Grid Object. Values: \n",
       "array([[  140.        ,   140.        , -6437.5       ],\n",
       "       [  140.        ,   140.        , -6312.5       ],\n",
       "       [  140.        ,   140.        , -6187.5       ],\n",
       "       ...,\n",
       "       [30888.89      ,  6285.71      , -3495.98176905],\n",
       "       [30888.89      ,  6285.71      , -4948.49684561],\n",
       "       [30888.89      ,  6285.71      , -6966.76      ]])"
      ]
     },
     "execution_count": 35,
     "metadata": {},
     "output_type": "execute_result"
    }
   ],
   "source": [
    "geo_model.set_centered_grid(station_coordinates,  resolution = [10, 10, 15], radius=6000)\n",
    "#g = GravityPreprocessing(geo_model.grid.centered_grid)\n",
    "#tz = g.set_tz_kernel()"
   ]
  },
  {
   "cell_type": "markdown",
   "metadata": {},
   "source": [
    "We see that there are three active grids. On each, the gravity signal will be calculated. Of course, we can let it be calculated on each grid, but we may not need the information on e.g. the topography grid (which would for instance yield the geological map). \n",
    "So we can set only the centered grid to active, which speeds up the simulation.\n",
    "\n",
    "**Note** that you'll need to model also the regular grid, if you plan to export the `lith_block` geological voxel model later on!"
   ]
  },
  {
   "cell_type": "code",
   "execution_count": 36,
   "metadata": {},
   "outputs": [
    {
     "name": "stdout",
     "output_type": "stream",
     "text": [
      "Active grids: ['centered']\n"
     ]
    },
    {
     "data": {
      "text/plain": [
       "Grid Object. Values: \n",
       "array([[ 1.57777800e+04,  1.14286000e+03,  4.51700000e+01],\n",
       "       [ 1.57777800e+04,  1.14286000e+03, -2.68300000e+01],\n",
       "       [ 1.57777800e+04,  1.14286000e+03, -5.48736756e+01],\n",
       "       ...,\n",
       "       [ 3.08888900e+04,  6.28571000e+03, -3.49598177e+03],\n",
       "       [ 3.08888900e+04,  6.28571000e+03, -4.94849685e+03],\n",
       "       [ 3.08888900e+04,  6.28571000e+03, -6.96676000e+03]])"
      ]
     },
     "execution_count": 36,
     "metadata": {},
     "output_type": "execute_result"
    }
   ],
   "source": [
    "geo_model.set_active_grid('centered', reset=True)"
   ]
  },
  {
   "cell_type": "markdown",
   "metadata": {},
   "source": [
    "The centered grid will now be the only one where the model information is stored, meaning less computational time. Let's have a look how this comes in handy, when we start to modify the depth of units and calculate the gravity."
   ]
  },
  {
   "cell_type": "markdown",
   "metadata": {},
   "source": [
    "Before running the simulations, we need to assign densities to the rock units, otherwise it will raise an error."
   ]
  },
  {
   "cell_type": "code",
   "execution_count": 37,
   "metadata": {},
   "outputs": [
    {
     "data": {
      "text/html": [
       "<style  type=\"text/css\" >\n",
       "    #T_401886b8_c7a2_11eb_a255_00e04c6800carow0_col3 {\n",
       "            background-color:  #5DA629;\n",
       "        }    #T_401886b8_c7a2_11eb_a255_00e04c6800carow1_col3 {\n",
       "            background-color:  #5DA629;\n",
       "        }    #T_401886b8_c7a2_11eb_a255_00e04c6800carow2_col3 {\n",
       "            background-color:  #015482;\n",
       "        }    #T_401886b8_c7a2_11eb_a255_00e04c6800carow3_col3 {\n",
       "            background-color:  #015482;\n",
       "        }    #T_401886b8_c7a2_11eb_a255_00e04c6800carow4_col3 {\n",
       "            background-color:  #015482;\n",
       "        }    #T_401886b8_c7a2_11eb_a255_00e04c6800carow5_col3 {\n",
       "            background-color:  #dbdbac;\n",
       "        }    #T_401886b8_c7a2_11eb_a255_00e04c6800carow6_col3 {\n",
       "            background-color:  #e588f3;\n",
       "        }    #T_401886b8_c7a2_11eb_a255_00e04c6800carow7_col3 {\n",
       "            background-color:  #ff792b;\n",
       "        }    #T_401886b8_c7a2_11eb_a255_00e04c6800carow8_col3 {\n",
       "            background-color:  #725c9a;\n",
       "        }    #T_401886b8_c7a2_11eb_a255_00e04c6800carow9_col3 {\n",
       "            background-color:  #cfc199;\n",
       "        }    #T_401886b8_c7a2_11eb_a255_00e04c6800carow10_col3 {\n",
       "            background-color:  #a5d490;\n",
       "        }    #T_401886b8_c7a2_11eb_a255_00e04c6800carow11_col3 {\n",
       "            background-color:  #c7848f;\n",
       "        }</style><table id=\"T_401886b8_c7a2_11eb_a255_00e04c6800ca\" ><thead>    <tr>        <th class=\"blank level0\" ></th>        <th class=\"col_heading level0 col0\" >surface</th>        <th class=\"col_heading level0 col1\" >series</th>        <th class=\"col_heading level0 col2\" >order_surfaces</th>        <th class=\"col_heading level0 col3\" >color</th>        <th class=\"col_heading level0 col4\" >id</th>        <th class=\"col_heading level0 col5\" >density</th>    </tr></thead><tbody>\n",
       "                <tr>\n",
       "                        <th id=\"T_401886b8_c7a2_11eb_a255_00e04c6800calevel0_row0\" class=\"row_heading level0 row0\" >9</th>\n",
       "                        <td id=\"T_401886b8_c7a2_11eb_a255_00e04c6800carow0_col0\" class=\"data row0 col0\" >Thrust1_south</td>\n",
       "                        <td id=\"T_401886b8_c7a2_11eb_a255_00e04c6800carow0_col1\" class=\"data row0 col1\" >Thrust1_series</td>\n",
       "                        <td id=\"T_401886b8_c7a2_11eb_a255_00e04c6800carow0_col2\" class=\"data row0 col2\" >1</td>\n",
       "                        <td id=\"T_401886b8_c7a2_11eb_a255_00e04c6800carow0_col3\" class=\"data row0 col3\" >#5DA629</td>\n",
       "                        <td id=\"T_401886b8_c7a2_11eb_a255_00e04c6800carow0_col4\" class=\"data row0 col4\" >1</td>\n",
       "                        <td id=\"T_401886b8_c7a2_11eb_a255_00e04c6800carow0_col5\" class=\"data row0 col5\" >0.000000</td>\n",
       "            </tr>\n",
       "            <tr>\n",
       "                        <th id=\"T_401886b8_c7a2_11eb_a255_00e04c6800calevel0_row1\" class=\"row_heading level0 row1\" >10</th>\n",
       "                        <td id=\"T_401886b8_c7a2_11eb_a255_00e04c6800carow1_col0\" class=\"data row1 col0\" >Thrust2_south</td>\n",
       "                        <td id=\"T_401886b8_c7a2_11eb_a255_00e04c6800carow1_col1\" class=\"data row1 col1\" >Thrust2_series</td>\n",
       "                        <td id=\"T_401886b8_c7a2_11eb_a255_00e04c6800carow1_col2\" class=\"data row1 col2\" >1</td>\n",
       "                        <td id=\"T_401886b8_c7a2_11eb_a255_00e04c6800carow1_col3\" class=\"data row1 col3\" >#5DA629</td>\n",
       "                        <td id=\"T_401886b8_c7a2_11eb_a255_00e04c6800carow1_col4\" class=\"data row1 col4\" >2</td>\n",
       "                        <td id=\"T_401886b8_c7a2_11eb_a255_00e04c6800carow1_col5\" class=\"data row1 col5\" >0.000000</td>\n",
       "            </tr>\n",
       "            <tr>\n",
       "                        <th id=\"T_401886b8_c7a2_11eb_a255_00e04c6800calevel0_row2\" class=\"row_heading level0 row2\" >0</th>\n",
       "                        <td id=\"T_401886b8_c7a2_11eb_a255_00e04c6800carow2_col0\" class=\"data row2 col0\" >Fault2</td>\n",
       "                        <td id=\"T_401886b8_c7a2_11eb_a255_00e04c6800carow2_col1\" class=\"data row2 col1\" >Fault2_series</td>\n",
       "                        <td id=\"T_401886b8_c7a2_11eb_a255_00e04c6800carow2_col2\" class=\"data row2 col2\" >1</td>\n",
       "                        <td id=\"T_401886b8_c7a2_11eb_a255_00e04c6800carow2_col3\" class=\"data row2 col3\" >#015482</td>\n",
       "                        <td id=\"T_401886b8_c7a2_11eb_a255_00e04c6800carow2_col4\" class=\"data row2 col4\" >3</td>\n",
       "                        <td id=\"T_401886b8_c7a2_11eb_a255_00e04c6800carow2_col5\" class=\"data row2 col5\" >0.000000</td>\n",
       "            </tr>\n",
       "            <tr>\n",
       "                        <th id=\"T_401886b8_c7a2_11eb_a255_00e04c6800calevel0_row3\" class=\"row_heading level0 row3\" >1</th>\n",
       "                        <td id=\"T_401886b8_c7a2_11eb_a255_00e04c6800carow3_col0\" class=\"data row3 col0\" >Fault5</td>\n",
       "                        <td id=\"T_401886b8_c7a2_11eb_a255_00e04c6800carow3_col1\" class=\"data row3 col1\" >Fault5_series</td>\n",
       "                        <td id=\"T_401886b8_c7a2_11eb_a255_00e04c6800carow3_col2\" class=\"data row3 col2\" >1</td>\n",
       "                        <td id=\"T_401886b8_c7a2_11eb_a255_00e04c6800carow3_col3\" class=\"data row3 col3\" >#015482</td>\n",
       "                        <td id=\"T_401886b8_c7a2_11eb_a255_00e04c6800carow3_col4\" class=\"data row3 col4\" >4</td>\n",
       "                        <td id=\"T_401886b8_c7a2_11eb_a255_00e04c6800carow3_col5\" class=\"data row3 col5\" >0.000000</td>\n",
       "            </tr>\n",
       "            <tr>\n",
       "                        <th id=\"T_401886b8_c7a2_11eb_a255_00e04c6800calevel0_row4\" class=\"row_heading level0 row4\" >2</th>\n",
       "                        <td id=\"T_401886b8_c7a2_11eb_a255_00e04c6800carow4_col0\" class=\"data row4 col0\" >Fault6</td>\n",
       "                        <td id=\"T_401886b8_c7a2_11eb_a255_00e04c6800carow4_col1\" class=\"data row4 col1\" >Fault6_series</td>\n",
       "                        <td id=\"T_401886b8_c7a2_11eb_a255_00e04c6800carow4_col2\" class=\"data row4 col2\" >1</td>\n",
       "                        <td id=\"T_401886b8_c7a2_11eb_a255_00e04c6800carow4_col3\" class=\"data row4 col3\" >#015482</td>\n",
       "                        <td id=\"T_401886b8_c7a2_11eb_a255_00e04c6800carow4_col4\" class=\"data row4 col4\" >5</td>\n",
       "                        <td id=\"T_401886b8_c7a2_11eb_a255_00e04c6800carow4_col5\" class=\"data row4 col5\" >0.000000</td>\n",
       "            </tr>\n",
       "            <tr>\n",
       "                        <th id=\"T_401886b8_c7a2_11eb_a255_00e04c6800calevel0_row5\" class=\"row_heading level0 row5\" >6</th>\n",
       "                        <td id=\"T_401886b8_c7a2_11eb_a255_00e04c6800carow5_col0\" class=\"data row5 col0\" >Tertiary</td>\n",
       "                        <td id=\"T_401886b8_c7a2_11eb_a255_00e04c6800carow5_col1\" class=\"data row5 col1\" >Post_tectonic_series</td>\n",
       "                        <td id=\"T_401886b8_c7a2_11eb_a255_00e04c6800carow5_col2\" class=\"data row5 col2\" >1</td>\n",
       "                        <td id=\"T_401886b8_c7a2_11eb_a255_00e04c6800carow5_col3\" class=\"data row5 col3\" >#dbdbac</td>\n",
       "                        <td id=\"T_401886b8_c7a2_11eb_a255_00e04c6800carow5_col4\" class=\"data row5 col4\" >6</td>\n",
       "                        <td id=\"T_401886b8_c7a2_11eb_a255_00e04c6800carow5_col5\" class=\"data row5 col5\" >2.466000</td>\n",
       "            </tr>\n",
       "            <tr>\n",
       "                        <th id=\"T_401886b8_c7a2_11eb_a255_00e04c6800calevel0_row6\" class=\"row_heading level0 row6\" >8</th>\n",
       "                        <td id=\"T_401886b8_c7a2_11eb_a255_00e04c6800carow6_col0\" class=\"data row6 col0\" >Pink</td>\n",
       "                        <td id=\"T_401886b8_c7a2_11eb_a255_00e04c6800carow6_col1\" class=\"data row6 col1\" >Post_tectonic_series</td>\n",
       "                        <td id=\"T_401886b8_c7a2_11eb_a255_00e04c6800carow6_col2\" class=\"data row6 col2\" >2</td>\n",
       "                        <td id=\"T_401886b8_c7a2_11eb_a255_00e04c6800carow6_col3\" class=\"data row6 col3\" >#e588f3</td>\n",
       "                        <td id=\"T_401886b8_c7a2_11eb_a255_00e04c6800carow6_col4\" class=\"data row6 col4\" >7</td>\n",
       "                        <td id=\"T_401886b8_c7a2_11eb_a255_00e04c6800carow6_col5\" class=\"data row6 col5\" >2.610000</td>\n",
       "            </tr>\n",
       "            <tr>\n",
       "                        <th id=\"T_401886b8_c7a2_11eb_a255_00e04c6800calevel0_row7\" class=\"row_heading level0 row7\" >7</th>\n",
       "                        <td id=\"T_401886b8_c7a2_11eb_a255_00e04c6800carow7_col0\" class=\"data row7 col0\" >Orange</td>\n",
       "                        <td id=\"T_401886b8_c7a2_11eb_a255_00e04c6800carow7_col1\" class=\"data row7 col1\" >Post_tectonic_series</td>\n",
       "                        <td id=\"T_401886b8_c7a2_11eb_a255_00e04c6800carow7_col2\" class=\"data row7 col2\" >3</td>\n",
       "                        <td id=\"T_401886b8_c7a2_11eb_a255_00e04c6800carow7_col3\" class=\"data row7 col3\" >#ff792b</td>\n",
       "                        <td id=\"T_401886b8_c7a2_11eb_a255_00e04c6800carow7_col4\" class=\"data row7 col4\" >8</td>\n",
       "                        <td id=\"T_401886b8_c7a2_11eb_a255_00e04c6800carow7_col5\" class=\"data row7 col5\" >2.530000</td>\n",
       "            </tr>\n",
       "            <tr>\n",
       "                        <th id=\"T_401886b8_c7a2_11eb_a255_00e04c6800calevel0_row8\" class=\"row_heading level0 row8\" >5</th>\n",
       "                        <td id=\"T_401886b8_c7a2_11eb_a255_00e04c6800carow8_col0\" class=\"data row8 col0\" >Mesozoic</td>\n",
       "                        <td id=\"T_401886b8_c7a2_11eb_a255_00e04c6800carow8_col1\" class=\"data row8 col1\" >Detachement</td>\n",
       "                        <td id=\"T_401886b8_c7a2_11eb_a255_00e04c6800carow8_col2\" class=\"data row8 col2\" >1</td>\n",
       "                        <td id=\"T_401886b8_c7a2_11eb_a255_00e04c6800carow8_col3\" class=\"data row8 col3\" >#725c9a</td>\n",
       "                        <td id=\"T_401886b8_c7a2_11eb_a255_00e04c6800carow8_col4\" class=\"data row8 col4\" >9</td>\n",
       "                        <td id=\"T_401886b8_c7a2_11eb_a255_00e04c6800carow8_col5\" class=\"data row8 col5\" >2.610000</td>\n",
       "            </tr>\n",
       "            <tr>\n",
       "                        <th id=\"T_401886b8_c7a2_11eb_a255_00e04c6800calevel0_row9\" class=\"row_heading level0 row9\" >4</th>\n",
       "                        <td id=\"T_401886b8_c7a2_11eb_a255_00e04c6800carow9_col0\" class=\"data row9 col0\" >Upper-filling</td>\n",
       "                        <td id=\"T_401886b8_c7a2_11eb_a255_00e04c6800carow9_col1\" class=\"data row9 col1\" >Syn_tectonic_series2</td>\n",
       "                        <td id=\"T_401886b8_c7a2_11eb_a255_00e04c6800carow9_col2\" class=\"data row9 col2\" >1</td>\n",
       "                        <td id=\"T_401886b8_c7a2_11eb_a255_00e04c6800carow9_col3\" class=\"data row9 col3\" >#cfc199</td>\n",
       "                        <td id=\"T_401886b8_c7a2_11eb_a255_00e04c6800carow9_col4\" class=\"data row9 col4\" >10</td>\n",
       "                        <td id=\"T_401886b8_c7a2_11eb_a255_00e04c6800carow9_col5\" class=\"data row9 col5\" >2.470000</td>\n",
       "            </tr>\n",
       "            <tr>\n",
       "                        <th id=\"T_401886b8_c7a2_11eb_a255_00e04c6800calevel0_row10\" class=\"row_heading level0 row10\" >3</th>\n",
       "                        <td id=\"T_401886b8_c7a2_11eb_a255_00e04c6800carow10_col0\" class=\"data row10 col0\" >Lower-filling</td>\n",
       "                        <td id=\"T_401886b8_c7a2_11eb_a255_00e04c6800carow10_col1\" class=\"data row10 col1\" >Pre_tectonic_series</td>\n",
       "                        <td id=\"T_401886b8_c7a2_11eb_a255_00e04c6800carow10_col2\" class=\"data row10 col2\" >1</td>\n",
       "                        <td id=\"T_401886b8_c7a2_11eb_a255_00e04c6800carow10_col3\" class=\"data row10 col3\" >#a5d490</td>\n",
       "                        <td id=\"T_401886b8_c7a2_11eb_a255_00e04c6800carow10_col4\" class=\"data row10 col4\" >11</td>\n",
       "                        <td id=\"T_401886b8_c7a2_11eb_a255_00e04c6800carow10_col5\" class=\"data row10 col5\" >2.550000</td>\n",
       "            </tr>\n",
       "            <tr>\n",
       "                        <th id=\"T_401886b8_c7a2_11eb_a255_00e04c6800calevel0_row11\" class=\"row_heading level0 row11\" >11</th>\n",
       "                        <td id=\"T_401886b8_c7a2_11eb_a255_00e04c6800carow11_col0\" class=\"data row11 col0\" >basement</td>\n",
       "                        <td id=\"T_401886b8_c7a2_11eb_a255_00e04c6800carow11_col1\" class=\"data row11 col1\" >Basement</td>\n",
       "                        <td id=\"T_401886b8_c7a2_11eb_a255_00e04c6800carow11_col2\" class=\"data row11 col2\" >1</td>\n",
       "                        <td id=\"T_401886b8_c7a2_11eb_a255_00e04c6800carow11_col3\" class=\"data row11 col3\" >#c7848f</td>\n",
       "                        <td id=\"T_401886b8_c7a2_11eb_a255_00e04c6800carow11_col4\" class=\"data row11 col4\" >12</td>\n",
       "                        <td id=\"T_401886b8_c7a2_11eb_a255_00e04c6800carow11_col5\" class=\"data row11 col5\" >2.670000</td>\n",
       "            </tr>\n",
       "    </tbody></table>"
      ],
      "text/plain": [
       "          surface                series  order_surfaces    color  id  density\n",
       "9   Thrust1_south        Thrust1_series               1  #5DA629   1    0.000\n",
       "10  Thrust2_south        Thrust2_series               1  #5DA629   2    0.000\n",
       "0          Fault2         Fault2_series               1  #015482   3    0.000\n",
       "1          Fault5         Fault5_series               1  #015482   4    0.000\n",
       "2          Fault6         Fault6_series               1  #015482   5    0.000\n",
       "6        Tertiary  Post_tectonic_series               1  #dbdbac   6    2.466\n",
       "8            Pink  Post_tectonic_series               2  #e588f3   7    2.610\n",
       "7          Orange  Post_tectonic_series               3  #ff792b   8    2.530\n",
       "5        Mesozoic           Detachement               1  #725c9a   9    2.610\n",
       "4   Upper-filling  Syn_tectonic_series2               1  #cfc199  10    2.470\n",
       "3   Lower-filling   Pre_tectonic_series               1  #a5d490  11    2.550\n",
       "11       basement              Basement               1  #c7848f  12    2.670"
      ]
     },
     "execution_count": 37,
     "metadata": {},
     "output_type": "execute_result"
    }
   ],
   "source": [
    "# add densities - from abdelfettah 2014 and SAPHYR\n",
    "densities = [0, 0, 0, 0, 0, 2.466, 2.61, 2.53, \n",
    "             2.61, 2.47, 2.55, 2.67]\n",
    "geo_model.add_surface_values(densities, ['density'])"
   ]
  },
  {
   "cell_type": "markdown",
   "metadata": {},
   "source": [
    "## MC Variation\n",
    "For varying the depth of units, we extract the indices of the units whose input points we want to modify. To guarantee that we always vary the original depth in each realization (and not the depth used in the previous realization), we first generate an initial-depth array, containing the original depth information of all input points:"
   ]
  },
  {
   "cell_type": "code",
   "execution_count": 38,
   "metadata": {},
   "outputs": [],
   "source": [
    "Z_init = geo_model.surface_points.df['Z'].copy()"
   ]
  },
  {
   "cell_type": "markdown",
   "metadata": {},
   "source": [
    "Having all the undisturbed depth values, we extract all surface points belonging to the units whose inputs we want to vary:"
   ]
  },
  {
   "cell_type": "code",
   "execution_count": 47,
   "metadata": {},
   "outputs": [],
   "source": [
    "graben_lower = geo_model.surface_points.df.query(\"surface=='Lower-filling'\")\n",
    "graben_middle = geo_model.surface_points.df.query(\"surface=='Upper-filling'\")\n",
    "mesozoic = geo_model.surface_points.df.query(\"surface=='Mesozoic'\")"
   ]
  },
  {
   "cell_type": "markdown",
   "metadata": {},
   "source": [
    "Before running the Monte Carlo simulations, we set up the interpolator for a \"fast-run\", i.e. it optimizes runtime on cost of compilation time:"
   ]
  },
  {
   "cell_type": "code",
   "execution_count": 48,
   "metadata": {},
   "outputs": [
    {
     "name": "stdout",
     "output_type": "stream",
     "text": [
      "Setting kriging parameters to their default values.\n",
      "Compiling theano function...\n",
      "Level of Optimization:  fast_run\n",
      "Device:  cpu\n",
      "Precision:  float64\n",
      "Number of faults:  5\n",
      "Compilation Done!\n",
      "Kriging values: \n",
      "                                          values\n",
      "range                                   32190.8\n",
      "$C_o$                               2.46726e+07\n",
      "drift equations  [3, 3, 3, 3, 3, 3, 3, 3, 3, 3]\n"
     ]
    },
    {
     "data": {
      "text/plain": [
       "<gempy.core.interpolator.InterpolatorModel at 0x1bc3b08bc08>"
      ]
     },
     "execution_count": 48,
     "metadata": {},
     "output_type": "execute_result"
    }
   ],
   "source": [
    "gp.set_interpolator(geo_model, output=['gravity'], \n",
    "                    theano_optimizer='fast_run', \n",
    "                    update_kriging=True)"
   ]
  },
  {
   "cell_type": "code",
   "execution_count": 63,
   "metadata": {},
   "outputs": [],
   "source": [
    "Z_loc = np.hstack([Z_init[Lgraben] + Z_var[0],\n",
    "                   Z_init[Ugraben] + Z_var[1],\n",
    "                   Z_init[Meso] + Z_var[2]])"
   ]
  },
  {
   "cell_type": "code",
   "execution_count": 64,
   "metadata": {},
   "outputs": [
    {
     "data": {
      "text/plain": [
       "array([ 1554.77264609,  1102.55676538, -4829.30387648, -4825.57702684,\n",
       "       -4874.17163548, -3286.33020097, -2495.87092564, -2752.05997083,\n",
       "       -1797.23810641,  -707.16364743,  1223.4127234 ,  1204.39671825,\n",
       "         922.47218077,  1491.87210267, -5240.75878233, -5455.05299679,\n",
       "       -4518.51441292, -3559.10222425, -3122.13588406, -3160.55192834,\n",
       "       -1534.70697369, -1727.21723677,  1203.75892826,  1798.94670699,\n",
       "        1236.26215478,  1134.72428544,  -391.74820537,  -891.00488005,\n",
       "       -1412.71276454, -1897.4558263 , -1962.18533476, -1770.57671893,\n",
       "       -2189.7436728 ,  1094.40790946,   890.62365161,  1096.35526489,\n",
       "         446.51835346,   414.04239316, -1157.47008993,  -802.50235144,\n",
       "       -1519.74913116, -2034.51256269, -2259.78454327, -2843.82167357,\n",
       "       -1546.87429653,   295.48682321,   817.20197951,  1167.24576298,\n",
       "         476.52858193,   412.24286193,  -123.47141807,  -252.04284807,\n",
       "        -573.47141807,  -766.32856807,  -873.47141807, -1002.04284807,\n",
       "       -1066.32856807, -1516.32856807, -1644.89999807, -1902.04284807,\n",
       "       -1173.47141807,   476.52858193,   412.24286193,  -123.47141807,\n",
       "        -252.04284807,  -573.47141807,  -766.32856807,  -873.47141807,\n",
       "       -1002.04284807, -1066.32856807, -1516.32856807, -1644.89999807,\n",
       "       -1902.04284807, -1173.47141807])"
      ]
     },
     "execution_count": 64,
     "metadata": {},
     "output_type": "execute_result"
    }
   ],
   "source": [
    "Z_loc"
   ]
  },
  {
   "cell_type": "code",
   "execution_count": 67,
   "metadata": {},
   "outputs": [
    {
     "data": {
      "application/vnd.jupyter.widget-view+json": {
       "model_id": "c98302ff91044da5a06bc627a5541967",
       "version_major": 2,
       "version_minor": 0
      },
      "text/plain": [
       "VBox(children=(HTML(value=''), IntProgress(value=0, max=10)))"
      ]
     },
     "metadata": {},
     "output_type": "display_data"
    },
    {
     "name": "stdout",
     "output_type": "stream",
     "text": [
      "Wall time: 26.4 s\n"
     ]
    }
   ],
   "source": [
    "%%time\n",
    "np.random.seed(1)\n",
    "# allocate array for lithology blocks\n",
    "lith_blocks = np.array([])\n",
    "# create a dictionary to store gravity of simulations\n",
    "grav = dict() \n",
    "# get indices where the variable input points are\n",
    "Lgraben = list(graben_lower.index)\n",
    "Ugraben = list(graben_middle.index)\n",
    "Meso = list(mesozoic.index)\n",
    "Cindices = Lgraben + Ugraben + Meso\n",
    "\n",
    "# set number of realizations\n",
    "n_iterations = 10\n",
    "\n",
    "for i in log_progress(range(n_iterations), name='Models'):\n",
    "    # vary surface points\n",
    "    Z_var = np.random.normal(0, 250, size=3)\n",
    "    Z_loc = np.hstack([Z_init[Lgraben] + Z_var[0],\n",
    "                   Z_init[Ugraben] + Z_var[1],\n",
    "                   Z_init[Meso] + Z_var[2]])\n",
    "    # apply variation to model\n",
    "    geo_model.modify_surface_points(Cindices, Z=Z_loc)\n",
    "    # re-compute model\n",
    "    gp.compute_model(geo_model)\n",
    "    # store lithologies ONLY THERE IF REGULAR GRID IS ACTIVE\n",
    "    lith_blocks = np.append(lith_blocks, geo_model.solutions.lith_block)\n",
    "    # store gravity\n",
    "    grav[f\"Real_{i}\"] = geo_model.solutions.fw_gravity\n",
    "    \n",
    "\n",
    "lith_blocks = lith_blocks.reshape(n_iterations, -1)"
   ]
  },
  {
   "cell_type": "markdown",
   "metadata": {},
   "source": [
    "## Quick model analysis\n",
    "Let's have a quick first look at the resulting gravity and lithological block models. From the gravity dictionary, we can quickly generate a dataframe, convenient for further model analysis."
   ]
  },
  {
   "cell_type": "code",
   "execution_count": 73,
   "metadata": {},
   "outputs": [],
   "source": [
    "gravdf = pd.DataFrame.from_dict(grav)"
   ]
  },
  {
   "cell_type": "code",
   "execution_count": 74,
   "metadata": {},
   "outputs": [],
   "source": [
    "gravdf[\"X\"] = station_coordinates[:,0]\n",
    "gravdf[\"Y\"] = station_coordinates[:,1]\n",
    "gravdf[\"Z\"] =station_coordinates[:,2]"
   ]
  },
  {
   "cell_type": "code",
   "execution_count": 75,
   "metadata": {},
   "outputs": [
    {
     "data": {
      "text/html": [
       "<div>\n",
       "<style scoped>\n",
       "    .dataframe tbody tr th:only-of-type {\n",
       "        vertical-align: middle;\n",
       "    }\n",
       "\n",
       "    .dataframe tbody tr th {\n",
       "        vertical-align: top;\n",
       "    }\n",
       "\n",
       "    .dataframe thead th {\n",
       "        text-align: right;\n",
       "    }\n",
       "</style>\n",
       "<table border=\"1\" class=\"dataframe\">\n",
       "  <thead>\n",
       "    <tr style=\"text-align: right;\">\n",
       "      <th></th>\n",
       "      <th>Real_0</th>\n",
       "      <th>Real_1</th>\n",
       "      <th>Real_2</th>\n",
       "      <th>Real_3</th>\n",
       "      <th>Real_4</th>\n",
       "      <th>Real_5</th>\n",
       "      <th>Real_6</th>\n",
       "      <th>Real_7</th>\n",
       "      <th>Real_8</th>\n",
       "      <th>Real_9</th>\n",
       "      <th>X</th>\n",
       "      <th>Y</th>\n",
       "      <th>Z</th>\n",
       "    </tr>\n",
       "  </thead>\n",
       "  <tbody>\n",
       "    <tr>\n",
       "      <th>0</th>\n",
       "      <td>-533.887520</td>\n",
       "      <td>-533.023998</td>\n",
       "      <td>-534.252358</td>\n",
       "      <td>-532.917529</td>\n",
       "      <td>-534.163401</td>\n",
       "      <td>-533.535234</td>\n",
       "      <td>-533.296961</td>\n",
       "      <td>-534.056179</td>\n",
       "      <td>-533.590721</td>\n",
       "      <td>-534.162674</td>\n",
       "      <td>21777.78</td>\n",
       "      <td>7142.86</td>\n",
       "      <td>405.17</td>\n",
       "    </tr>\n",
       "    <tr>\n",
       "      <th>1</th>\n",
       "      <td>-532.904110</td>\n",
       "      <td>-532.129435</td>\n",
       "      <td>-533.229876</td>\n",
       "      <td>-532.241777</td>\n",
       "      <td>-532.511934</td>\n",
       "      <td>-533.197800</td>\n",
       "      <td>-532.735183</td>\n",
       "      <td>-533.423181</td>\n",
       "      <td>-532.820656</td>\n",
       "      <td>-533.968000</td>\n",
       "      <td>22343.43</td>\n",
       "      <td>9142.86</td>\n",
       "      <td>455.98</td>\n",
       "    </tr>\n",
       "    <tr>\n",
       "      <th>2</th>\n",
       "      <td>-531.946750</td>\n",
       "      <td>-529.724009</td>\n",
       "      <td>-531.272054</td>\n",
       "      <td>-530.259051</td>\n",
       "      <td>-526.295763</td>\n",
       "      <td>-528.516051</td>\n",
       "      <td>-530.080441</td>\n",
       "      <td>-531.492006</td>\n",
       "      <td>-530.618225</td>\n",
       "      <td>-528.129550</td>\n",
       "      <td>16686.87</td>\n",
       "      <td>4285.71</td>\n",
       "      <td>389.34</td>\n",
       "    </tr>\n",
       "    <tr>\n",
       "      <th>3</th>\n",
       "      <td>-533.687508</td>\n",
       "      <td>-532.929713</td>\n",
       "      <td>-534.215319</td>\n",
       "      <td>-532.799425</td>\n",
       "      <td>-533.233243</td>\n",
       "      <td>-533.321165</td>\n",
       "      <td>-532.964750</td>\n",
       "      <td>-534.016318</td>\n",
       "      <td>-533.630864</td>\n",
       "      <td>-533.992835</td>\n",
       "      <td>21494.95</td>\n",
       "      <td>8000.00</td>\n",
       "      <td>424.80</td>\n",
       "    </tr>\n",
       "    <tr>\n",
       "      <th>4</th>\n",
       "      <td>-533.924523</td>\n",
       "      <td>-532.883712</td>\n",
       "      <td>-534.298398</td>\n",
       "      <td>-532.364194</td>\n",
       "      <td>-531.492699</td>\n",
       "      <td>-533.105112</td>\n",
       "      <td>-532.763421</td>\n",
       "      <td>-534.359566</td>\n",
       "      <td>-533.638079</td>\n",
       "      <td>-533.804078</td>\n",
       "      <td>21494.95</td>\n",
       "      <td>11428.57</td>\n",
       "      <td>469.85</td>\n",
       "    </tr>\n",
       "    <tr>\n",
       "      <th>5</th>\n",
       "      <td>-518.575627</td>\n",
       "      <td>-534.301675</td>\n",
       "      <td>-518.707400</td>\n",
       "      <td>-534.949858</td>\n",
       "      <td>-538.384122</td>\n",
       "      <td>-537.016219</td>\n",
       "      <td>-535.629146</td>\n",
       "      <td>-519.000706</td>\n",
       "      <td>-518.839088</td>\n",
       "      <td>-538.240044</td>\n",
       "      <td>3393.94</td>\n",
       "      <td>8000.00</td>\n",
       "      <td>866.40</td>\n",
       "    </tr>\n",
       "    <tr>\n",
       "      <th>6</th>\n",
       "      <td>-529.599489</td>\n",
       "      <td>-527.521487</td>\n",
       "      <td>-530.188226</td>\n",
       "      <td>-528.586719</td>\n",
       "      <td>-523.900274</td>\n",
       "      <td>-525.019162</td>\n",
       "      <td>-527.582600</td>\n",
       "      <td>-530.208728</td>\n",
       "      <td>-529.747406</td>\n",
       "      <td>-523.845631</td>\n",
       "      <td>11313.13</td>\n",
       "      <td>1142.86</td>\n",
       "      <td>733.35</td>\n",
       "    </tr>\n",
       "    <tr>\n",
       "      <th>7</th>\n",
       "      <td>-533.117425</td>\n",
       "      <td>-531.009618</td>\n",
       "      <td>-532.470946</td>\n",
       "      <td>-531.854483</td>\n",
       "      <td>-529.829450</td>\n",
       "      <td>-530.330519</td>\n",
       "      <td>-531.362542</td>\n",
       "      <td>-532.790727</td>\n",
       "      <td>-532.437591</td>\n",
       "      <td>-530.157264</td>\n",
       "      <td>18666.67</td>\n",
       "      <td>6857.14</td>\n",
       "      <td>358.80</td>\n",
       "    </tr>\n",
       "    <tr>\n",
       "      <th>8</th>\n",
       "      <td>-532.239786</td>\n",
       "      <td>-530.046196</td>\n",
       "      <td>-532.160104</td>\n",
       "      <td>-530.760620</td>\n",
       "      <td>-528.078057</td>\n",
       "      <td>-529.171566</td>\n",
       "      <td>-530.270482</td>\n",
       "      <td>-532.047900</td>\n",
       "      <td>-531.970246</td>\n",
       "      <td>-529.487447</td>\n",
       "      <td>16969.70</td>\n",
       "      <td>2857.14</td>\n",
       "      <td>491.41</td>\n",
       "    </tr>\n",
       "    <tr>\n",
       "      <th>9</th>\n",
       "      <td>-531.217352</td>\n",
       "      <td>-527.172837</td>\n",
       "      <td>-531.441215</td>\n",
       "      <td>-527.739795</td>\n",
       "      <td>-523.074819</td>\n",
       "      <td>-524.702644</td>\n",
       "      <td>-528.156859</td>\n",
       "      <td>-531.681487</td>\n",
       "      <td>-530.759066</td>\n",
       "      <td>-523.678488</td>\n",
       "      <td>13010.10</td>\n",
       "      <td>2000.00</td>\n",
       "      <td>743.86</td>\n",
       "    </tr>\n",
       "    <tr>\n",
       "      <th>10</th>\n",
       "      <td>-534.948845</td>\n",
       "      <td>-532.856894</td>\n",
       "      <td>-535.140742</td>\n",
       "      <td>-533.427072</td>\n",
       "      <td>-534.608351</td>\n",
       "      <td>-532.793132</td>\n",
       "      <td>-533.597783</td>\n",
       "      <td>-535.231997</td>\n",
       "      <td>-535.126996</td>\n",
       "      <td>-533.577818</td>\n",
       "      <td>20080.81</td>\n",
       "      <td>1428.57</td>\n",
       "      <td>493.59</td>\n",
       "    </tr>\n",
       "    <tr>\n",
       "      <th>11</th>\n",
       "      <td>-514.619597</td>\n",
       "      <td>-532.896830</td>\n",
       "      <td>-513.615827</td>\n",
       "      <td>-532.557160</td>\n",
       "      <td>-533.341732</td>\n",
       "      <td>-533.427486</td>\n",
       "      <td>-527.324665</td>\n",
       "      <td>-516.272163</td>\n",
       "      <td>-514.669391</td>\n",
       "      <td>-534.352167</td>\n",
       "      <td>7070.71</td>\n",
       "      <td>12000.00</td>\n",
       "      <td>885.90</td>\n",
       "    </tr>\n",
       "    <tr>\n",
       "      <th>12</th>\n",
       "      <td>-520.483514</td>\n",
       "      <td>-530.856187</td>\n",
       "      <td>-520.247060</td>\n",
       "      <td>-531.120266</td>\n",
       "      <td>-528.451548</td>\n",
       "      <td>-530.490359</td>\n",
       "      <td>-526.054115</td>\n",
       "      <td>-521.501886</td>\n",
       "      <td>-520.390343</td>\n",
       "      <td>-530.216732</td>\n",
       "      <td>8767.68</td>\n",
       "      <td>10857.14</td>\n",
       "      <td>790.40</td>\n",
       "    </tr>\n",
       "    <tr>\n",
       "      <th>13</th>\n",
       "      <td>-515.117373</td>\n",
       "      <td>-531.945977</td>\n",
       "      <td>-514.491656</td>\n",
       "      <td>-532.163087</td>\n",
       "      <td>-534.453054</td>\n",
       "      <td>-533.003767</td>\n",
       "      <td>-529.060021</td>\n",
       "      <td>-516.364583</td>\n",
       "      <td>-515.164824</td>\n",
       "      <td>-534.114321</td>\n",
       "      <td>6222.22</td>\n",
       "      <td>10571.43</td>\n",
       "      <td>960.84</td>\n",
       "    </tr>\n",
       "    <tr>\n",
       "      <th>14</th>\n",
       "      <td>-530.649069</td>\n",
       "      <td>-529.621926</td>\n",
       "      <td>-531.029344</td>\n",
       "      <td>-529.691005</td>\n",
       "      <td>-531.477937</td>\n",
       "      <td>-530.181319</td>\n",
       "      <td>-530.057382</td>\n",
       "      <td>-531.029344</td>\n",
       "      <td>-530.696360</td>\n",
       "      <td>-530.858825</td>\n",
       "      <td>24888.89</td>\n",
       "      <td>285.71</td>\n",
       "      <td>593.24</td>\n",
       "    </tr>\n",
       "  </tbody>\n",
       "</table>\n",
       "</div>"
      ],
      "text/plain": [
       "        Real_0      Real_1      Real_2      Real_3      Real_4      Real_5  \\\n",
       "0  -533.887520 -533.023998 -534.252358 -532.917529 -534.163401 -533.535234   \n",
       "1  -532.904110 -532.129435 -533.229876 -532.241777 -532.511934 -533.197800   \n",
       "2  -531.946750 -529.724009 -531.272054 -530.259051 -526.295763 -528.516051   \n",
       "3  -533.687508 -532.929713 -534.215319 -532.799425 -533.233243 -533.321165   \n",
       "4  -533.924523 -532.883712 -534.298398 -532.364194 -531.492699 -533.105112   \n",
       "5  -518.575627 -534.301675 -518.707400 -534.949858 -538.384122 -537.016219   \n",
       "6  -529.599489 -527.521487 -530.188226 -528.586719 -523.900274 -525.019162   \n",
       "7  -533.117425 -531.009618 -532.470946 -531.854483 -529.829450 -530.330519   \n",
       "8  -532.239786 -530.046196 -532.160104 -530.760620 -528.078057 -529.171566   \n",
       "9  -531.217352 -527.172837 -531.441215 -527.739795 -523.074819 -524.702644   \n",
       "10 -534.948845 -532.856894 -535.140742 -533.427072 -534.608351 -532.793132   \n",
       "11 -514.619597 -532.896830 -513.615827 -532.557160 -533.341732 -533.427486   \n",
       "12 -520.483514 -530.856187 -520.247060 -531.120266 -528.451548 -530.490359   \n",
       "13 -515.117373 -531.945977 -514.491656 -532.163087 -534.453054 -533.003767   \n",
       "14 -530.649069 -529.621926 -531.029344 -529.691005 -531.477937 -530.181319   \n",
       "\n",
       "        Real_6      Real_7      Real_8      Real_9         X         Y       Z  \n",
       "0  -533.296961 -534.056179 -533.590721 -534.162674  21777.78   7142.86  405.17  \n",
       "1  -532.735183 -533.423181 -532.820656 -533.968000  22343.43   9142.86  455.98  \n",
       "2  -530.080441 -531.492006 -530.618225 -528.129550  16686.87   4285.71  389.34  \n",
       "3  -532.964750 -534.016318 -533.630864 -533.992835  21494.95   8000.00  424.80  \n",
       "4  -532.763421 -534.359566 -533.638079 -533.804078  21494.95  11428.57  469.85  \n",
       "5  -535.629146 -519.000706 -518.839088 -538.240044   3393.94   8000.00  866.40  \n",
       "6  -527.582600 -530.208728 -529.747406 -523.845631  11313.13   1142.86  733.35  \n",
       "7  -531.362542 -532.790727 -532.437591 -530.157264  18666.67   6857.14  358.80  \n",
       "8  -530.270482 -532.047900 -531.970246 -529.487447  16969.70   2857.14  491.41  \n",
       "9  -528.156859 -531.681487 -530.759066 -523.678488  13010.10   2000.00  743.86  \n",
       "10 -533.597783 -535.231997 -535.126996 -533.577818  20080.81   1428.57  493.59  \n",
       "11 -527.324665 -516.272163 -514.669391 -534.352167   7070.71  12000.00  885.90  \n",
       "12 -526.054115 -521.501886 -520.390343 -530.216732   8767.68  10857.14  790.40  \n",
       "13 -529.060021 -516.364583 -515.164824 -534.114321   6222.22  10571.43  960.84  \n",
       "14 -530.057382 -531.029344 -530.696360 -530.858825  24888.89    285.71  593.24  "
      ]
     },
     "execution_count": 75,
     "metadata": {},
     "output_type": "execute_result"
    }
   ],
   "source": [
    "gravdf"
   ]
  },
  {
   "cell_type": "markdown",
   "metadata": {},
   "source": [
    "This can be saved as usual with `df.to_csv('pathname')` using Pandas. For the lithological block model, one good option is to save it as a numpy array, using `numpy.save()`."
   ]
  },
  {
   "cell_type": "code",
   "execution_count": 76,
   "metadata": {},
   "outputs": [],
   "source": [
    "np.save('../models/20210319_MC_no_middle_filling/example_10realizations.npy', lith_blocks)"
   ]
  }
 ],
 "metadata": {
  "hide_input": false,
  "kernelspec": {
   "display_name": "Python [conda env:env_gempy]",
   "language": "python",
   "name": "conda-env-env_gempy-py"
  },
  "language_info": {
   "codemirror_mode": {
    "name": "ipython",
    "version": 3
   },
   "file_extension": ".py",
   "mimetype": "text/x-python",
   "name": "python",
   "nbconvert_exporter": "python",
   "pygments_lexer": "ipython3",
   "version": "3.7.8"
  },
  "latex_envs": {
   "LaTeX_envs_menu_present": true,
   "autoclose": false,
   "autocomplete": true,
   "bibliofile": "biblio.bib",
   "cite_by": "apalike",
   "current_citInitial": 1,
   "eqLabelWithNumbers": true,
   "eqNumInitial": 1,
   "hotkeys": {
    "equation": "Ctrl-E",
    "itemize": "Ctrl-I"
   },
   "labels_anchors": false,
   "latex_user_defs": false,
   "report_style_numbering": false,
   "user_envs_cfg": false
  },
  "varInspector": {
   "cols": {
    "lenName": 16,
    "lenType": 16,
    "lenVar": 40
   },
   "kernels_config": {
    "python": {
     "delete_cmd_postfix": "",
     "delete_cmd_prefix": "del ",
     "library": "var_list.py",
     "varRefreshCmd": "print(var_dic_list())"
    },
    "r": {
     "delete_cmd_postfix": ") ",
     "delete_cmd_prefix": "rm(",
     "library": "var_list.r",
     "varRefreshCmd": "cat(var_dic_list()) "
    }
   },
   "types_to_exclude": [
    "module",
    "function",
    "builtin_function_or_method",
    "instance",
    "_Feature"
   ],
   "window_display": false
  }
 },
 "nbformat": 4,
 "nbformat_minor": 4
}
