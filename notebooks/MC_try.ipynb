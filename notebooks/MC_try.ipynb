{
 "cells": [
  {
   "cell_type": "code",
   "execution_count": 1,
   "metadata": {
    "execution_event_id": "5118109e-036f-46d4-9a28-e7496b08752b",
    "last_executed_text": "# import some libraries\nimport sys, os\nsys.path.append(r'/Users/nijan/Documents/git/gempy/')\nimport seaborn as sns\nimport gempy as gp\n%matplotlib inline\n\nimport numpy as np\n#import pandas as pd",
    "persistent_id": "99289cd2-64c9-45c4-ae29-ab70749a94a8"
   },
   "outputs": [],
   "source": [
    "# import some libraries\n",
    "import sys, os\n",
    "sys.path.append(r'/Users/nijan/Documents/git/gempy/')\n",
    "import seaborn as sns\n",
    "import gempy as gp\n",
    "%matplotlib inline\n",
    "\n",
    "import numpy as np\n",
    "#import pandas as pd"
   ]
  },
  {
   "cell_type": "markdown",
   "metadata": {},
   "source": [
    "New gempy has a whole new bunch of routines, so the old tutorials may be difficult to work with.."
   ]
  }
 ],
 "metadata": {
  "hide_input": false,
  "history": [
   {
    "cell": {
     "executionCount": 1,
     "executionEventId": "5118109e-036f-46d4-9a28-e7496b08752b",
     "hasError": false,
     "id": "dd1cf615-92c4-4cdf-b70f-ce3b85f7e02c",
     "outputs": [],
     "persistentId": "99289cd2-64c9-45c4-ae29-ab70749a94a8",
     "text": "# import some libraries\nimport sys, os\nsys.path.append(r'/Users/nijan/Documents/git/gempy/')\nimport seaborn as sns\nimport gempy as gp\n%matplotlib inline\n\nimport numpy as np\n#import pandas as pd"
    },
    "executionTime": "2020-01-09T13:47:55.280Z"
   }
  ],
  "kernelspec": {
   "display_name": "Python 3",
   "language": "python",
   "name": "python3"
  },
  "language_info": {
   "codemirror_mode": {
    "name": "ipython",
    "version": 3
   },
   "file_extension": ".py",
   "mimetype": "text/x-python",
   "name": "python",
   "nbconvert_exporter": "python",
   "pygments_lexer": "ipython3",
   "version": "3.6.8"
  },
  "uuid": "07351c85-4ba6-4b43-8865-befad57bcf02",
  "varInspector": {
   "cols": {
    "lenName": 16,
    "lenType": 16,
    "lenVar": 40
   },
   "kernels_config": {
    "python": {
     "delete_cmd_postfix": "",
     "delete_cmd_prefix": "del ",
     "library": "var_list.py",
     "varRefreshCmd": "print(var_dic_list())"
    },
    "r": {
     "delete_cmd_postfix": ") ",
     "delete_cmd_prefix": "rm(",
     "library": "var_list.r",
     "varRefreshCmd": "cat(var_dic_list()) "
    }
   },
   "types_to_exclude": [
    "module",
    "function",
    "builtin_function_or_method",
    "instance",
    "_Feature"
   ],
   "window_display": false
  }
 },
 "nbformat": 4,
 "nbformat_minor": 4
}
